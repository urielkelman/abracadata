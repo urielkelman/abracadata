{
 "cells": [
  {
   "cell_type": "code",
   "execution_count": 2,
   "metadata": {},
   "outputs": [],
   "source": [
    "# importacion general de librerias y de visualizacion (matplotlib y seaborn)\n",
    "import pandas as pd\n",
    "import numpy as np\n",
    "import matplotlib.pyplot as plt\n",
    "import seaborn as sns\n",
    "\n",
    "%matplotlib inline\n",
    "\n",
    "plt.style.use('default') # haciendo los graficos un poco mas bonitos en matplotlib\n",
    "#plt.rcParams['figure.figsize'] = (20, 10)\n",
    "\n",
    "sns.set(style=\"whitegrid\") # seteando tipo de grid en seaborn"
   ]
  },
  {
   "cell_type": "code",
   "execution_count": 3,
   "metadata": {},
   "outputs": [],
   "source": [
    "plt.rc('figure',dpi=100);"
   ]
  },
  {
   "cell_type": "code",
   "execution_count": 4,
   "metadata": {},
   "outputs": [
    {
     "data": {
      "text/html": [
       "<div>\n",
       "<style scoped>\n",
       "    .dataframe tbody tr th:only-of-type {\n",
       "        vertical-align: middle;\n",
       "    }\n",
       "\n",
       "    .dataframe tbody tr th {\n",
       "        vertical-align: top;\n",
       "    }\n",
       "\n",
       "    .dataframe thead th {\n",
       "        text-align: right;\n",
       "    }\n",
       "</style>\n",
       "<table border=\"1\" class=\"dataframe\">\n",
       "  <thead>\n",
       "    <tr style=\"text-align: right;\">\n",
       "      <th></th>\n",
       "      <th>idAviso</th>\n",
       "      <th>timestamp</th>\n",
       "      <th>idpostulante</th>\n",
       "    </tr>\n",
       "  </thead>\n",
       "  <tbody>\n",
       "    <tr>\n",
       "      <th>0</th>\n",
       "      <td>1111780242</td>\n",
       "      <td>2018-02-23T13:38:13.187-0500</td>\n",
       "      <td>YjVJQ6Z</td>\n",
       "    </tr>\n",
       "    <tr>\n",
       "      <th>1</th>\n",
       "      <td>1112263876</td>\n",
       "      <td>2018-02-23T13:38:14.296-0500</td>\n",
       "      <td>BmVpYoR</td>\n",
       "    </tr>\n",
       "    <tr>\n",
       "      <th>2</th>\n",
       "      <td>1112327963</td>\n",
       "      <td>2018-02-23T13:38:14.329-0500</td>\n",
       "      <td>wVkBzZd</td>\n",
       "    </tr>\n",
       "    <tr>\n",
       "      <th>3</th>\n",
       "      <td>1112318643</td>\n",
       "      <td>2018-02-23T13:38:17.921-0500</td>\n",
       "      <td>OqmP9pv</td>\n",
       "    </tr>\n",
       "    <tr>\n",
       "      <th>4</th>\n",
       "      <td>1111903673</td>\n",
       "      <td>2018-02-23T13:38:18.973-0500</td>\n",
       "      <td>DrpbXDP</td>\n",
       "    </tr>\n",
       "  </tbody>\n",
       "</table>\n",
       "</div>"
      ],
      "text/plain": [
       "      idAviso                     timestamp idpostulante\n",
       "0  1111780242  2018-02-23T13:38:13.187-0500      YjVJQ6Z\n",
       "1  1112263876  2018-02-23T13:38:14.296-0500      BmVpYoR\n",
       "2  1112327963  2018-02-23T13:38:14.329-0500      wVkBzZd\n",
       "3  1112318643  2018-02-23T13:38:17.921-0500      OqmP9pv\n",
       "4  1111903673  2018-02-23T13:38:18.973-0500      DrpbXDP"
      ]
     },
     "execution_count": 4,
     "metadata": {},
     "output_type": "execute_result"
    }
   ],
   "source": [
    "vistas = pd.read_csv(\"../Data/datos_navent_fiuba/fiuba_3_vistas.csv\");\n",
    "vistas.head()"
   ]
  },
  {
   "cell_type": "code",
   "execution_count": 5,
   "metadata": {},
   "outputs": [
    {
     "data": {
      "text/html": [
       "<div>\n",
       "<style scoped>\n",
       "    .dataframe tbody tr th:only-of-type {\n",
       "        vertical-align: middle;\n",
       "    }\n",
       "\n",
       "    .dataframe tbody tr th {\n",
       "        vertical-align: top;\n",
       "    }\n",
       "\n",
       "    .dataframe thead th {\n",
       "        text-align: right;\n",
       "    }\n",
       "</style>\n",
       "<table border=\"1\" class=\"dataframe\">\n",
       "  <thead>\n",
       "    <tr style=\"text-align: right;\">\n",
       "      <th></th>\n",
       "      <th>idAviso</th>\n",
       "      <th>timestamp</th>\n",
       "      <th>idpostulante</th>\n",
       "    </tr>\n",
       "  </thead>\n",
       "  <tbody>\n",
       "    <tr>\n",
       "      <th>0</th>\n",
       "      <td>1111780242</td>\n",
       "      <td>2018-02-23 18:38:13.187</td>\n",
       "      <td>YjVJQ6Z</td>\n",
       "    </tr>\n",
       "    <tr>\n",
       "      <th>1</th>\n",
       "      <td>1112263876</td>\n",
       "      <td>2018-02-23 18:38:14.296</td>\n",
       "      <td>BmVpYoR</td>\n",
       "    </tr>\n",
       "    <tr>\n",
       "      <th>2</th>\n",
       "      <td>1112327963</td>\n",
       "      <td>2018-02-23 18:38:14.329</td>\n",
       "      <td>wVkBzZd</td>\n",
       "    </tr>\n",
       "    <tr>\n",
       "      <th>3</th>\n",
       "      <td>1112318643</td>\n",
       "      <td>2018-02-23 18:38:17.921</td>\n",
       "      <td>OqmP9pv</td>\n",
       "    </tr>\n",
       "    <tr>\n",
       "      <th>4</th>\n",
       "      <td>1111903673</td>\n",
       "      <td>2018-02-23 18:38:18.973</td>\n",
       "      <td>DrpbXDP</td>\n",
       "    </tr>\n",
       "  </tbody>\n",
       "</table>\n",
       "</div>"
      ],
      "text/plain": [
       "      idAviso               timestamp idpostulante\n",
       "0  1111780242 2018-02-23 18:38:13.187      YjVJQ6Z\n",
       "1  1112263876 2018-02-23 18:38:14.296      BmVpYoR\n",
       "2  1112327963 2018-02-23 18:38:14.329      wVkBzZd\n",
       "3  1112318643 2018-02-23 18:38:17.921      OqmP9pv\n",
       "4  1111903673 2018-02-23 18:38:18.973      DrpbXDP"
      ]
     },
     "execution_count": 5,
     "metadata": {},
     "output_type": "execute_result"
    }
   ],
   "source": [
    "vistas['timestamp']=vistas['timestamp'].astype('datetime64[ns]');\n",
    "vistas.head()"
   ]
  },
  {
   "cell_type": "code",
   "execution_count": 6,
   "metadata": {},
   "outputs": [
    {
     "data": {
      "text/plain": [
       "idAviso                  int64\n",
       "timestamp       datetime64[ns]\n",
       "idpostulante            object\n",
       "dtype: object"
      ]
     },
     "execution_count": 6,
     "metadata": {},
     "output_type": "execute_result"
    }
   ],
   "source": [
    "vistas.dtypes"
   ]
  },
  {
   "cell_type": "code",
   "execution_count": 7,
   "metadata": {},
   "outputs": [
    {
     "data": {
      "text/html": [
       "<div>\n",
       "<style scoped>\n",
       "    .dataframe tbody tr th:only-of-type {\n",
       "        vertical-align: middle;\n",
       "    }\n",
       "\n",
       "    .dataframe tbody tr th {\n",
       "        vertical-align: top;\n",
       "    }\n",
       "\n",
       "    .dataframe thead th {\n",
       "        text-align: right;\n",
       "    }\n",
       "</style>\n",
       "<table border=\"1\" class=\"dataframe\">\n",
       "  <thead>\n",
       "    <tr style=\"text-align: right;\">\n",
       "      <th></th>\n",
       "      <th>idAviso</th>\n",
       "      <th>timestamp</th>\n",
       "      <th>idpostulante</th>\n",
       "      <th>dia</th>\n",
       "      <th>mes</th>\n",
       "      <th>semana</th>\n",
       "      <th>diadelasemana</th>\n",
       "      <th>hora</th>\n",
       "    </tr>\n",
       "  </thead>\n",
       "  <tbody>\n",
       "    <tr>\n",
       "      <th>0</th>\n",
       "      <td>1111780242</td>\n",
       "      <td>2018-02-23 18:38:13.187</td>\n",
       "      <td>YjVJQ6Z</td>\n",
       "      <td>23</td>\n",
       "      <td>2</td>\n",
       "      <td>8</td>\n",
       "      <td>Viernes</td>\n",
       "      <td>18</td>\n",
       "    </tr>\n",
       "    <tr>\n",
       "      <th>1</th>\n",
       "      <td>1112263876</td>\n",
       "      <td>2018-02-23 18:38:14.296</td>\n",
       "      <td>BmVpYoR</td>\n",
       "      <td>23</td>\n",
       "      <td>2</td>\n",
       "      <td>8</td>\n",
       "      <td>Viernes</td>\n",
       "      <td>18</td>\n",
       "    </tr>\n",
       "    <tr>\n",
       "      <th>2</th>\n",
       "      <td>1112327963</td>\n",
       "      <td>2018-02-23 18:38:14.329</td>\n",
       "      <td>wVkBzZd</td>\n",
       "      <td>23</td>\n",
       "      <td>2</td>\n",
       "      <td>8</td>\n",
       "      <td>Viernes</td>\n",
       "      <td>18</td>\n",
       "    </tr>\n",
       "    <tr>\n",
       "      <th>3</th>\n",
       "      <td>1112318643</td>\n",
       "      <td>2018-02-23 18:38:17.921</td>\n",
       "      <td>OqmP9pv</td>\n",
       "      <td>23</td>\n",
       "      <td>2</td>\n",
       "      <td>8</td>\n",
       "      <td>Viernes</td>\n",
       "      <td>18</td>\n",
       "    </tr>\n",
       "    <tr>\n",
       "      <th>4</th>\n",
       "      <td>1111903673</td>\n",
       "      <td>2018-02-23 18:38:18.973</td>\n",
       "      <td>DrpbXDP</td>\n",
       "      <td>23</td>\n",
       "      <td>2</td>\n",
       "      <td>8</td>\n",
       "      <td>Viernes</td>\n",
       "      <td>18</td>\n",
       "    </tr>\n",
       "    <tr>\n",
       "      <th>5</th>\n",
       "      <td>1112355613</td>\n",
       "      <td>2018-02-23 18:38:23.467</td>\n",
       "      <td>rmdWApz</td>\n",
       "      <td>23</td>\n",
       "      <td>2</td>\n",
       "      <td>8</td>\n",
       "      <td>Viernes</td>\n",
       "      <td>18</td>\n",
       "    </tr>\n",
       "    <tr>\n",
       "      <th>6</th>\n",
       "      <td>1112346704</td>\n",
       "      <td>2018-02-23 18:38:27.130</td>\n",
       "      <td>Dr6e6Xl</td>\n",
       "      <td>23</td>\n",
       "      <td>2</td>\n",
       "      <td>8</td>\n",
       "      <td>Viernes</td>\n",
       "      <td>18</td>\n",
       "    </tr>\n",
       "    <tr>\n",
       "      <th>7</th>\n",
       "      <td>1112282610</td>\n",
       "      <td>2018-02-23 18:38:27.670</td>\n",
       "      <td>A3R9GWl</td>\n",
       "      <td>23</td>\n",
       "      <td>2</td>\n",
       "      <td>8</td>\n",
       "      <td>Viernes</td>\n",
       "      <td>18</td>\n",
       "    </tr>\n",
       "    <tr>\n",
       "      <th>8</th>\n",
       "      <td>1112342544</td>\n",
       "      <td>2018-02-23 18:38:31.601</td>\n",
       "      <td>8M24rbM</td>\n",
       "      <td>23</td>\n",
       "      <td>2</td>\n",
       "      <td>8</td>\n",
       "      <td>Viernes</td>\n",
       "      <td>18</td>\n",
       "    </tr>\n",
       "    <tr>\n",
       "      <th>9</th>\n",
       "      <td>1112358408</td>\n",
       "      <td>2018-02-23 18:38:32.977</td>\n",
       "      <td>YjrD1ZZ</td>\n",
       "      <td>23</td>\n",
       "      <td>2</td>\n",
       "      <td>8</td>\n",
       "      <td>Viernes</td>\n",
       "      <td>18</td>\n",
       "    </tr>\n",
       "  </tbody>\n",
       "</table>\n",
       "</div>"
      ],
      "text/plain": [
       "      idAviso               timestamp idpostulante  dia  mes  semana  \\\n",
       "0  1111780242 2018-02-23 18:38:13.187      YjVJQ6Z   23    2       8   \n",
       "1  1112263876 2018-02-23 18:38:14.296      BmVpYoR   23    2       8   \n",
       "2  1112327963 2018-02-23 18:38:14.329      wVkBzZd   23    2       8   \n",
       "3  1112318643 2018-02-23 18:38:17.921      OqmP9pv   23    2       8   \n",
       "4  1111903673 2018-02-23 18:38:18.973      DrpbXDP   23    2       8   \n",
       "5  1112355613 2018-02-23 18:38:23.467      rmdWApz   23    2       8   \n",
       "6  1112346704 2018-02-23 18:38:27.130      Dr6e6Xl   23    2       8   \n",
       "7  1112282610 2018-02-23 18:38:27.670      A3R9GWl   23    2       8   \n",
       "8  1112342544 2018-02-23 18:38:31.601      8M24rbM   23    2       8   \n",
       "9  1112358408 2018-02-23 18:38:32.977      YjrD1ZZ   23    2       8   \n",
       "\n",
       "  diadelasemana  hora  \n",
       "0       Viernes    18  \n",
       "1       Viernes    18  \n",
       "2       Viernes    18  \n",
       "3       Viernes    18  \n",
       "4       Viernes    18  \n",
       "5       Viernes    18  \n",
       "6       Viernes    18  \n",
       "7       Viernes    18  \n",
       "8       Viernes    18  \n",
       "9       Viernes    18  "
      ]
     },
     "execution_count": 7,
     "metadata": {},
     "output_type": "execute_result"
    }
   ],
   "source": [
    "vistas['dia']=pd.DatetimeIndex(vistas['timestamp']).day;\n",
    "vistas['mes']=pd.DatetimeIndex(vistas['timestamp']).month;\n",
    "vistas['semana']=pd.DatetimeIndex(vistas['timestamp']).week;\n",
    "vistas['diadelasemana']=pd.DatetimeIndex(vistas['timestamp']).weekday;\n",
    "vistas['hora']=pd.DatetimeIndex(vistas['timestamp']).hour;\n",
    "dias_de_la_semana={0:'Lunes',1:'Martes',2:'Miercoles',3:'Jueves',4:'Viernes',5:'Sabado',6:'Domingo'}\n",
    "vistas['diadelasemana'].replace(dias_de_la_semana, inplace=True)\n",
    "vistas.head(10)"
   ]
  },
  {
   "cell_type": "code",
   "execution_count": 8,
   "metadata": {},
   "outputs": [
    {
     "data": {
      "text/html": [
       "<div>\n",
       "<style scoped>\n",
       "    .dataframe tbody tr th:only-of-type {\n",
       "        vertical-align: middle;\n",
       "    }\n",
       "\n",
       "    .dataframe tbody tr th {\n",
       "        vertical-align: top;\n",
       "    }\n",
       "\n",
       "    .dataframe thead th {\n",
       "        text-align: right;\n",
       "    }\n",
       "</style>\n",
       "<table border=\"1\" class=\"dataframe\">\n",
       "  <thead>\n",
       "    <tr style=\"text-align: right;\">\n",
       "      <th></th>\n",
       "      <th>idAviso</th>\n",
       "      <th>timestamp</th>\n",
       "      <th>idpostulante</th>\n",
       "      <th>dia</th>\n",
       "      <th>mes</th>\n",
       "      <th>semana</th>\n",
       "      <th>diadelasemana</th>\n",
       "      <th>hora</th>\n",
       "    </tr>\n",
       "  </thead>\n",
       "  <tbody>\n",
       "    <tr>\n",
       "      <th>0</th>\n",
       "      <td>1111780242</td>\n",
       "      <td>2018-02-23 18:38:13.187</td>\n",
       "      <td>YjVJQ6Z</td>\n",
       "      <td>23</td>\n",
       "      <td>2</td>\n",
       "      <td>8</td>\n",
       "      <td>Viernes</td>\n",
       "      <td>18</td>\n",
       "    </tr>\n",
       "    <tr>\n",
       "      <th>1</th>\n",
       "      <td>1112263876</td>\n",
       "      <td>2018-02-23 18:38:14.296</td>\n",
       "      <td>BmVpYoR</td>\n",
       "      <td>23</td>\n",
       "      <td>2</td>\n",
       "      <td>8</td>\n",
       "      <td>Viernes</td>\n",
       "      <td>18</td>\n",
       "    </tr>\n",
       "    <tr>\n",
       "      <th>2</th>\n",
       "      <td>1112327963</td>\n",
       "      <td>2018-02-23 18:38:14.329</td>\n",
       "      <td>wVkBzZd</td>\n",
       "      <td>23</td>\n",
       "      <td>2</td>\n",
       "      <td>8</td>\n",
       "      <td>Viernes</td>\n",
       "      <td>18</td>\n",
       "    </tr>\n",
       "    <tr>\n",
       "      <th>3</th>\n",
       "      <td>1112318643</td>\n",
       "      <td>2018-02-23 18:38:17.921</td>\n",
       "      <td>OqmP9pv</td>\n",
       "      <td>23</td>\n",
       "      <td>2</td>\n",
       "      <td>8</td>\n",
       "      <td>Viernes</td>\n",
       "      <td>18</td>\n",
       "    </tr>\n",
       "    <tr>\n",
       "      <th>4</th>\n",
       "      <td>1111903673</td>\n",
       "      <td>2018-02-23 18:38:18.973</td>\n",
       "      <td>DrpbXDP</td>\n",
       "      <td>23</td>\n",
       "      <td>2</td>\n",
       "      <td>8</td>\n",
       "      <td>Viernes</td>\n",
       "      <td>18</td>\n",
       "    </tr>\n",
       "  </tbody>\n",
       "</table>\n",
       "</div>"
      ],
      "text/plain": [
       "      idAviso               timestamp idpostulante  dia  mes  semana  \\\n",
       "0  1111780242 2018-02-23 18:38:13.187      YjVJQ6Z   23    2       8   \n",
       "1  1112263876 2018-02-23 18:38:14.296      BmVpYoR   23    2       8   \n",
       "2  1112327963 2018-02-23 18:38:14.329      wVkBzZd   23    2       8   \n",
       "3  1112318643 2018-02-23 18:38:17.921      OqmP9pv   23    2       8   \n",
       "4  1111903673 2018-02-23 18:38:18.973      DrpbXDP   23    2       8   \n",
       "\n",
       "  diadelasemana  hora  \n",
       "0       Viernes    18  \n",
       "1       Viernes    18  \n",
       "2       Viernes    18  \n",
       "3       Viernes    18  \n",
       "4       Viernes    18  "
      ]
     },
     "execution_count": 8,
     "metadata": {},
     "output_type": "execute_result"
    }
   ],
   "source": [
    "vistas_febrero=vistas[vistas['mes']==2];\n",
    "vistas_febrero.head()"
   ]
  },
  {
   "cell_type": "code",
   "execution_count": 9,
   "metadata": {},
   "outputs": [
    {
     "data": {
      "text/plain": [
       "Text(0,0.5,'Cantidad de Vistas')"
      ]
     },
     "execution_count": 9,
     "metadata": {},
     "output_type": "execute_result"
    },
    {
     "data": {
      "image/png": "[encoded data removed]",
      "text/plain": [
       "<matplotlib.figure.Figure at 0x29773688630>"
      ]
     },
     "metadata": {},
     "output_type": "display_data"
    }
   ],
   "source": [
    "#Podemos ver que hay una periodicidad, y una anomalia en los feriados 12 y 13 de carnaval, pareciera ser que\n",
    "#los picos en postulaciones son en dias siempre laborables\n",
    "g = sns.countplot(x=vistas_febrero['dia'], orient='v', palette=['darkblue'])\n",
    "g.set_title(\"Vistas por días del mes en Febrero\", fontsize=18)\n",
    "g.set_xlabel(\"Día\",fontsize=18)\n",
    "g.set_ylabel(\"Cantidad de Vistas\", fontsize=18)"
   ]
  },
  {
   "cell_type": "code",
   "execution_count": 10,
   "metadata": {},
   "outputs": [
    {
     "data": {
      "text/plain": [
       "Text(0,0.5,'Cantidad de Vistas')"
      ]
     },
     "execution_count": 10,
     "metadata": {},
     "output_type": "execute_result"
    },
    {
     "data": {
      "image/png": "[encoded data removed]",
      "text/plain": [
       "<matplotlib.figure.Figure at 0x29700fcb780>"
      ]
     },
     "metadata": {},
     "output_type": "display_data"
    }
   ],
   "source": [
    "#Periodicidad que se explica con esto\n",
    "g = sns.countplot(x=vistas['diadelasemana'], orient='v', order=['Lunes','Martes','Miercoles','Jueves','Viernes','Sabado','Domingo'], palette=['darkblue'])\n",
    "g.set_title(\"Vistas por día de la semana\", fontsize=18)\n",
    "g.set_xlabel(\"Día\",fontsize=18)\n",
    "g.set_ylabel(\"Cantidad de Vistas\", fontsize=18)"
   ]
  },
  {
   "cell_type": "code",
   "execution_count": 22,
   "metadata": {},
   "outputs": [
    {
     "data": {
      "text/plain": [
       "Text(0,0.5,'Cantidad de Vistas')"
      ]
     },
     "execution_count": 22,
     "metadata": {},
     "output_type": "execute_result"
    },
    {
     "data": {
      "image/png": "[encoded data removed]",
      "text/plain": [
       "<matplotlib.figure.Figure at 0x2970141a208>"
      ]
     },
     "metadata": {},
     "output_type": "display_data"
    }
   ],
   "source": [
    "g = sns.countplot(x=vistas['hora'], orient='v', palette=['darkblue'])\n",
    "g.set_title(\"Vistas por hora del día\", fontsize=18)\n",
    "g.set_xlabel(\"Hora\",fontsize=18)\n",
    "g.set_ylabel(\"Cantidad de Vistas\", fontsize=18)"
   ]
  },
  {
   "cell_type": "code",
   "execution_count": 12,
   "metadata": {},
   "outputs": [
    {
     "data": {
      "text/html": [
       "<div>\n",
       "<style scoped>\n",
       "    .dataframe tbody tr th:only-of-type {\n",
       "        vertical-align: middle;\n",
       "    }\n",
       "\n",
       "    .dataframe tbody tr th {\n",
       "        vertical-align: top;\n",
       "    }\n",
       "\n",
       "    .dataframe thead th {\n",
       "        text-align: right;\n",
       "    }\n",
       "</style>\n",
       "<table border=\"1\" class=\"dataframe\">\n",
       "  <thead>\n",
       "    <tr style=\"text-align: right;\">\n",
       "      <th></th>\n",
       "      <th>idaviso</th>\n",
       "      <th>idpostulante</th>\n",
       "      <th>fechapostulacion</th>\n",
       "    </tr>\n",
       "  </thead>\n",
       "  <tbody>\n",
       "    <tr>\n",
       "      <th>0</th>\n",
       "      <td>1112257047</td>\n",
       "      <td>NM5M</td>\n",
       "      <td>2018-01-15 16:22:34</td>\n",
       "    </tr>\n",
       "    <tr>\n",
       "      <th>1</th>\n",
       "      <td>1111920714</td>\n",
       "      <td>NM5M</td>\n",
       "      <td>2018-02-06 09:04:50</td>\n",
       "    </tr>\n",
       "    <tr>\n",
       "      <th>2</th>\n",
       "      <td>1112346945</td>\n",
       "      <td>NM5M</td>\n",
       "      <td>2018-02-22 09:04:47</td>\n",
       "    </tr>\n",
       "    <tr>\n",
       "      <th>3</th>\n",
       "      <td>1112345547</td>\n",
       "      <td>NM5M</td>\n",
       "      <td>2018-02-22 09:04:59</td>\n",
       "    </tr>\n",
       "    <tr>\n",
       "      <th>4</th>\n",
       "      <td>1112237522</td>\n",
       "      <td>5awk</td>\n",
       "      <td>2018-01-25 18:55:03</td>\n",
       "    </tr>\n",
       "  </tbody>\n",
       "</table>\n",
       "</div>"
      ],
      "text/plain": [
       "      idaviso idpostulante     fechapostulacion\n",
       "0  1112257047         NM5M  2018-01-15 16:22:34\n",
       "1  1111920714         NM5M  2018-02-06 09:04:50\n",
       "2  1112346945         NM5M  2018-02-22 09:04:47\n",
       "3  1112345547         NM5M  2018-02-22 09:04:59\n",
       "4  1112237522         5awk  2018-01-25 18:55:03"
      ]
     },
     "execution_count": 12,
     "metadata": {},
     "output_type": "execute_result"
    }
   ],
   "source": [
    "postulaciones = pd.read_csv(\"../Data/datos_navent_fiuba/fiuba_4_postulaciones.csv\");\n",
    "postulaciones.head()"
   ]
  },
  {
   "cell_type": "code",
   "execution_count": 13,
   "metadata": {},
   "outputs": [
    {
     "data": {
      "text/html": [
       "<div>\n",
       "<style scoped>\n",
       "    .dataframe tbody tr th:only-of-type {\n",
       "        vertical-align: middle;\n",
       "    }\n",
       "\n",
       "    .dataframe tbody tr th {\n",
       "        vertical-align: top;\n",
       "    }\n",
       "\n",
       "    .dataframe thead th {\n",
       "        text-align: right;\n",
       "    }\n",
       "</style>\n",
       "<table border=\"1\" class=\"dataframe\">\n",
       "  <thead>\n",
       "    <tr style=\"text-align: right;\">\n",
       "      <th></th>\n",
       "      <th>idaviso</th>\n",
       "      <th>idpostulante</th>\n",
       "      <th>fechapostulacion</th>\n",
       "    </tr>\n",
       "  </thead>\n",
       "  <tbody>\n",
       "    <tr>\n",
       "      <th>0</th>\n",
       "      <td>1112257047</td>\n",
       "      <td>NM5M</td>\n",
       "      <td>2018-01-15 16:22:34</td>\n",
       "    </tr>\n",
       "    <tr>\n",
       "      <th>1</th>\n",
       "      <td>1111920714</td>\n",
       "      <td>NM5M</td>\n",
       "      <td>2018-02-06 09:04:50</td>\n",
       "    </tr>\n",
       "    <tr>\n",
       "      <th>2</th>\n",
       "      <td>1112346945</td>\n",
       "      <td>NM5M</td>\n",
       "      <td>2018-02-22 09:04:47</td>\n",
       "    </tr>\n",
       "    <tr>\n",
       "      <th>3</th>\n",
       "      <td>1112345547</td>\n",
       "      <td>NM5M</td>\n",
       "      <td>2018-02-22 09:04:59</td>\n",
       "    </tr>\n",
       "    <tr>\n",
       "      <th>4</th>\n",
       "      <td>1112237522</td>\n",
       "      <td>5awk</td>\n",
       "      <td>2018-01-25 18:55:03</td>\n",
       "    </tr>\n",
       "  </tbody>\n",
       "</table>\n",
       "</div>"
      ],
      "text/plain": [
       "      idaviso idpostulante    fechapostulacion\n",
       "0  1112257047         NM5M 2018-01-15 16:22:34\n",
       "1  1111920714         NM5M 2018-02-06 09:04:50\n",
       "2  1112346945         NM5M 2018-02-22 09:04:47\n",
       "3  1112345547         NM5M 2018-02-22 09:04:59\n",
       "4  1112237522         5awk 2018-01-25 18:55:03"
      ]
     },
     "execution_count": 13,
     "metadata": {},
     "output_type": "execute_result"
    }
   ],
   "source": [
    "postulaciones['fechapostulacion']=postulaciones['fechapostulacion'].astype('datetime64[ns]');\n",
    "postulaciones.head()"
   ]
  },
  {
   "cell_type": "code",
   "execution_count": 14,
   "metadata": {},
   "outputs": [
    {
     "data": {
      "text/plain": [
       "idaviso                      int64\n",
       "idpostulante                object\n",
       "fechapostulacion    datetime64[ns]\n",
       "dtype: object"
      ]
     },
     "execution_count": 14,
     "metadata": {},
     "output_type": "execute_result"
    }
   ],
   "source": [
    "postulaciones.dtypes"
   ]
  },
  {
   "cell_type": "code",
   "execution_count": 15,
   "metadata": {},
   "outputs": [
    {
     "data": {
      "text/html": [
       "<div>\n",
       "<style scoped>\n",
       "    .dataframe tbody tr th:only-of-type {\n",
       "        vertical-align: middle;\n",
       "    }\n",
       "\n",
       "    .dataframe tbody tr th {\n",
       "        vertical-align: top;\n",
       "    }\n",
       "\n",
       "    .dataframe thead th {\n",
       "        text-align: right;\n",
       "    }\n",
       "</style>\n",
       "<table border=\"1\" class=\"dataframe\">\n",
       "  <thead>\n",
       "    <tr style=\"text-align: right;\">\n",
       "      <th></th>\n",
       "      <th>idaviso</th>\n",
       "      <th>idpostulante</th>\n",
       "      <th>fechapostulacion</th>\n",
       "      <th>dia</th>\n",
       "      <th>mes</th>\n",
       "      <th>semana</th>\n",
       "      <th>diadelasemana</th>\n",
       "      <th>hora</th>\n",
       "    </tr>\n",
       "  </thead>\n",
       "  <tbody>\n",
       "    <tr>\n",
       "      <th>0</th>\n",
       "      <td>1112257047</td>\n",
       "      <td>NM5M</td>\n",
       "      <td>2018-01-15 16:22:34</td>\n",
       "      <td>15</td>\n",
       "      <td>1</td>\n",
       "      <td>3</td>\n",
       "      <td>Lunes</td>\n",
       "      <td>16</td>\n",
       "    </tr>\n",
       "    <tr>\n",
       "      <th>1</th>\n",
       "      <td>1111920714</td>\n",
       "      <td>NM5M</td>\n",
       "      <td>2018-02-06 09:04:50</td>\n",
       "      <td>6</td>\n",
       "      <td>2</td>\n",
       "      <td>6</td>\n",
       "      <td>Martes</td>\n",
       "      <td>9</td>\n",
       "    </tr>\n",
       "    <tr>\n",
       "      <th>2</th>\n",
       "      <td>1112346945</td>\n",
       "      <td>NM5M</td>\n",
       "      <td>2018-02-22 09:04:47</td>\n",
       "      <td>22</td>\n",
       "      <td>2</td>\n",
       "      <td>8</td>\n",
       "      <td>Jueves</td>\n",
       "      <td>9</td>\n",
       "    </tr>\n",
       "    <tr>\n",
       "      <th>3</th>\n",
       "      <td>1112345547</td>\n",
       "      <td>NM5M</td>\n",
       "      <td>2018-02-22 09:04:59</td>\n",
       "      <td>22</td>\n",
       "      <td>2</td>\n",
       "      <td>8</td>\n",
       "      <td>Jueves</td>\n",
       "      <td>9</td>\n",
       "    </tr>\n",
       "    <tr>\n",
       "      <th>4</th>\n",
       "      <td>1112237522</td>\n",
       "      <td>5awk</td>\n",
       "      <td>2018-01-25 18:55:03</td>\n",
       "      <td>25</td>\n",
       "      <td>1</td>\n",
       "      <td>4</td>\n",
       "      <td>Jueves</td>\n",
       "      <td>18</td>\n",
       "    </tr>\n",
       "    <tr>\n",
       "      <th>5</th>\n",
       "      <td>1112277633</td>\n",
       "      <td>5awk</td>\n",
       "      <td>2018-01-29 13:34:44</td>\n",
       "      <td>29</td>\n",
       "      <td>1</td>\n",
       "      <td>5</td>\n",
       "      <td>Lunes</td>\n",
       "      <td>13</td>\n",
       "    </tr>\n",
       "    <tr>\n",
       "      <th>6</th>\n",
       "      <td>1112302347</td>\n",
       "      <td>5awk</td>\n",
       "      <td>2018-02-07 20:49:22</td>\n",
       "      <td>7</td>\n",
       "      <td>2</td>\n",
       "      <td>6</td>\n",
       "      <td>Miercoles</td>\n",
       "      <td>20</td>\n",
       "    </tr>\n",
       "    <tr>\n",
       "      <th>7</th>\n",
       "      <td>1112291495</td>\n",
       "      <td>5awk</td>\n",
       "      <td>2018-02-07 20:50:13</td>\n",
       "      <td>7</td>\n",
       "      <td>2</td>\n",
       "      <td>6</td>\n",
       "      <td>Miercoles</td>\n",
       "      <td>20</td>\n",
       "    </tr>\n",
       "    <tr>\n",
       "      <th>8</th>\n",
       "      <td>1112304011</td>\n",
       "      <td>5awk</td>\n",
       "      <td>2018-02-07 20:51:15</td>\n",
       "      <td>7</td>\n",
       "      <td>2</td>\n",
       "      <td>6</td>\n",
       "      <td>Miercoles</td>\n",
       "      <td>20</td>\n",
       "    </tr>\n",
       "    <tr>\n",
       "      <th>9</th>\n",
       "      <td>1112326289</td>\n",
       "      <td>5awk</td>\n",
       "      <td>2018-02-09 20:24:57</td>\n",
       "      <td>9</td>\n",
       "      <td>2</td>\n",
       "      <td>6</td>\n",
       "      <td>Viernes</td>\n",
       "      <td>20</td>\n",
       "    </tr>\n",
       "  </tbody>\n",
       "</table>\n",
       "</div>"
      ],
      "text/plain": [
       "      idaviso idpostulante    fechapostulacion  dia  mes  semana  \\\n",
       "0  1112257047         NM5M 2018-01-15 16:22:34   15    1       3   \n",
       "1  1111920714         NM5M 2018-02-06 09:04:50    6    2       6   \n",
       "2  1112346945         NM5M 2018-02-22 09:04:47   22    2       8   \n",
       "3  1112345547         NM5M 2018-02-22 09:04:59   22    2       8   \n",
       "4  1112237522         5awk 2018-01-25 18:55:03   25    1       4   \n",
       "5  1112277633         5awk 2018-01-29 13:34:44   29    1       5   \n",
       "6  1112302347         5awk 2018-02-07 20:49:22    7    2       6   \n",
       "7  1112291495         5awk 2018-02-07 20:50:13    7    2       6   \n",
       "8  1112304011         5awk 2018-02-07 20:51:15    7    2       6   \n",
       "9  1112326289         5awk 2018-02-09 20:24:57    9    2       6   \n",
       "\n",
       "  diadelasemana  hora  \n",
       "0         Lunes    16  \n",
       "1        Martes     9  \n",
       "2        Jueves     9  \n",
       "3        Jueves     9  \n",
       "4        Jueves    18  \n",
       "5         Lunes    13  \n",
       "6     Miercoles    20  \n",
       "7     Miercoles    20  \n",
       "8     Miercoles    20  \n",
       "9       Viernes    20  "
      ]
     },
     "execution_count": 15,
     "metadata": {},
     "output_type": "execute_result"
    }
   ],
   "source": [
    "postulaciones['dia']=pd.DatetimeIndex(postulaciones['fechapostulacion']).day;\n",
    "postulaciones['mes']=pd.DatetimeIndex(postulaciones['fechapostulacion']).month;\n",
    "postulaciones['semana']=pd.DatetimeIndex(postulaciones['fechapostulacion']).week;\n",
    "postulaciones['diadelasemana']=pd.DatetimeIndex(postulaciones['fechapostulacion']).weekday;\n",
    "postulaciones['hora']=pd.DatetimeIndex(postulaciones['fechapostulacion']).hour;\n",
    "dias_de_la_semana={0:'Lunes',1:'Martes',2:'Miercoles',3:'Jueves',4:'Viernes',5:'Sabado',6:'Domingo'}\n",
    "postulaciones['diadelasemana'].replace(dias_de_la_semana, inplace=True)\n",
    "postulaciones.head(10)"
   ]
  },
  {
   "cell_type": "code",
   "execution_count": 16,
   "metadata": {},
   "outputs": [
    {
     "data": {
      "text/html": [
       "<div>\n",
       "<style scoped>\n",
       "    .dataframe tbody tr th:only-of-type {\n",
       "        vertical-align: middle;\n",
       "    }\n",
       "\n",
       "    .dataframe tbody tr th {\n",
       "        vertical-align: top;\n",
       "    }\n",
       "\n",
       "    .dataframe thead th {\n",
       "        text-align: right;\n",
       "    }\n",
       "</style>\n",
       "<table border=\"1\" class=\"dataframe\">\n",
       "  <thead>\n",
       "    <tr style=\"text-align: right;\">\n",
       "      <th></th>\n",
       "      <th>idaviso</th>\n",
       "      <th>idpostulante</th>\n",
       "      <th>fechapostulacion</th>\n",
       "      <th>dia</th>\n",
       "      <th>mes</th>\n",
       "      <th>semana</th>\n",
       "      <th>diadelasemana</th>\n",
       "      <th>hora</th>\n",
       "    </tr>\n",
       "  </thead>\n",
       "  <tbody>\n",
       "    <tr>\n",
       "      <th>12</th>\n",
       "      <td>1112315188</td>\n",
       "      <td>5awk</td>\n",
       "      <td>2018-02-28 15:54:28</td>\n",
       "      <td>28</td>\n",
       "      <td>2</td>\n",
       "      <td>9</td>\n",
       "      <td>Miercoles</td>\n",
       "      <td>15</td>\n",
       "    </tr>\n",
       "    <tr>\n",
       "      <th>13</th>\n",
       "      <td>1112346738</td>\n",
       "      <td>5awk</td>\n",
       "      <td>2018-02-28 15:54:47</td>\n",
       "      <td>28</td>\n",
       "      <td>2</td>\n",
       "      <td>9</td>\n",
       "      <td>Miercoles</td>\n",
       "      <td>15</td>\n",
       "    </tr>\n",
       "    <tr>\n",
       "      <th>14</th>\n",
       "      <td>1112330625</td>\n",
       "      <td>5awk</td>\n",
       "      <td>2018-02-28 15:56:43</td>\n",
       "      <td>28</td>\n",
       "      <td>2</td>\n",
       "      <td>9</td>\n",
       "      <td>Miercoles</td>\n",
       "      <td>15</td>\n",
       "    </tr>\n",
       "    <tr>\n",
       "      <th>15</th>\n",
       "      <td>1112306543</td>\n",
       "      <td>5awk</td>\n",
       "      <td>2018-02-28 15:57:35</td>\n",
       "      <td>28</td>\n",
       "      <td>2</td>\n",
       "      <td>9</td>\n",
       "      <td>Miercoles</td>\n",
       "      <td>15</td>\n",
       "    </tr>\n",
       "    <tr>\n",
       "      <th>16</th>\n",
       "      <td>1112315170</td>\n",
       "      <td>5awk</td>\n",
       "      <td>2018-02-28 15:59:14</td>\n",
       "      <td>28</td>\n",
       "      <td>2</td>\n",
       "      <td>9</td>\n",
       "      <td>Miercoles</td>\n",
       "      <td>15</td>\n",
       "    </tr>\n",
       "  </tbody>\n",
       "</table>\n",
       "</div>"
      ],
      "text/plain": [
       "       idaviso idpostulante    fechapostulacion  dia  mes  semana  \\\n",
       "12  1112315188         5awk 2018-02-28 15:54:28   28    2       9   \n",
       "13  1112346738         5awk 2018-02-28 15:54:47   28    2       9   \n",
       "14  1112330625         5awk 2018-02-28 15:56:43   28    2       9   \n",
       "15  1112306543         5awk 2018-02-28 15:57:35   28    2       9   \n",
       "16  1112315170         5awk 2018-02-28 15:59:14   28    2       9   \n",
       "\n",
       "   diadelasemana  hora  \n",
       "12     Miercoles    15  \n",
       "13     Miercoles    15  \n",
       "14     Miercoles    15  \n",
       "15     Miercoles    15  \n",
       "16     Miercoles    15  "
      ]
     },
     "execution_count": 16,
     "metadata": {},
     "output_type": "execute_result"
    }
   ],
   "source": [
    "postulaciones_semana_vistas=postulaciones[(postulaciones['mes']==2) & (postulaciones['dia']>=23) & (postulaciones['dia']<=28)];\n",
    "postulaciones_semana_vistas.head()"
   ]
  },
  {
   "cell_type": "code",
   "execution_count": 58,
   "metadata": {},
   "outputs": [],
   "source": [
    "vistas=vistas[vistas['dia']!=1];"
   ]
  },
  {
   "cell_type": "code",
   "execution_count": 49,
   "metadata": {},
   "outputs": [
    {
     "data": {
      "text/plain": [
       "Text(0,0.5,'Cantidad')"
      ]
     },
     "execution_count": 49,
     "metadata": {},
     "output_type": "execute_result"
    },
    {
     "data": {
      "image/png": "[encoded data removed]",
      "text/plain": [
       "<matplotlib.figure.Figure at 0x29716763240>"
      ]
     },
     "metadata": {},
     "output_type": "display_data"
    }
   ],
   "source": [
    "g = sns.countplot(x=postulaciones_semana_vistas['hora'], orient='v', palette=['limegreen'],alpha=1)\n",
    "g = sns.countplot(x=vistas['hora'], orient='v', palette=['darkblue'],alpha=0.5)\n",
    "g.legend(['Postulaciones','Vistas'],ncol=2, loc='upper left');\n",
    "g.set_title(\"Postulaciones contra Vistas por hora\", fontsize=18)\n",
    "g.set_xlabel(\"Hora\",fontsize=18)\n",
    "g.set_ylabel(\"Cantidad\", fontsize=18)"
   ]
  },
  {
   "cell_type": "code",
   "execution_count": 59,
   "metadata": {},
   "outputs": [
    {
     "data": {
      "text/plain": [
       "Text(0,0.5,'Cantidad')"
      ]
     },
     "execution_count": 59,
     "metadata": {},
     "output_type": "execute_result"
    },
    {
     "data": {
      "image/png": "[encoded data removed]",
      "text/plain": [
       "<matplotlib.figure.Figure at 0x29718027a20>"
      ]
     },
     "metadata": {},
     "output_type": "display_data"
    }
   ],
   "source": [
    "g = sns.countplot(x=postulaciones_semana_vistas['diadelasemana'], orient='v', palette=['limegreen'],order=['Lunes','Martes','Miercoles','Jueves','Viernes','Sabado','Domingo'])\n",
    "g = sns.countplot(x=vistas['diadelasemana'], orient='v', palette=['darkblue'],alpha=0.5,order=['Lunes','Martes','Miercoles','Jueves','Viernes','Sabado','Domingo'])\n",
    "g.legend(['Postulaciones','Vistas'],ncol=2, loc='upper right');\n",
    "g.set_title(\"Postulaciones contra Vistas por día de la semana\", fontsize=18)\n",
    "g.set_xlabel(\"Día\",fontsize=18)\n",
    "g.set_ylabel(\"Cantidad\", fontsize=18)"
   ]
  },
  {
   "cell_type": "code",
   "execution_count": 61,
   "metadata": {},
   "outputs": [
    {
     "data": {
      "text/plain": [
       "Text(0,0.5,'Cantidad')"
      ]
     },
     "execution_count": 61,
     "metadata": {},
     "output_type": "execute_result"
    },
    {
     "data": {
      "image/png": "[encoded data removed]",
      "text/plain": [
       "<matplotlib.figure.Figure at 0x2971815d160>"
      ]
     },
     "metadata": {},
     "output_type": "display_data"
    }
   ],
   "source": [
    "g = sns.countplot(x=postulaciones_semana_vistas['dia'], orient='v', palette=['limegreen'])\n",
    "g = sns.countplot(x=vistas['dia'], orient='v', palette=['darkblue'],alpha=0.5)\n",
    "g.legend(['Postulaciones','Vistas'],ncol=2, loc='upper left');\n",
    "g.set_title(\"Postulaciones contra Vistas por día\", fontsize=18)\n",
    "g.set_xlabel(\"Día\",fontsize=18)\n",
    "g.set_ylabel(\"Cantidad\", fontsize=18)"
   ]
  },
  {
   "cell_type": "code",
   "execution_count": null,
   "metadata": {},
   "outputs": [],
   "source": []
  }
 ],
 "metadata": {
  "kernelspec": {
   "display_name": "Python 3",
   "language": "python",
   "name": "python3"
  },
  "language_info": {
   "codemirror_mode": {
    "name": "ipython",
    "version": 3
   },
   "file_extension": ".py",
   "mimetype": "text/x-python",
   "name": "python",
   "nbconvert_exporter": "python",
   "pygments_lexer": "ipython3",
   "version": "3.6.4"
  }
 },
 "nbformat": 4,
 "nbformat_minor": 2
}
