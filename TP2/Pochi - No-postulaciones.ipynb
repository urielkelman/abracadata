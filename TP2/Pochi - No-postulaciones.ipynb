{
 "cells": [
  {
   "cell_type": "code",
   "execution_count": 15,
   "metadata": {},
   "outputs": [],
   "source": [
    "import pandas as pd\n",
    "import numpy as np\n",
    "import matplotlib.pyplot as plt\n",
    "import seaborn as sns\n",
    "from datetime import datetime\n",
    "\n",
    "from sklearn import tree\n",
    "from sklearn.tree import DecisionTreeClassifier\n",
    "from sklearn.model_selection import train_test_split\n",
    "from sklearn.metrics import accuracy_score\n",
    "from sklearn import preprocessing\n",
    "from sklearn.externals import joblib\n",
    "\n",
    "%matplotlib inline"
   ]
  },
  {
   "cell_type": "code",
   "execution_count": 16,
   "metadata": {},
   "outputs": [],
   "source": [
    "plt.rc('figure',dpi=100);"
   ]
  },
  {
   "cell_type": "code",
   "execution_count": 17,
   "metadata": {},
   "outputs": [],
   "source": [
    "avisos = pd.read_csv(\"Data/fiuba_entrenamiento/pocho/avisos.csv\")\n",
    "postulaciones = pd.read_csv(\"Data/fiuba_entrenamiento/pocho/postulaciones.csv\")\n",
    "postulantes = pd.read_csv(\"Data/fiuba_entrenamiento/pocho/postulantes.csv\")\n",
    "vistas = pd.read_csv(\"Data/fiuba_entrenamiento/pocho/vistas.csv\")"
   ]
  },
  {
   "cell_type": "code",
   "execution_count": 19,
   "metadata": {},
   "outputs": [],
   "source": [
    "vistas.drop(['timestamp','dia','mes','semana','diadelasemana','hora'],axis=1,inplace=True)\n",
    "vistas.columns=['idaviso','idpostulante']\n",
    "\n",
    "postulantes['sexo']=postulantes['sexo'].astype('category')\n",
    "postulantes['Doctorado']=postulantes['Doctorado'].astype('category')\n",
    "postulantes['Master']=postulantes['Master'].astype('category')\n",
    "postulantes['Otro']=postulantes['Otro'].astype('category')\n",
    "postulantes['Posgrado']=postulantes['Posgrado'].astype('category')\n",
    "postulantes['Secundario']=postulantes['Secundario'].astype('category')\n",
    "postulantes['Terciario/Técnico']=postulantes['Terciario/Técnico'].astype('category')\n",
    "postulantes['Universitario']=postulantes['Universitario'].astype('category')\n",
    "\n",
    "avisos['nombre_zona']=avisos['nombre_zona'].astype('category')\n",
    "avisos['tipo_de_trabajo']=avisos['tipo_de_trabajo'].astype('category')\n",
    "avisos['nivel_laboral']=avisos['nivel_laboral'].astype('category')\n",
    "avisos['nombre_area']=avisos['nombre_area'].astype('category')\n",
    "\n",
    "postulaciones['sepostulo']=1\n",
    "postulaciones.drop(['fechapostulacion','dia','mes','semana','diadelasemana','hora'],axis=1,inplace=True)"
   ]
  },
  {
   "cell_type": "code",
   "execution_count": 20,
   "metadata": {},
   "outputs": [
    {
     "name": "stdout",
     "output_type": "stream",
     "text": [
      "0\n",
      "1\n",
      "2\n",
      "3\n"
     ]
    }
   ],
   "source": [
    "#Genero no-postulaciones\n",
    "from IPython.display import clear_output\n",
    "\n",
    "postulaciones3=postulaciones;\n",
    "postulaciones3['sepostulo']=0;\n",
    "serie=postulantes['idpostulante'];\n",
    "i=0\n",
    "while (len(postulaciones3)>len(serie)):\n",
    "    global i\n",
    "    serie=serie.sample(frac=1).reset_index(drop=True)\n",
    "    serie=pd.concat([serie.sample(frac=1),serie], ignore_index=False)\n",
    "    print(i)\n",
    "    i+=1\n",
    "    if(i%10==0): clear_output()\n",
    "serie=serie.reset_index(drop=True)\n",
    "postulaciones3['idpostulante']=serie.iloc[0:len(postulaciones3)]\n",
    "postulaciones3.to_csv(\"Data/fiuba_entrenamiento/pocho/no-postulaciones/1.csv\",index=False)"
   ]
  },
  {
   "cell_type": "code",
   "execution_count": null,
   "metadata": {},
   "outputs": [],
   "source": [
    "#Genero no-postulaciones teniendo en cuenta vistas\n",
    "from IPython.display import clear_output\n",
    "\n",
    "postulaciones3=postulaciones;\n",
    "postulaciones3=postulaciones3.iloc[0:len(postulaciones3)//4]\n",
    "serie=postulantes['idpostulante'];\n",
    "i=0\n",
    "while (len(postulaciones3)>len(serie)):\n",
    "    global i\n",
    "    serie=serie.sample(frac=1).reset_index(drop=True)\n",
    "    serie=pd.concat([serie.sample(frac=1),serie], ignore_index=False)\n",
    "    print(i)\n",
    "    i+=1\n",
    "    if(i%10==0): clear_output()\n",
    "serie=serie.reset_index(drop=True)\n",
    "\n",
    "\n",
    "print(\"hola\")\n",
    "postulaciones3['idpostulante']=serie.iloc[0:len(postulaciones3),:]\n",
    "\n",
    "postulaciones3=pd.concat([postulaciones3,vistas.sample((len(postulaciones)*3)//2)],ignore_index=False)\n",
    "postulaciones3['sepostulo']=0;\n",
    "postulaciones3.drop_duplicates()\n",
    "postulaciones3.to_csv(\"Data/fiuba_entrenamiento/pocho/no-postulaciones/2.csv\",index=False)\n"
   ]
  },
  {
   "cell_type": "code",
   "execution_count": null,
   "metadata": {},
   "outputs": [],
   "source": []
  },
  {
   "cell_type": "code",
   "execution_count": null,
   "metadata": {},
   "outputs": [],
   "source": []
  }
 ],
 "metadata": {
  "kernelspec": {
   "display_name": "Python 3",
   "language": "python",
   "name": "python3"
  },
  "language_info": {
   "codemirror_mode": {
    "name": "ipython",
    "version": 3
   },
   "file_extension": ".py",
   "mimetype": "text/x-python",
   "name": "python",
   "nbconvert_exporter": "python",
   "pygments_lexer": "ipython3",
   "version": "3.6.5"
  }
 },
 "nbformat": 4,
 "nbformat_minor": 2
}
