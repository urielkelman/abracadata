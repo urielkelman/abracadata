{
 "cells": [
  {
   "cell_type": "code",
   "execution_count": 2,
   "metadata": {},
   "outputs": [],
   "source": [
    "import pandas as pd\n",
    "import numpy as np\n",
    "import matplotlib.pyplot as plt\n",
    "import seaborn as sns\n",
    "from datetime import datetime\n",
    "\n",
    "from sklearn import tree\n",
    "from sklearn.tree import DecisionTreeClassifier\n",
    "from sklearn.model_selection import train_test_split\n",
    "from sklearn.metrics import accuracy_score\n",
    "from sklearn import preprocessing\n",
    "from sklearn.externals import joblib\n",
    "\n",
    "%matplotlib inline"
   ]
  },
  {
   "cell_type": "code",
   "execution_count": 3,
   "metadata": {},
   "outputs": [],
   "source": [
    "plt.rc('figure',dpi=100);"
   ]
  },
  {
   "cell_type": "code",
   "execution_count": 4,
   "metadata": {},
   "outputs": [],
   "source": [
    "avisos = pd.read_csv(\"Data/fiuba_entrenamiento/pocho/avisos.csv\")\n",
    "postulaciones = pd.read_csv(\"Data/fiuba_entrenamiento/pocho/postulaciones.csv\")\n",
    "postulantes = pd.read_csv(\"Data/fiuba_entrenamiento/pocho/postulantes.csv\")\n",
    "vistas = pd.read_csv(\"Data/fiuba_entrenamiento/pocho/vistas.csv\")"
   ]
  },
  {
   "cell_type": "code",
   "execution_count": 5,
   "metadata": {},
   "outputs": [
    {
     "ename": "KeyError",
     "evalue": "\"labels ['timestamp' 'dia' 'mes' 'semana' 'diadelasemana' 'hora'] not contained in axis\"",
     "output_type": "error",
     "traceback": [
      "\u001b[1;31m---------------------------------------------------------------------------\u001b[0m",
      "\u001b[1;31mKeyError\u001b[0m                                  Traceback (most recent call last)",
      "\u001b[1;32m<ipython-input-5-64483b316e77>\u001b[0m in \u001b[0;36m<module>\u001b[1;34m()\u001b[0m\n\u001b[1;32m----> 1\u001b[1;33m \u001b[0mvistas\u001b[0m\u001b[1;33m.\u001b[0m\u001b[0mdrop\u001b[0m\u001b[1;33m(\u001b[0m\u001b[1;33m[\u001b[0m\u001b[1;34m'timestamp'\u001b[0m\u001b[1;33m,\u001b[0m\u001b[1;34m'dia'\u001b[0m\u001b[1;33m,\u001b[0m\u001b[1;34m'mes'\u001b[0m\u001b[1;33m,\u001b[0m\u001b[1;34m'semana'\u001b[0m\u001b[1;33m,\u001b[0m\u001b[1;34m'diadelasemana'\u001b[0m\u001b[1;33m,\u001b[0m\u001b[1;34m'hora'\u001b[0m\u001b[1;33m]\u001b[0m\u001b[1;33m,\u001b[0m\u001b[0maxis\u001b[0m\u001b[1;33m=\u001b[0m\u001b[1;36m1\u001b[0m\u001b[1;33m,\u001b[0m\u001b[0minplace\u001b[0m\u001b[1;33m=\u001b[0m\u001b[1;32mTrue\u001b[0m\u001b[1;33m)\u001b[0m\u001b[1;33m\u001b[0m\u001b[0m\n\u001b[0m\u001b[0;32m      2\u001b[0m \u001b[0mvistas\u001b[0m\u001b[1;33m.\u001b[0m\u001b[0mcolumns\u001b[0m\u001b[1;33m=\u001b[0m\u001b[1;33m[\u001b[0m\u001b[1;34m'idaviso'\u001b[0m\u001b[1;33m,\u001b[0m\u001b[1;34m'idpostulante'\u001b[0m\u001b[1;33m]\u001b[0m\u001b[1;33m\u001b[0m\u001b[0m\n\u001b[0;32m      3\u001b[0m \u001b[1;33m\u001b[0m\u001b[0m\n\u001b[0;32m      4\u001b[0m \u001b[0mpostulantes\u001b[0m\u001b[1;33m[\u001b[0m\u001b[1;34m'sexo'\u001b[0m\u001b[1;33m]\u001b[0m\u001b[1;33m=\u001b[0m\u001b[0mpostulantes\u001b[0m\u001b[1;33m[\u001b[0m\u001b[1;34m'sexo'\u001b[0m\u001b[1;33m]\u001b[0m\u001b[1;33m.\u001b[0m\u001b[0mastype\u001b[0m\u001b[1;33m(\u001b[0m\u001b[1;34m'category'\u001b[0m\u001b[1;33m)\u001b[0m\u001b[1;33m\u001b[0m\u001b[0m\n\u001b[0;32m      5\u001b[0m \u001b[0mpostulantes\u001b[0m\u001b[1;33m[\u001b[0m\u001b[1;34m'Doctorado'\u001b[0m\u001b[1;33m]\u001b[0m\u001b[1;33m=\u001b[0m\u001b[0mpostulantes\u001b[0m\u001b[1;33m[\u001b[0m\u001b[1;34m'Doctorado'\u001b[0m\u001b[1;33m]\u001b[0m\u001b[1;33m.\u001b[0m\u001b[0mastype\u001b[0m\u001b[1;33m(\u001b[0m\u001b[1;34m'category'\u001b[0m\u001b[1;33m)\u001b[0m\u001b[1;33m\u001b[0m\u001b[0m\n",
      "\u001b[1;32m~\\Anaconda3\\lib\\site-packages\\pandas\\core\\frame.py\u001b[0m in \u001b[0;36mdrop\u001b[1;34m(self, labels, axis, index, columns, level, inplace, errors)\u001b[0m\n\u001b[0;32m   3692\u001b[0m                                            \u001b[0mindex\u001b[0m\u001b[1;33m=\u001b[0m\u001b[0mindex\u001b[0m\u001b[1;33m,\u001b[0m \u001b[0mcolumns\u001b[0m\u001b[1;33m=\u001b[0m\u001b[0mcolumns\u001b[0m\u001b[1;33m,\u001b[0m\u001b[1;33m\u001b[0m\u001b[0m\n\u001b[0;32m   3693\u001b[0m                                            \u001b[0mlevel\u001b[0m\u001b[1;33m=\u001b[0m\u001b[0mlevel\u001b[0m\u001b[1;33m,\u001b[0m \u001b[0minplace\u001b[0m\u001b[1;33m=\u001b[0m\u001b[0minplace\u001b[0m\u001b[1;33m,\u001b[0m\u001b[1;33m\u001b[0m\u001b[0m\n\u001b[1;32m-> 3694\u001b[1;33m                                            errors=errors)\n\u001b[0m\u001b[0;32m   3695\u001b[0m \u001b[1;33m\u001b[0m\u001b[0m\n\u001b[0;32m   3696\u001b[0m     @rewrite_axis_style_signature('mapper', [('copy', True),\n",
      "\u001b[1;32m~\\Anaconda3\\lib\\site-packages\\pandas\\core\\generic.py\u001b[0m in \u001b[0;36mdrop\u001b[1;34m(self, labels, axis, index, columns, level, inplace, errors)\u001b[0m\n\u001b[0;32m   3106\u001b[0m         \u001b[1;32mfor\u001b[0m \u001b[0maxis\u001b[0m\u001b[1;33m,\u001b[0m \u001b[0mlabels\u001b[0m \u001b[1;32min\u001b[0m \u001b[0maxes\u001b[0m\u001b[1;33m.\u001b[0m\u001b[0mitems\u001b[0m\u001b[1;33m(\u001b[0m\u001b[1;33m)\u001b[0m\u001b[1;33m:\u001b[0m\u001b[1;33m\u001b[0m\u001b[0m\n\u001b[0;32m   3107\u001b[0m             \u001b[1;32mif\u001b[0m \u001b[0mlabels\u001b[0m \u001b[1;32mis\u001b[0m \u001b[1;32mnot\u001b[0m \u001b[1;32mNone\u001b[0m\u001b[1;33m:\u001b[0m\u001b[1;33m\u001b[0m\u001b[0m\n\u001b[1;32m-> 3108\u001b[1;33m                 \u001b[0mobj\u001b[0m \u001b[1;33m=\u001b[0m \u001b[0mobj\u001b[0m\u001b[1;33m.\u001b[0m\u001b[0m_drop_axis\u001b[0m\u001b[1;33m(\u001b[0m\u001b[0mlabels\u001b[0m\u001b[1;33m,\u001b[0m \u001b[0maxis\u001b[0m\u001b[1;33m,\u001b[0m \u001b[0mlevel\u001b[0m\u001b[1;33m=\u001b[0m\u001b[0mlevel\u001b[0m\u001b[1;33m,\u001b[0m \u001b[0merrors\u001b[0m\u001b[1;33m=\u001b[0m\u001b[0merrors\u001b[0m\u001b[1;33m)\u001b[0m\u001b[1;33m\u001b[0m\u001b[0m\n\u001b[0m\u001b[0;32m   3109\u001b[0m \u001b[1;33m\u001b[0m\u001b[0m\n\u001b[0;32m   3110\u001b[0m         \u001b[1;32mif\u001b[0m \u001b[0minplace\u001b[0m\u001b[1;33m:\u001b[0m\u001b[1;33m\u001b[0m\u001b[0m\n",
      "\u001b[1;32m~\\Anaconda3\\lib\\site-packages\\pandas\\core\\generic.py\u001b[0m in \u001b[0;36m_drop_axis\u001b[1;34m(self, labels, axis, level, errors)\u001b[0m\n\u001b[0;32m   3138\u001b[0m                 \u001b[0mnew_axis\u001b[0m \u001b[1;33m=\u001b[0m \u001b[0maxis\u001b[0m\u001b[1;33m.\u001b[0m\u001b[0mdrop\u001b[0m\u001b[1;33m(\u001b[0m\u001b[0mlabels\u001b[0m\u001b[1;33m,\u001b[0m \u001b[0mlevel\u001b[0m\u001b[1;33m=\u001b[0m\u001b[0mlevel\u001b[0m\u001b[1;33m,\u001b[0m \u001b[0merrors\u001b[0m\u001b[1;33m=\u001b[0m\u001b[0merrors\u001b[0m\u001b[1;33m)\u001b[0m\u001b[1;33m\u001b[0m\u001b[0m\n\u001b[0;32m   3139\u001b[0m             \u001b[1;32melse\u001b[0m\u001b[1;33m:\u001b[0m\u001b[1;33m\u001b[0m\u001b[0m\n\u001b[1;32m-> 3140\u001b[1;33m                 \u001b[0mnew_axis\u001b[0m \u001b[1;33m=\u001b[0m \u001b[0maxis\u001b[0m\u001b[1;33m.\u001b[0m\u001b[0mdrop\u001b[0m\u001b[1;33m(\u001b[0m\u001b[0mlabels\u001b[0m\u001b[1;33m,\u001b[0m \u001b[0merrors\u001b[0m\u001b[1;33m=\u001b[0m\u001b[0merrors\u001b[0m\u001b[1;33m)\u001b[0m\u001b[1;33m\u001b[0m\u001b[0m\n\u001b[0m\u001b[0;32m   3141\u001b[0m             \u001b[0mdropped\u001b[0m \u001b[1;33m=\u001b[0m \u001b[0mself\u001b[0m\u001b[1;33m.\u001b[0m\u001b[0mreindex\u001b[0m\u001b[1;33m(\u001b[0m\u001b[1;33m**\u001b[0m\u001b[1;33m{\u001b[0m\u001b[0maxis_name\u001b[0m\u001b[1;33m:\u001b[0m \u001b[0mnew_axis\u001b[0m\u001b[1;33m}\u001b[0m\u001b[1;33m)\u001b[0m\u001b[1;33m\u001b[0m\u001b[0m\n\u001b[0;32m   3142\u001b[0m             \u001b[1;32mtry\u001b[0m\u001b[1;33m:\u001b[0m\u001b[1;33m\u001b[0m\u001b[0m\n",
      "\u001b[1;32m~\\Anaconda3\\lib\\site-packages\\pandas\\core\\indexes\\base.py\u001b[0m in \u001b[0;36mdrop\u001b[1;34m(self, labels, errors)\u001b[0m\n\u001b[0;32m   4385\u001b[0m             \u001b[1;32mif\u001b[0m \u001b[0merrors\u001b[0m \u001b[1;33m!=\u001b[0m \u001b[1;34m'ignore'\u001b[0m\u001b[1;33m:\u001b[0m\u001b[1;33m\u001b[0m\u001b[0m\n\u001b[0;32m   4386\u001b[0m                 raise KeyError(\n\u001b[1;32m-> 4387\u001b[1;33m                     'labels %s not contained in axis' % labels[mask])\n\u001b[0m\u001b[0;32m   4388\u001b[0m             \u001b[0mindexer\u001b[0m \u001b[1;33m=\u001b[0m \u001b[0mindexer\u001b[0m\u001b[1;33m[\u001b[0m\u001b[1;33m~\u001b[0m\u001b[0mmask\u001b[0m\u001b[1;33m]\u001b[0m\u001b[1;33m\u001b[0m\u001b[0m\n\u001b[0;32m   4389\u001b[0m         \u001b[1;32mreturn\u001b[0m \u001b[0mself\u001b[0m\u001b[1;33m.\u001b[0m\u001b[0mdelete\u001b[0m\u001b[1;33m(\u001b[0m\u001b[0mindexer\u001b[0m\u001b[1;33m)\u001b[0m\u001b[1;33m\u001b[0m\u001b[0m\n",
      "\u001b[1;31mKeyError\u001b[0m: \"labels ['timestamp' 'dia' 'mes' 'semana' 'diadelasemana' 'hora'] not contained in axis\""
     ]
    }
   ],
   "source": [
    "vistas.drop(['timestamp','dia','mes','semana','diadelasemana','hora'],axis=1,inplace=True)\n",
    "vistas.columns=['idaviso','idpostulante']\n",
    "\n",
    "postulantes['sexo']=postulantes['sexo'].astype('category')\n",
    "postulantes['Doctorado']=postulantes['Doctorado'].astype('category')\n",
    "postulantes['Master']=postulantes['Master'].astype('category')\n",
    "postulantes['Otro']=postulantes['Otro'].astype('category')\n",
    "postulantes['Posgrado']=postulantes['Posgrado'].astype('category')\n",
    "postulantes['Secundario']=postulantes['Secundario'].astype('category')\n",
    "postulantes['Terciario/Técnico']=postulantes['Terciario/Técnico'].astype('category')\n",
    "postulantes['Universitario']=postulantes['Universitario'].astype('category')\n",
    "\n",
    "avisos['nombre_zona']=avisos['nombre_zona'].astype('category')\n",
    "avisos['tipo_de_trabajo']=avisos['tipo_de_trabajo'].astype('category')\n",
    "avisos['nivel_laboral']=avisos['nivel_laboral'].astype('category')\n",
    "avisos['nombre_area']=avisos['nombre_area'].astype('category')\n",
    "\n",
    "postulaciones['sepostulo']=1\n",
    "postulaciones.drop(['fechapostulacion','dia','mes','semana','diadelasemana','hora'],axis=1,inplace=True)\n",
    "\n"
   ]
  },
  {
   "cell_type": "code",
   "execution_count": 5,
   "metadata": {},
   "outputs": [
    {
     "name": "stdout",
     "output_type": "stream",
     "text": [
      "0\n",
      "1\n",
      "2\n",
      "3\n"
     ]
    },
    {
     "data": {
      "text/html": [
       "<div>\n",
       "<style scoped>\n",
       "    .dataframe tbody tr th:only-of-type {\n",
       "        vertical-align: middle;\n",
       "    }\n",
       "\n",
       "    .dataframe tbody tr th {\n",
       "        vertical-align: top;\n",
       "    }\n",
       "\n",
       "    .dataframe thead th {\n",
       "        text-align: right;\n",
       "    }\n",
       "</style>\n",
       "<table border=\"1\" class=\"dataframe\">\n",
       "  <thead>\n",
       "    <tr style=\"text-align: right;\">\n",
       "      <th></th>\n",
       "      <th>idaviso</th>\n",
       "      <th>idpostulante</th>\n",
       "      <th>sepostulo</th>\n",
       "    </tr>\n",
       "  </thead>\n",
       "  <tbody>\n",
       "    <tr>\n",
       "      <th>0</th>\n",
       "      <td>1112257047</td>\n",
       "      <td>NzeV9b5</td>\n",
       "      <td>0</td>\n",
       "    </tr>\n",
       "    <tr>\n",
       "      <th>1</th>\n",
       "      <td>1111920714</td>\n",
       "      <td>1QkYZPj</td>\n",
       "      <td>0</td>\n",
       "    </tr>\n",
       "    <tr>\n",
       "      <th>2</th>\n",
       "      <td>1112346945</td>\n",
       "      <td>8M2dWpx</td>\n",
       "      <td>0</td>\n",
       "    </tr>\n",
       "    <tr>\n",
       "      <th>3</th>\n",
       "      <td>1112345547</td>\n",
       "      <td>6OMWoO</td>\n",
       "      <td>0</td>\n",
       "    </tr>\n",
       "    <tr>\n",
       "      <th>4</th>\n",
       "      <td>1112237522</td>\n",
       "      <td>0zr8mWM</td>\n",
       "      <td>0</td>\n",
       "    </tr>\n",
       "  </tbody>\n",
       "</table>\n",
       "</div>"
      ],
      "text/plain": [
       "      idaviso idpostulante  sepostulo\n",
       "0  1112257047      NzeV9b5          0\n",
       "1  1111920714      1QkYZPj          0\n",
       "2  1112346945      8M2dWpx          0\n",
       "3  1112345547       6OMWoO          0\n",
       "4  1112237522      0zr8mWM          0"
      ]
     },
     "execution_count": 5,
     "metadata": {},
     "output_type": "execute_result"
    }
   ],
   "source": [
    "#Genero no-postulaciones\n",
    "from IPython.display import clear_output\n",
    "\n",
    "postulaciones3=postulaciones;\n",
    "postulaciones3['sepostulo']=0;\n",
    "serie=postulantes['idpostulante'];\n",
    "i=0\n",
    "while (len(postulaciones3)>len(serie)):\n",
    "    global i\n",
    "    serie=serie.sample(frac=1).reset_index(drop=True)\n",
    "    serie=pd.concat([serie.sample(frac=1),serie], ignore_index=False)\n",
    "    print(i)\n",
    "    i+=1\n",
    "    if(i%10==0): clear_output()\n",
    "serie=serie.reset_index(drop=True)\n",
    "postulaciones3['idpostulante']=serie.iloc[0:len(postulaciones3)]\n",
    "postulaciones3.to_csv(\"Data/fiuba_entrenamiento/pocho/no-postulaciones/1.csv\",index=False)\n",
    "postulaciones3.head()"
   ]
  },
  {
   "cell_type": "code",
   "execution_count": 7,
   "metadata": {},
   "outputs": [
    {
     "name": "stdout",
     "output_type": "stream",
     "text": [
      "0\n",
      "1\n",
      "hola\n"
     ]
    },
    {
     "name": "stderr",
     "output_type": "stream",
     "text": [
      "C:\\Users\\Pocho\\Anaconda3\\lib\\site-packages\\ipykernel_launcher.py:19: SettingWithCopyWarning: \n",
      "A value is trying to be set on a copy of a slice from a DataFrame.\n",
      "Try using .loc[row_indexer,col_indexer] = value instead\n",
      "\n",
      "See the caveats in the documentation: http://pandas.pydata.org/pandas-docs/stable/indexing.html#indexing-view-versus-copy\n",
      "C:\\Users\\Pocho\\Anaconda3\\lib\\site-packages\\ipykernel_launcher.py:21: FutureWarning: Sorting because non-concatenation axis is not aligned. A future version\n",
      "of pandas will change to not sort by default.\n",
      "\n",
      "To accept the future behavior, pass 'sort=True'.\n",
      "\n",
      "To retain the current behavior and silence the warning, pass sort=False\n",
      "\n"
     ]
    }
   ],
   "source": [
    "#Genero no-postulaciones teniendo en cuenta vistas\n",
    "from IPython.display import clear_output\n",
    "\n",
    "postulaciones3=postulaciones;\n",
    "postulaciones3=postulaciones3.iloc[0:len(postulaciones)//4]\n",
    "serie=postulantes['idpostulante'];\n",
    "i=0\n",
    "while (len(postulaciones3)>len(serie)):\n",
    "    global i\n",
    "    serie=serie.sample(frac=1).reset_index(drop=True)\n",
    "    serie=pd.concat([serie.sample(frac=1),serie], ignore_index=False)\n",
    "    print(i)\n",
    "    i+=1\n",
    "    if(i%10==0): clear_output()\n",
    "serie=serie.reset_index(drop=True)\n",
    "\n",
    "\n",
    "print(\"hola\")\n",
    "postulaciones3['idpostulante']=serie.iloc[0:len(postulaciones3)]\n",
    "\n",
    "postulaciones3=pd.concat([postulaciones3,vistas.sample((len(postulaciones)*3)//2)],ignore_index=False)\n",
    "postulaciones3['sepostulo']=0;\n",
    "postulaciones3.drop_duplicates()\n",
    "postulaciones3.to_csv(\"Data/fiuba_entrenamiento/pocho/no-postulaciones/2.csv\",index=False)\n"
   ]
  },
  {
   "cell_type": "code",
   "execution_count": null,
   "metadata": {},
   "outputs": [],
   "source": [
    "#Genero no-postulaciones teniendo en cuenta vistas y anuncios\n",
    "from IPython.display import clear_output\n",
    "\n",
    "postulaciones4=postulaciones;\n",
    "postulaciones4=postulaciones4.iloc[0:len(postulaciones)*3//4]\n",
    "serie_post=postulantes['idpostulante']\n",
    "serie_anun = avisos[\"idaviso\"]\n",
    "i=0\n",
    "while (len(postulaciones4)>len(serie_post)):\n",
    "    global i\n",
    "    serie_post=serie_post.sample(frac=1).reset_index(drop=True)\n",
    "    serie_post = pd.concat([serie_post.sample(frac=1),serie_post], ignore_index=False)\n",
    "    print(i)\n",
    "    i+=1\n",
    "    if(i%10==0): clear_output()\n",
    "\n",
    "while ( len(postulaciones4)>len(serie_anun) ):\n",
    "    global i\n",
    "    serie_anun=serie_anun.sample(frac=1).reset_index(drop=True)\n",
    "    serie_anun = pd.concat([serie_anun.sample(frac=1),serie_anun], ignore_index=False)\n",
    "    print(i)\n",
    "    i+=1\n",
    "    if(i%10==0): clear_output()\n",
    "        \n",
    "serie_post=serie_post.reset_index(drop=True)\n",
    "serie_anun = serie_anun.reset_index(drop=True)\n",
    "\n",
    "postulaciones4['idpostulante']= serie_post.iloc[:len(postulaciones4)]\n",
    "postulaciones4[\"idaviso\"] = serie_anun.iloc[:len(postulaciones4)]\n",
    "print(postulaciones4.head(10))\n",
    "postulaciones4=pd.concat([postulaciones4,vistas.sample((len(postulaciones)*3)//4)],ignore_index=False)\n",
    "postulaciones4['sepostulo']=0;\n",
    "postulaciones4.drop_duplicates()\n",
    "postulaciones4.to_csv(\"Data/fiuba_entrenamiento/pocho/no-postulaciones/3.csv\",index=False)\n"
   ]
  },
  {
   "cell_type": "code",
   "execution_count": 7,
   "metadata": {},
   "outputs": [
    {
     "name": "stdout",
     "output_type": "stream",
     "text": [
      "0\n",
      "1\n",
      "2\n",
      "3\n",
      "4\n",
      "5\n",
      "6\n",
      "7\n",
      "8\n",
      "0\n",
      "1\n",
      "2\n",
      "3\n"
     ]
    }
   ],
   "source": [
    "#AZAR TOTAL - USAR ESTO\n",
    "\n",
    "from IPython.display import clear_output\n",
    "\n",
    "postulaciones3=postulaciones;\n",
    "postulaciones3['sepostulo']=0;\n",
    "\n",
    "serie=avisos['idaviso'];\n",
    "i=0\n",
    "while (len(postulaciones3)>len(serie)):\n",
    "    global i\n",
    "    serie=serie.sample(frac=1).reset_index(drop=True)\n",
    "    serie=pd.concat([serie.sample(frac=1),serie], ignore_index=False)\n",
    "    print(i)\n",
    "    i+=1\n",
    "    if(i%10==0): clear_output()\n",
    "serie=serie.reset_index(drop=True)\n",
    "\n",
    "\n",
    "\n",
    "seriep=postulantes['idpostulante'];\n",
    "i=0\n",
    "while (len(postulaciones3)>len(seriep)):\n",
    "    global i\n",
    "    seriep=seriep.sample(frac=1).reset_index(drop=True)\n",
    "    seriep=pd.concat([seriep.sample(frac=1),seriep], ignore_index=False)\n",
    "    print(i)\n",
    "    i+=1\n",
    "    if(i%10==0): clear_output()\n",
    "seriep=seriep.reset_index(drop=True)\n",
    "\n",
    "\n",
    "postulaciones3['idaviso']=serie.iloc[0:len(postulaciones3)]\n",
    "postulaciones3['idpostulante']=seriep.iloc[0:len(postulaciones3)]\n",
    "postulaciones3.to_csv(\"Data/fiuba_entrenamiento/pocho/no-postulaciones/azar_total.csv\",index=False)"
   ]
  },
  {
   "cell_type": "code",
   "execution_count": null,
   "metadata": {},
   "outputs": [],
   "source": []
  }
 ],
 "metadata": {
  "kernelspec": {
   "display_name": "Python 3",
   "language": "python",
   "name": "python3"
  },
  "language_info": {
   "codemirror_mode": {
    "name": "ipython",
    "version": 3
   },
   "file_extension": ".py",
   "mimetype": "text/x-python",
   "name": "python",
   "nbconvert_exporter": "python",
   "pygments_lexer": "ipython3",
   "version": "3.6.5"
  }
 },
 "nbformat": 4,
 "nbformat_minor": 2
}
