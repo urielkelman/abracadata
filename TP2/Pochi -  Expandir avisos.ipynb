{
 "cells": [
  {
   "cell_type": "code",
   "execution_count": 2,
   "metadata": {},
   "outputs": [],
   "source": [
    "import pandas as pd\n",
    "import numpy as np\n",
    "import matplotlib.pyplot as plt\n",
    "import seaborn as sns\n",
    "from datetime import datetime\n",
    "\n",
    "%matplotlib inline"
   ]
  },
  {
   "cell_type": "code",
   "execution_count": 3,
   "metadata": {},
   "outputs": [],
   "source": [
    "plt.rc('figure',dpi=100);"
   ]
  },
  {
   "cell_type": "code",
   "execution_count": 160,
   "metadata": {},
   "outputs": [],
   "source": [
    "avisos = pd.read_csv(\"Data/fiuba_entrenamiento/avisos.csv\")"
   ]
  },
  {
   "cell_type": "code",
   "execution_count": 161,
   "metadata": {},
   "outputs": [
    {
     "data": {
      "text/html": [
       "<div>\n",
       "<style scoped>\n",
       "    .dataframe tbody tr th:only-of-type {\n",
       "        vertical-align: middle;\n",
       "    }\n",
       "\n",
       "    .dataframe tbody tr th {\n",
       "        vertical-align: top;\n",
       "    }\n",
       "\n",
       "    .dataframe thead th {\n",
       "        text-align: right;\n",
       "    }\n",
       "</style>\n",
       "<table border=\"1\" class=\"dataframe\">\n",
       "  <thead>\n",
       "    <tr style=\"text-align: right;\">\n",
       "      <th></th>\n",
       "      <th>idaviso</th>\n",
       "      <th>idpais</th>\n",
       "      <th>titulo</th>\n",
       "      <th>descripcion</th>\n",
       "      <th>nombre_zona</th>\n",
       "      <th>ciudad</th>\n",
       "      <th>mapacalle</th>\n",
       "      <th>tipo_de_trabajo</th>\n",
       "      <th>nivel_laboral</th>\n",
       "      <th>nombre_area</th>\n",
       "      <th>denominacion_empresa</th>\n",
       "    </tr>\n",
       "  </thead>\n",
       "  <tbody>\n",
       "    <tr>\n",
       "      <th>0</th>\n",
       "      <td>8725750</td>\n",
       "      <td>1</td>\n",
       "      <td>VENDEDOR/A PROVINCIA DE SANTA FE</td>\n",
       "      <td>&lt;p&gt;&lt;strong&gt;&lt;strong&gt;Empresa:&lt;/strong&gt;&lt;/strong&gt; ...</td>\n",
       "      <td>Gran Buenos Aires</td>\n",
       "      <td>NaN</td>\n",
       "      <td>NaN</td>\n",
       "      <td>Full-time</td>\n",
       "      <td>Senior / Semi-Senior</td>\n",
       "      <td>Comercial</td>\n",
       "      <td>VENTOR</td>\n",
       "    </tr>\n",
       "    <tr>\n",
       "      <th>1</th>\n",
       "      <td>17903700</td>\n",
       "      <td>1</td>\n",
       "      <td>Enfermeras</td>\n",
       "      <td>&lt;p&gt;Solicitamos para importante cadena de farma...</td>\n",
       "      <td>Gran Buenos Aires</td>\n",
       "      <td>NaN</td>\n",
       "      <td>NaN</td>\n",
       "      <td>Full-time</td>\n",
       "      <td>Senior / Semi-Senior</td>\n",
       "      <td>Salud</td>\n",
       "      <td>Farmacias Central Oeste</td>\n",
       "    </tr>\n",
       "    <tr>\n",
       "      <th>2</th>\n",
       "      <td>1000150677</td>\n",
       "      <td>1</td>\n",
       "      <td>Chofer de taxi</td>\n",
       "      <td>&lt;p&gt;TE GUSTA MANEJAR? QUERES GANAR PLATA HACIEN...</td>\n",
       "      <td>Capital Federal</td>\n",
       "      <td>NaN</td>\n",
       "      <td>Empedrado 2336</td>\n",
       "      <td>Full-time</td>\n",
       "      <td>Senior / Semi-Senior</td>\n",
       "      <td>Transporte</td>\n",
       "      <td>FAMITAX SRL</td>\n",
       "    </tr>\n",
       "    <tr>\n",
       "      <th>3</th>\n",
       "      <td>1000610287</td>\n",
       "      <td>1</td>\n",
       "      <td>CHOFER DE CAMIONETA BAHIA BLANCA - PUNTA ALTA</td>\n",
       "      <td>&lt;p&gt;&lt;strong&gt;Somos una empresa multinacional que...</td>\n",
       "      <td>Gran Buenos Aires</td>\n",
       "      <td>NaN</td>\n",
       "      <td>NaN</td>\n",
       "      <td>Full-time</td>\n",
       "      <td>Senior / Semi-Senior</td>\n",
       "      <td>Transporte</td>\n",
       "      <td>Wurth Argentina S.A</td>\n",
       "    </tr>\n",
       "    <tr>\n",
       "      <th>4</th>\n",
       "      <td>1000872556</td>\n",
       "      <td>1</td>\n",
       "      <td>Operarios de Planta - Rubro Electrodomésticos</td>\n",
       "      <td>&lt;p&gt;&lt;strong&gt;OPERARIOS DE PLANTA&lt;/strong&gt;&lt;/p&gt;&lt;p&gt;...</td>\n",
       "      <td>Gran Buenos Aires</td>\n",
       "      <td>NaN</td>\n",
       "      <td>NaN</td>\n",
       "      <td>Full-time</td>\n",
       "      <td>Senior / Semi-Senior</td>\n",
       "      <td>Producción</td>\n",
       "      <td>ELECTRO OUTLET SRL</td>\n",
       "    </tr>\n",
       "    <tr>\n",
       "      <th>5</th>\n",
       "      <td>1001135716</td>\n",
       "      <td>1</td>\n",
       "      <td>Vendedor Viajante TUCUMAN/SANTIAGO DEL ESTERO</td>\n",
       "      <td>&lt;p&gt;Somos una empresa multinacional que opera e...</td>\n",
       "      <td>Gran Buenos Aires</td>\n",
       "      <td>NaN</td>\n",
       "      <td>NaN</td>\n",
       "      <td>Full-time</td>\n",
       "      <td>Senior / Semi-Senior</td>\n",
       "      <td>Ventas</td>\n",
       "      <td>Wurth Argentina S.A</td>\n",
       "    </tr>\n",
       "    <tr>\n",
       "      <th>6</th>\n",
       "      <td>1001326344</td>\n",
       "      <td>1</td>\n",
       "      <td>Vendedor Viajante RECONQUISTA/AVELLANEDA</td>\n",
       "      <td>&lt;p&gt;&lt;strong&gt;Somos una empresa multinacional que...</td>\n",
       "      <td>Gran Buenos Aires</td>\n",
       "      <td>NaN</td>\n",
       "      <td>NaN</td>\n",
       "      <td>Full-time</td>\n",
       "      <td>Senior / Semi-Senior</td>\n",
       "      <td>Ventas</td>\n",
       "      <td>Wurth Argentina S.A</td>\n",
       "    </tr>\n",
       "    <tr>\n",
       "      <th>7</th>\n",
       "      <td>1001455648</td>\n",
       "      <td>1</td>\n",
       "      <td>Vendedor Viajante PILAR / ESCOBAR/TIGRE</td>\n",
       "      <td>&lt;p&gt;Somos una empresa multinacional que opera e...</td>\n",
       "      <td>Gran Buenos Aires</td>\n",
       "      <td>NaN</td>\n",
       "      <td>NaN</td>\n",
       "      <td>Full-time</td>\n",
       "      <td>Junior</td>\n",
       "      <td>Ventas</td>\n",
       "      <td>Wurth Argentina S.A</td>\n",
       "    </tr>\n",
       "    <tr>\n",
       "      <th>8</th>\n",
       "      <td>9240880</td>\n",
       "      <td>1</td>\n",
       "      <td>Productores Asesores Independiente, para venta...</td>\n",
       "      <td>Agente\\r\\r\\noficial Selecciona:&lt;/span&gt;&lt;/strong...</td>\n",
       "      <td>Capital Federal</td>\n",
       "      <td>Buenos Aires</td>\n",
       "      <td>NaN</td>\n",
       "      <td>Full-time</td>\n",
       "      <td>Jefe / Supervisor / Responsable</td>\n",
       "      <td>Comercial</td>\n",
       "      <td>Agencia Oficial Alejandro Arizaga</td>\n",
       "    </tr>\n",
       "    <tr>\n",
       "      <th>9</th>\n",
       "      <td>1001202662</td>\n",
       "      <td>1</td>\n",
       "      <td>promotor/a , asesor/a</td>\n",
       "      <td>&lt;p&gt;En Cerantola nos encontramos en la busqueda...</td>\n",
       "      <td>Gran Buenos Aires</td>\n",
       "      <td>NaN</td>\n",
       "      <td>NaN</td>\n",
       "      <td>Full-time</td>\n",
       "      <td>Otro</td>\n",
       "      <td>Atención al Cliente</td>\n",
       "      <td>cerantola</td>\n",
       "    </tr>\n",
       "    <tr>\n",
       "      <th>10</th>\n",
       "      <td>1001724563</td>\n",
       "      <td>1</td>\n",
       "      <td>Paramédico</td>\n",
       "      <td>&lt;p&gt;Nos encontramos en un proceso de selección ...</td>\n",
       "      <td>Gran Buenos Aires</td>\n",
       "      <td>NaN</td>\n",
       "      <td>NaN</td>\n",
       "      <td>Full-time</td>\n",
       "      <td>Senior / Semi-Senior</td>\n",
       "      <td>Salud</td>\n",
       "      <td>Hochschild Mining</td>\n",
       "    </tr>\n",
       "    <tr>\n",
       "      <th>11</th>\n",
       "      <td>1002181678</td>\n",
       "      <td>1</td>\n",
       "      <td>Vendedor Viajante TIERRA DEL FUEGO</td>\n",
       "      <td>&lt;p&gt;&lt;strong&gt;Somos una empresa multinacional que...</td>\n",
       "      <td>Gran Buenos Aires</td>\n",
       "      <td>NaN</td>\n",
       "      <td>NaN</td>\n",
       "      <td>Full-time</td>\n",
       "      <td>Senior / Semi-Senior</td>\n",
       "      <td>Ventas</td>\n",
       "      <td>Wurth Argentina S.A</td>\n",
       "    </tr>\n",
       "    <tr>\n",
       "      <th>12</th>\n",
       "      <td>1002308544</td>\n",
       "      <td>1</td>\n",
       "      <td>Preventistas Importante Distribuidora de Bebidas</td>\n",
       "      <td>&lt;p&gt;YAMANIL S-A . se encuentra en busqueda de p...</td>\n",
       "      <td>Gran Buenos Aires</td>\n",
       "      <td>NaN</td>\n",
       "      <td>NaN</td>\n",
       "      <td>Full-time</td>\n",
       "      <td>Senior / Semi-Senior</td>\n",
       "      <td>Ventas</td>\n",
       "      <td>YAMANIL SA</td>\n",
       "    </tr>\n",
       "    <tr>\n",
       "      <th>13</th>\n",
       "      <td>1002377536</td>\n",
       "      <td>1</td>\n",
       "      <td>Personal con experiencia en lavandería  para H...</td>\n",
       "      <td>&lt;p&gt;&lt;strong&gt;&lt;span lang=\"ES\"&gt;Adecco Hoteles y Ca...</td>\n",
       "      <td>Gran Buenos Aires</td>\n",
       "      <td>NaN</td>\n",
       "      <td>NaN</td>\n",
       "      <td>Full-time</td>\n",
       "      <td>Senior / Semi-Senior</td>\n",
       "      <td>Mantenimiento</td>\n",
       "      <td>Adecco -Región Office</td>\n",
       "    </tr>\n",
       "    <tr>\n",
       "      <th>14</th>\n",
       "      <td>1002448818</td>\n",
       "      <td>1</td>\n",
       "      <td>Ejecutivo de Cuentas Sr.</td>\n",
       "      <td>&lt;p&gt;Importante empresa del Mercado Asegurador A...</td>\n",
       "      <td>Gran Buenos Aires</td>\n",
       "      <td>Capital Federal</td>\n",
       "      <td>NaN</td>\n",
       "      <td>Full-time</td>\n",
       "      <td>Senior / Semi-Senior</td>\n",
       "      <td>Comercial</td>\n",
       "      <td>Romasanta y Asociados SA</td>\n",
       "    </tr>\n",
       "  </tbody>\n",
       "</table>\n",
       "</div>"
      ],
      "text/plain": [
       "       idaviso  idpais                                             titulo  \\\n",
       "0      8725750       1                   VENDEDOR/A PROVINCIA DE SANTA FE   \n",
       "1     17903700       1                                         Enfermeras   \n",
       "2   1000150677       1                                     Chofer de taxi   \n",
       "3   1000610287       1      CHOFER DE CAMIONETA BAHIA BLANCA - PUNTA ALTA   \n",
       "4   1000872556       1      Operarios de Planta - Rubro Electrodomésticos   \n",
       "5   1001135716       1      Vendedor Viajante TUCUMAN/SANTIAGO DEL ESTERO   \n",
       "6   1001326344       1           Vendedor Viajante RECONQUISTA/AVELLANEDA   \n",
       "7   1001455648       1            Vendedor Viajante PILAR / ESCOBAR/TIGRE   \n",
       "8      9240880       1  Productores Asesores Independiente, para venta...   \n",
       "9   1001202662       1                              promotor/a , asesor/a   \n",
       "10  1001724563       1                                         Paramédico   \n",
       "11  1002181678       1                 Vendedor Viajante TIERRA DEL FUEGO   \n",
       "12  1002308544       1   Preventistas Importante Distribuidora de Bebidas   \n",
       "13  1002377536       1  Personal con experiencia en lavandería  para H...   \n",
       "14  1002448818       1                           Ejecutivo de Cuentas Sr.   \n",
       "\n",
       "                                          descripcion        nombre_zona  \\\n",
       "0   <p><strong><strong>Empresa:</strong></strong> ...  Gran Buenos Aires   \n",
       "1   <p>Solicitamos para importante cadena de farma...  Gran Buenos Aires   \n",
       "2   <p>TE GUSTA MANEJAR? QUERES GANAR PLATA HACIEN...    Capital Federal   \n",
       "3   <p><strong>Somos una empresa multinacional que...  Gran Buenos Aires   \n",
       "4   <p><strong>OPERARIOS DE PLANTA</strong></p><p>...  Gran Buenos Aires   \n",
       "5   <p>Somos una empresa multinacional que opera e...  Gran Buenos Aires   \n",
       "6   <p><strong>Somos una empresa multinacional que...  Gran Buenos Aires   \n",
       "7   <p>Somos una empresa multinacional que opera e...  Gran Buenos Aires   \n",
       "8   Agente\\r\\r\\noficial Selecciona:</span></strong...    Capital Federal   \n",
       "9   <p>En Cerantola nos encontramos en la busqueda...  Gran Buenos Aires   \n",
       "10  <p>Nos encontramos en un proceso de selección ...  Gran Buenos Aires   \n",
       "11  <p><strong>Somos una empresa multinacional que...  Gran Buenos Aires   \n",
       "12  <p>YAMANIL S-A . se encuentra en busqueda de p...  Gran Buenos Aires   \n",
       "13  <p><strong><span lang=\"ES\">Adecco Hoteles y Ca...  Gran Buenos Aires   \n",
       "14  <p>Importante empresa del Mercado Asegurador A...  Gran Buenos Aires   \n",
       "\n",
       "             ciudad       mapacalle tipo_de_trabajo  \\\n",
       "0               NaN             NaN       Full-time   \n",
       "1               NaN             NaN       Full-time   \n",
       "2               NaN  Empedrado 2336       Full-time   \n",
       "3               NaN             NaN       Full-time   \n",
       "4               NaN             NaN       Full-time   \n",
       "5               NaN             NaN       Full-time   \n",
       "6               NaN             NaN       Full-time   \n",
       "7               NaN             NaN       Full-time   \n",
       "8      Buenos Aires             NaN       Full-time   \n",
       "9               NaN             NaN       Full-time   \n",
       "10              NaN             NaN       Full-time   \n",
       "11              NaN             NaN       Full-time   \n",
       "12              NaN             NaN       Full-time   \n",
       "13              NaN             NaN       Full-time   \n",
       "14  Capital Federal             NaN       Full-time   \n",
       "\n",
       "                      nivel_laboral          nombre_area  \\\n",
       "0              Senior / Semi-Senior            Comercial   \n",
       "1              Senior / Semi-Senior                Salud   \n",
       "2              Senior / Semi-Senior           Transporte   \n",
       "3              Senior / Semi-Senior           Transporte   \n",
       "4              Senior / Semi-Senior           Producción   \n",
       "5              Senior / Semi-Senior               Ventas   \n",
       "6              Senior / Semi-Senior               Ventas   \n",
       "7                            Junior               Ventas   \n",
       "8   Jefe / Supervisor / Responsable            Comercial   \n",
       "9                              Otro  Atención al Cliente   \n",
       "10             Senior / Semi-Senior                Salud   \n",
       "11             Senior / Semi-Senior               Ventas   \n",
       "12             Senior / Semi-Senior               Ventas   \n",
       "13             Senior / Semi-Senior        Mantenimiento   \n",
       "14             Senior / Semi-Senior            Comercial   \n",
       "\n",
       "                 denominacion_empresa  \n",
       "0                              VENTOR  \n",
       "1             Farmacias Central Oeste  \n",
       "2                         FAMITAX SRL  \n",
       "3                 Wurth Argentina S.A  \n",
       "4                  ELECTRO OUTLET SRL  \n",
       "5                 Wurth Argentina S.A  \n",
       "6                 Wurth Argentina S.A  \n",
       "7                 Wurth Argentina S.A  \n",
       "8   Agencia Oficial Alejandro Arizaga  \n",
       "9                           cerantola  \n",
       "10                  Hochschild Mining  \n",
       "11                Wurth Argentina S.A  \n",
       "12                         YAMANIL SA  \n",
       "13              Adecco -Región Office  \n",
       "14           Romasanta y Asociados SA  "
      ]
     },
     "execution_count": 161,
     "metadata": {},
     "output_type": "execute_result"
    }
   ],
   "source": [
    "avisos.head(15)"
   ]
  },
  {
   "cell_type": "code",
   "execution_count": 162,
   "metadata": {},
   "outputs": [
    {
     "name": "stdout",
     "output_type": "stream",
     "text": [
      "idaviso                 25901\n",
      "idpais                  25901\n",
      "titulo                  25901\n",
      "descripcion             25901\n",
      "nombre_zona             25901\n",
      "ciudad                    165\n",
      "mapacalle                2125\n",
      "tipo_de_trabajo         25901\n",
      "nivel_laboral           25566\n",
      "nombre_area             25901\n",
      "denominacion_empresa    25894\n",
      "dtype: int64\n",
      "25901\n"
     ]
    }
   ],
   "source": [
    "print(avisos.count())\n",
    "print(avisos['idpais'].sum())"
   ]
  },
  {
   "cell_type": "code",
   "execution_count": 163,
   "metadata": {},
   "outputs": [],
   "source": [
    "#Puedo droppear idpais\n",
    "avisos.drop(['idpais'], axis=1, inplace=True)"
   ]
  },
  {
   "cell_type": "code",
   "execution_count": 164,
   "metadata": {},
   "outputs": [
    {
     "data": {
      "text/html": [
       "<div>\n",
       "<style scoped>\n",
       "    .dataframe tbody tr th:only-of-type {\n",
       "        vertical-align: middle;\n",
       "    }\n",
       "\n",
       "    .dataframe tbody tr th {\n",
       "        vertical-align: top;\n",
       "    }\n",
       "\n",
       "    .dataframe thead th {\n",
       "        text-align: right;\n",
       "    }\n",
       "</style>\n",
       "<table border=\"1\" class=\"dataframe\">\n",
       "  <thead>\n",
       "    <tr style=\"text-align: right;\">\n",
       "      <th></th>\n",
       "      <th>idaviso</th>\n",
       "      <th>titulo</th>\n",
       "      <th>descripcion</th>\n",
       "      <th>nombre_zona</th>\n",
       "      <th>ciudad</th>\n",
       "      <th>mapacalle</th>\n",
       "      <th>tipo_de_trabajo</th>\n",
       "      <th>nivel_laboral</th>\n",
       "      <th>nombre_area</th>\n",
       "      <th>denominacion_empresa</th>\n",
       "    </tr>\n",
       "  </thead>\n",
       "  <tbody>\n",
       "    <tr>\n",
       "      <th>0</th>\n",
       "      <td>8725750</td>\n",
       "      <td>VENDEDOR/A PROVINCIA DE SANTA FE</td>\n",
       "      <td>&lt;p&gt;&lt;strong&gt;&lt;strong&gt;Empresa:&lt;/strong&gt;&lt;/strong&gt; ...</td>\n",
       "      <td>Gran Buenos Aires</td>\n",
       "      <td>NaN</td>\n",
       "      <td>NaN</td>\n",
       "      <td>Full-time</td>\n",
       "      <td>Senior / Semi-Senior</td>\n",
       "      <td>Comercial</td>\n",
       "      <td>VENTOR</td>\n",
       "    </tr>\n",
       "    <tr>\n",
       "      <th>1</th>\n",
       "      <td>17903700</td>\n",
       "      <td>Enfermeras</td>\n",
       "      <td>&lt;p&gt;Solicitamos para importante cadena de farma...</td>\n",
       "      <td>Gran Buenos Aires</td>\n",
       "      <td>NaN</td>\n",
       "      <td>NaN</td>\n",
       "      <td>Full-time</td>\n",
       "      <td>Senior / Semi-Senior</td>\n",
       "      <td>Salud</td>\n",
       "      <td>Farmacias Central Oeste</td>\n",
       "    </tr>\n",
       "    <tr>\n",
       "      <th>2</th>\n",
       "      <td>1000150677</td>\n",
       "      <td>Chofer de taxi</td>\n",
       "      <td>&lt;p&gt;TE GUSTA MANEJAR? QUERES GANAR PLATA HACIEN...</td>\n",
       "      <td>Capital Federal</td>\n",
       "      <td>NaN</td>\n",
       "      <td>Empedrado 2336</td>\n",
       "      <td>Full-time</td>\n",
       "      <td>Senior / Semi-Senior</td>\n",
       "      <td>Transporte</td>\n",
       "      <td>FAMITAX SRL</td>\n",
       "    </tr>\n",
       "    <tr>\n",
       "      <th>3</th>\n",
       "      <td>1000610287</td>\n",
       "      <td>CHOFER DE CAMIONETA BAHIA BLANCA - PUNTA ALTA</td>\n",
       "      <td>&lt;p&gt;&lt;strong&gt;Somos una empresa multinacional que...</td>\n",
       "      <td>Gran Buenos Aires</td>\n",
       "      <td>NaN</td>\n",
       "      <td>NaN</td>\n",
       "      <td>Full-time</td>\n",
       "      <td>Senior / Semi-Senior</td>\n",
       "      <td>Transporte</td>\n",
       "      <td>Wurth Argentina S.A</td>\n",
       "    </tr>\n",
       "    <tr>\n",
       "      <th>4</th>\n",
       "      <td>1000872556</td>\n",
       "      <td>Operarios de Planta - Rubro Electrodomésticos</td>\n",
       "      <td>&lt;p&gt;&lt;strong&gt;OPERARIOS DE PLANTA&lt;/strong&gt;&lt;/p&gt;&lt;p&gt;...</td>\n",
       "      <td>Gran Buenos Aires</td>\n",
       "      <td>NaN</td>\n",
       "      <td>NaN</td>\n",
       "      <td>Full-time</td>\n",
       "      <td>Senior / Semi-Senior</td>\n",
       "      <td>Producción</td>\n",
       "      <td>ELECTRO OUTLET SRL</td>\n",
       "    </tr>\n",
       "  </tbody>\n",
       "</table>\n",
       "</div>"
      ],
      "text/plain": [
       "      idaviso                                         titulo  \\\n",
       "0     8725750               VENDEDOR/A PROVINCIA DE SANTA FE   \n",
       "1    17903700                                     Enfermeras   \n",
       "2  1000150677                                 Chofer de taxi   \n",
       "3  1000610287  CHOFER DE CAMIONETA BAHIA BLANCA - PUNTA ALTA   \n",
       "4  1000872556  Operarios de Planta - Rubro Electrodomésticos   \n",
       "\n",
       "                                         descripcion        nombre_zona  \\\n",
       "0  <p><strong><strong>Empresa:</strong></strong> ...  Gran Buenos Aires   \n",
       "1  <p>Solicitamos para importante cadena de farma...  Gran Buenos Aires   \n",
       "2  <p>TE GUSTA MANEJAR? QUERES GANAR PLATA HACIEN...    Capital Federal   \n",
       "3  <p><strong>Somos una empresa multinacional que...  Gran Buenos Aires   \n",
       "4  <p><strong>OPERARIOS DE PLANTA</strong></p><p>...  Gran Buenos Aires   \n",
       "\n",
       "  ciudad       mapacalle tipo_de_trabajo         nivel_laboral nombre_area  \\\n",
       "0    NaN             NaN       Full-time  Senior / Semi-Senior   Comercial   \n",
       "1    NaN             NaN       Full-time  Senior / Semi-Senior       Salud   \n",
       "2    NaN  Empedrado 2336       Full-time  Senior / Semi-Senior  Transporte   \n",
       "3    NaN             NaN       Full-time  Senior / Semi-Senior  Transporte   \n",
       "4    NaN             NaN       Full-time  Senior / Semi-Senior  Producción   \n",
       "\n",
       "      denominacion_empresa  \n",
       "0                   VENTOR  \n",
       "1  Farmacias Central Oeste  \n",
       "2              FAMITAX SRL  \n",
       "3      Wurth Argentina S.A  \n",
       "4       ELECTRO OUTLET SRL  "
      ]
     },
     "execution_count": 164,
     "metadata": {},
     "output_type": "execute_result"
    }
   ],
   "source": [
    "avisos.head()"
   ]
  },
  {
   "cell_type": "code",
   "execution_count": 165,
   "metadata": {},
   "outputs": [],
   "source": [
    "#Droppeo ciudad y mapacalle, casi siempre es ruido\n",
    "avisos.drop(['ciudad', 'mapacalle'], axis=1, inplace=True)"
   ]
  },
  {
   "cell_type": "code",
   "execution_count": 166,
   "metadata": {},
   "outputs": [
    {
     "data": {
      "text/html": [
       "<div>\n",
       "<style scoped>\n",
       "    .dataframe tbody tr th:only-of-type {\n",
       "        vertical-align: middle;\n",
       "    }\n",
       "\n",
       "    .dataframe tbody tr th {\n",
       "        vertical-align: top;\n",
       "    }\n",
       "\n",
       "    .dataframe thead th {\n",
       "        text-align: right;\n",
       "    }\n",
       "</style>\n",
       "<table border=\"1\" class=\"dataframe\">\n",
       "  <thead>\n",
       "    <tr style=\"text-align: right;\">\n",
       "      <th></th>\n",
       "      <th>idaviso</th>\n",
       "      <th>titulo</th>\n",
       "      <th>descripcion</th>\n",
       "      <th>nombre_zona</th>\n",
       "      <th>tipo_de_trabajo</th>\n",
       "      <th>nivel_laboral</th>\n",
       "      <th>nombre_area</th>\n",
       "      <th>denominacion_empresa</th>\n",
       "    </tr>\n",
       "  </thead>\n",
       "  <tbody>\n",
       "    <tr>\n",
       "      <th>0</th>\n",
       "      <td>8725750</td>\n",
       "      <td>VENDEDOR/A PROVINCIA DE SANTA FE</td>\n",
       "      <td>&lt;p&gt;&lt;strong&gt;&lt;strong&gt;Empresa:&lt;/strong&gt;&lt;/strong&gt; ...</td>\n",
       "      <td>Gran Buenos Aires</td>\n",
       "      <td>Full-time</td>\n",
       "      <td>Senior / Semi-Senior</td>\n",
       "      <td>Comercial</td>\n",
       "      <td>VENTOR</td>\n",
       "    </tr>\n",
       "    <tr>\n",
       "      <th>1</th>\n",
       "      <td>17903700</td>\n",
       "      <td>Enfermeras</td>\n",
       "      <td>&lt;p&gt;Solicitamos para importante cadena de farma...</td>\n",
       "      <td>Gran Buenos Aires</td>\n",
       "      <td>Full-time</td>\n",
       "      <td>Senior / Semi-Senior</td>\n",
       "      <td>Salud</td>\n",
       "      <td>Farmacias Central Oeste</td>\n",
       "    </tr>\n",
       "    <tr>\n",
       "      <th>2</th>\n",
       "      <td>1000150677</td>\n",
       "      <td>Chofer de taxi</td>\n",
       "      <td>&lt;p&gt;TE GUSTA MANEJAR? QUERES GANAR PLATA HACIEN...</td>\n",
       "      <td>Capital Federal</td>\n",
       "      <td>Full-time</td>\n",
       "      <td>Senior / Semi-Senior</td>\n",
       "      <td>Transporte</td>\n",
       "      <td>FAMITAX SRL</td>\n",
       "    </tr>\n",
       "    <tr>\n",
       "      <th>3</th>\n",
       "      <td>1000610287</td>\n",
       "      <td>CHOFER DE CAMIONETA BAHIA BLANCA - PUNTA ALTA</td>\n",
       "      <td>&lt;p&gt;&lt;strong&gt;Somos una empresa multinacional que...</td>\n",
       "      <td>Gran Buenos Aires</td>\n",
       "      <td>Full-time</td>\n",
       "      <td>Senior / Semi-Senior</td>\n",
       "      <td>Transporte</td>\n",
       "      <td>Wurth Argentina S.A</td>\n",
       "    </tr>\n",
       "    <tr>\n",
       "      <th>4</th>\n",
       "      <td>1000872556</td>\n",
       "      <td>Operarios de Planta - Rubro Electrodomésticos</td>\n",
       "      <td>&lt;p&gt;&lt;strong&gt;OPERARIOS DE PLANTA&lt;/strong&gt;&lt;/p&gt;&lt;p&gt;...</td>\n",
       "      <td>Gran Buenos Aires</td>\n",
       "      <td>Full-time</td>\n",
       "      <td>Senior / Semi-Senior</td>\n",
       "      <td>Producción</td>\n",
       "      <td>ELECTRO OUTLET SRL</td>\n",
       "    </tr>\n",
       "  </tbody>\n",
       "</table>\n",
       "</div>"
      ],
      "text/plain": [
       "      idaviso                                         titulo  \\\n",
       "0     8725750               VENDEDOR/A PROVINCIA DE SANTA FE   \n",
       "1    17903700                                     Enfermeras   \n",
       "2  1000150677                                 Chofer de taxi   \n",
       "3  1000610287  CHOFER DE CAMIONETA BAHIA BLANCA - PUNTA ALTA   \n",
       "4  1000872556  Operarios de Planta - Rubro Electrodomésticos   \n",
       "\n",
       "                                         descripcion        nombre_zona  \\\n",
       "0  <p><strong><strong>Empresa:</strong></strong> ...  Gran Buenos Aires   \n",
       "1  <p>Solicitamos para importante cadena de farma...  Gran Buenos Aires   \n",
       "2  <p>TE GUSTA MANEJAR? QUERES GANAR PLATA HACIEN...    Capital Federal   \n",
       "3  <p><strong>Somos una empresa multinacional que...  Gran Buenos Aires   \n",
       "4  <p><strong>OPERARIOS DE PLANTA</strong></p><p>...  Gran Buenos Aires   \n",
       "\n",
       "  tipo_de_trabajo         nivel_laboral nombre_area     denominacion_empresa  \n",
       "0       Full-time  Senior / Semi-Senior   Comercial                   VENTOR  \n",
       "1       Full-time  Senior / Semi-Senior       Salud  Farmacias Central Oeste  \n",
       "2       Full-time  Senior / Semi-Senior  Transporte              FAMITAX SRL  \n",
       "3       Full-time  Senior / Semi-Senior  Transporte      Wurth Argentina S.A  \n",
       "4       Full-time  Senior / Semi-Senior  Producción       ELECTRO OUTLET SRL  "
      ]
     },
     "execution_count": 166,
     "metadata": {},
     "output_type": "execute_result"
    }
   ],
   "source": [
    "avisos.head()"
   ]
  },
  {
   "cell_type": "code",
   "execution_count": 167,
   "metadata": {},
   "outputs": [
    {
     "name": "stdout",
     "output_type": "stream",
     "text": [
      "True\n",
      "False\n",
      "True\n"
     ]
    }
   ],
   "source": [
    "def titulo_en_mayus(titulo):\n",
    "    palabras=titulo.split();\n",
    "    for palabra in palabras:\n",
    "        if palabra.isupper():\n",
    "            return True\n",
    "    return False\n",
    "\n",
    "print(titulo_en_mayus(\"habia UNA vez\"))\n",
    "print(titulo_en_mayus(\"habia una vez\"))\n",
    "print(titulo_en_mayus(\"HABIA una vez\"))"
   ]
  },
  {
   "cell_type": "code",
   "execution_count": 168,
   "metadata": {},
   "outputs": [
    {
     "data": {
      "text/html": [
       "<div>\n",
       "<style scoped>\n",
       "    .dataframe tbody tr th:only-of-type {\n",
       "        vertical-align: middle;\n",
       "    }\n",
       "\n",
       "    .dataframe tbody tr th {\n",
       "        vertical-align: top;\n",
       "    }\n",
       "\n",
       "    .dataframe thead th {\n",
       "        text-align: right;\n",
       "    }\n",
       "</style>\n",
       "<table border=\"1\" class=\"dataframe\">\n",
       "  <thead>\n",
       "    <tr style=\"text-align: right;\">\n",
       "      <th></th>\n",
       "      <th>idaviso</th>\n",
       "      <th>titulo</th>\n",
       "      <th>descripcion</th>\n",
       "      <th>nombre_zona</th>\n",
       "      <th>tipo_de_trabajo</th>\n",
       "      <th>nivel_laboral</th>\n",
       "      <th>nombre_area</th>\n",
       "      <th>denominacion_empresa</th>\n",
       "      <th>titulo_uppercase</th>\n",
       "    </tr>\n",
       "  </thead>\n",
       "  <tbody>\n",
       "    <tr>\n",
       "      <th>0</th>\n",
       "      <td>8725750</td>\n",
       "      <td>VENDEDOR/A PROVINCIA DE SANTA FE</td>\n",
       "      <td>&lt;p&gt;&lt;strong&gt;&lt;strong&gt;Empresa:&lt;/strong&gt;&lt;/strong&gt; ...</td>\n",
       "      <td>Gran Buenos Aires</td>\n",
       "      <td>Full-time</td>\n",
       "      <td>Senior / Semi-Senior</td>\n",
       "      <td>Comercial</td>\n",
       "      <td>VENTOR</td>\n",
       "      <td>True</td>\n",
       "    </tr>\n",
       "    <tr>\n",
       "      <th>1</th>\n",
       "      <td>17903700</td>\n",
       "      <td>Enfermeras</td>\n",
       "      <td>&lt;p&gt;Solicitamos para importante cadena de farma...</td>\n",
       "      <td>Gran Buenos Aires</td>\n",
       "      <td>Full-time</td>\n",
       "      <td>Senior / Semi-Senior</td>\n",
       "      <td>Salud</td>\n",
       "      <td>Farmacias Central Oeste</td>\n",
       "      <td>False</td>\n",
       "    </tr>\n",
       "    <tr>\n",
       "      <th>2</th>\n",
       "      <td>1000150677</td>\n",
       "      <td>Chofer de taxi</td>\n",
       "      <td>&lt;p&gt;TE GUSTA MANEJAR? QUERES GANAR PLATA HACIEN...</td>\n",
       "      <td>Capital Federal</td>\n",
       "      <td>Full-time</td>\n",
       "      <td>Senior / Semi-Senior</td>\n",
       "      <td>Transporte</td>\n",
       "      <td>FAMITAX SRL</td>\n",
       "      <td>False</td>\n",
       "    </tr>\n",
       "    <tr>\n",
       "      <th>3</th>\n",
       "      <td>1000610287</td>\n",
       "      <td>CHOFER DE CAMIONETA BAHIA BLANCA - PUNTA ALTA</td>\n",
       "      <td>&lt;p&gt;&lt;strong&gt;Somos una empresa multinacional que...</td>\n",
       "      <td>Gran Buenos Aires</td>\n",
       "      <td>Full-time</td>\n",
       "      <td>Senior / Semi-Senior</td>\n",
       "      <td>Transporte</td>\n",
       "      <td>Wurth Argentina S.A</td>\n",
       "      <td>True</td>\n",
       "    </tr>\n",
       "    <tr>\n",
       "      <th>4</th>\n",
       "      <td>1000872556</td>\n",
       "      <td>Operarios de Planta - Rubro Electrodomésticos</td>\n",
       "      <td>&lt;p&gt;&lt;strong&gt;OPERARIOS DE PLANTA&lt;/strong&gt;&lt;/p&gt;&lt;p&gt;...</td>\n",
       "      <td>Gran Buenos Aires</td>\n",
       "      <td>Full-time</td>\n",
       "      <td>Senior / Semi-Senior</td>\n",
       "      <td>Producción</td>\n",
       "      <td>ELECTRO OUTLET SRL</td>\n",
       "      <td>False</td>\n",
       "    </tr>\n",
       "    <tr>\n",
       "      <th>5</th>\n",
       "      <td>1001135716</td>\n",
       "      <td>Vendedor Viajante TUCUMAN/SANTIAGO DEL ESTERO</td>\n",
       "      <td>&lt;p&gt;Somos una empresa multinacional que opera e...</td>\n",
       "      <td>Gran Buenos Aires</td>\n",
       "      <td>Full-time</td>\n",
       "      <td>Senior / Semi-Senior</td>\n",
       "      <td>Ventas</td>\n",
       "      <td>Wurth Argentina S.A</td>\n",
       "      <td>True</td>\n",
       "    </tr>\n",
       "    <tr>\n",
       "      <th>6</th>\n",
       "      <td>1001326344</td>\n",
       "      <td>Vendedor Viajante RECONQUISTA/AVELLANEDA</td>\n",
       "      <td>&lt;p&gt;&lt;strong&gt;Somos una empresa multinacional que...</td>\n",
       "      <td>Gran Buenos Aires</td>\n",
       "      <td>Full-time</td>\n",
       "      <td>Senior / Semi-Senior</td>\n",
       "      <td>Ventas</td>\n",
       "      <td>Wurth Argentina S.A</td>\n",
       "      <td>True</td>\n",
       "    </tr>\n",
       "    <tr>\n",
       "      <th>7</th>\n",
       "      <td>1001455648</td>\n",
       "      <td>Vendedor Viajante PILAR / ESCOBAR/TIGRE</td>\n",
       "      <td>&lt;p&gt;Somos una empresa multinacional que opera e...</td>\n",
       "      <td>Gran Buenos Aires</td>\n",
       "      <td>Full-time</td>\n",
       "      <td>Junior</td>\n",
       "      <td>Ventas</td>\n",
       "      <td>Wurth Argentina S.A</td>\n",
       "      <td>True</td>\n",
       "    </tr>\n",
       "    <tr>\n",
       "      <th>8</th>\n",
       "      <td>9240880</td>\n",
       "      <td>Productores Asesores Independiente, para venta...</td>\n",
       "      <td>Agente\\r\\r\\noficial Selecciona:&lt;/span&gt;&lt;/strong...</td>\n",
       "      <td>Capital Federal</td>\n",
       "      <td>Full-time</td>\n",
       "      <td>Jefe / Supervisor / Responsable</td>\n",
       "      <td>Comercial</td>\n",
       "      <td>Agencia Oficial Alejandro Arizaga</td>\n",
       "      <td>False</td>\n",
       "    </tr>\n",
       "    <tr>\n",
       "      <th>9</th>\n",
       "      <td>1001202662</td>\n",
       "      <td>promotor/a , asesor/a</td>\n",
       "      <td>&lt;p&gt;En Cerantola nos encontramos en la busqueda...</td>\n",
       "      <td>Gran Buenos Aires</td>\n",
       "      <td>Full-time</td>\n",
       "      <td>Otro</td>\n",
       "      <td>Atención al Cliente</td>\n",
       "      <td>cerantola</td>\n",
       "      <td>False</td>\n",
       "    </tr>\n",
       "  </tbody>\n",
       "</table>\n",
       "</div>"
      ],
      "text/plain": [
       "      idaviso                                             titulo  \\\n",
       "0     8725750                   VENDEDOR/A PROVINCIA DE SANTA FE   \n",
       "1    17903700                                         Enfermeras   \n",
       "2  1000150677                                     Chofer de taxi   \n",
       "3  1000610287      CHOFER DE CAMIONETA BAHIA BLANCA - PUNTA ALTA   \n",
       "4  1000872556      Operarios de Planta - Rubro Electrodomésticos   \n",
       "5  1001135716      Vendedor Viajante TUCUMAN/SANTIAGO DEL ESTERO   \n",
       "6  1001326344           Vendedor Viajante RECONQUISTA/AVELLANEDA   \n",
       "7  1001455648            Vendedor Viajante PILAR / ESCOBAR/TIGRE   \n",
       "8     9240880  Productores Asesores Independiente, para venta...   \n",
       "9  1001202662                              promotor/a , asesor/a   \n",
       "\n",
       "                                         descripcion        nombre_zona  \\\n",
       "0  <p><strong><strong>Empresa:</strong></strong> ...  Gran Buenos Aires   \n",
       "1  <p>Solicitamos para importante cadena de farma...  Gran Buenos Aires   \n",
       "2  <p>TE GUSTA MANEJAR? QUERES GANAR PLATA HACIEN...    Capital Federal   \n",
       "3  <p><strong>Somos una empresa multinacional que...  Gran Buenos Aires   \n",
       "4  <p><strong>OPERARIOS DE PLANTA</strong></p><p>...  Gran Buenos Aires   \n",
       "5  <p>Somos una empresa multinacional que opera e...  Gran Buenos Aires   \n",
       "6  <p><strong>Somos una empresa multinacional que...  Gran Buenos Aires   \n",
       "7  <p>Somos una empresa multinacional que opera e...  Gran Buenos Aires   \n",
       "8  Agente\\r\\r\\noficial Selecciona:</span></strong...    Capital Federal   \n",
       "9  <p>En Cerantola nos encontramos en la busqueda...  Gran Buenos Aires   \n",
       "\n",
       "  tipo_de_trabajo                    nivel_laboral          nombre_area  \\\n",
       "0       Full-time             Senior / Semi-Senior            Comercial   \n",
       "1       Full-time             Senior / Semi-Senior                Salud   \n",
       "2       Full-time             Senior / Semi-Senior           Transporte   \n",
       "3       Full-time             Senior / Semi-Senior           Transporte   \n",
       "4       Full-time             Senior / Semi-Senior           Producción   \n",
       "5       Full-time             Senior / Semi-Senior               Ventas   \n",
       "6       Full-time             Senior / Semi-Senior               Ventas   \n",
       "7       Full-time                           Junior               Ventas   \n",
       "8       Full-time  Jefe / Supervisor / Responsable            Comercial   \n",
       "9       Full-time                             Otro  Atención al Cliente   \n",
       "\n",
       "                denominacion_empresa  titulo_uppercase  \n",
       "0                             VENTOR              True  \n",
       "1            Farmacias Central Oeste             False  \n",
       "2                        FAMITAX SRL             False  \n",
       "3                Wurth Argentina S.A              True  \n",
       "4                 ELECTRO OUTLET SRL             False  \n",
       "5                Wurth Argentina S.A              True  \n",
       "6                Wurth Argentina S.A              True  \n",
       "7                Wurth Argentina S.A              True  \n",
       "8  Agencia Oficial Alejandro Arizaga             False  \n",
       "9                          cerantola             False  "
      ]
     },
     "execution_count": 168,
     "metadata": {},
     "output_type": "execute_result"
    }
   ],
   "source": [
    "titulo_en_mayus_vectorize = np.vectorize(titulo_en_mayus);\n",
    "avisos['titulo_uppercase'] = titulo_en_mayus_vectorize(avisos['titulo']);\n",
    "avisos.head(10)"
   ]
  },
  {
   "cell_type": "code",
   "execution_count": 169,
   "metadata": {},
   "outputs": [
    {
     "data": {
      "text/plain": [
       "idaviso                  int64\n",
       "titulo                  object\n",
       "descripcion             object\n",
       "nombre_zona             object\n",
       "tipo_de_trabajo         object\n",
       "nivel_laboral           object\n",
       "nombre_area             object\n",
       "denominacion_empresa    object\n",
       "titulo_uppercase          bool\n",
       "dtype: object"
      ]
     },
     "execution_count": 169,
     "metadata": {},
     "output_type": "execute_result"
    }
   ],
   "source": [
    "avisos.dtypes"
   ]
  },
  {
   "cell_type": "code",
   "execution_count": 170,
   "metadata": {},
   "outputs": [
    {
     "data": {
      "text/html": [
       "<p> </p><p><span style=\"\">Concesionaria incorpora Asesor de Chapa y Pintura con marcado perfil en atención al cliente y gestión comercial. </span></p><p><span style=\"\">Responsabilidades: recepción de clientes, toma de vehículos. Generar acciones comerciales y realización de armado de presupuestos. Seguimientos y reclamos con proveedores, procesos de reparación. Contacto y manejo con compañías de seguro. </span></p><p><span style=\"\">Buscamos personas dinámicas, con buena presencia, facilidad para relacionarse, capacidad de trabajo en equipo, vocación de servicio al cliente </span></p><p><span style=\"\"> </span></p><p> </p><p><span style=\"\"> </span></p><hr>"
      ],
      "text/plain": [
       "<IPython.core.display.HTML object>"
      ]
     },
     "metadata": {},
     "output_type": "display_data"
    },
    {
     "data": {
      "text/html": [
       "<p>Nuestro cliente, importante empresa del sector de insumos para motocicletas necesita incorporar un Ejecutivo Comercial con experiencia de al menos 3 años en el sector de venta de autopartes, accesorios y repuestos.</p><p> </p><p>Tus principales responsabilidades serán: </p><p>- Desarrollo y mantenimiento de la cartera de clientes en la zona de CABA y GBA</p><p>- Relacionarte con decisores de compra</p><p>- Seguimiento de acuerdos comerciales.</p><p>- Control de facturación y pedidos</p><p>- Comunicación a clientes (ofertas/lanzamientos,etc).</p><p> </p><p>El candidato ideal deberá tener formación comercial, ideal Lic. en Administración de empresas, Marketing o afines.</p><p> </p><p>Debes tener movilidad propia y disponibilidad para viajar por la Provincia de Buenos aires</p><p> </p><p>Formarás parte de una compañía de primer nivel en su sector con amplia libertad de gestión.</p><p>Si crees que cumples los requisitos y te apasionan los retos",
       " ¡no dudes en postularte!</p><hr>"
      ],
      "text/plain": [
       "<IPython.core.display.HTML object>"
      ]
     },
     "metadata": {},
     "output_type": "display_data"
    },
    {
     "data": {
      "text/html": [
       "<p>Nos encontramos en la búsqueda de candidatos para una de nuestras áreas de Consultoría. La función principal del puesto será la atención telefónica de llamados de empresas clientes en portugués; también colaborará con tareas administrativas del sector.</p><p> </p><p><strong>¿Qué buscamos?</strong></p><p>Portugués nativo</p><p>Excelente predisposición y orientación al cliente</p><p>Muy buen manejo de herramientas Office</p><p>Residir en Capital Federal</p><p> </p><p><strong>Qué te ofrece KPMG?</strong></p><p>·       Formar parte de un equipo de trabajo de alto rendimiento que potencia tu desarrollo profesional</p><p>Participación directa en variedad de industrias y de clientes.</p><p>Capacitación intensiva en tu especialidad.</p><p>·        Cursos de inglés a medida.</p><p>Interesante paquete de beneficios, evaluaciones de desempeño y coaching de carrera.</p><hr>"
      ],
      "text/plain": [
       "<IPython.core.display.HTML object>"
      ]
     },
     "metadata": {},
     "output_type": "display_data"
    },
    {
     "data": {
      "text/html": [
       "<p>En <strong>Garbarino</strong> nos encontramos en la búsqueda de nuevos talentos para sumarse a nuestra sucursal en Mar del Plata:</p><p> </p><p><strong><u>Sus principales tareas serán</u></strong><strong>:</strong></p><ul><li>Asesoramiento a clientes.</li><li>Venta de productos.</li><li>Cierre de operaciones.</li></ul><p><strong><u>Requisitos</u></strong><strong>:</strong></p><ul><li>Edad: entre 18 a 30 años.</li><li>Secundario Competo.</li><li>Experiencia en comunicación e interrelación con clientes.</li><li>Perfil comercial, proactivo y Multi-Tasking.</li><li>Orientación al cliente.</li></ul><p><strong><u>Condiciones de Contratación</u></strong><strong>:</strong></p><ul><li>Lugar de trabajo: Mar del Plata.</li><li>Jornada laboral: Full Time (Incluyendo Sabados y Domingos).</li></ul><p> POSTULATE!</p><hr>"
      ],
      "text/plain": [
       "<IPython.core.display.HTML object>"
      ]
     },
     "metadata": {},
     "output_type": "display_data"
    },
    {
     "data": {
      "text/html": [
       "<p>KaizenRH is currently looking for a <strong>Front-End Web Developer</strong> for Corporate Company.</p><p> </p><p><strong>Requirements:</strong></p><p>5+ years experience in technology and good solid experience of project work in a development team (3 - 5 years of software development lifecycle experience).</p><p>JAVA Development Experience</p><p>Ability to prototype in JavaScript, HTML, and CSS </p><p>5+ years of web-based User Interface development. Proficiency with web standards.</p><p>Proficient in Design Tools like Photoshop. </p><p>Knowledge of HTML 4 and 5. </p><p>Knowledge of Source Code Repositories : SVN, Git, Stash, Bitbucket, Maven</p><p>Notions of application security.</p><p>Advanced/Fluent English or Portuguese. </p><p> </p><p><strong>We offer</strong></p><p>Excellent work environment and professional growth space</p><p>Participation in the most challenging projects and in the multidisciplinary team</p><p>OSDE 310.</p><p>10 working days of vacation, incremental to 15 days.</p><p>Extra Compensation and Performance Awards.</p><p>English classes with international exams.</p><p>2 free days per year.</p><p>Two annual salary reviews.</p><p>Real and continuous training plan.</p><p> </p><p> </p><p><strong>Location and Schedule:</strong> Microcentro, Capital Federal. From Monday to Friday from 09 to 18 Hs.</p><hr>"
      ],
      "text/plain": [
       "<IPython.core.display.HTML object>"
      ]
     },
     "metadata": {},
     "output_type": "display_data"
    },
    {
     "data": {
      "text/html": [
       "<p style=\"\"><span style=\"\">Para importante empresa de retail a nivel nacional nos encontramos en búsqueda de un <strong style=\"\">Analista Jr. de Finanzas:</strong></span></p><p style=\"\"><strong style=\"\"><span style=\"\">Principales Responsabilidades:</span></strong></p><p style=\"\"><u><span style=\"\">Gestión relacionada a cobranza de tarjetas de crédito</span></u></p><p style=\"\"><span style=\"\">-emisión de liquidaciones de tarjetas de crédito en formato pdf y electrónico.</span></p><p style=\"\"><span style=\"\">-Búsqueda y presentación para el recupero de cupones de tarjetas de crédito.</span></p><p style=\"\"><span style=\"\">-Procesar los pedidos de alta y baja de establecimientos y terminales POS.</span></p><p style=\"\"><u><span style=\"\">Gestión relacionada a cobranzas de clientes mayoristas</span></u></p><p style=\"\"><span style=\"\">-Solicitud de documentación necesaria para alta de clientes</span></p><p style=\"\"><span style=\"\">-Registración diaria de la cobranza de clientes</span></p><p style=\"\"><span style=\"\">-Relevamiento de saldos de clientes</span></p><p style=\"\"><span style=\"\">-envío de información a los clientes</span></p><p style=\"\"><u><span style=\"\">Configuración de los medios de cobro</span></u></p><p style=\"\"><span style=\"\">-Carga de promociones bancarias en el sistema</span></p><p style=\"\"><strong style=\"\"><span style=\"\">Requisitos:</span></strong></p><p style=\"\"><span style=\"\">-Estudiante de Ciencias económicas (contador)</span></p><p style=\"\"><span style=\"\">-Muy buen manejo de Excel (excluyente)</span></p><p style=\"\"><span style=\"\">-Edad hasta 25 (excluyente)</span></p><p style=\"\"><span style=\"\"> </span></p><p style=\"\"><span style=\"\">Se ofrecen beneficios competitivos al mercado, Convenio Textil.</span></p><p style=\"\"><span style=\"\">Horario de trabajo de 9am a 18hrs de Lunes a Viernes </span></p><p style=\"\"><strong style=\"\"><span style=\"\"> </span></strong></p><p style=\"\"><strong style=\"\"><span style=\"\"><span style=\"\"> </span></span></strong></p><hr>"
      ],
      "text/plain": [
       "<IPython.core.display.HTML object>"
      ]
     },
     "metadata": {},
     "output_type": "display_data"
    },
    {
     "data": {
      "text/html": [
       "<p>Al aplicar a la vacante será redirigido a la URL del torneo</p><p style=\"\">We're running an <span style=\"\">Online Hiring Tournament</span> on May 5th to hire C# (.NET) Chief Software Architects (USD $100K/yr).</p><p style=\"\"><span style=\"\">This event will include testing. Upon grading the deliverables from the event, we will set up qualified candidates with an interview with the hiring manager, who can hire 20 Chief Architects. </span><span style=\"\">This is a 100% remote, full-time role.</span></p><p style=\"\"> </p><p style=\"\">As a Chief Architect you will be responsible for developing solutions to complex architectural problems, designing and delivering real enterprise-class software products to customers and being a hands-on peer leader of top development resources. As the owner for the architecture and technical delivery of a multi-million dollar revenue per year enterprise software product, you will effectively work as the CTO of the engagement with a startup mindset, wearing multiple hats from lead architect and developer on the most complex elements of the product to technical team leader to solution evangelist ensuring that the customers are blown away by the technical differentiation and quality of the product.</p><p style=\"\">Candidate Requirements:</p><ul style=\"\"><li style=\"\"><span style=\"\">Bachelor's degree in Computer Science, Computer Engineering, or Electrical Engineering</span></li><li style=\"\"><span style=\"\">At least 8 years of experience on hands-on development and related technologies</span></li><li style=\"\"><span style=\"\">Has worked with back end technologies based and latest development frameworks</span></li><li style=\"\"><span style=\"\">Has experience working with two or more of data related technologies and familiarity with others from various Relational databases, Nosql databases, Caching systems, Full Text Search engines, Big Data systems.</span></li><li style=\"\"><span style=\"\">Has good experience with the TDD approach, doing unit testing, mocking, integration/UI testing, behaviour driver testing.</span></li><li style=\"\"><span style=\"\">Has good experience working with, setting up and configuring any continuous integration and delivery systems, any code quality automation technologies.</span></li><li style=\"\"><span style=\"\">Has experience with one or more cloud or devops services like AWS, Docker, Heroku, Digitalocean, etc.</span></li><li style=\"\"><span style=\"\">Has experience with one or more front end technologies including templating, CSS and JS frameworks.</span></li></ul><p style=\"\">We recommend that you attend the tournament instead of applying online, as our tournament process will be much faster.</p><p style=\"\">Register at the green button, and we'll provide the webinar address to all registrants.</p><p style=\"\">Join our community of remote professionals!</p><hr>"
      ],
      "text/plain": [
       "<IPython.core.display.HTML object>"
      ]
     },
     "metadata": {},
     "output_type": "display_data"
    },
    {
     "data": {
      "text/html": [
       "<p>El mayor empleador privado del país sigue creciendo<br /><br />COTO cicsa<br />Seleccionará <br /><br />Carniceros </p><p>Seleccionaremos postulantes para las Sucursales ubicadas en Capital Federal y GBA.</p><p>La búsqueda se orienta hacia perfiles con <strong>experiencia previa</strong> en el área de Carnicería. Valoraremos conocimientos previos en Cortes y Desposte.</p><p>Los postulantes deberán contar con amplia disponibilidad horaria y excelente predisposición para atención al cliente.</p><p> </p><p>Se ofrecen excelentes condiciones de contratación, comedor en planta y capacitación permanente en una compañía líder y en permanente expansión.<br /><br /><br /></p><hr>"
      ],
      "text/plain": [
       "<IPython.core.display.HTML object>"
      ]
     },
     "metadata": {},
     "output_type": "display_data"
    },
    {
     "data": {
      "text/html": [
       "<p> </p><p>Empresa de tecnología en expansión, líder en su rubro y con oficinas en 5 países,<br /> desea incorporar: </p><p> </p><p><strong><u><br /> Ejecutivo/a de Ventas corporativo</u></strong></p><p> </p><p><strong><u>Misión del Puesto</u></strong><strong>:</strong><br /> Generación de nuevas cuentas corporativas, a partir del contacto y reuniones con los potenciales clientes de los servicios que comercializa la empresa.</p><p> </p><p><strong><u>Requisitos</u></strong><strong>:</strong></p><p> </p><ul><li>Marcado perfil comercial (excluyente)</li><li>Proactividad y dinamismo</li><li>Excelentes habilidades de comunicación, negociación e interrelación.</li><li>Conocimiento de tecnologías informáticas.</li><li>Experiencia mínima de 3 años en posiciones similares,</li><li>Se valorará poseer experiencia en el mercado de servicios de IT (No excluyente).</li></ul><p> </p><p> <strong><u>Síntesis de Responsabilidades:</u></strong></p><p> </p><ul><li>Búsqueda y generación de contactos comerciales a nivel corporativo</li><li>Concreción de reuniones de presentación de productos y servicios</li><li>Seguimiento del proceso de preventa</li><li>Cierre del proceso de venta</li><li>Desarrollo de base de potenciales clientes</li></ul><p> </p><p> <strong><u>Propuesta:</u></strong></p><p> </p><ul><li>Remuneración fija y muy interesantes comisiones.</li><li>Excelente Clima laboral</li><li>Contratación directa</li><li>Desarrollo profesional con posibilidades de realizar viajes comerciales</li><li>Capacitación continúa</li><li>Prepaga de primer nivel</li><li>Horario Full Time (Lunes a Viernes de 9 a 18 hs).</li><li>Zona de Trabajo: Palermo CABA</li></ul><p> </p><hr>"
      ],
      "text/plain": [
       "<IPython.core.display.HTML object>"
      ]
     },
     "metadata": {},
     "output_type": "display_data"
    },
    {
     "data": {
      "text/html": [
       "<p>Si queres crecer, aplicar tus conocimientos y te gusta trabajar en equipo, Soy Tu Farmacia es el lugar para vos, Sumate!!!</p><p>Somos una empresa líder en el rubro de Farmacias y Perfumerías en GBA Sur y CABA con más de 30 años en el mercado, nos destacamos por nuestra excelencia en servicio al cliente y nuestro constante crecimiento. </p><p> </p><p>Buscamos Cajeros/as PART TIME turno tarde para Zona Sur o CABA con experiencia en puesto similar no menor a un año (Referencias comprobables). Valoraremos los conocimientos en Posnet y Sistema Farmatronic (No excluyente). Excelente presencia y orientación al cliente.</p><p> </p><p>Ofrecemos excelentes condiciones de contratación. Buen clima laboral. Posibilidades de crecimiento. Beneficios en nuestras sucursales.</p><hr>"
      ],
      "text/plain": [
       "<IPython.core.display.HTML object>"
      ]
     },
     "metadata": {},
     "output_type": "display_data"
    }
   ],
   "source": [
    "#Miramos un poco las descripciones\n",
    "from IPython.core.display import HTML\n",
    "descripciones=avisos['descripcion'].sample(10).values;\n",
    "for descripcion in descripciones:\n",
    "    display(HTML(descripcion+\"<hr>\"))"
   ]
  },
  {
   "cell_type": "code",
   "execution_count": 171,
   "metadata": {},
   "outputs": [
    {
     "name": "stdout",
     "output_type": "stream",
     "text": [
      "True\n",
      "True\n",
      "False\n"
     ]
    }
   ],
   "source": [
    "import re\n",
    "def contiene_frase(texto, frase):\n",
    "    if re.search(frase, texto,re.IGNORECASE):\n",
    "        return True\n",
    "    return False\n",
    "\n",
    "print(contiene_frase(\"Experiencia utilizando Selenium  WebDriver (Deseable)\", \"exPeRiencia\"))\n",
    "print(contiene_frase(\"idiOmA inglés\", \"idioma inglés\"))\n",
    "print(contiene_frase(\"idiOmA inglés\", \"idioma ingles\"))\n",
    "contiene_frase=np.vectorize(contiene_frase)"
   ]
  },
  {
   "cell_type": "code",
   "execution_count": 172,
   "metadata": {},
   "outputs": [
    {
     "name": "stdout",
     "output_type": "stream",
     "text": [
      "1354\n"
     ]
    }
   ],
   "source": [
    "avisos['pide_hombre']=(contiene_frase(avisos['descripcion'],\"hombres\") & ~contiene_frase(avisos['descripcion'],\"mujeres\")) | contiene_frase(avisos['descripcion'],\"sexo masculino\") | contiene_frase(avisos['descripcion'],\"sexo: masculino\")\n",
    "print(sum(avisos['pide_hombre']))\n",
    "avisos['pide_mujer']=(contiene_frase(avisos['descripcion'],\"mujeres\") & ~contiene_frase(avisos['descripcion'],\"hombres\")) | contiene_frase(avisos['descripcion'],\"sexo femenino\") | contiene_frase(avisos['descripcion'],\"sexo: femenino\")\n"
   ]
  },
  {
   "cell_type": "code",
   "execution_count": 173,
   "metadata": {},
   "outputs": [
    {
     "name": "stdout",
     "output_type": "stream",
     "text": [
      "4597\n"
     ]
    }
   ],
   "source": [
    "avisos['ingles']=(contiene_frase(avisos['descripcion'],\"inglés\") | contiene_frase(avisos['descripcion'],\"ingles\"))\n",
    "print(avisos['ingles'].sum())"
   ]
  },
  {
   "cell_type": "code",
   "execution_count": 174,
   "metadata": {},
   "outputs": [
    {
     "name": "stdout",
     "output_type": "stream",
     "text": [
      "13580\n"
     ]
    }
   ],
   "source": [
    "avisos['experiencia']=(contiene_frase(avisos['descripcion'],\"experiencia minima\") | contiene_frase(avisos['descripcion'],\"experiencia mínima\") | contiene_frase(avisos['descripcion'],\"experiencia en\") | contiene_frase(avisos['descripcion'],\"años de experiencia\"))\n",
    "print(avisos['experiencia'].sum())"
   ]
  },
  {
   "cell_type": "code",
   "execution_count": 175,
   "metadata": {},
   "outputs": [
    {
     "name": "stdout",
     "output_type": "stream",
     "text": [
      "4037\n"
     ]
    }
   ],
   "source": [
    "avisos['paquete_office']=(contiene_frase(avisos['descripcion'],\"Paquete Office\") | contiene_frase(avisos['descripcion'], \"Office\") | contiene_frase(avisos['descripcion'], \"office\"))\n",
    "print(avisos['paquete_office'].sum())"
   ]
  },
  {
   "cell_type": "code",
   "execution_count": 176,
   "metadata": {},
   "outputs": [
    {
     "name": "stdout",
     "output_type": "stream",
     "text": [
      "10065\n"
     ]
    }
   ],
   "source": [
    "avisos['pide_excel']= (contiene_frase(avisos['descripcion'], \"excel\"))\n",
    "print(avisos['pide_excel'].sum())"
   ]
  },
  {
   "cell_type": "code",
   "execution_count": 177,
   "metadata": {},
   "outputs": [
    {
     "name": "stdout",
     "output_type": "stream",
     "text": [
      "1292\n"
     ]
    }
   ],
   "source": [
    "avisos['liderazgo']=(contiene_frase(avisos['descripcion'],\"liderazgo\"))\n",
    "print(avisos['liderazgo'].sum())"
   ]
  },
  {
   "cell_type": "code",
   "execution_count": 178,
   "metadata": {},
   "outputs": [
    {
     "name": "stdout",
     "output_type": "stream",
     "text": [
      "4982\n"
     ]
    }
   ],
   "source": [
    "avisos['secundario']=(contiene_frase(avisos['descripcion'],\"secundario\") | contiene_frase(avisos['descripcion'],\"Secundario\"))\n",
    "print(avisos['secundario'].sum())"
   ]
  },
  {
   "cell_type": "code",
   "execution_count": 179,
   "metadata": {},
   "outputs": [
    {
     "name": "stdout",
     "output_type": "stream",
     "text": [
      "4499\n"
     ]
    }
   ],
   "source": [
    "avisos['tecnico']=(contiene_frase(avisos['descripcion'],\"tecnico\")|contiene_frase(avisos['descripcion'],\"técnico\") | contiene_frase(avisos['descripcion'],\"terciario\")| contiene_frase(avisos['descripcion'],\"Tecnico\")|contiene_frase(avisos['descripcion'],\"Técnico\"))\n",
    "print(avisos['tecnico'].sum())"
   ]
  },
  {
   "cell_type": "code",
   "execution_count": 180,
   "metadata": {},
   "outputs": [
    {
     "name": "stdout",
     "output_type": "stream",
     "text": [
      "100\n"
     ]
    }
   ],
   "source": []
  },
  {
   "cell_type": "code",
   "execution_count": 181,
   "metadata": {},
   "outputs": [
    {
     "name": "stdout",
     "output_type": "stream",
     "text": [
      "1064\n"
     ]
    }
   ],
   "source": [
    "avisos['viajar']=(contiene_frase(avisos['descripcion'],\"viajar\"))\n",
    "print(avisos['viajar'].sum())"
   ]
  },
  {
   "cell_type": "code",
   "execution_count": 182,
   "metadata": {},
   "outputs": [
    {
     "name": "stdout",
     "output_type": "stream",
     "text": [
      "6726\n"
     ]
    }
   ],
   "source": [
    "avisos['empresa_importante']=(contiene_frase(avisos['descripcion'],\"empresa líder\") | contiene_frase(avisos['descripcion'],\"empresa lider\") | contiene_frase(avisos['descripcion'],\"importante empresa\") | contiene_frase(avisos['descripcion'],\"importante compañia\")| contiene_frase(avisos['descripcion'],\"importante compania\"))\n",
    "print(avisos['empresa_importante'].sum())"
   ]
  },
  {
   "cell_type": "code",
   "execution_count": 183,
   "metadata": {},
   "outputs": [
    {
     "name": "stdout",
     "output_type": "stream",
     "text": [
      "3898\n"
     ]
    }
   ],
   "source": [
    "avisos['capacitacion']=(contiene_frase(avisos['descripcion'],\"capacitacion\") | contiene_frase(avisos['descripcion'],\"capacitación\")|contiene_frase(avisos['descripcion'],\"capacitar\")|contiene_frase(avisos['descripcion'],\"capacitados\")|contiene_frase(avisos['descripcion'],\"capacitado\") )\n",
    "print(avisos['capacitacion'].sum())"
   ]
  },
  {
   "cell_type": "code",
   "execution_count": 184,
   "metadata": {},
   "outputs": [
    {
     "name": "stdout",
     "output_type": "stream",
     "text": [
      "1682\n"
     ]
    }
   ],
   "source": [
    "avisos['remuneracion_pretendida']=(contiene_frase(avisos['descripcion'],\"remuneración pretendida\") | contiene_frase(avisos['descripcion'],\"remuneracion pretendida\"))\n",
    "print(avisos['remuneracion_pretendida'].sum())"
   ]
  },
  {
   "cell_type": "code",
   "execution_count": 185,
   "metadata": {},
   "outputs": [
    {
     "name": "stdout",
     "output_type": "stream",
     "text": [
      "3968\n"
     ]
    }
   ],
   "source": [
    "avisos['graduados']=(contiene_frase(avisos['descripcion'],\"graduados\")|contiene_frase(avisos['descripcion'],\"graduado\"))\n",
    "print(avisos['graduados'].sum())"
   ]
  },
  {
   "cell_type": "code",
   "execution_count": 186,
   "metadata": {},
   "outputs": [
    {
     "name": "stdout",
     "output_type": "stream",
     "text": [
      "5020\n"
     ]
    }
   ],
   "source": [
    "avisos['estudiantes']=(contiene_frase(avisos['descripcion'],\"estudiantes\")| contiene_frase(avisos['descripcion'],\"estudiante\"))\n",
    "print(avisos['estudiantes'].sum())"
   ]
  },
  {
   "cell_type": "code",
   "execution_count": 187,
   "metadata": {},
   "outputs": [
    {
     "name": "stdout",
     "output_type": "stream",
     "text": [
      "3263\n"
     ]
    }
   ],
   "source": [
    "avisos['conocimientos_especificos']=(contiene_frase(avisos['descripcion'],\"conocimientos especificos\") | contiene_frase(avisos['descripcion'],\"conocimientos específicos\")|contiene_frase(avisos['descripcion'],\"conocimientos en\"))\n",
    "print(avisos['conocimientos_especificos'].sum())"
   ]
  },
  {
   "cell_type": "code",
   "execution_count": 188,
   "metadata": {},
   "outputs": [
    {
     "name": "stdout",
     "output_type": "stream",
     "text": [
      "3717\n"
     ]
    }
   ],
   "source": [
    "avisos['buen_ambiente']=(contiene_frase(avisos['descripcion'],\"buenas condiciones\") | contiene_frase(avisos['descripcion'],\"buen ambiente\") | contiene_frase(avisos['descripcion'],\"clima laboral\"))\n",
    "print(avisos['buen_ambiente'].sum())"
   ]
  },
  {
   "cell_type": "code",
   "execution_count": 189,
   "metadata": {},
   "outputs": [
    {
     "name": "stdout",
     "output_type": "stream",
     "text": [
      "2780\n"
     ]
    }
   ],
   "source": [
    "avisos['indica_sueldo']=(contiene_frase(avisos['descripcion'],\"sueldo\") | contiene_frase(avisos['descripcion'],\"Sueldo\") )\n",
    "print(avisos['indica_sueldo'].sum())"
   ]
  },
  {
   "cell_type": "code",
   "execution_count": 190,
   "metadata": {},
   "outputs": [
    {
     "name": "stdout",
     "output_type": "stream",
     "text": [
      "1148\n"
     ]
    }
   ],
   "source": [
    "avisos['part_time']=(contiene_frase(avisos['descripcion'],\"part time\") | contiene_frase(avisos['descripcion'],\"Part time\") | contiene_frase(avisos['descripcion'],\"part-time\")| contiene_frase(avisos['descripcion'],\"jornada parcial\")| contiene_frase(avisos['descripcion'],\"medio tiempo\"))\n",
    "print(avisos['part_time'].sum())"
   ]
  },
  {
   "cell_type": "code",
   "execution_count": 191,
   "metadata": {},
   "outputs": [
    {
     "name": "stdout",
     "output_type": "stream",
     "text": [
      "4412\n"
     ]
    }
   ],
   "source": [
    "avisos['full_time']=(contiene_frase(avisos['descripcion'],\"full time\") | contiene_frase(avisos['descripcion'],\"Full time\") | contiene_frase(avisos['descripcion'],\"full-time\")| contiene_frase(avisos['descripcion'],\"jornada completa\"))\n",
    "\n",
    "print(avisos['full_time'].sum())"
   ]
  },
  {
   "cell_type": "code",
   "execution_count": 192,
   "metadata": {},
   "outputs": [
    {
     "name": "stdout",
     "output_type": "stream",
     "text": [
      "3410\n"
     ]
    }
   ],
   "source": [
    "avisos['ofrece_crecimiento']=(contiene_frase(avisos['descripcion'],\"crecimiento\") | contiene_frase(avisos['descripcion'],\"oportunidad de crecimiento\") | contiene_frase(avisos['descripcion'],\"carrera laboral\"))\n",
    "\n",
    "print(avisos['ofrece_crecimiento'].sum())"
   ]
  },
  {
   "cell_type": "code",
   "execution_count": 193,
   "metadata": {},
   "outputs": [
    {
     "name": "stdout",
     "output_type": "stream",
     "text": [
      "2964\n"
     ]
    }
   ],
   "source": [
    "avisos['ofrece_beneficios']=(contiene_frase(avisos['descripcion'],\"beneficios\") )\n",
    "\n",
    "print(avisos['ofrece_beneficios'].sum())"
   ]
  },
  {
   "cell_type": "code",
   "execution_count": 194,
   "metadata": {},
   "outputs": [
    {
     "name": "stdout",
     "output_type": "stream",
     "text": [
      "1521\n"
     ]
    }
   ],
   "source": [
    "avisos['obra_social']=(contiene_frase(avisos[\"descripcion\"],\"obra social\") | (contiene_frase(avisos[\"descripcion\"],\"osde\") | contiene_frase(avisos[\"descripcion\"],\"galeno\"))|(contiene_frase(avisos[\"descripcion\"],\"swiss medical\"))| (contiene_frase(avisos[\"descripcion\"],\"cobertura medica\"))| (contiene_frase(avisos[\"descripcion\"],\"cobertura médica\")))\n",
    "print(avisos[\"obra_social\"].sum())"
   ]
  },
  {
   "cell_type": "code",
   "execution_count": 197,
   "metadata": {},
   "outputs": [
    {
     "name": "stdout",
     "output_type": "stream",
     "text": [
      "3659\n"
     ]
    }
   ],
   "source": [
    "avisos[\"multinacional\"] = (contiene_frase(avisos['descripcion'],\"multinacional\") | contiene_frase(avisos['descripcion'],\"multi nacional\") | contiene_frase(avisos['descripcion'],\"internacional\") | contiene_frase(avisos['descripcion'],\"global\"))\n",
    "print(avisos[\"multinacional\"].sum())"
   ]
  },
  {
   "cell_type": "code",
   "execution_count": 198,
   "metadata": {},
   "outputs": [
    {
     "data": {
      "text/html": [
       "<div>\n",
       "<style scoped>\n",
       "    .dataframe tbody tr th:only-of-type {\n",
       "        vertical-align: middle;\n",
       "    }\n",
       "\n",
       "    .dataframe tbody tr th {\n",
       "        vertical-align: top;\n",
       "    }\n",
       "\n",
       "    .dataframe thead th {\n",
       "        text-align: right;\n",
       "    }\n",
       "</style>\n",
       "<table border=\"1\" class=\"dataframe\">\n",
       "  <thead>\n",
       "    <tr style=\"text-align: right;\">\n",
       "      <th></th>\n",
       "      <th>idaviso</th>\n",
       "      <th>titulo</th>\n",
       "      <th>descripcion</th>\n",
       "      <th>nombre_zona</th>\n",
       "      <th>tipo_de_trabajo</th>\n",
       "      <th>nivel_laboral</th>\n",
       "      <th>nombre_area</th>\n",
       "      <th>denominacion_empresa</th>\n",
       "      <th>titulo_uppercase</th>\n",
       "      <th>pide_hombre</th>\n",
       "      <th>...</th>\n",
       "      <th>estudiantes</th>\n",
       "      <th>conocimientos_especificos</th>\n",
       "      <th>buen_ambiente</th>\n",
       "      <th>indica_sueldo</th>\n",
       "      <th>part_time</th>\n",
       "      <th>full_time</th>\n",
       "      <th>ofrece_crecimiento</th>\n",
       "      <th>ofrece_beneficios</th>\n",
       "      <th>obra_social</th>\n",
       "      <th>multinacional</th>\n",
       "    </tr>\n",
       "  </thead>\n",
       "  <tbody>\n",
       "    <tr>\n",
       "      <th>0</th>\n",
       "      <td>8725750</td>\n",
       "      <td>VENDEDOR/A PROVINCIA DE SANTA FE</td>\n",
       "      <td>&lt;p&gt;&lt;strong&gt;&lt;strong&gt;Empresa:&lt;/strong&gt;&lt;/strong&gt; ...</td>\n",
       "      <td>Gran Buenos Aires</td>\n",
       "      <td>Full-time</td>\n",
       "      <td>Senior / Semi-Senior</td>\n",
       "      <td>Comercial</td>\n",
       "      <td>VENTOR</td>\n",
       "      <td>True</td>\n",
       "      <td>False</td>\n",
       "      <td>...</td>\n",
       "      <td>False</td>\n",
       "      <td>False</td>\n",
       "      <td>False</td>\n",
       "      <td>False</td>\n",
       "      <td>False</td>\n",
       "      <td>True</td>\n",
       "      <td>False</td>\n",
       "      <td>False</td>\n",
       "      <td>False</td>\n",
       "      <td>False</td>\n",
       "    </tr>\n",
       "    <tr>\n",
       "      <th>1</th>\n",
       "      <td>17903700</td>\n",
       "      <td>Enfermeras</td>\n",
       "      <td>&lt;p&gt;Solicitamos para importante cadena de farma...</td>\n",
       "      <td>Gran Buenos Aires</td>\n",
       "      <td>Full-time</td>\n",
       "      <td>Senior / Semi-Senior</td>\n",
       "      <td>Salud</td>\n",
       "      <td>Farmacias Central Oeste</td>\n",
       "      <td>False</td>\n",
       "      <td>False</td>\n",
       "      <td>...</td>\n",
       "      <td>False</td>\n",
       "      <td>False</td>\n",
       "      <td>False</td>\n",
       "      <td>False</td>\n",
       "      <td>False</td>\n",
       "      <td>False</td>\n",
       "      <td>False</td>\n",
       "      <td>False</td>\n",
       "      <td>False</td>\n",
       "      <td>False</td>\n",
       "    </tr>\n",
       "    <tr>\n",
       "      <th>2</th>\n",
       "      <td>1000150677</td>\n",
       "      <td>Chofer de taxi</td>\n",
       "      <td>&lt;p&gt;TE GUSTA MANEJAR? QUERES GANAR PLATA HACIEN...</td>\n",
       "      <td>Capital Federal</td>\n",
       "      <td>Full-time</td>\n",
       "      <td>Senior / Semi-Senior</td>\n",
       "      <td>Transporte</td>\n",
       "      <td>FAMITAX SRL</td>\n",
       "      <td>False</td>\n",
       "      <td>False</td>\n",
       "      <td>...</td>\n",
       "      <td>False</td>\n",
       "      <td>False</td>\n",
       "      <td>False</td>\n",
       "      <td>False</td>\n",
       "      <td>False</td>\n",
       "      <td>False</td>\n",
       "      <td>False</td>\n",
       "      <td>True</td>\n",
       "      <td>True</td>\n",
       "      <td>False</td>\n",
       "    </tr>\n",
       "    <tr>\n",
       "      <th>3</th>\n",
       "      <td>1000610287</td>\n",
       "      <td>CHOFER DE CAMIONETA BAHIA BLANCA - PUNTA ALTA</td>\n",
       "      <td>&lt;p&gt;&lt;strong&gt;Somos una empresa multinacional que...</td>\n",
       "      <td>Gran Buenos Aires</td>\n",
       "      <td>Full-time</td>\n",
       "      <td>Senior / Semi-Senior</td>\n",
       "      <td>Transporte</td>\n",
       "      <td>Wurth Argentina S.A</td>\n",
       "      <td>True</td>\n",
       "      <td>False</td>\n",
       "      <td>...</td>\n",
       "      <td>False</td>\n",
       "      <td>False</td>\n",
       "      <td>False</td>\n",
       "      <td>False</td>\n",
       "      <td>False</td>\n",
       "      <td>False</td>\n",
       "      <td>True</td>\n",
       "      <td>False</td>\n",
       "      <td>False</td>\n",
       "      <td>True</td>\n",
       "    </tr>\n",
       "    <tr>\n",
       "      <th>4</th>\n",
       "      <td>1000872556</td>\n",
       "      <td>Operarios de Planta - Rubro Electrodomésticos</td>\n",
       "      <td>&lt;p&gt;&lt;strong&gt;OPERARIOS DE PLANTA&lt;/strong&gt;&lt;/p&gt;&lt;p&gt;...</td>\n",
       "      <td>Gran Buenos Aires</td>\n",
       "      <td>Full-time</td>\n",
       "      <td>Senior / Semi-Senior</td>\n",
       "      <td>Producción</td>\n",
       "      <td>ELECTRO OUTLET SRL</td>\n",
       "      <td>False</td>\n",
       "      <td>False</td>\n",
       "      <td>...</td>\n",
       "      <td>False</td>\n",
       "      <td>False</td>\n",
       "      <td>False</td>\n",
       "      <td>False</td>\n",
       "      <td>False</td>\n",
       "      <td>False</td>\n",
       "      <td>False</td>\n",
       "      <td>False</td>\n",
       "      <td>False</td>\n",
       "      <td>False</td>\n",
       "    </tr>\n",
       "  </tbody>\n",
       "</table>\n",
       "<p>5 rows × 34 columns</p>\n",
       "</div>"
      ],
      "text/plain": [
       "      idaviso                                         titulo  \\\n",
       "0     8725750               VENDEDOR/A PROVINCIA DE SANTA FE   \n",
       "1    17903700                                     Enfermeras   \n",
       "2  1000150677                                 Chofer de taxi   \n",
       "3  1000610287  CHOFER DE CAMIONETA BAHIA BLANCA - PUNTA ALTA   \n",
       "4  1000872556  Operarios de Planta - Rubro Electrodomésticos   \n",
       "\n",
       "                                         descripcion        nombre_zona  \\\n",
       "0  <p><strong><strong>Empresa:</strong></strong> ...  Gran Buenos Aires   \n",
       "1  <p>Solicitamos para importante cadena de farma...  Gran Buenos Aires   \n",
       "2  <p>TE GUSTA MANEJAR? QUERES GANAR PLATA HACIEN...    Capital Federal   \n",
       "3  <p><strong>Somos una empresa multinacional que...  Gran Buenos Aires   \n",
       "4  <p><strong>OPERARIOS DE PLANTA</strong></p><p>...  Gran Buenos Aires   \n",
       "\n",
       "  tipo_de_trabajo         nivel_laboral nombre_area     denominacion_empresa  \\\n",
       "0       Full-time  Senior / Semi-Senior   Comercial                   VENTOR   \n",
       "1       Full-time  Senior / Semi-Senior       Salud  Farmacias Central Oeste   \n",
       "2       Full-time  Senior / Semi-Senior  Transporte              FAMITAX SRL   \n",
       "3       Full-time  Senior / Semi-Senior  Transporte      Wurth Argentina S.A   \n",
       "4       Full-time  Senior / Semi-Senior  Producción       ELECTRO OUTLET SRL   \n",
       "\n",
       "   titulo_uppercase  pide_hombre      ...        estudiantes  \\\n",
       "0              True        False      ...              False   \n",
       "1             False        False      ...              False   \n",
       "2             False        False      ...              False   \n",
       "3              True        False      ...              False   \n",
       "4             False        False      ...              False   \n",
       "\n",
       "   conocimientos_especificos  buen_ambiente  indica_sueldo  part_time  \\\n",
       "0                      False          False          False      False   \n",
       "1                      False          False          False      False   \n",
       "2                      False          False          False      False   \n",
       "3                      False          False          False      False   \n",
       "4                      False          False          False      False   \n",
       "\n",
       "   full_time  ofrece_crecimiento  ofrece_beneficios  obra_social  \\\n",
       "0       True               False              False        False   \n",
       "1      False               False              False        False   \n",
       "2      False               False               True         True   \n",
       "3      False                True              False        False   \n",
       "4      False               False              False        False   \n",
       "\n",
       "   multinacional  \n",
       "0          False  \n",
       "1          False  \n",
       "2          False  \n",
       "3           True  \n",
       "4          False  \n",
       "\n",
       "[5 rows x 34 columns]"
      ]
     },
     "execution_count": 198,
     "metadata": {},
     "output_type": "execute_result"
    }
   ],
   "source": [
    "avisos.head()"
   ]
  },
  {
   "cell_type": "code",
   "execution_count": 199,
   "metadata": {},
   "outputs": [
    {
     "data": {
      "text/html": [
       "<div>\n",
       "<style scoped>\n",
       "    .dataframe tbody tr th:only-of-type {\n",
       "        vertical-align: middle;\n",
       "    }\n",
       "\n",
       "    .dataframe tbody tr th {\n",
       "        vertical-align: top;\n",
       "    }\n",
       "\n",
       "    .dataframe thead th {\n",
       "        text-align: right;\n",
       "    }\n",
       "</style>\n",
       "<table border=\"1\" class=\"dataframe\">\n",
       "  <thead>\n",
       "    <tr style=\"text-align: right;\">\n",
       "      <th></th>\n",
       "      <th>idaviso</th>\n",
       "      <th>titulo</th>\n",
       "      <th>nombre_zona</th>\n",
       "      <th>tipo_de_trabajo</th>\n",
       "      <th>nivel_laboral</th>\n",
       "      <th>nombre_area</th>\n",
       "      <th>denominacion_empresa</th>\n",
       "      <th>titulo_uppercase</th>\n",
       "      <th>pide_hombre</th>\n",
       "      <th>pide_mujer</th>\n",
       "      <th>...</th>\n",
       "      <th>estudiantes</th>\n",
       "      <th>conocimientos_especificos</th>\n",
       "      <th>buen_ambiente</th>\n",
       "      <th>indica_sueldo</th>\n",
       "      <th>part_time</th>\n",
       "      <th>full_time</th>\n",
       "      <th>ofrece_crecimiento</th>\n",
       "      <th>ofrece_beneficios</th>\n",
       "      <th>obra_social</th>\n",
       "      <th>multinacional</th>\n",
       "    </tr>\n",
       "  </thead>\n",
       "  <tbody>\n",
       "    <tr>\n",
       "      <th>0</th>\n",
       "      <td>8725750</td>\n",
       "      <td>VENDEDOR/A PROVINCIA DE SANTA FE</td>\n",
       "      <td>Gran Buenos Aires</td>\n",
       "      <td>Full-time</td>\n",
       "      <td>Senior / Semi-Senior</td>\n",
       "      <td>Comercial</td>\n",
       "      <td>VENTOR</td>\n",
       "      <td>True</td>\n",
       "      <td>False</td>\n",
       "      <td>False</td>\n",
       "      <td>...</td>\n",
       "      <td>False</td>\n",
       "      <td>False</td>\n",
       "      <td>False</td>\n",
       "      <td>False</td>\n",
       "      <td>False</td>\n",
       "      <td>True</td>\n",
       "      <td>False</td>\n",
       "      <td>False</td>\n",
       "      <td>False</td>\n",
       "      <td>False</td>\n",
       "    </tr>\n",
       "    <tr>\n",
       "      <th>1</th>\n",
       "      <td>17903700</td>\n",
       "      <td>Enfermeras</td>\n",
       "      <td>Gran Buenos Aires</td>\n",
       "      <td>Full-time</td>\n",
       "      <td>Senior / Semi-Senior</td>\n",
       "      <td>Salud</td>\n",
       "      <td>Farmacias Central Oeste</td>\n",
       "      <td>False</td>\n",
       "      <td>False</td>\n",
       "      <td>True</td>\n",
       "      <td>...</td>\n",
       "      <td>False</td>\n",
       "      <td>False</td>\n",
       "      <td>False</td>\n",
       "      <td>False</td>\n",
       "      <td>False</td>\n",
       "      <td>False</td>\n",
       "      <td>False</td>\n",
       "      <td>False</td>\n",
       "      <td>False</td>\n",
       "      <td>False</td>\n",
       "    </tr>\n",
       "    <tr>\n",
       "      <th>2</th>\n",
       "      <td>1000150677</td>\n",
       "      <td>Chofer de taxi</td>\n",
       "      <td>Capital Federal</td>\n",
       "      <td>Full-time</td>\n",
       "      <td>Senior / Semi-Senior</td>\n",
       "      <td>Transporte</td>\n",
       "      <td>FAMITAX SRL</td>\n",
       "      <td>False</td>\n",
       "      <td>False</td>\n",
       "      <td>False</td>\n",
       "      <td>...</td>\n",
       "      <td>False</td>\n",
       "      <td>False</td>\n",
       "      <td>False</td>\n",
       "      <td>False</td>\n",
       "      <td>False</td>\n",
       "      <td>False</td>\n",
       "      <td>False</td>\n",
       "      <td>True</td>\n",
       "      <td>True</td>\n",
       "      <td>False</td>\n",
       "    </tr>\n",
       "    <tr>\n",
       "      <th>3</th>\n",
       "      <td>1000610287</td>\n",
       "      <td>CHOFER DE CAMIONETA BAHIA BLANCA - PUNTA ALTA</td>\n",
       "      <td>Gran Buenos Aires</td>\n",
       "      <td>Full-time</td>\n",
       "      <td>Senior / Semi-Senior</td>\n",
       "      <td>Transporte</td>\n",
       "      <td>Wurth Argentina S.A</td>\n",
       "      <td>True</td>\n",
       "      <td>False</td>\n",
       "      <td>False</td>\n",
       "      <td>...</td>\n",
       "      <td>False</td>\n",
       "      <td>False</td>\n",
       "      <td>False</td>\n",
       "      <td>False</td>\n",
       "      <td>False</td>\n",
       "      <td>False</td>\n",
       "      <td>True</td>\n",
       "      <td>False</td>\n",
       "      <td>False</td>\n",
       "      <td>True</td>\n",
       "    </tr>\n",
       "    <tr>\n",
       "      <th>4</th>\n",
       "      <td>1000872556</td>\n",
       "      <td>Operarios de Planta - Rubro Electrodomésticos</td>\n",
       "      <td>Gran Buenos Aires</td>\n",
       "      <td>Full-time</td>\n",
       "      <td>Senior / Semi-Senior</td>\n",
       "      <td>Producción</td>\n",
       "      <td>ELECTRO OUTLET SRL</td>\n",
       "      <td>False</td>\n",
       "      <td>False</td>\n",
       "      <td>False</td>\n",
       "      <td>...</td>\n",
       "      <td>False</td>\n",
       "      <td>False</td>\n",
       "      <td>False</td>\n",
       "      <td>False</td>\n",
       "      <td>False</td>\n",
       "      <td>False</td>\n",
       "      <td>False</td>\n",
       "      <td>False</td>\n",
       "      <td>False</td>\n",
       "      <td>False</td>\n",
       "    </tr>\n",
       "  </tbody>\n",
       "</table>\n",
       "<p>5 rows × 33 columns</p>\n",
       "</div>"
      ],
      "text/plain": [
       "      idaviso                                         titulo  \\\n",
       "0     8725750               VENDEDOR/A PROVINCIA DE SANTA FE   \n",
       "1    17903700                                     Enfermeras   \n",
       "2  1000150677                                 Chofer de taxi   \n",
       "3  1000610287  CHOFER DE CAMIONETA BAHIA BLANCA - PUNTA ALTA   \n",
       "4  1000872556  Operarios de Planta - Rubro Electrodomésticos   \n",
       "\n",
       "         nombre_zona tipo_de_trabajo         nivel_laboral nombre_area  \\\n",
       "0  Gran Buenos Aires       Full-time  Senior / Semi-Senior   Comercial   \n",
       "1  Gran Buenos Aires       Full-time  Senior / Semi-Senior       Salud   \n",
       "2    Capital Federal       Full-time  Senior / Semi-Senior  Transporte   \n",
       "3  Gran Buenos Aires       Full-time  Senior / Semi-Senior  Transporte   \n",
       "4  Gran Buenos Aires       Full-time  Senior / Semi-Senior  Producción   \n",
       "\n",
       "      denominacion_empresa  titulo_uppercase  pide_hombre  pide_mujer  \\\n",
       "0                   VENTOR              True        False       False   \n",
       "1  Farmacias Central Oeste             False        False        True   \n",
       "2              FAMITAX SRL             False        False       False   \n",
       "3      Wurth Argentina S.A              True        False       False   \n",
       "4       ELECTRO OUTLET SRL             False        False       False   \n",
       "\n",
       "       ...        estudiantes  conocimientos_especificos  buen_ambiente  \\\n",
       "0      ...              False                      False          False   \n",
       "1      ...              False                      False          False   \n",
       "2      ...              False                      False          False   \n",
       "3      ...              False                      False          False   \n",
       "4      ...              False                      False          False   \n",
       "\n",
       "   indica_sueldo  part_time  full_time  ofrece_crecimiento  ofrece_beneficios  \\\n",
       "0          False      False       True               False              False   \n",
       "1          False      False      False               False              False   \n",
       "2          False      False      False               False               True   \n",
       "3          False      False      False                True              False   \n",
       "4          False      False      False               False              False   \n",
       "\n",
       "   obra_social  multinacional  \n",
       "0        False          False  \n",
       "1        False          False  \n",
       "2         True          False  \n",
       "3        False           True  \n",
       "4        False          False  \n",
       "\n",
       "[5 rows x 33 columns]"
      ]
     },
     "execution_count": 199,
     "metadata": {},
     "output_type": "execute_result"
    }
   ],
   "source": [
    "avisos.drop(['descripcion'], axis=1, inplace=True);\n",
    "avisos.head()"
   ]
  },
  {
   "cell_type": "code",
   "execution_count": 201,
   "metadata": {},
   "outputs": [],
   "source": [
    "avisos.drop_duplicates(['idaviso'],keep='last',inplace=True)\n",
    "avisos=avisos.fillna(\"-\")\n",
    "avisos.to_csv(\"Data/fiuba_entrenamiento/pocho/avisos.csv\", index=False)"
   ]
  },
  {
   "cell_type": "code",
   "execution_count": 203,
   "metadata": {},
   "outputs": [
    {
     "data": {
      "text/html": [
       "<div>\n",
       "<style scoped>\n",
       "    .dataframe tbody tr th:only-of-type {\n",
       "        vertical-align: middle;\n",
       "    }\n",
       "\n",
       "    .dataframe tbody tr th {\n",
       "        vertical-align: top;\n",
       "    }\n",
       "\n",
       "    .dataframe thead th {\n",
       "        text-align: right;\n",
       "    }\n",
       "</style>\n",
       "<table border=\"1\" class=\"dataframe\">\n",
       "  <thead>\n",
       "    <tr style=\"text-align: right;\">\n",
       "      <th></th>\n",
       "      <th>idaviso</th>\n",
       "      <th>titulo</th>\n",
       "      <th>nombre_zona</th>\n",
       "      <th>tipo_de_trabajo</th>\n",
       "      <th>nivel_laboral</th>\n",
       "      <th>nombre_area</th>\n",
       "      <th>denominacion_empresa</th>\n",
       "      <th>titulo_uppercase</th>\n",
       "      <th>pide_hombre</th>\n",
       "      <th>pide_mujer</th>\n",
       "      <th>...</th>\n",
       "      <th>estudiantes</th>\n",
       "      <th>conocimientos_especificos</th>\n",
       "      <th>buen_ambiente</th>\n",
       "      <th>indica_sueldo</th>\n",
       "      <th>part_time</th>\n",
       "      <th>full_time</th>\n",
       "      <th>ofrece_crecimiento</th>\n",
       "      <th>ofrece_beneficios</th>\n",
       "      <th>obra_social</th>\n",
       "      <th>multinacional</th>\n",
       "    </tr>\n",
       "  </thead>\n",
       "  <tbody>\n",
       "    <tr>\n",
       "      <th>0</th>\n",
       "      <td>8725750</td>\n",
       "      <td>VENDEDOR/A PROVINCIA DE SANTA FE</td>\n",
       "      <td>Gran Buenos Aires</td>\n",
       "      <td>Full-time</td>\n",
       "      <td>Senior / Semi-Senior</td>\n",
       "      <td>Comercial</td>\n",
       "      <td>VENTOR</td>\n",
       "      <td>True</td>\n",
       "      <td>False</td>\n",
       "      <td>False</td>\n",
       "      <td>...</td>\n",
       "      <td>False</td>\n",
       "      <td>False</td>\n",
       "      <td>False</td>\n",
       "      <td>False</td>\n",
       "      <td>False</td>\n",
       "      <td>True</td>\n",
       "      <td>False</td>\n",
       "      <td>False</td>\n",
       "      <td>False</td>\n",
       "      <td>False</td>\n",
       "    </tr>\n",
       "    <tr>\n",
       "      <th>3</th>\n",
       "      <td>1000610287</td>\n",
       "      <td>CHOFER DE CAMIONETA BAHIA BLANCA - PUNTA ALTA</td>\n",
       "      <td>Gran Buenos Aires</td>\n",
       "      <td>Full-time</td>\n",
       "      <td>Senior / Semi-Senior</td>\n",
       "      <td>Transporte</td>\n",
       "      <td>Wurth Argentina S.A</td>\n",
       "      <td>True</td>\n",
       "      <td>False</td>\n",
       "      <td>False</td>\n",
       "      <td>...</td>\n",
       "      <td>False</td>\n",
       "      <td>False</td>\n",
       "      <td>False</td>\n",
       "      <td>False</td>\n",
       "      <td>False</td>\n",
       "      <td>False</td>\n",
       "      <td>True</td>\n",
       "      <td>False</td>\n",
       "      <td>False</td>\n",
       "      <td>True</td>\n",
       "    </tr>\n",
       "    <tr>\n",
       "      <th>4</th>\n",
       "      <td>1000872556</td>\n",
       "      <td>Operarios de Planta - Rubro Electrodomésticos</td>\n",
       "      <td>Gran Buenos Aires</td>\n",
       "      <td>Full-time</td>\n",
       "      <td>Senior / Semi-Senior</td>\n",
       "      <td>Producción</td>\n",
       "      <td>ELECTRO OUTLET SRL</td>\n",
       "      <td>False</td>\n",
       "      <td>False</td>\n",
       "      <td>False</td>\n",
       "      <td>...</td>\n",
       "      <td>False</td>\n",
       "      <td>False</td>\n",
       "      <td>False</td>\n",
       "      <td>False</td>\n",
       "      <td>False</td>\n",
       "      <td>False</td>\n",
       "      <td>False</td>\n",
       "      <td>False</td>\n",
       "      <td>False</td>\n",
       "      <td>False</td>\n",
       "    </tr>\n",
       "    <tr>\n",
       "      <th>5</th>\n",
       "      <td>1001135716</td>\n",
       "      <td>Vendedor Viajante TUCUMAN/SANTIAGO DEL ESTERO</td>\n",
       "      <td>Gran Buenos Aires</td>\n",
       "      <td>Full-time</td>\n",
       "      <td>Senior / Semi-Senior</td>\n",
       "      <td>Ventas</td>\n",
       "      <td>Wurth Argentina S.A</td>\n",
       "      <td>True</td>\n",
       "      <td>False</td>\n",
       "      <td>False</td>\n",
       "      <td>...</td>\n",
       "      <td>False</td>\n",
       "      <td>False</td>\n",
       "      <td>False</td>\n",
       "      <td>False</td>\n",
       "      <td>False</td>\n",
       "      <td>False</td>\n",
       "      <td>True</td>\n",
       "      <td>False</td>\n",
       "      <td>False</td>\n",
       "      <td>True</td>\n",
       "    </tr>\n",
       "    <tr>\n",
       "      <th>6</th>\n",
       "      <td>1001326344</td>\n",
       "      <td>Vendedor Viajante RECONQUISTA/AVELLANEDA</td>\n",
       "      <td>Gran Buenos Aires</td>\n",
       "      <td>Full-time</td>\n",
       "      <td>Senior / Semi-Senior</td>\n",
       "      <td>Ventas</td>\n",
       "      <td>Wurth Argentina S.A</td>\n",
       "      <td>True</td>\n",
       "      <td>False</td>\n",
       "      <td>False</td>\n",
       "      <td>...</td>\n",
       "      <td>False</td>\n",
       "      <td>False</td>\n",
       "      <td>False</td>\n",
       "      <td>False</td>\n",
       "      <td>False</td>\n",
       "      <td>False</td>\n",
       "      <td>True</td>\n",
       "      <td>False</td>\n",
       "      <td>False</td>\n",
       "      <td>True</td>\n",
       "    </tr>\n",
       "  </tbody>\n",
       "</table>\n",
       "<p>5 rows × 33 columns</p>\n",
       "</div>"
      ],
      "text/plain": [
       "      idaviso                                         titulo  \\\n",
       "0     8725750               VENDEDOR/A PROVINCIA DE SANTA FE   \n",
       "3  1000610287  CHOFER DE CAMIONETA BAHIA BLANCA - PUNTA ALTA   \n",
       "4  1000872556  Operarios de Planta - Rubro Electrodomésticos   \n",
       "5  1001135716  Vendedor Viajante TUCUMAN/SANTIAGO DEL ESTERO   \n",
       "6  1001326344       Vendedor Viajante RECONQUISTA/AVELLANEDA   \n",
       "\n",
       "         nombre_zona tipo_de_trabajo         nivel_laboral nombre_area  \\\n",
       "0  Gran Buenos Aires       Full-time  Senior / Semi-Senior   Comercial   \n",
       "3  Gran Buenos Aires       Full-time  Senior / Semi-Senior  Transporte   \n",
       "4  Gran Buenos Aires       Full-time  Senior / Semi-Senior  Producción   \n",
       "5  Gran Buenos Aires       Full-time  Senior / Semi-Senior      Ventas   \n",
       "6  Gran Buenos Aires       Full-time  Senior / Semi-Senior      Ventas   \n",
       "\n",
       "  denominacion_empresa  titulo_uppercase  pide_hombre  pide_mujer  \\\n",
       "0               VENTOR              True        False       False   \n",
       "3  Wurth Argentina S.A              True        False       False   \n",
       "4   ELECTRO OUTLET SRL             False        False       False   \n",
       "5  Wurth Argentina S.A              True        False       False   \n",
       "6  Wurth Argentina S.A              True        False       False   \n",
       "\n",
       "       ...        estudiantes  conocimientos_especificos  buen_ambiente  \\\n",
       "0      ...              False                      False          False   \n",
       "3      ...              False                      False          False   \n",
       "4      ...              False                      False          False   \n",
       "5      ...              False                      False          False   \n",
       "6      ...              False                      False          False   \n",
       "\n",
       "   indica_sueldo  part_time  full_time  ofrece_crecimiento  ofrece_beneficios  \\\n",
       "0          False      False       True               False              False   \n",
       "3          False      False      False                True              False   \n",
       "4          False      False      False               False              False   \n",
       "5          False      False      False                True              False   \n",
       "6          False      False      False                True              False   \n",
       "\n",
       "   obra_social  multinacional  \n",
       "0        False          False  \n",
       "3        False           True  \n",
       "4        False          False  \n",
       "5        False           True  \n",
       "6        False           True  \n",
       "\n",
       "[5 rows x 33 columns]"
      ]
     },
     "execution_count": 203,
     "metadata": {},
     "output_type": "execute_result"
    }
   ],
   "source": [
    "avisos.head()"
   ]
  },
  {
   "cell_type": "code",
   "execution_count": 7,
   "metadata": {},
   "outputs": [
    {
     "ename": "OSError",
     "evalue": "No such file or directory: 'C:\\\\Users\\\\Pocho\\\\AppData\\\\Roaming\\\\nltk_data\\\\corpora\\\\stopwords\\\\html'",
     "output_type": "error",
     "traceback": [
      "\u001b[1;31m---------------------------------------------------------------------------\u001b[0m",
      "\u001b[1;31mOSError\u001b[0m                                   Traceback (most recent call last)",
      "\u001b[1;32m<ipython-input-7-3e0db4641c7d>\u001b[0m in \u001b[0;36m<module>\u001b[1;34m()\u001b[0m\n\u001b[0;32m      7\u001b[0m \u001b[1;33m\u001b[0m\u001b[0m\n\u001b[0;32m      8\u001b[0m \u001b[0mdescripciones\u001b[0m\u001b[1;33m=\u001b[0m\u001b[0mavisos\u001b[0m\u001b[1;33m[\u001b[0m\u001b[1;34m'descripcion'\u001b[0m\u001b[1;33m]\u001b[0m\u001b[1;33m\u001b[0m\u001b[0m\n\u001b[1;32m----> 9\u001b[1;33m \u001b[0msw\u001b[0m \u001b[1;33m=\u001b[0m \u001b[0mstopwords\u001b[0m\u001b[1;33m.\u001b[0m\u001b[0mwords\u001b[0m\u001b[1;33m(\u001b[0m\u001b[1;34m\"spanish\"\u001b[0m\u001b[1;33m)\u001b[0m \u001b[1;33m+\u001b[0m \u001b[0mstopwords\u001b[0m\u001b[1;33m.\u001b[0m\u001b[0mwords\u001b[0m\u001b[1;33m(\u001b[0m\u001b[1;34m\"html\"\u001b[0m\u001b[1;33m)\u001b[0m\u001b[1;33m\u001b[0m\u001b[0m\n\u001b[0m\u001b[0;32m     10\u001b[0m \u001b[0ma\u001b[0m \u001b[1;33m=\u001b[0m \u001b[0mTfidfVectorizer\u001b[0m\u001b[1;33m(\u001b[0m\u001b[0msw\u001b[0m\u001b[1;33m)\u001b[0m\u001b[1;33m\u001b[0m\u001b[0m\n",
      "\u001b[1;32m~\\Anaconda3\\lib\\site-packages\\nltk\\corpus\\reader\\wordlist.py\u001b[0m in \u001b[0;36mwords\u001b[1;34m(self, fileids, ignore_lines_startswith)\u001b[0m\n\u001b[0;32m     20\u001b[0m     \"\"\"\n\u001b[0;32m     21\u001b[0m     \u001b[1;32mdef\u001b[0m \u001b[0mwords\u001b[0m\u001b[1;33m(\u001b[0m\u001b[0mself\u001b[0m\u001b[1;33m,\u001b[0m \u001b[0mfileids\u001b[0m\u001b[1;33m=\u001b[0m\u001b[1;32mNone\u001b[0m\u001b[1;33m,\u001b[0m \u001b[0mignore_lines_startswith\u001b[0m\u001b[1;33m=\u001b[0m\u001b[1;34m'\\n'\u001b[0m\u001b[1;33m)\u001b[0m\u001b[1;33m:\u001b[0m\u001b[1;33m\u001b[0m\u001b[0m\n\u001b[1;32m---> 22\u001b[1;33m         return [line for line in line_tokenize(self.raw(fileids))\n\u001b[0m\u001b[0;32m     23\u001b[0m                 if not line.startswith(ignore_lines_startswith)]\n\u001b[0;32m     24\u001b[0m \u001b[1;33m\u001b[0m\u001b[0m\n",
      "\u001b[1;32m~\\Anaconda3\\lib\\site-packages\\nltk\\corpus\\reader\\wordlist.py\u001b[0m in \u001b[0;36mraw\u001b[1;34m(self, fileids)\u001b[0m\n\u001b[0;32m     26\u001b[0m         \u001b[1;32mif\u001b[0m \u001b[0mfileids\u001b[0m \u001b[1;32mis\u001b[0m \u001b[1;32mNone\u001b[0m\u001b[1;33m:\u001b[0m \u001b[0mfileids\u001b[0m \u001b[1;33m=\u001b[0m \u001b[0mself\u001b[0m\u001b[1;33m.\u001b[0m\u001b[0m_fileids\u001b[0m\u001b[1;33m\u001b[0m\u001b[0m\n\u001b[0;32m     27\u001b[0m         \u001b[1;32melif\u001b[0m \u001b[0misinstance\u001b[0m\u001b[1;33m(\u001b[0m\u001b[0mfileids\u001b[0m\u001b[1;33m,\u001b[0m \u001b[0mstring_types\u001b[0m\u001b[1;33m)\u001b[0m\u001b[1;33m:\u001b[0m \u001b[0mfileids\u001b[0m \u001b[1;33m=\u001b[0m \u001b[1;33m[\u001b[0m\u001b[0mfileids\u001b[0m\u001b[1;33m]\u001b[0m\u001b[1;33m\u001b[0m\u001b[0m\n\u001b[1;32m---> 28\u001b[1;33m         \u001b[1;32mreturn\u001b[0m \u001b[0mconcat\u001b[0m\u001b[1;33m(\u001b[0m\u001b[1;33m[\u001b[0m\u001b[0mself\u001b[0m\u001b[1;33m.\u001b[0m\u001b[0mopen\u001b[0m\u001b[1;33m(\u001b[0m\u001b[0mf\u001b[0m\u001b[1;33m)\u001b[0m\u001b[1;33m.\u001b[0m\u001b[0mread\u001b[0m\u001b[1;33m(\u001b[0m\u001b[1;33m)\u001b[0m \u001b[1;32mfor\u001b[0m \u001b[0mf\u001b[0m \u001b[1;32min\u001b[0m \u001b[0mfileids\u001b[0m\u001b[1;33m]\u001b[0m\u001b[1;33m)\u001b[0m\u001b[1;33m\u001b[0m\u001b[0m\n\u001b[0m\u001b[0;32m     29\u001b[0m \u001b[1;33m\u001b[0m\u001b[0m\n\u001b[0;32m     30\u001b[0m \u001b[1;33m\u001b[0m\u001b[0m\n",
      "\u001b[1;32m~\\Anaconda3\\lib\\site-packages\\nltk\\corpus\\reader\\wordlist.py\u001b[0m in \u001b[0;36m<listcomp>\u001b[1;34m(.0)\u001b[0m\n\u001b[0;32m     26\u001b[0m         \u001b[1;32mif\u001b[0m \u001b[0mfileids\u001b[0m \u001b[1;32mis\u001b[0m \u001b[1;32mNone\u001b[0m\u001b[1;33m:\u001b[0m \u001b[0mfileids\u001b[0m \u001b[1;33m=\u001b[0m \u001b[0mself\u001b[0m\u001b[1;33m.\u001b[0m\u001b[0m_fileids\u001b[0m\u001b[1;33m\u001b[0m\u001b[0m\n\u001b[0;32m     27\u001b[0m         \u001b[1;32melif\u001b[0m \u001b[0misinstance\u001b[0m\u001b[1;33m(\u001b[0m\u001b[0mfileids\u001b[0m\u001b[1;33m,\u001b[0m \u001b[0mstring_types\u001b[0m\u001b[1;33m)\u001b[0m\u001b[1;33m:\u001b[0m \u001b[0mfileids\u001b[0m \u001b[1;33m=\u001b[0m \u001b[1;33m[\u001b[0m\u001b[0mfileids\u001b[0m\u001b[1;33m]\u001b[0m\u001b[1;33m\u001b[0m\u001b[0m\n\u001b[1;32m---> 28\u001b[1;33m         \u001b[1;32mreturn\u001b[0m \u001b[0mconcat\u001b[0m\u001b[1;33m(\u001b[0m\u001b[1;33m[\u001b[0m\u001b[0mself\u001b[0m\u001b[1;33m.\u001b[0m\u001b[0mopen\u001b[0m\u001b[1;33m(\u001b[0m\u001b[0mf\u001b[0m\u001b[1;33m)\u001b[0m\u001b[1;33m.\u001b[0m\u001b[0mread\u001b[0m\u001b[1;33m(\u001b[0m\u001b[1;33m)\u001b[0m \u001b[1;32mfor\u001b[0m \u001b[0mf\u001b[0m \u001b[1;32min\u001b[0m \u001b[0mfileids\u001b[0m\u001b[1;33m]\u001b[0m\u001b[1;33m)\u001b[0m\u001b[1;33m\u001b[0m\u001b[0m\n\u001b[0m\u001b[0;32m     29\u001b[0m \u001b[1;33m\u001b[0m\u001b[0m\n\u001b[0;32m     30\u001b[0m \u001b[1;33m\u001b[0m\u001b[0m\n",
      "\u001b[1;32m~\\Anaconda3\\lib\\site-packages\\nltk\\corpus\\reader\\api.py\u001b[0m in \u001b[0;36mopen\u001b[1;34m(self, file)\u001b[0m\n\u001b[0;32m    211\u001b[0m         \"\"\"\n\u001b[0;32m    212\u001b[0m         \u001b[0mencoding\u001b[0m \u001b[1;33m=\u001b[0m \u001b[0mself\u001b[0m\u001b[1;33m.\u001b[0m\u001b[0mencoding\u001b[0m\u001b[1;33m(\u001b[0m\u001b[0mfile\u001b[0m\u001b[1;33m)\u001b[0m\u001b[1;33m\u001b[0m\u001b[0m\n\u001b[1;32m--> 213\u001b[1;33m         \u001b[0mstream\u001b[0m \u001b[1;33m=\u001b[0m \u001b[0mself\u001b[0m\u001b[1;33m.\u001b[0m\u001b[0m_root\u001b[0m\u001b[1;33m.\u001b[0m\u001b[0mjoin\u001b[0m\u001b[1;33m(\u001b[0m\u001b[0mfile\u001b[0m\u001b[1;33m)\u001b[0m\u001b[1;33m.\u001b[0m\u001b[0mopen\u001b[0m\u001b[1;33m(\u001b[0m\u001b[0mencoding\u001b[0m\u001b[1;33m)\u001b[0m\u001b[1;33m\u001b[0m\u001b[0m\n\u001b[0m\u001b[0;32m    214\u001b[0m         \u001b[1;32mreturn\u001b[0m \u001b[0mstream\u001b[0m\u001b[1;33m\u001b[0m\u001b[0m\n\u001b[0;32m    215\u001b[0m \u001b[1;33m\u001b[0m\u001b[0m\n",
      "\u001b[1;32m~\\Anaconda3\\lib\\site-packages\\nltk\\data.py\u001b[0m in \u001b[0;36mjoin\u001b[1;34m(self, fileid)\u001b[0m\n\u001b[0;32m    338\u001b[0m     \u001b[1;32mdef\u001b[0m \u001b[0mjoin\u001b[0m\u001b[1;33m(\u001b[0m\u001b[0mself\u001b[0m\u001b[1;33m,\u001b[0m \u001b[0mfileid\u001b[0m\u001b[1;33m)\u001b[0m\u001b[1;33m:\u001b[0m\u001b[1;33m\u001b[0m\u001b[0m\n\u001b[0;32m    339\u001b[0m         \u001b[0m_path\u001b[0m \u001b[1;33m=\u001b[0m \u001b[0mos\u001b[0m\u001b[1;33m.\u001b[0m\u001b[0mpath\u001b[0m\u001b[1;33m.\u001b[0m\u001b[0mjoin\u001b[0m\u001b[1;33m(\u001b[0m\u001b[0mself\u001b[0m\u001b[1;33m.\u001b[0m\u001b[0m_path\u001b[0m\u001b[1;33m,\u001b[0m \u001b[0mfileid\u001b[0m\u001b[1;33m)\u001b[0m\u001b[1;33m\u001b[0m\u001b[0m\n\u001b[1;32m--> 340\u001b[1;33m         \u001b[1;32mreturn\u001b[0m \u001b[0mFileSystemPathPointer\u001b[0m\u001b[1;33m(\u001b[0m\u001b[0m_path\u001b[0m\u001b[1;33m)\u001b[0m\u001b[1;33m\u001b[0m\u001b[0m\n\u001b[0m\u001b[0;32m    341\u001b[0m \u001b[1;33m\u001b[0m\u001b[0m\n\u001b[0;32m    342\u001b[0m     \u001b[1;32mdef\u001b[0m \u001b[0m__repr__\u001b[0m\u001b[1;33m(\u001b[0m\u001b[0mself\u001b[0m\u001b[1;33m)\u001b[0m\u001b[1;33m:\u001b[0m\u001b[1;33m\u001b[0m\u001b[0m\n",
      "\u001b[1;32m~\\Anaconda3\\lib\\site-packages\\nltk\\compat.py\u001b[0m in \u001b[0;36m_decorator\u001b[1;34m(*args, **kwargs)\u001b[0m\n\u001b[0;32m    219\u001b[0m     \u001b[1;32mdef\u001b[0m \u001b[0m_decorator\u001b[0m\u001b[1;33m(\u001b[0m\u001b[1;33m*\u001b[0m\u001b[0margs\u001b[0m\u001b[1;33m,\u001b[0m \u001b[1;33m**\u001b[0m\u001b[0mkwargs\u001b[0m\u001b[1;33m)\u001b[0m\u001b[1;33m:\u001b[0m\u001b[1;33m\u001b[0m\u001b[0m\n\u001b[0;32m    220\u001b[0m         \u001b[0margs\u001b[0m \u001b[1;33m=\u001b[0m \u001b[1;33m(\u001b[0m\u001b[0margs\u001b[0m\u001b[1;33m[\u001b[0m\u001b[1;36m0\u001b[0m\u001b[1;33m]\u001b[0m\u001b[1;33m,\u001b[0m \u001b[0madd_py3_data\u001b[0m\u001b[1;33m(\u001b[0m\u001b[0margs\u001b[0m\u001b[1;33m[\u001b[0m\u001b[1;36m1\u001b[0m\u001b[1;33m]\u001b[0m\u001b[1;33m)\u001b[0m\u001b[1;33m)\u001b[0m \u001b[1;33m+\u001b[0m \u001b[0margs\u001b[0m\u001b[1;33m[\u001b[0m\u001b[1;36m2\u001b[0m\u001b[1;33m:\u001b[0m\u001b[1;33m]\u001b[0m\u001b[1;33m\u001b[0m\u001b[0m\n\u001b[1;32m--> 221\u001b[1;33m         \u001b[1;32mreturn\u001b[0m \u001b[0minit_func\u001b[0m\u001b[1;33m(\u001b[0m\u001b[1;33m*\u001b[0m\u001b[0margs\u001b[0m\u001b[1;33m,\u001b[0m \u001b[1;33m**\u001b[0m\u001b[0mkwargs\u001b[0m\u001b[1;33m)\u001b[0m\u001b[1;33m\u001b[0m\u001b[0m\n\u001b[0m\u001b[0;32m    222\u001b[0m     \u001b[1;32mreturn\u001b[0m \u001b[0mwraps\u001b[0m\u001b[1;33m(\u001b[0m\u001b[0minit_func\u001b[0m\u001b[1;33m)\u001b[0m\u001b[1;33m(\u001b[0m\u001b[0m_decorator\u001b[0m\u001b[1;33m)\u001b[0m\u001b[1;33m\u001b[0m\u001b[0m\n\u001b[0;32m    223\u001b[0m \u001b[1;33m\u001b[0m\u001b[0m\n",
      "\u001b[1;32m~\\Anaconda3\\lib\\site-packages\\nltk\\data.py\u001b[0m in \u001b[0;36m__init__\u001b[1;34m(self, _path)\u001b[0m\n\u001b[0;32m    316\u001b[0m         \u001b[0m_path\u001b[0m \u001b[1;33m=\u001b[0m \u001b[0mos\u001b[0m\u001b[1;33m.\u001b[0m\u001b[0mpath\u001b[0m\u001b[1;33m.\u001b[0m\u001b[0mabspath\u001b[0m\u001b[1;33m(\u001b[0m\u001b[0m_path\u001b[0m\u001b[1;33m)\u001b[0m\u001b[1;33m\u001b[0m\u001b[0m\n\u001b[0;32m    317\u001b[0m         \u001b[1;32mif\u001b[0m \u001b[1;32mnot\u001b[0m \u001b[0mos\u001b[0m\u001b[1;33m.\u001b[0m\u001b[0mpath\u001b[0m\u001b[1;33m.\u001b[0m\u001b[0mexists\u001b[0m\u001b[1;33m(\u001b[0m\u001b[0m_path\u001b[0m\u001b[1;33m)\u001b[0m\u001b[1;33m:\u001b[0m\u001b[1;33m\u001b[0m\u001b[0m\n\u001b[1;32m--> 318\u001b[1;33m             \u001b[1;32mraise\u001b[0m \u001b[0mIOError\u001b[0m\u001b[1;33m(\u001b[0m\u001b[1;34m'No such file or directory: %r'\u001b[0m \u001b[1;33m%\u001b[0m \u001b[0m_path\u001b[0m\u001b[1;33m)\u001b[0m\u001b[1;33m\u001b[0m\u001b[0m\n\u001b[0m\u001b[0;32m    319\u001b[0m         \u001b[0mself\u001b[0m\u001b[1;33m.\u001b[0m\u001b[0m_path\u001b[0m \u001b[1;33m=\u001b[0m \u001b[0m_path\u001b[0m\u001b[1;33m\u001b[0m\u001b[0m\n\u001b[0;32m    320\u001b[0m \u001b[1;33m\u001b[0m\u001b[0m\n",
      "\u001b[1;31mOSError\u001b[0m: No such file or directory: 'C:\\\\Users\\\\Pocho\\\\AppData\\\\Roaming\\\\nltk_data\\\\corpora\\\\stopwords\\\\html'"
     ]
    }
   ],
   "source": [
    "#TF-IDF Featuring\n",
    "avisos = pd.read_csv(\"Data/fiuba_entrenamiento/avisos.csv\")\n",
    "from sklearn.feature_extraction.text import TfidfVectorizer\n",
    "\n",
    "from IPython.core.display import HTML\n",
    "from nltk.corpus import stopwords\n",
    "\n",
    "descripciones=avisos['descripcion']\n",
    "sw = stopwords.words(\"spanish\") + stopwords.words(\"html\") \n",
    "a = TfidfVectorizer(sw)"
   ]
  },
  {
   "cell_type": "code",
   "execution_count": null,
   "metadata": {},
   "outputs": [],
   "source": []
  },
  {
   "cell_type": "code",
   "execution_count": null,
   "metadata": {},
   "outputs": [],
   "source": []
  }
 ],
 "metadata": {
  "kernelspec": {
   "display_name": "Python 3",
   "language": "python",
   "name": "python3"
  },
  "language_info": {
   "codemirror_mode": {
    "name": "ipython",
    "version": 3
   },
   "file_extension": ".py",
   "mimetype": "text/x-python",
   "name": "python",
   "nbconvert_exporter": "python",
   "pygments_lexer": "ipython3",
   "version": "3.6.5"
  }
 },
 "nbformat": 4,
 "nbformat_minor": 2
}
