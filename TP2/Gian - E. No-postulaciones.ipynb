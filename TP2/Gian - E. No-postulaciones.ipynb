{
 "cells": [
  {
   "cell_type": "code",
   "execution_count": 1,
   "metadata": {},
   "outputs": [],
   "source": [
    "import pandas as pd\n",
    "import numpy as np\n",
    "import matplotlib.pyplot as plt\n",
    "import seaborn as sns\n",
    "from datetime import datetime\n",
    "\n",
    "from sklearn import tree\n",
    "from sklearn.tree import DecisionTreeClassifier\n",
    "from sklearn.model_selection import train_test_split\n",
    "from sklearn.metrics import accuracy_score\n",
    "from sklearn import preprocessing\n",
    "from sklearn.externals import joblib\n",
    "\n",
    "%matplotlib inline"
   ]
  },
  {
   "cell_type": "code",
   "execution_count": 2,
   "metadata": {},
   "outputs": [],
   "source": [
    "plt.rc('figure',dpi=100);"
   ]
  },
  {
   "cell_type": "code",
   "execution_count": 3,
   "metadata": {},
   "outputs": [],
   "source": [
    "avisos = pd.read_csv(\"../../Data/fiuba_entrenamiento/gian/avisos.csv\")\n",
    "postulaciones = pd.read_csv(\"../../Data/fiuba_entrenamiento/gian/postulaciones.csv\")\n",
    "postulantes = pd.read_csv(\"../../Data/fiuba_entrenamiento/gian/postulantes.csv\")\n",
    "vistas = pd.read_csv(\"../../Data/fiuba_entrenamiento/gian/vistas.csv\")"
   ]
  },
  {
   "cell_type": "code",
   "execution_count": 4,
   "metadata": {},
   "outputs": [],
   "source": [
    "vistas.drop(['timestamp','dia','mes','semana','diadelasemana','hora'],axis=1,inplace=True)\n",
    "vistas.columns=['idaviso','idpostulante']\n",
    "\n",
    "avisos = pd.read_csv(\"../../Data/fiuba_entrenamiento/gian/avisos.csv\")\n",
    "postulaciones = pd.read_csv(\"../../Data/fiuba_entrenamiento/gian/postulaciones.csv\")\n",
    "postulantes = pd.read_csv(\"../../Data/fiuba_entrenamiento/gian/postulantes.csv\")\n",
    "\n",
    "postulantes['sexo']=postulantes['sexo'].astype('category')\n",
    "postulantes['Doctorado']=postulantes['Doctorado'].astype('category')\n",
    "postulantes['Master']=postulantes['Master'].astype('category')\n",
    "postulantes['Otro']=postulantes['Otro'].astype('category')\n",
    "postulantes['Posgrado']=postulantes['Posgrado'].astype('category')\n",
    "postulantes['Secundario']=postulantes['Secundario'].astype('category')\n",
    "postulantes['Terciario/Técnico']=postulantes['Terciario/Técnico'].astype('category')\n",
    "postulantes['Universitario']=postulantes['Universitario'].astype('category')\n",
    "\n",
    "avisos['nombre_zona']=avisos['nombre_zona'].astype('category')\n",
    "avisos['tipo_de_trabajo']=avisos['tipo_de_trabajo'].astype('category')\n",
    "avisos['nivel_laboral']=avisos['nivel_laboral'].astype('category')\n",
    "avisos['nombre_area']=avisos['nombre_area'].astype('category')\n",
    "\n",
    "postulaciones['sepostulo']=1\n",
    "postulaciones.drop(['fechapostulacion','dia','mes','semana','diadelasemana','hora'],axis=1,inplace=True)"
   ]
  },
  {
   "cell_type": "code",
   "execution_count": 12,
   "metadata": {},
   "outputs": [
    {
     "data": {
      "text/plain": [
       "'from IPython.display import clear_output\\naux=pd.DataFrame(columns=postulaciones2.columns)\\n\\ni=0\\ndef agregar_copia(idaviso,aux,postulantes):\\n    global i\\n    reg=postulantes.sample(1).values[0]\\n    data=[idaviso,reg[0],0,reg[1],reg[2],reg[3],reg[4],reg[5],reg[6],reg[7],reg[8],reg[9]]\\n    aux.loc[i]=data\\n    i+=1\\n    if(i%100==0): print(i)\\n    if(i%1000==0): clear_output()\\n\\npostulaciones2.iloc[0:len(postulaciones)//2].idaviso.apply(lambda x: agregar_copia(x,aux, postulantes))\\naux.head()\\n\\npostulaciones3=postulaciones;\\npostulaciones3[\\'sepostulo\\']=0;\\nserie=postulantes[\\'idpostulante\\'];\\ni=0\\nwhile (len(postulaciones3)>len(serie)):\\n    global i\\n    serie=serie.sample(frac=1).reset_index(drop=True)\\n    serie=pd.concat([serie.sample(frac=1),serie], ignore_index=False)\\n    print(i)\\n    i+=1\\n    if(i%10==0): clear_output()\\npostulaciones3.drop([\\'fechapostulacion\\',\\'dia\\',\\'mes\\',\\'semana\\',\\'diadelasemana\\',\\'hora\\'],axis=1,inplace=True)\\nserie=serie.reset_index(drop=True)\\npostulaciones3[\\'idpostulante\\']=serie.iloc[0:len(postulaciones3)]\\npostulaciones3.to_csv(\"../../Data/fiuba_entrenamiento/gian/no-postulaciones/1.csv\",index=False)'"
      ]
     },
     "execution_count": 12,
     "metadata": {},
     "output_type": "execute_result"
    }
   ],
   "source": [
    "#Genero no-postulaciones\n",
    "from IPython.display import clear_output\n",
    "\n",
    "postulaciones3=postulaciones;\n",
    "postulaciones3['sepostulo']=0;\n",
    "serie=postulantes['idpostulante'];\n",
    "i=0\n",
    "while (len(postulaciones3)>len(serie)):\n",
    "    global i\n",
    "    serie=serie.sample(frac=1).reset_index(drop=True)\n",
    "    serie=pd.concat([serie.sample(frac=1),serie], ignore_index=False)\n",
    "    print(i)\n",
    "    i+=1\n",
    "    if(i%10==0): clear_output()\n",
    "serie=serie.reset_index(drop=True)\n",
    "postulaciones3['idpostulante']=serie.iloc[0:len(postulaciones3)]\n",
    "postulaciones3.to_csv(\"../../Data/fiuba_entrenamiento/gian/no-postulaciones/1.csv\",index=False)"
   ]
  },
  {
   "cell_type": "code",
   "execution_count": 8,
   "metadata": {},
   "outputs": [
    {
     "name": "stdout",
     "output_type": "stream",
     "text": [
      "0\n",
      "1\n"
     ]
    },
    {
     "name": "stderr",
     "output_type": "stream",
     "text": [
      "C:\\ProgramData\\Anaconda3\\lib\\site-packages\\ipykernel_launcher.py:16: SettingWithCopyWarning: \n",
      "A value is trying to be set on a copy of a slice from a DataFrame.\n",
      "Try using .loc[row_indexer,col_indexer] = value instead\n",
      "\n",
      "See the caveats in the documentation: http://pandas.pydata.org/pandas-docs/stable/indexing.html#indexing-view-versus-copy\n",
      "  app.launch_new_instance()\n"
     ]
    }
   ],
   "source": [
    "#Genero no-postulaciones teniendo en cuenta vistas\n",
    "from IPython.display import clear_output\n",
    "\n",
    "postulaciones3=postulaciones;\n",
    "postulaciones3=postulaciones3.iloc[0:len(postulaciones3)//4]\n",
    "serie=postulantes['idpostulante'];\n",
    "i=0\n",
    "while (len(postulaciones3)>len(serie)):\n",
    "    global i\n",
    "    serie=serie.sample(frac=1).reset_index(drop=True)\n",
    "    serie=pd.concat([serie.sample(frac=1),serie], ignore_index=False)\n",
    "    print(i)\n",
    "    i+=1\n",
    "    if(i%10==0): clear_output()\n",
    "serie=serie.reset_index(drop=True)\n",
    "postulaciones3['idpostulante']=serie.iloc[0:len(postulaciones3)]\n",
    "postulaciones3=pd.concat([postulaciones3,vistas.sample((len(postulaciones)*3)//2)],ignore_index=False)\n",
    "postulaciones3['sepostulo']=0;\n",
    "postulaciones3.to_csv(\"../../Data/fiuba_entrenamiento/gian/no-postulaciones/6.csv\",index=False)"
   ]
  },
  {
   "cell_type": "code",
   "execution_count": null,
   "metadata": {},
   "outputs": [],
   "source": []
  }
 ],
 "metadata": {
  "kernelspec": {
   "display_name": "Python 3",
   "language": "python",
   "name": "python3"
  },
  "language_info": {
   "codemirror_mode": {
    "name": "ipython",
    "version": 3
   },
   "file_extension": ".py",
   "mimetype": "text/x-python",
   "name": "python",
   "nbconvert_exporter": "python",
   "pygments_lexer": "ipython3",
   "version": "3.6.4"
  }
 },
 "nbformat": 4,
 "nbformat_minor": 2
}
