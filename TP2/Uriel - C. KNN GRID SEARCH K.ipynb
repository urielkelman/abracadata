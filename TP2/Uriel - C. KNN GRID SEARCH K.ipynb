{
 "cells": [
  {
   "cell_type": "code",
   "execution_count": 1,
   "metadata": {},
   "outputs": [],
   "source": [
    "import pandas as pd\n",
    "import numpy as np\n",
    "import matplotlib.pyplot as plt\n",
    "import seaborn as sns\n",
    "from datetime import datetime"
   ]
  },
  {
   "cell_type": "code",
   "execution_count": 2,
   "metadata": {},
   "outputs": [],
   "source": [
    "import pandas as pd\n",
    "import numpy as np\n",
    "import matplotlib.pyplot as plt\n",
    "import seaborn as sns\n",
    "from datetime import datetime"
   ]
  },
  {
   "cell_type": "code",
   "execution_count": 3,
   "metadata": {},
   "outputs": [],
   "source": [
    "from sklearn.neighbors import KNeighborsClassifier\n",
    "from sklearn.externals import joblib"
   ]
  },
  {
   "cell_type": "code",
   "execution_count": 4,
   "metadata": {},
   "outputs": [],
   "source": [
    "postulantes = pd.read_csv(\"postulantes_ampONEHOT.csv\")"
   ]
  },
  {
   "cell_type": "code",
   "execution_count": 5,
   "metadata": {},
   "outputs": [
    {
     "data": {
      "text/html": [
       "<div>\n",
       "<style scoped>\n",
       "    .dataframe tbody tr th:only-of-type {\n",
       "        vertical-align: middle;\n",
       "    }\n",
       "\n",
       "    .dataframe tbody tr th {\n",
       "        vertical-align: top;\n",
       "    }\n",
       "\n",
       "    .dataframe thead th {\n",
       "        text-align: right;\n",
       "    }\n",
       "</style>\n",
       "<table border=\"1\" class=\"dataframe\">\n",
       "  <thead>\n",
       "    <tr style=\"text-align: right;\">\n",
       "      <th></th>\n",
       "      <th>Unnamed: 0</th>\n",
       "      <th>idpostulante</th>\n",
       "      <th>edad</th>\n",
       "      <th>Doctorado</th>\n",
       "      <th>Master</th>\n",
       "      <th>Posgrado</th>\n",
       "      <th>Secundario</th>\n",
       "      <th>Terciario/Técnico</th>\n",
       "      <th>Universitario</th>\n",
       "      <th>masculino</th>\n",
       "      <th>femenino</th>\n",
       "      <th>18_a_24</th>\n",
       "      <th>35_a_50</th>\n",
       "      <th>25_a_34</th>\n",
       "      <th>mayor_de_50</th>\n",
       "    </tr>\n",
       "  </thead>\n",
       "  <tbody>\n",
       "    <tr>\n",
       "      <th>0</th>\n",
       "      <td>0</td>\n",
       "      <td>NM5M</td>\n",
       "      <td>47.0</td>\n",
       "      <td>False</td>\n",
       "      <td>False</td>\n",
       "      <td>False</td>\n",
       "      <td>True</td>\n",
       "      <td>False</td>\n",
       "      <td>False</td>\n",
       "      <td>False</td>\n",
       "      <td>True</td>\n",
       "      <td>False</td>\n",
       "      <td>True</td>\n",
       "      <td>False</td>\n",
       "      <td>False</td>\n",
       "    </tr>\n",
       "    <tr>\n",
       "      <th>1</th>\n",
       "      <td>1</td>\n",
       "      <td>5awk</td>\n",
       "      <td>55.0</td>\n",
       "      <td>False</td>\n",
       "      <td>False</td>\n",
       "      <td>False</td>\n",
       "      <td>True</td>\n",
       "      <td>True</td>\n",
       "      <td>True</td>\n",
       "      <td>False</td>\n",
       "      <td>True</td>\n",
       "      <td>False</td>\n",
       "      <td>False</td>\n",
       "      <td>False</td>\n",
       "      <td>True</td>\n",
       "    </tr>\n",
       "    <tr>\n",
       "      <th>2</th>\n",
       "      <td>2</td>\n",
       "      <td>ZaO5</td>\n",
       "      <td>39.0</td>\n",
       "      <td>False</td>\n",
       "      <td>False</td>\n",
       "      <td>False</td>\n",
       "      <td>False</td>\n",
       "      <td>True</td>\n",
       "      <td>False</td>\n",
       "      <td>False</td>\n",
       "      <td>True</td>\n",
       "      <td>False</td>\n",
       "      <td>True</td>\n",
       "      <td>False</td>\n",
       "      <td>False</td>\n",
       "    </tr>\n",
       "    <tr>\n",
       "      <th>3</th>\n",
       "      <td>3</td>\n",
       "      <td>NdJl</td>\n",
       "      <td>49.0</td>\n",
       "      <td>False</td>\n",
       "      <td>False</td>\n",
       "      <td>False</td>\n",
       "      <td>True</td>\n",
       "      <td>False</td>\n",
       "      <td>True</td>\n",
       "      <td>True</td>\n",
       "      <td>False</td>\n",
       "      <td>False</td>\n",
       "      <td>True</td>\n",
       "      <td>False</td>\n",
       "      <td>False</td>\n",
       "    </tr>\n",
       "    <tr>\n",
       "      <th>4</th>\n",
       "      <td>4</td>\n",
       "      <td>eo2p</td>\n",
       "      <td>37.0</td>\n",
       "      <td>False</td>\n",
       "      <td>True</td>\n",
       "      <td>False</td>\n",
       "      <td>True</td>\n",
       "      <td>False</td>\n",
       "      <td>True</td>\n",
       "      <td>True</td>\n",
       "      <td>False</td>\n",
       "      <td>False</td>\n",
       "      <td>True</td>\n",
       "      <td>False</td>\n",
       "      <td>False</td>\n",
       "    </tr>\n",
       "  </tbody>\n",
       "</table>\n",
       "</div>"
      ],
      "text/plain": [
       "   Unnamed: 0 idpostulante  edad  Doctorado  Master  Posgrado  Secundario  \\\n",
       "0           0         NM5M  47.0      False   False     False        True   \n",
       "1           1         5awk  55.0      False   False     False        True   \n",
       "2           2         ZaO5  39.0      False   False     False       False   \n",
       "3           3         NdJl  49.0      False   False     False        True   \n",
       "4           4         eo2p  37.0      False    True     False        True   \n",
       "\n",
       "   Terciario/Técnico  Universitario  masculino  femenino  18_a_24  35_a_50  \\\n",
       "0              False          False      False      True    False     True   \n",
       "1               True           True      False      True    False    False   \n",
       "2               True          False      False      True    False     True   \n",
       "3              False           True       True     False    False     True   \n",
       "4              False           True       True     False    False     True   \n",
       "\n",
       "   25_a_34  mayor_de_50  \n",
       "0    False        False  \n",
       "1    False         True  \n",
       "2    False        False  \n",
       "3    False        False  \n",
       "4    False        False  "
      ]
     },
     "execution_count": 5,
     "metadata": {},
     "output_type": "execute_result"
    }
   ],
   "source": [
    "postulantes.head()"
   ]
  },
  {
   "cell_type": "code",
   "execution_count": 6,
   "metadata": {},
   "outputs": [],
   "source": [
    "avisos = pd.read_csv(\"avisos_ampONEHOT.csv\")"
   ]
  },
  {
   "cell_type": "code",
   "execution_count": 7,
   "metadata": {},
   "outputs": [
    {
     "data": {
      "text/plain": [
       "25288"
      ]
     },
     "execution_count": 7,
     "metadata": {},
     "output_type": "execute_result"
    }
   ],
   "source": [
    "len(avisos)"
   ]
  },
  {
   "cell_type": "code",
   "execution_count": 8,
   "metadata": {},
   "outputs": [
    {
     "data": {
      "text/html": [
       "<div>\n",
       "<style scoped>\n",
       "    .dataframe tbody tr th:only-of-type {\n",
       "        vertical-align: middle;\n",
       "    }\n",
       "\n",
       "    .dataframe tbody tr th {\n",
       "        vertical-align: top;\n",
       "    }\n",
       "\n",
       "    .dataframe thead th {\n",
       "        text-align: right;\n",
       "    }\n",
       "</style>\n",
       "<table border=\"1\" class=\"dataframe\">\n",
       "  <thead>\n",
       "    <tr style=\"text-align: right;\">\n",
       "      <th></th>\n",
       "      <th>idaviso</th>\n",
       "      <th>idpostulante</th>\n",
       "      <th>sepostulo</th>\n",
       "    </tr>\n",
       "  </thead>\n",
       "  <tbody>\n",
       "    <tr>\n",
       "      <th>0</th>\n",
       "      <td>1112257047</td>\n",
       "      <td>NM5M</td>\n",
       "      <td>1</td>\n",
       "    </tr>\n",
       "    <tr>\n",
       "      <th>1</th>\n",
       "      <td>1111920714</td>\n",
       "      <td>NM5M</td>\n",
       "      <td>1</td>\n",
       "    </tr>\n",
       "    <tr>\n",
       "      <th>2</th>\n",
       "      <td>1112346945</td>\n",
       "      <td>NM5M</td>\n",
       "      <td>1</td>\n",
       "    </tr>\n",
       "    <tr>\n",
       "      <th>3</th>\n",
       "      <td>1112345547</td>\n",
       "      <td>NM5M</td>\n",
       "      <td>1</td>\n",
       "    </tr>\n",
       "    <tr>\n",
       "      <th>4</th>\n",
       "      <td>1112237522</td>\n",
       "      <td>5awk</td>\n",
       "      <td>1</td>\n",
       "    </tr>\n",
       "  </tbody>\n",
       "</table>\n",
       "</div>"
      ],
      "text/plain": [
       "      idaviso idpostulante  sepostulo\n",
       "0  1112257047         NM5M          1\n",
       "1  1111920714         NM5M          1\n",
       "2  1112346945         NM5M          1\n",
       "3  1112345547         NM5M          1\n",
       "4  1112237522         5awk          1"
      ]
     },
     "execution_count": 8,
     "metadata": {},
     "output_type": "execute_result"
    }
   ],
   "source": [
    "postulaciones = pd.read_csv(\"../../Data/fiuba_entrenamiento/gian/postulaciones.csv\")\n",
    "postulaciones['sepostulo']=1\n",
    "postulaciones.drop(['fechapostulacion','dia','mes','semana','diadelasemana','hora'],axis=1,inplace=True)\n",
    "postulaciones.head()"
   ]
  },
  {
   "cell_type": "code",
   "execution_count": 9,
   "metadata": {},
   "outputs": [
    {
     "data": {
      "text/html": [
       "<div>\n",
       "<style scoped>\n",
       "    .dataframe tbody tr th:only-of-type {\n",
       "        vertical-align: middle;\n",
       "    }\n",
       "\n",
       "    .dataframe tbody tr th {\n",
       "        vertical-align: top;\n",
       "    }\n",
       "\n",
       "    .dataframe thead th {\n",
       "        text-align: right;\n",
       "    }\n",
       "</style>\n",
       "<table border=\"1\" class=\"dataframe\">\n",
       "  <thead>\n",
       "    <tr style=\"text-align: right;\">\n",
       "      <th></th>\n",
       "      <th>idaviso</th>\n",
       "      <th>idpostulante</th>\n",
       "      <th>sepostulo</th>\n",
       "    </tr>\n",
       "  </thead>\n",
       "  <tbody>\n",
       "    <tr>\n",
       "      <th>0</th>\n",
       "      <td>1112514975</td>\n",
       "      <td>X9oarVv</td>\n",
       "      <td>0</td>\n",
       "    </tr>\n",
       "    <tr>\n",
       "      <th>1</th>\n",
       "      <td>1112284689</td>\n",
       "      <td>W9V4Zjm</td>\n",
       "      <td>0</td>\n",
       "    </tr>\n",
       "    <tr>\n",
       "      <th>2</th>\n",
       "      <td>1112295895</td>\n",
       "      <td>1QPwrrE</td>\n",
       "      <td>0</td>\n",
       "    </tr>\n",
       "    <tr>\n",
       "      <th>3</th>\n",
       "      <td>1112405319</td>\n",
       "      <td>dY5AqGb</td>\n",
       "      <td>0</td>\n",
       "    </tr>\n",
       "    <tr>\n",
       "      <th>4</th>\n",
       "      <td>1112432822</td>\n",
       "      <td>JBeYZvJ</td>\n",
       "      <td>0</td>\n",
       "    </tr>\n",
       "  </tbody>\n",
       "</table>\n",
       "</div>"
      ],
      "text/plain": [
       "      idaviso idpostulante  sepostulo\n",
       "0  1112514975      X9oarVv          0\n",
       "1  1112284689      W9V4Zjm          0\n",
       "2  1112295895      1QPwrrE          0\n",
       "3  1112405319      dY5AqGb          0\n",
       "4  1112432822      JBeYZvJ          0"
      ]
     },
     "execution_count": 9,
     "metadata": {},
     "output_type": "execute_result"
    }
   ],
   "source": [
    "no_postulaciones = pd.read_csv(\"../../Data/fiuba_entrenamiento/gian/no-postulaciones/uri.csv\")\n",
    "no_postulaciones.head()"
   ]
  },
  {
   "cell_type": "code",
   "execution_count": 10,
   "metadata": {},
   "outputs": [
    {
     "name": "stdout",
     "output_type": "stream",
     "text": [
      "13202177\n"
     ]
    },
    {
     "data": {
      "text/plain": [
       "6604534"
      ]
     },
     "execution_count": 10,
     "metadata": {},
     "output_type": "execute_result"
    }
   ],
   "source": [
    "print(len(no_postulaciones))\n",
    "len(postulaciones)"
   ]
  },
  {
   "cell_type": "code",
   "execution_count": 11,
   "metadata": {},
   "outputs": [],
   "source": [
    "postulaciones=postulaciones.append(no_postulaciones, ignore_index=True)\n",
    "postulaciones.drop_duplicates(['idaviso','idpostulante'],keep='first',inplace=True)"
   ]
  },
  {
   "cell_type": "code",
   "execution_count": 12,
   "metadata": {},
   "outputs": [
    {
     "data": {
      "text/html": [
       "<div>\n",
       "<style scoped>\n",
       "    .dataframe tbody tr th:only-of-type {\n",
       "        vertical-align: middle;\n",
       "    }\n",
       "\n",
       "    .dataframe tbody tr th {\n",
       "        vertical-align: top;\n",
       "    }\n",
       "\n",
       "    .dataframe thead th {\n",
       "        text-align: right;\n",
       "    }\n",
       "</style>\n",
       "<table border=\"1\" class=\"dataframe\">\n",
       "  <thead>\n",
       "    <tr style=\"text-align: right;\">\n",
       "      <th></th>\n",
       "      <th>idAviso</th>\n",
       "      <th>timestamp</th>\n",
       "      <th>idpostulante</th>\n",
       "      <th>dia</th>\n",
       "      <th>mes</th>\n",
       "      <th>semana</th>\n",
       "      <th>diadelasemana</th>\n",
       "      <th>hora</th>\n",
       "    </tr>\n",
       "  </thead>\n",
       "  <tbody>\n",
       "    <tr>\n",
       "      <th>0</th>\n",
       "      <td>1111780242</td>\n",
       "      <td>2018-02-23 18:38:13.187</td>\n",
       "      <td>YjVJQ6Z</td>\n",
       "      <td>23</td>\n",
       "      <td>2</td>\n",
       "      <td>8</td>\n",
       "      <td>Viernes</td>\n",
       "      <td>18</td>\n",
       "    </tr>\n",
       "    <tr>\n",
       "      <th>1</th>\n",
       "      <td>1112263876</td>\n",
       "      <td>2018-02-23 18:38:14.296</td>\n",
       "      <td>BmVpYoR</td>\n",
       "      <td>23</td>\n",
       "      <td>2</td>\n",
       "      <td>8</td>\n",
       "      <td>Viernes</td>\n",
       "      <td>18</td>\n",
       "    </tr>\n",
       "    <tr>\n",
       "      <th>2</th>\n",
       "      <td>1112327963</td>\n",
       "      <td>2018-02-23 18:38:14.329</td>\n",
       "      <td>wVkBzZd</td>\n",
       "      <td>23</td>\n",
       "      <td>2</td>\n",
       "      <td>8</td>\n",
       "      <td>Viernes</td>\n",
       "      <td>18</td>\n",
       "    </tr>\n",
       "    <tr>\n",
       "      <th>3</th>\n",
       "      <td>1112318643</td>\n",
       "      <td>2018-02-23 18:38:17.921</td>\n",
       "      <td>OqmP9pv</td>\n",
       "      <td>23</td>\n",
       "      <td>2</td>\n",
       "      <td>8</td>\n",
       "      <td>Viernes</td>\n",
       "      <td>18</td>\n",
       "    </tr>\n",
       "    <tr>\n",
       "      <th>4</th>\n",
       "      <td>1111903673</td>\n",
       "      <td>2018-02-23 18:38:18.973</td>\n",
       "      <td>DrpbXDP</td>\n",
       "      <td>23</td>\n",
       "      <td>2</td>\n",
       "      <td>8</td>\n",
       "      <td>Viernes</td>\n",
       "      <td>18</td>\n",
       "    </tr>\n",
       "  </tbody>\n",
       "</table>\n",
       "</div>"
      ],
      "text/plain": [
       "      idAviso                timestamp idpostulante  dia  mes  semana  \\\n",
       "0  1111780242  2018-02-23 18:38:13.187      YjVJQ6Z   23    2       8   \n",
       "1  1112263876  2018-02-23 18:38:14.296      BmVpYoR   23    2       8   \n",
       "2  1112327963  2018-02-23 18:38:14.329      wVkBzZd   23    2       8   \n",
       "3  1112318643  2018-02-23 18:38:17.921      OqmP9pv   23    2       8   \n",
       "4  1111903673  2018-02-23 18:38:18.973      DrpbXDP   23    2       8   \n",
       "\n",
       "  diadelasemana  hora  \n",
       "0       Viernes    18  \n",
       "1       Viernes    18  \n",
       "2       Viernes    18  \n",
       "3       Viernes    18  \n",
       "4       Viernes    18  "
      ]
     },
     "execution_count": 12,
     "metadata": {},
     "output_type": "execute_result"
    }
   ],
   "source": [
    "vistas = pd.read_csv(\"../../Data/fiuba_entrenamiento/gian/vistas.csv\")\n",
    "vistas.head()"
   ]
  },
  {
   "cell_type": "code",
   "execution_count": 13,
   "metadata": {},
   "outputs": [
    {
     "data": {
      "text/plain": [
       "16754298"
      ]
     },
     "execution_count": 13,
     "metadata": {},
     "output_type": "execute_result"
    }
   ],
   "source": [
    "len(vistas)"
   ]
  },
  {
   "cell_type": "code",
   "execution_count": 14,
   "metadata": {},
   "outputs": [
    {
     "data": {
      "text/html": [
       "<div>\n",
       "<style scoped>\n",
       "    .dataframe tbody tr th:only-of-type {\n",
       "        vertical-align: middle;\n",
       "    }\n",
       "\n",
       "    .dataframe tbody tr th {\n",
       "        vertical-align: top;\n",
       "    }\n",
       "\n",
       "    .dataframe thead th {\n",
       "        text-align: right;\n",
       "    }\n",
       "</style>\n",
       "<table border=\"1\" class=\"dataframe\">\n",
       "  <thead>\n",
       "    <tr style=\"text-align: right;\">\n",
       "      <th></th>\n",
       "      <th>idaviso</th>\n",
       "      <th>idpostulante</th>\n",
       "      <th>cantidad</th>\n",
       "    </tr>\n",
       "  </thead>\n",
       "  <tbody>\n",
       "    <tr>\n",
       "      <th>0</th>\n",
       "      <td>18</td>\n",
       "      <td>BolNL</td>\n",
       "      <td>2</td>\n",
       "    </tr>\n",
       "    <tr>\n",
       "      <th>1</th>\n",
       "      <td>48375</td>\n",
       "      <td>RwVdKR</td>\n",
       "      <td>1</td>\n",
       "    </tr>\n",
       "    <tr>\n",
       "      <th>2</th>\n",
       "      <td>169730</td>\n",
       "      <td>1KjXB</td>\n",
       "      <td>2</td>\n",
       "    </tr>\n",
       "    <tr>\n",
       "      <th>3</th>\n",
       "      <td>169730</td>\n",
       "      <td>2AKzxa</td>\n",
       "      <td>2</td>\n",
       "    </tr>\n",
       "    <tr>\n",
       "      <th>4</th>\n",
       "      <td>169730</td>\n",
       "      <td>6LJ64</td>\n",
       "      <td>1</td>\n",
       "    </tr>\n",
       "  </tbody>\n",
       "</table>\n",
       "</div>"
      ],
      "text/plain": [
       "   idaviso idpostulante  cantidad\n",
       "0       18        BolNL         2\n",
       "1    48375       RwVdKR         1\n",
       "2   169730        1KjXB         2\n",
       "3   169730       2AKzxa         2\n",
       "4   169730        6LJ64         1"
      ]
     },
     "execution_count": 14,
     "metadata": {},
     "output_type": "execute_result"
    }
   ],
   "source": [
    "vistas.drop(['timestamp','dia','mes','semana','diadelasemana','hora'],axis=1,inplace=True)\n",
    "vistas['cantidad']=0\n",
    "vistas2=vistas.groupby(['idAviso','idpostulante'],as_index=False).agg({'cantidad':'count'})\n",
    "vistas2=vistas2.rename(columns={'idAviso': 'idaviso'})\n",
    "vistas2.head()"
   ]
  },
  {
   "cell_type": "code",
   "execution_count": 15,
   "metadata": {},
   "outputs": [
    {
     "data": {
      "text/html": [
       "<div>\n",
       "<style scoped>\n",
       "    .dataframe tbody tr th:only-of-type {\n",
       "        vertical-align: middle;\n",
       "    }\n",
       "\n",
       "    .dataframe tbody tr th {\n",
       "        vertical-align: top;\n",
       "    }\n",
       "\n",
       "    .dataframe thead th {\n",
       "        text-align: right;\n",
       "    }\n",
       "</style>\n",
       "<table border=\"1\" class=\"dataframe\">\n",
       "  <thead>\n",
       "    <tr style=\"text-align: right;\">\n",
       "      <th></th>\n",
       "      <th>idpostulante</th>\n",
       "      <th>cantidad</th>\n",
       "    </tr>\n",
       "  </thead>\n",
       "  <tbody>\n",
       "    <tr>\n",
       "      <th>0</th>\n",
       "      <td>0002q</td>\n",
       "      <td>15</td>\n",
       "    </tr>\n",
       "    <tr>\n",
       "      <th>1</th>\n",
       "      <td>0005E</td>\n",
       "      <td>58</td>\n",
       "    </tr>\n",
       "    <tr>\n",
       "      <th>2</th>\n",
       "      <td>000R8</td>\n",
       "      <td>14</td>\n",
       "    </tr>\n",
       "    <tr>\n",
       "      <th>3</th>\n",
       "      <td>001XE</td>\n",
       "      <td>26</td>\n",
       "    </tr>\n",
       "    <tr>\n",
       "      <th>4</th>\n",
       "      <td>003k9</td>\n",
       "      <td>32</td>\n",
       "    </tr>\n",
       "  </tbody>\n",
       "</table>\n",
       "</div>"
      ],
      "text/plain": [
       "  idpostulante  cantidad\n",
       "0        0002q        15\n",
       "1        0005E        58\n",
       "2        000R8        14\n",
       "3        001XE        26\n",
       "4        003k9        32"
      ]
     },
     "execution_count": 15,
     "metadata": {},
     "output_type": "execute_result"
    }
   ],
   "source": [
    "vistas=vistas.groupby(['idpostulante'],as_index=False).agg({'cantidad':'count'});\n",
    "vistas=vistas.rename(columns={'idAviso': 'idaviso'})\n",
    "vistas.head()"
   ]
  },
  {
   "cell_type": "code",
   "execution_count": 16,
   "metadata": {},
   "outputs": [
    {
     "data": {
      "text/html": [
       "<div>\n",
       "<style scoped>\n",
       "    .dataframe tbody tr th:only-of-type {\n",
       "        vertical-align: middle;\n",
       "    }\n",
       "\n",
       "    .dataframe tbody tr th {\n",
       "        vertical-align: top;\n",
       "    }\n",
       "\n",
       "    .dataframe thead th {\n",
       "        text-align: right;\n",
       "    }\n",
       "</style>\n",
       "<table border=\"1\" class=\"dataframe\">\n",
       "  <thead>\n",
       "    <tr style=\"text-align: right;\">\n",
       "      <th></th>\n",
       "      <th>idaviso</th>\n",
       "      <th>idpostulante</th>\n",
       "      <th>cantidad_x</th>\n",
       "      <th>cantidad_y</th>\n",
       "    </tr>\n",
       "  </thead>\n",
       "  <tbody>\n",
       "    <tr>\n",
       "      <th>0</th>\n",
       "      <td>18</td>\n",
       "      <td>BolNL</td>\n",
       "      <td>2</td>\n",
       "      <td>28</td>\n",
       "    </tr>\n",
       "    <tr>\n",
       "      <th>1</th>\n",
       "      <td>48375</td>\n",
       "      <td>RwVdKR</td>\n",
       "      <td>1</td>\n",
       "      <td>15</td>\n",
       "    </tr>\n",
       "    <tr>\n",
       "      <th>2</th>\n",
       "      <td>169730</td>\n",
       "      <td>1KjXB</td>\n",
       "      <td>2</td>\n",
       "      <td>99</td>\n",
       "    </tr>\n",
       "    <tr>\n",
       "      <th>3</th>\n",
       "      <td>169730</td>\n",
       "      <td>2AKzxa</td>\n",
       "      <td>2</td>\n",
       "      <td>2</td>\n",
       "    </tr>\n",
       "    <tr>\n",
       "      <th>4</th>\n",
       "      <td>169730</td>\n",
       "      <td>6LJ64</td>\n",
       "      <td>1</td>\n",
       "      <td>23</td>\n",
       "    </tr>\n",
       "  </tbody>\n",
       "</table>\n",
       "</div>"
      ],
      "text/plain": [
       "   idaviso idpostulante  cantidad_x  cantidad_y\n",
       "0       18        BolNL           2          28\n",
       "1    48375       RwVdKR           1          15\n",
       "2   169730        1KjXB           2          99\n",
       "3   169730       2AKzxa           2           2\n",
       "4   169730        6LJ64           1          23"
      ]
     },
     "execution_count": 16,
     "metadata": {},
     "output_type": "execute_result"
    }
   ],
   "source": [
    "vistas2=pd.merge(vistas2,vistas,on='idpostulante',how='left')\n",
    "vistas2.head()"
   ]
  },
  {
   "cell_type": "code",
   "execution_count": 17,
   "metadata": {},
   "outputs": [
    {
     "data": {
      "text/html": [
       "<div>\n",
       "<style scoped>\n",
       "    .dataframe tbody tr th:only-of-type {\n",
       "        vertical-align: middle;\n",
       "    }\n",
       "\n",
       "    .dataframe tbody tr th {\n",
       "        vertical-align: top;\n",
       "    }\n",
       "\n",
       "    .dataframe thead th {\n",
       "        text-align: right;\n",
       "    }\n",
       "</style>\n",
       "<table border=\"1\" class=\"dataframe\">\n",
       "  <thead>\n",
       "    <tr style=\"text-align: right;\">\n",
       "      <th></th>\n",
       "      <th>idaviso</th>\n",
       "      <th>idpostulante</th>\n",
       "      <th>cantidad</th>\n",
       "    </tr>\n",
       "  </thead>\n",
       "  <tbody>\n",
       "    <tr>\n",
       "      <th>0</th>\n",
       "      <td>18</td>\n",
       "      <td>BolNL</td>\n",
       "      <td>0.071429</td>\n",
       "    </tr>\n",
       "    <tr>\n",
       "      <th>1</th>\n",
       "      <td>48375</td>\n",
       "      <td>RwVdKR</td>\n",
       "      <td>0.066667</td>\n",
       "    </tr>\n",
       "    <tr>\n",
       "      <th>2</th>\n",
       "      <td>169730</td>\n",
       "      <td>1KjXB</td>\n",
       "      <td>0.020202</td>\n",
       "    </tr>\n",
       "    <tr>\n",
       "      <th>3</th>\n",
       "      <td>169730</td>\n",
       "      <td>2AKzxa</td>\n",
       "      <td>1.000000</td>\n",
       "    </tr>\n",
       "    <tr>\n",
       "      <th>4</th>\n",
       "      <td>169730</td>\n",
       "      <td>6LJ64</td>\n",
       "      <td>0.043478</td>\n",
       "    </tr>\n",
       "  </tbody>\n",
       "</table>\n",
       "</div>"
      ],
      "text/plain": [
       "   idaviso idpostulante  cantidad\n",
       "0       18        BolNL  0.071429\n",
       "1    48375       RwVdKR  0.066667\n",
       "2   169730        1KjXB  0.020202\n",
       "3   169730       2AKzxa  1.000000\n",
       "4   169730        6LJ64  0.043478"
      ]
     },
     "execution_count": 17,
     "metadata": {},
     "output_type": "execute_result"
    }
   ],
   "source": [
    "vistas2['cantidad']=vistas2['cantidad_x']/vistas2['cantidad_y']\n",
    "vistas2.drop(['cantidad_x','cantidad_y'],axis=1,inplace=True)\n",
    "vistas=vistas2\n",
    "vistas2.head()"
   ]
  },
  {
   "cell_type": "code",
   "execution_count": 18,
   "metadata": {},
   "outputs": [
    {
     "data": {
      "text/plain": [
       "1.000000    118603\n",
       "0.111111     79690\n",
       "0.142857     79070\n",
       "0.200000     78950\n",
       "0.125000     78640\n",
       "0.166667     78573\n",
       "0.100000     77604\n",
       "0.090909     76879\n",
       "0.333333     75838\n",
       "0.250000     75275\n",
       "0.076923     75262\n",
       "0.083333     75066\n",
       "0.071429     74647\n",
       "0.066667     72883\n",
       "0.062500     71762\n",
       "0.058824     70607\n",
       "0.500000     69620\n",
       "0.055556     69389\n",
       "0.052632     67594\n",
       "0.050000     66264\n",
       "0.045455     64829\n",
       "0.047619     64482\n",
       "0.041667     61959\n",
       "0.043478     61745\n",
       "0.040000     60253\n",
       "0.037037     58859\n",
       "0.038462     58116\n",
       "0.035714     57955\n",
       "0.034483     56494\n",
       "0.033333     55040\n",
       "             ...  \n",
       "0.009336         1\n",
       "0.007819         1\n",
       "0.042088         1\n",
       "0.017405         1\n",
       "0.119883         1\n",
       "0.016145         1\n",
       "0.036918         1\n",
       "0.084886         1\n",
       "0.030995         1\n",
       "0.030032         1\n",
       "0.050167         1\n",
       "0.078775         1\n",
       "0.079422         1\n",
       "0.218310         1\n",
       "0.567010         1\n",
       "0.068515         1\n",
       "0.135667         1\n",
       "0.011403         1\n",
       "0.031079         1\n",
       "0.022704         1\n",
       "0.092751         1\n",
       "0.901587         1\n",
       "0.059813         1\n",
       "0.013106         1\n",
       "0.014308         1\n",
       "0.028953         1\n",
       "0.780488         1\n",
       "0.029685         1\n",
       "0.045070         1\n",
       "0.008234         1\n",
       "Name: cantidad, Length: 11956, dtype: int64"
      ]
     },
     "execution_count": 18,
     "metadata": {},
     "output_type": "execute_result"
    }
   ],
   "source": [
    "vistas['cantidad'].value_counts()"
   ]
  },
  {
   "cell_type": "code",
   "execution_count": 19,
   "metadata": {},
   "outputs": [],
   "source": [
    "vistas['vio_anuncio'] = 1"
   ]
  },
  {
   "cell_type": "code",
   "execution_count": 20,
   "metadata": {},
   "outputs": [
    {
     "data": {
      "text/plain": [
       "19799380"
      ]
     },
     "execution_count": 20,
     "metadata": {},
     "output_type": "execute_result"
    }
   ],
   "source": [
    "len(postulaciones)"
   ]
  },
  {
   "cell_type": "code",
   "execution_count": 21,
   "metadata": {},
   "outputs": [],
   "source": [
    "postulaciones = postulaciones.sample(n=2500000)"
   ]
  },
  {
   "cell_type": "code",
   "execution_count": 22,
   "metadata": {},
   "outputs": [
    {
     "data": {
      "text/plain": [
       "835330"
      ]
     },
     "execution_count": 22,
     "metadata": {},
     "output_type": "execute_result"
    }
   ],
   "source": [
    "postulaciones.sepostulo.sum()"
   ]
  },
  {
   "cell_type": "code",
   "execution_count": 23,
   "metadata": {},
   "outputs": [],
   "source": [
    "postulaciones=pd.merge(postulaciones,postulantes,on='idpostulante')"
   ]
  },
  {
   "cell_type": "code",
   "execution_count": 24,
   "metadata": {},
   "outputs": [],
   "source": [
    "postulaciones=pd.merge(postulaciones,avisos,on='idaviso')"
   ]
  },
  {
   "cell_type": "code",
   "execution_count": 25,
   "metadata": {},
   "outputs": [],
   "source": [
    "postulaciones=pd.merge(postulaciones,vistas,on=['idaviso','idpostulante'],how='left')"
   ]
  },
  {
   "cell_type": "code",
   "execution_count": 26,
   "metadata": {},
   "outputs": [],
   "source": [
    "def vio_anuncio(x, peso):\n",
    "    return peso if x > 0 else 0"
   ]
  },
  {
   "cell_type": "code",
   "execution_count": 27,
   "metadata": {},
   "outputs": [],
   "source": [
    "postulaciones['cantidad'] = postulaciones['cantidad'].fillna(0)"
   ]
  },
  {
   "cell_type": "code",
   "execution_count": 28,
   "metadata": {},
   "outputs": [
    {
     "data": {
      "text/html": [
       "<div>\n",
       "<style scoped>\n",
       "    .dataframe tbody tr th:only-of-type {\n",
       "        vertical-align: middle;\n",
       "    }\n",
       "\n",
       "    .dataframe tbody tr th {\n",
       "        vertical-align: top;\n",
       "    }\n",
       "\n",
       "    .dataframe thead th {\n",
       "        text-align: right;\n",
       "    }\n",
       "</style>\n",
       "<table border=\"1\" class=\"dataframe\">\n",
       "  <thead>\n",
       "    <tr style=\"text-align: right;\">\n",
       "      <th></th>\n",
       "      <th>idaviso</th>\n",
       "      <th>idpostulante</th>\n",
       "      <th>sepostulo</th>\n",
       "      <th>Unnamed: 0_x</th>\n",
       "      <th>edad</th>\n",
       "      <th>Doctorado</th>\n",
       "      <th>Master</th>\n",
       "      <th>Posgrado</th>\n",
       "      <th>Secundario</th>\n",
       "      <th>Terciario/Técnico</th>\n",
       "      <th>...</th>\n",
       "      <th>conta</th>\n",
       "      <th>prog</th>\n",
       "      <th>tecno</th>\n",
       "      <th>telemrkt</th>\n",
       "      <th>teso</th>\n",
       "      <th>almacen</th>\n",
       "      <th>rrhh</th>\n",
       "      <th>limpieza</th>\n",
       "      <th>cantidad</th>\n",
       "      <th>vio_anuncio</th>\n",
       "    </tr>\n",
       "  </thead>\n",
       "  <tbody>\n",
       "    <tr>\n",
       "      <th>0</th>\n",
       "      <td>1112305876</td>\n",
       "      <td>5qQeLM</td>\n",
       "      <td>0</td>\n",
       "      <td>423686</td>\n",
       "      <td>34.0</td>\n",
       "      <td>False</td>\n",
       "      <td>False</td>\n",
       "      <td>False</td>\n",
       "      <td>True</td>\n",
       "      <td>False</td>\n",
       "      <td>...</td>\n",
       "      <td>False</td>\n",
       "      <td>False</td>\n",
       "      <td>False</td>\n",
       "      <td>False</td>\n",
       "      <td>False</td>\n",
       "      <td>False</td>\n",
       "      <td>False</td>\n",
       "      <td>0</td>\n",
       "      <td>0.000000</td>\n",
       "      <td>0</td>\n",
       "    </tr>\n",
       "    <tr>\n",
       "      <th>1</th>\n",
       "      <td>1112305876</td>\n",
       "      <td>6rP3KZO</td>\n",
       "      <td>1</td>\n",
       "      <td>196750</td>\n",
       "      <td>18.0</td>\n",
       "      <td>False</td>\n",
       "      <td>False</td>\n",
       "      <td>False</td>\n",
       "      <td>True</td>\n",
       "      <td>False</td>\n",
       "      <td>...</td>\n",
       "      <td>False</td>\n",
       "      <td>False</td>\n",
       "      <td>False</td>\n",
       "      <td>False</td>\n",
       "      <td>False</td>\n",
       "      <td>False</td>\n",
       "      <td>False</td>\n",
       "      <td>0</td>\n",
       "      <td>0.001372</td>\n",
       "      <td>10</td>\n",
       "    </tr>\n",
       "    <tr>\n",
       "      <th>2</th>\n",
       "      <td>1112305876</td>\n",
       "      <td>bOJdP0d</td>\n",
       "      <td>1</td>\n",
       "      <td>55871</td>\n",
       "      <td>23.0</td>\n",
       "      <td>False</td>\n",
       "      <td>False</td>\n",
       "      <td>False</td>\n",
       "      <td>True</td>\n",
       "      <td>True</td>\n",
       "      <td>...</td>\n",
       "      <td>False</td>\n",
       "      <td>False</td>\n",
       "      <td>False</td>\n",
       "      <td>False</td>\n",
       "      <td>False</td>\n",
       "      <td>False</td>\n",
       "      <td>False</td>\n",
       "      <td>0</td>\n",
       "      <td>0.000000</td>\n",
       "      <td>0</td>\n",
       "    </tr>\n",
       "    <tr>\n",
       "      <th>3</th>\n",
       "      <td>1112305876</td>\n",
       "      <td>8M20QwM</td>\n",
       "      <td>0</td>\n",
       "      <td>120421</td>\n",
       "      <td>36.0</td>\n",
       "      <td>False</td>\n",
       "      <td>False</td>\n",
       "      <td>False</td>\n",
       "      <td>True</td>\n",
       "      <td>False</td>\n",
       "      <td>...</td>\n",
       "      <td>False</td>\n",
       "      <td>False</td>\n",
       "      <td>False</td>\n",
       "      <td>False</td>\n",
       "      <td>False</td>\n",
       "      <td>False</td>\n",
       "      <td>False</td>\n",
       "      <td>0</td>\n",
       "      <td>0.000000</td>\n",
       "      <td>0</td>\n",
       "    </tr>\n",
       "    <tr>\n",
       "      <th>4</th>\n",
       "      <td>1112305876</td>\n",
       "      <td>BmBN1rv</td>\n",
       "      <td>1</td>\n",
       "      <td>120528</td>\n",
       "      <td>24.0</td>\n",
       "      <td>False</td>\n",
       "      <td>False</td>\n",
       "      <td>False</td>\n",
       "      <td>False</td>\n",
       "      <td>False</td>\n",
       "      <td>...</td>\n",
       "      <td>False</td>\n",
       "      <td>False</td>\n",
       "      <td>False</td>\n",
       "      <td>False</td>\n",
       "      <td>False</td>\n",
       "      <td>False</td>\n",
       "      <td>False</td>\n",
       "      <td>0</td>\n",
       "      <td>0.001657</td>\n",
       "      <td>10</td>\n",
       "    </tr>\n",
       "  </tbody>\n",
       "</table>\n",
       "<p>5 rows × 66 columns</p>\n",
       "</div>"
      ],
      "text/plain": [
       "      idaviso idpostulante  sepostulo  Unnamed: 0_x  edad  Doctorado  Master  \\\n",
       "0  1112305876       5qQeLM          0        423686  34.0      False   False   \n",
       "1  1112305876      6rP3KZO          1        196750  18.0      False   False   \n",
       "2  1112305876      bOJdP0d          1         55871  23.0      False   False   \n",
       "3  1112305876      8M20QwM          0        120421  36.0      False   False   \n",
       "4  1112305876      BmBN1rv          1        120528  24.0      False   False   \n",
       "\n",
       "   Posgrado  Secundario  Terciario/Técnico     ...       conta   prog  tecno  \\\n",
       "0     False        True              False     ...       False  False  False   \n",
       "1     False        True              False     ...       False  False  False   \n",
       "2     False        True               True     ...       False  False  False   \n",
       "3     False        True              False     ...       False  False  False   \n",
       "4     False       False              False     ...       False  False  False   \n",
       "\n",
       "   telemrkt   teso  almacen   rrhh  limpieza  cantidad  vio_anuncio  \n",
       "0     False  False    False  False         0  0.000000            0  \n",
       "1     False  False    False  False         0  0.001372           10  \n",
       "2     False  False    False  False         0  0.000000            0  \n",
       "3     False  False    False  False         0  0.000000            0  \n",
       "4     False  False    False  False         0  0.001657           10  \n",
       "\n",
       "[5 rows x 66 columns]"
      ]
     },
     "execution_count": 28,
     "metadata": {},
     "output_type": "execute_result"
    }
   ],
   "source": [
    "postulaciones['vio_anuncio'] = postulaciones['cantidad'].apply(lambda x: vio_anuncio(x,10))\n",
    "postulaciones.head()"
   ]
  },
  {
   "cell_type": "code",
   "execution_count": 29,
   "metadata": {},
   "outputs": [
    {
     "data": {
      "text/plain": [
       "2246550"
      ]
     },
     "execution_count": 29,
     "metadata": {},
     "output_type": "execute_result"
    }
   ],
   "source": [
    "postulaciones['vio_anuncio'].sum()"
   ]
  },
  {
   "cell_type": "code",
   "execution_count": 30,
   "metadata": {},
   "outputs": [
    {
     "data": {
      "text/html": [
       "<div>\n",
       "<style scoped>\n",
       "    .dataframe tbody tr th:only-of-type {\n",
       "        vertical-align: middle;\n",
       "    }\n",
       "\n",
       "    .dataframe tbody tr th {\n",
       "        vertical-align: top;\n",
       "    }\n",
       "\n",
       "    .dataframe thead th {\n",
       "        text-align: right;\n",
       "    }\n",
       "</style>\n",
       "<table border=\"1\" class=\"dataframe\">\n",
       "  <thead>\n",
       "    <tr style=\"text-align: right;\">\n",
       "      <th></th>\n",
       "      <th>idaviso</th>\n",
       "      <th>idpostulante</th>\n",
       "      <th>sepostulo</th>\n",
       "      <th>edad</th>\n",
       "      <th>Doctorado</th>\n",
       "      <th>Master</th>\n",
       "      <th>Posgrado</th>\n",
       "      <th>Secundario</th>\n",
       "      <th>Terciario/Técnico</th>\n",
       "      <th>Universitario</th>\n",
       "      <th>...</th>\n",
       "      <th>conta</th>\n",
       "      <th>prog</th>\n",
       "      <th>tecno</th>\n",
       "      <th>telemrkt</th>\n",
       "      <th>teso</th>\n",
       "      <th>almacen</th>\n",
       "      <th>rrhh</th>\n",
       "      <th>limpieza</th>\n",
       "      <th>cantidad</th>\n",
       "      <th>vio_anuncio</th>\n",
       "    </tr>\n",
       "  </thead>\n",
       "  <tbody>\n",
       "    <tr>\n",
       "      <th>0</th>\n",
       "      <td>1112305876</td>\n",
       "      <td>5qQeLM</td>\n",
       "      <td>0</td>\n",
       "      <td>34.0</td>\n",
       "      <td>False</td>\n",
       "      <td>False</td>\n",
       "      <td>False</td>\n",
       "      <td>True</td>\n",
       "      <td>False</td>\n",
       "      <td>True</td>\n",
       "      <td>...</td>\n",
       "      <td>False</td>\n",
       "      <td>False</td>\n",
       "      <td>False</td>\n",
       "      <td>False</td>\n",
       "      <td>False</td>\n",
       "      <td>False</td>\n",
       "      <td>False</td>\n",
       "      <td>0</td>\n",
       "      <td>0.000000</td>\n",
       "      <td>0</td>\n",
       "    </tr>\n",
       "    <tr>\n",
       "      <th>1</th>\n",
       "      <td>1112305876</td>\n",
       "      <td>6rP3KZO</td>\n",
       "      <td>1</td>\n",
       "      <td>18.0</td>\n",
       "      <td>False</td>\n",
       "      <td>False</td>\n",
       "      <td>False</td>\n",
       "      <td>True</td>\n",
       "      <td>False</td>\n",
       "      <td>False</td>\n",
       "      <td>...</td>\n",
       "      <td>False</td>\n",
       "      <td>False</td>\n",
       "      <td>False</td>\n",
       "      <td>False</td>\n",
       "      <td>False</td>\n",
       "      <td>False</td>\n",
       "      <td>False</td>\n",
       "      <td>0</td>\n",
       "      <td>0.001372</td>\n",
       "      <td>10</td>\n",
       "    </tr>\n",
       "    <tr>\n",
       "      <th>2</th>\n",
       "      <td>1112305876</td>\n",
       "      <td>bOJdP0d</td>\n",
       "      <td>1</td>\n",
       "      <td>23.0</td>\n",
       "      <td>False</td>\n",
       "      <td>False</td>\n",
       "      <td>False</td>\n",
       "      <td>True</td>\n",
       "      <td>True</td>\n",
       "      <td>False</td>\n",
       "      <td>...</td>\n",
       "      <td>False</td>\n",
       "      <td>False</td>\n",
       "      <td>False</td>\n",
       "      <td>False</td>\n",
       "      <td>False</td>\n",
       "      <td>False</td>\n",
       "      <td>False</td>\n",
       "      <td>0</td>\n",
       "      <td>0.000000</td>\n",
       "      <td>0</td>\n",
       "    </tr>\n",
       "    <tr>\n",
       "      <th>3</th>\n",
       "      <td>1112305876</td>\n",
       "      <td>8M20QwM</td>\n",
       "      <td>0</td>\n",
       "      <td>36.0</td>\n",
       "      <td>False</td>\n",
       "      <td>False</td>\n",
       "      <td>False</td>\n",
       "      <td>True</td>\n",
       "      <td>False</td>\n",
       "      <td>False</td>\n",
       "      <td>...</td>\n",
       "      <td>False</td>\n",
       "      <td>False</td>\n",
       "      <td>False</td>\n",
       "      <td>False</td>\n",
       "      <td>False</td>\n",
       "      <td>False</td>\n",
       "      <td>False</td>\n",
       "      <td>0</td>\n",
       "      <td>0.000000</td>\n",
       "      <td>0</td>\n",
       "    </tr>\n",
       "    <tr>\n",
       "      <th>4</th>\n",
       "      <td>1112305876</td>\n",
       "      <td>BmBN1rv</td>\n",
       "      <td>1</td>\n",
       "      <td>24.0</td>\n",
       "      <td>False</td>\n",
       "      <td>False</td>\n",
       "      <td>False</td>\n",
       "      <td>False</td>\n",
       "      <td>False</td>\n",
       "      <td>False</td>\n",
       "      <td>...</td>\n",
       "      <td>False</td>\n",
       "      <td>False</td>\n",
       "      <td>False</td>\n",
       "      <td>False</td>\n",
       "      <td>False</td>\n",
       "      <td>False</td>\n",
       "      <td>False</td>\n",
       "      <td>0</td>\n",
       "      <td>0.001657</td>\n",
       "      <td>10</td>\n",
       "    </tr>\n",
       "  </tbody>\n",
       "</table>\n",
       "<p>5 rows × 63 columns</p>\n",
       "</div>"
      ],
      "text/plain": [
       "      idaviso idpostulante  sepostulo  edad  Doctorado  Master  Posgrado  \\\n",
       "0  1112305876       5qQeLM          0  34.0      False   False     False   \n",
       "1  1112305876      6rP3KZO          1  18.0      False   False     False   \n",
       "2  1112305876      bOJdP0d          1  23.0      False   False     False   \n",
       "3  1112305876      8M20QwM          0  36.0      False   False     False   \n",
       "4  1112305876      BmBN1rv          1  24.0      False   False     False   \n",
       "\n",
       "   Secundario  Terciario/Técnico  Universitario     ...       conta   prog  \\\n",
       "0        True              False           True     ...       False  False   \n",
       "1        True              False          False     ...       False  False   \n",
       "2        True               True          False     ...       False  False   \n",
       "3        True              False          False     ...       False  False   \n",
       "4       False              False          False     ...       False  False   \n",
       "\n",
       "   tecno  telemrkt   teso  almacen   rrhh  limpieza  cantidad  vio_anuncio  \n",
       "0  False     False  False    False  False         0  0.000000            0  \n",
       "1  False     False  False    False  False         0  0.001372           10  \n",
       "2  False     False  False    False  False         0  0.000000            0  \n",
       "3  False     False  False    False  False         0  0.000000            0  \n",
       "4  False     False  False    False  False         0  0.001657           10  \n",
       "\n",
       "[5 rows x 63 columns]"
      ]
     },
     "execution_count": 30,
     "metadata": {},
     "output_type": "execute_result"
    }
   ],
   "source": [
    "postulaciones.drop(['Unnamed: 0_x','denominacion_empresa','Unnamed: 0_y'], axis=1, inplace=True)\n",
    "postulaciones.head()"
   ]
  },
  {
   "cell_type": "code",
   "execution_count": 31,
   "metadata": {},
   "outputs": [],
   "source": [
    "postulaciones.drop(['idaviso','idpostulante','edad','cantidad'], inplace=True, axis=1)"
   ]
  },
  {
   "cell_type": "code",
   "execution_count": 32,
   "metadata": {},
   "outputs": [],
   "source": [
    "postulaciones.drop(['paquete_office','titulo_uppercase'], inplace=True, axis=1)"
   ]
  },
  {
   "cell_type": "code",
   "execution_count": 33,
   "metadata": {},
   "outputs": [
    {
     "data": {
      "text/plain": [
       "sepostulo              int64\n",
       "Doctorado               bool\n",
       "Master                  bool\n",
       "Posgrado                bool\n",
       "Secundario              bool\n",
       "Terciario/Técnico       bool\n",
       "Universitario           bool\n",
       "masculino               bool\n",
       "femenino                bool\n",
       "18_a_24                 bool\n",
       "35_a_50                 bool\n",
       "25_a_34                 bool\n",
       "mayor_de_50             bool\n",
       "pide_hombre            int64\n",
       "pide_mujer             int64\n",
       "ingles                 int64\n",
       "experiencia            int64\n",
       "secundario             int64\n",
       "empresa_importante      bool\n",
       "graduados              int64\n",
       "estudiantes            int64\n",
       "pide_vendedor          int64\n",
       "pide_administrativo    int64\n",
       "pide_tecnico           int64\n",
       "pide_analista          int64\n",
       "pide_comercial         int64\n",
       "pide_asistente         int64\n",
       "pide_ejecutivo         int64\n",
       "pide_ingeniero         int64\n",
       "pide_operario          int64\n",
       "pide_desarollador      int64\n",
       "gran_BA                 bool\n",
       "capital_f               bool\n",
       "fueraOeste_GBA          bool\n",
       "cordoba                 bool\n",
       "full_time               bool\n",
       "part_time               bool\n",
       "teletrabajo             bool\n",
       "pasantia                bool\n",
       "senior                  bool\n",
       "junior                  bool\n",
       "jefe                    bool\n",
       "gerente                 bool\n",
       "ventas                  bool\n",
       "admin                   bool\n",
       "producc                 bool\n",
       "comercial               bool\n",
       "at_cliente              bool\n",
       "conta                   bool\n",
       "prog                    bool\n",
       "tecno                   bool\n",
       "telemrkt                bool\n",
       "teso                    bool\n",
       "almacen                 bool\n",
       "rrhh                    bool\n",
       "limpieza               int64\n",
       "vio_anuncio            int64\n",
       "dtype: object"
      ]
     },
     "execution_count": 33,
     "metadata": {},
     "output_type": "execute_result"
    }
   ],
   "source": [
    "postulaciones.dtypes"
   ]
  },
  {
   "cell_type": "code",
   "execution_count": 34,
   "metadata": {},
   "outputs": [],
   "source": [
    "postulaciones.drop(['full_time','part_time','teletrabajo','pasantia','empresa_importante','pide_hombre','pide_mujer'], inplace=True, axis=1 )"
   ]
  },
  {
   "cell_type": "code",
   "execution_count": 35,
   "metadata": {},
   "outputs": [],
   "source": [
    "postulaciones_aux = postulaciones[['sepostulo', 'vio_anuncio', '18_a_24', '25_a_34', '35_a_50', 'mayor_de_50', 'gran_BA', 'capital_f', 'fueraOeste_GBA',\n",
    " 'cordoba', 'Doctorado', 'Master', 'Posgrado', 'Secundario', 'Terciario/Técnico', 'Universitario', 'masculino', 'femenino', 'ingles', 'experiencia',\n",
    " 'secundario', 'graduados', 'estudiantes', 'pide_vendedor','pide_administrativo','pide_tecnico','pide_analista','pide_comercial','pide_asistente','pide_ejecutivo',\n",
    "    'pide_ingeniero','pide_operario','pide_desarollador', 'senior', 'junior', 'jefe', 'gerente', 'ventas', 'admin', 'producc', 'comercial', 'at_cliente', 'conta', 'prog', 'tecno', 'telemrkt', 'teso', 'almacen', 'rrhh', 'limpieza']]"
   ]
  },
  {
   "cell_type": "code",
   "execution_count": 36,
   "metadata": {},
   "outputs": [],
   "source": [
    "peso_v_a = 100\n",
    "postulaciones_aux['vio_anuncio'] = postulaciones_aux['vio_anuncio'].apply(lambda x: vio_anuncio(x, peso_v_a))"
   ]
  },
  {
   "cell_type": "code",
   "execution_count": 37,
   "metadata": {},
   "outputs": [
    {
     "data": {
      "text/plain": [
       "22465500"
      ]
     },
     "execution_count": 37,
     "metadata": {},
     "output_type": "execute_result"
    }
   ],
   "source": [
    "postulaciones_aux['vio_anuncio'].sum()"
   ]
  },
  {
   "cell_type": "code",
   "execution_count": 38,
   "metadata": {},
   "outputs": [
    {
     "data": {
      "text/plain": [
       "['sepostulo',\n",
       " 'vio_anuncio',\n",
       " '18_a_24',\n",
       " '25_a_34',\n",
       " '35_a_50',\n",
       " 'mayor_de_50',\n",
       " 'gran_BA',\n",
       " 'capital_f',\n",
       " 'fueraOeste_GBA',\n",
       " 'cordoba',\n",
       " 'Doctorado',\n",
       " 'Master',\n",
       " 'Posgrado',\n",
       " 'Secundario',\n",
       " 'Terciario/Técnico',\n",
       " 'Universitario',\n",
       " 'masculino',\n",
       " 'femenino',\n",
       " 'ingles',\n",
       " 'experiencia',\n",
       " 'secundario',\n",
       " 'graduados',\n",
       " 'estudiantes',\n",
       " 'pide_vendedor',\n",
       " 'pide_administrativo',\n",
       " 'pide_tecnico',\n",
       " 'pide_analista',\n",
       " 'pide_comercial',\n",
       " 'pide_asistente',\n",
       " 'pide_ejecutivo',\n",
       " 'pide_ingeniero',\n",
       " 'pide_operario',\n",
       " 'pide_desarollador',\n",
       " 'senior',\n",
       " 'junior',\n",
       " 'jefe',\n",
       " 'gerente',\n",
       " 'ventas',\n",
       " 'admin',\n",
       " 'producc',\n",
       " 'comercial',\n",
       " 'at_cliente',\n",
       " 'conta',\n",
       " 'prog',\n",
       " 'tecno',\n",
       " 'telemrkt',\n",
       " 'teso',\n",
       " 'almacen',\n",
       " 'rrhh',\n",
       " 'limpieza']"
      ]
     },
     "execution_count": 38,
     "metadata": {},
     "output_type": "execute_result"
    }
   ],
   "source": [
    "#features = ['idaviso', 'idpostulante', 'sepostulo', 'edad', 'Doctorado', 'Master', 'Posgrado', 'Secundario', 'Terciario/Técnico', 'Universitario', 'nombre_area', 'pide_hombre', 'pide_mujer', 'ingles', 'experiencia', 'secundario', 'graduados', 'estudiantes', 'pide_vendedor', 'pide_administrativo', 'pide_tecnico', 'pide_analista', 'pide_comercial', 'pide_asistente', 'pide_ejecutivo', 'pide_ingeniero', 'pide_operario', 'pide_desarollador', 'cantidad', 'masculino', 'femenino', 'gran_BA', 'capital_f', 'fueraOeste_GBA', 'cordoba', 'full_time', 'part_time', 'teletrabajo', 'pasantia', 'senior', 'junior', 'jefe', 'gerente', 'ventas', 'admin', 'producc', 'comercial', 'at_cliente', 'conta', 'prog', 'tecno', 'telemrkt', 'teso', 'almacen', 'rrhh', 'limpieza']\n",
    "features=list(postulaciones_aux.columns)\n",
    "features"
   ]
  },
  {
   "cell_type": "code",
   "execution_count": 39,
   "metadata": {},
   "outputs": [
    {
     "data": {
      "text/plain": [
       "['vio_anuncio',\n",
       " '18_a_24',\n",
       " '25_a_34',\n",
       " '35_a_50',\n",
       " 'mayor_de_50',\n",
       " 'gran_BA',\n",
       " 'capital_f',\n",
       " 'fueraOeste_GBA',\n",
       " 'cordoba',\n",
       " 'Doctorado',\n",
       " 'Master',\n",
       " 'Posgrado',\n",
       " 'Secundario',\n",
       " 'Terciario/Técnico',\n",
       " 'Universitario',\n",
       " 'masculino',\n",
       " 'femenino',\n",
       " 'ingles',\n",
       " 'experiencia',\n",
       " 'secundario',\n",
       " 'graduados',\n",
       " 'estudiantes',\n",
       " 'pide_vendedor',\n",
       " 'pide_administrativo',\n",
       " 'pide_tecnico',\n",
       " 'pide_analista',\n",
       " 'pide_comercial',\n",
       " 'pide_asistente',\n",
       " 'pide_ejecutivo',\n",
       " 'pide_ingeniero',\n",
       " 'pide_operario',\n",
       " 'pide_desarollador',\n",
       " 'senior',\n",
       " 'junior',\n",
       " 'jefe',\n",
       " 'gerente',\n",
       " 'ventas',\n",
       " 'admin',\n",
       " 'producc',\n",
       " 'comercial',\n",
       " 'at_cliente',\n",
       " 'conta',\n",
       " 'prog',\n",
       " 'tecno',\n",
       " 'telemrkt',\n",
       " 'teso',\n",
       " 'almacen',\n",
       " 'rrhh',\n",
       " 'limpieza']"
      ]
     },
     "execution_count": 39,
     "metadata": {},
     "output_type": "execute_result"
    }
   ],
   "source": [
    "features.remove('sepostulo')\n",
    "features"
   ]
  },
  {
   "cell_type": "code",
   "execution_count": 40,
   "metadata": {},
   "outputs": [
    {
     "name": "stdout",
     "output_type": "stream",
     "text": [
      "Train:  2324786 Test:  122358\n"
     ]
    }
   ],
   "source": [
    "from sklearn.model_selection import train_test_split\n",
    "train, test=train_test_split(postulaciones,test_size=0.05)\n",
    "print(\"Train: \",len(train),\"Test: \",len(test))"
   ]
  },
  {
   "cell_type": "code",
   "execution_count": 41,
   "metadata": {},
   "outputs": [],
   "source": [
    "x_train=train[features]\n",
    "y_train=train['sepostulo']"
   ]
  },
  {
   "cell_type": "code",
   "execution_count": 42,
   "metadata": {},
   "outputs": [],
   "source": [
    "x_test=test[features]\n",
    "y_test=test['sepostulo']"
   ]
  },
  {
   "cell_type": "code",
   "execution_count": 57,
   "metadata": {},
   "outputs": [
    {
     "name": "stdout",
     "output_type": "stream",
     "text": [
      "Resultados anteriores:  {10: 0.7800165037233313, 20: 0.7933625336927225, 30: 0.7951866043827189, 40: 0.7973936680524465, 50: 0.7966624217643566}\n"
     ]
    }
   ],
   "source": [
    "print(\"Resultados anteriores: \", resultados)\n",
    "#print(\"Features anteriores: \", features_anteriores)"
   ]
  },
  {
   "cell_type": "code",
   "execution_count": 43,
   "metadata": {},
   "outputs": [],
   "source": [
    "resultados = {}"
   ]
  },
  {
   "cell_type": "code",
   "execution_count": 44,
   "metadata": {},
   "outputs": [],
   "source": [
    "features_anteriores = features"
   ]
  },
  {
   "cell_type": "code",
   "execution_count": 44,
   "metadata": {},
   "outputs": [],
   "source": [
    "from sklearn.metrics import roc_auc_score\n",
    "def roc_score(model):\n",
    "    x_final = x_test[features]\n",
    "    y_final = model.predict_proba(x_final)\n",
    "    y_pred = []\n",
    "    for y in y_final:\n",
    "        y_pred.append((y[1]))\n",
    "    return roc_auc_score(y_test,y_pred)"
   ]
  },
  {
   "cell_type": "code",
   "execution_count": 45,
   "metadata": {},
   "outputs": [
    {
     "name": "stdout",
     "output_type": "stream",
     "text": [
      "122358\n",
      "122358\n",
      "2324786\n",
      "2324786\n"
     ]
    }
   ],
   "source": [
    "print(len(x_test))\n",
    "print(len(y_test))\n",
    "print(len(x_train))\n",
    "print(len(y_train))"
   ]
  },
  {
   "cell_type": "code",
   "execution_count": 48,
   "metadata": {},
   "outputs": [
    {
     "name": "stdout",
     "output_type": "stream",
     "text": [
      "<built-in method now of type object at 0x7f17d4f90900>\n",
      "El score para 10 vecinos es:  0.7838072282242213\n",
      "El score para 20 vecinos es:  0.7932633179816067\n",
      "El score para 30 vecinos es:  0.7990677054190158\n",
      "El score para 40 vecinos es:  0.7999844091498204\n",
      "El score para 50 vecinos es:  0.8011345930357682\n",
      "<built-in method now of type object at 0x7f17d4f90900>\n"
     ]
    }
   ],
   "source": [
    "print(datetime.now)\n",
    "#ejecutar esta celda para gridsearch.\n",
    "for x in range(10,310,10):\n",
    "    knn = KNeighborsClassifier(n_neighbors=x, weights='uniform', n_jobs=-1)\n",
    "    knn.fit(x_train, y_train)\n",
    "    #joblib.dump(knn, \"../../Data/fiuba_entrenamiento/gian/modelos/KNN-\"+str(x)+\"vecinos(100k-neigborhgs-grid-search.pkl\")\n",
    "\n",
    "    score = roc_score(knn)\n",
    "    print(\"El score para \" + str(x) + \" vecinos es: \", score)\n",
    "    joblib.dump(knn, \"../../Data/fiuba_entrenamiento/gian/modelos/KNN-100ksample\" + str(k) + \"neighbors.pkl\")\n",
    "    resultados[x] = score\n",
    "print(datetime.now)"
   ]
  }
 ],
 "metadata": {
  "kernelspec": {
   "display_name": "Python 3",
   "language": "python",
   "name": "python3"
  },
  "language_info": {
   "codemirror_mode": {
    "name": "ipython",
    "version": 3
   },
   "file_extension": ".py",
   "mimetype": "text/x-python",
   "name": "python",
   "nbconvert_exporter": "python",
   "pygments_lexer": "ipython3",
   "version": "3.6.4"
  }
 },
 "nbformat": 4,
 "nbformat_minor": 2
}
