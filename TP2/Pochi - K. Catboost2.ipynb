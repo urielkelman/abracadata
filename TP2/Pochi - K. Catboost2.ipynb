{
 "cells": [
  {
   "cell_type": "code",
   "execution_count": null,
   "metadata": {},
   "outputs": [],
   "source": [
    "import pandas as pd\n",
    "import numpy as np\n",
    "import matplotlib.pyplot as plt\n",
    "import seaborn as sns\n",
    "from datetime import datetime\n",
    "\n",
    "from sklearn import tree\n",
    "from sklearn.tree import DecisionTreeClassifier\n",
    "from sklearn.model_selection import train_test_split\n",
    "from sklearn.metrics import accuracy_score\n",
    "from sklearn import preprocessing\n",
    "from sklearn.externals import joblib\n",
    "from sklearn.ensemble import RandomForestClassifier\n",
    "import lightgbm as lgb\n",
    "import catboost as cb\n",
    "import gc\n",
    "\n",
    "%matplotlib inline\n",
    "\n",
    "plt.rc('figure',dpi=100);"
   ]
  },
  {
   "cell_type": "code",
   "execution_count": null,
   "metadata": {},
   "outputs": [],
   "source": [
    "avisos = pd.read_csv(\"Data/fiuba_entrenamiento/pocho/avisos.csv\")\n",
    "postulaciones = pd.read_csv(\"Data/fiuba_entrenamiento/pocho/postulaciones.csv\")\n",
    "postulantes = pd.read_csv(\"Data/fiuba_entrenamiento/pocho/postulantes.csv\")\n",
    "\n",
    "postulantes['sexo']=postulantes['sexo'].astype('category')\n",
    "postulantes['Doctorado']=postulantes['Doctorado'].astype('category')\n",
    "postulantes['Master']=postulantes['Master'].astype('category')\n",
    "postulantes['Otro']=postulantes['Otro'].astype('category')\n",
    "postulantes['Posgrado']=postulantes['Posgrado'].astype('category')\n",
    "postulantes['Secundario']=postulantes['Secundario'].astype('category')\n",
    "postulantes['Terciario/Técnico']=postulantes['Terciario/Técnico'].astype('category')\n",
    "postulantes['Universitario']=postulantes['Universitario'].astype('category')\n",
    "\n",
    "avisos['nombre_zona']=avisos['nombre_zona'].astype('category')\n",
    "avisos['tipo_de_trabajo']=avisos['tipo_de_trabajo'].astype('category')\n",
    "avisos['nivel_laboral']=avisos['nivel_laboral'].astype('category')\n",
    "avisos['nombre_area']=avisos['nombre_area'].astype('category')\n",
    "\n",
    "postulaciones['sepostulo']=1\n",
    "postulaciones.drop(['fechapostulacion','dia','mes','semana','diadelasemana','hora'],axis=1,inplace=True)"
   ]
  },
  {
   "cell_type": "code",
   "execution_count": null,
   "metadata": {},
   "outputs": [],
   "source": [
    "vistas = pd.read_csv(\"Data/fiuba_entrenamiento/pocho/vistas.csv\")\n",
    "vistas.drop(['timestamp','dia','mes','semana','diadelasemana','hora'],axis=1,inplace=True)\n",
    "vistas['cantidad']=0\n",
    "vistas[\"total_vistas_postulante\"]=0\n",
    "vistas=vistas.rename(columns={'idAviso': 'idaviso'})\n",
    "vistas.head()"
   ]
  },
  {
   "cell_type": "code",
   "execution_count": null,
   "metadata": {},
   "outputs": [],
   "source": [
    "vistas_postulantes = vistas.groupby(\"idpostulante\").agg({\"total_vistas_postulante\":\"count\"})\n",
    "vistas = pd.merge(vistas,vistas_postulantes, on=\"idpostulante\")\n",
    "vistas.drop(\"total_vistas_postulante_x\", axis=1,inplace=True)\n",
    "vistas.rename({\"total_vistas_postulante_y\": \"total_vistas\"},axis=1,inplace=True)\n",
    "vistas.head()"
   ]
  },
  {
   "cell_type": "code",
   "execution_count": null,
   "metadata": {},
   "outputs": [],
   "source": [
    "total_vistas_post = vistas.drop_duplicates(\"idpostulante\").drop([\"idaviso\",\"cantidad\"],axis = 1)\n",
    "\n",
    "vistas=vistas.groupby(['idaviso','idpostulante'],as_index=False).agg({'cantidad':'count'})\n",
    "vistas=vistas.rename(columns={'idAviso': 'idaviso'})\n",
    "vistas = pd.merge(vistas,total_vistas_post, on= \"idpostulante\")\n",
    "vistas.head()"
   ]
  },
  {
   "cell_type": "code",
   "execution_count": null,
   "metadata": {},
   "outputs": [],
   "source": [
    "vistas[\"cantidad\"] = vistas[\"cantidad\"]/vistas[\"total_vistas\"]\n",
    "vistas = vistas.drop(\"total_vistas\",axis=1)\n",
    "vistas.head()"
   ]
  },
  {
   "cell_type": "code",
   "execution_count": 7,
   "metadata": {},
   "outputs": [
    {
     "data": {
      "text/html": [
       "<div>\n",
       "<style scoped>\n",
       "    .dataframe tbody tr th:only-of-type {\n",
       "        vertical-align: middle;\n",
       "    }\n",
       "\n",
       "    .dataframe tbody tr th {\n",
       "        vertical-align: top;\n",
       "    }\n",
       "\n",
       "    .dataframe thead th {\n",
       "        text-align: right;\n",
       "    }\n",
       "</style>\n",
       "<table border=\"1\" class=\"dataframe\">\n",
       "  <thead>\n",
       "    <tr style=\"text-align: right;\">\n",
       "      <th></th>\n",
       "      <th>idaviso</th>\n",
       "      <th>idpostulante</th>\n",
       "      <th>sepostulo</th>\n",
       "      <th>sexo</th>\n",
       "      <th>edad</th>\n",
       "      <th>Doctorado</th>\n",
       "      <th>Master</th>\n",
       "      <th>Otro</th>\n",
       "      <th>Posgrado</th>\n",
       "      <th>Secundario</th>\n",
       "      <th>...</th>\n",
       "      <th>graduados</th>\n",
       "      <th>estudiantes</th>\n",
       "      <th>conocimientos_especificos</th>\n",
       "      <th>buen_ambiente</th>\n",
       "      <th>indica_sueldo</th>\n",
       "      <th>part_time</th>\n",
       "      <th>full_time</th>\n",
       "      <th>ofrece_crecimiento</th>\n",
       "      <th>ofrece_beneficios</th>\n",
       "      <th>obra_social</th>\n",
       "    </tr>\n",
       "  </thead>\n",
       "  <tbody>\n",
       "    <tr>\n",
       "      <th>0</th>\n",
       "      <td>1112430536</td>\n",
       "      <td>EexaOz</td>\n",
       "      <td>0</td>\n",
       "      <td>MASC</td>\n",
       "      <td>38.0</td>\n",
       "      <td>-</td>\n",
       "      <td>-</td>\n",
       "      <td>-</td>\n",
       "      <td>-</td>\n",
       "      <td>-</td>\n",
       "      <td>...</td>\n",
       "      <td>False</td>\n",
       "      <td>False</td>\n",
       "      <td>True</td>\n",
       "      <td>False</td>\n",
       "      <td>False</td>\n",
       "      <td>False</td>\n",
       "      <td>False</td>\n",
       "      <td>False</td>\n",
       "      <td>False</td>\n",
       "      <td>False</td>\n",
       "    </tr>\n",
       "    <tr>\n",
       "      <th>1</th>\n",
       "      <td>1112430536</td>\n",
       "      <td>owaWw0Z</td>\n",
       "      <td>0</td>\n",
       "      <td>FEM</td>\n",
       "      <td>20.0</td>\n",
       "      <td>-</td>\n",
       "      <td>-</td>\n",
       "      <td>-</td>\n",
       "      <td>-</td>\n",
       "      <td>Graduado</td>\n",
       "      <td>...</td>\n",
       "      <td>False</td>\n",
       "      <td>False</td>\n",
       "      <td>True</td>\n",
       "      <td>False</td>\n",
       "      <td>False</td>\n",
       "      <td>False</td>\n",
       "      <td>False</td>\n",
       "      <td>False</td>\n",
       "      <td>False</td>\n",
       "      <td>False</td>\n",
       "    </tr>\n",
       "    <tr>\n",
       "      <th>2</th>\n",
       "      <td>1112430536</td>\n",
       "      <td>PmGPRd1</td>\n",
       "      <td>0</td>\n",
       "      <td>MASC</td>\n",
       "      <td>19.0</td>\n",
       "      <td>-</td>\n",
       "      <td>-</td>\n",
       "      <td>-</td>\n",
       "      <td>-</td>\n",
       "      <td>Graduado</td>\n",
       "      <td>...</td>\n",
       "      <td>False</td>\n",
       "      <td>False</td>\n",
       "      <td>True</td>\n",
       "      <td>False</td>\n",
       "      <td>False</td>\n",
       "      <td>False</td>\n",
       "      <td>False</td>\n",
       "      <td>False</td>\n",
       "      <td>False</td>\n",
       "      <td>False</td>\n",
       "    </tr>\n",
       "    <tr>\n",
       "      <th>3</th>\n",
       "      <td>1112430536</td>\n",
       "      <td>bO4q324</td>\n",
       "      <td>0</td>\n",
       "      <td>MASC</td>\n",
       "      <td>25.0</td>\n",
       "      <td>-</td>\n",
       "      <td>-</td>\n",
       "      <td>-</td>\n",
       "      <td>-</td>\n",
       "      <td>Graduado</td>\n",
       "      <td>...</td>\n",
       "      <td>False</td>\n",
       "      <td>False</td>\n",
       "      <td>True</td>\n",
       "      <td>False</td>\n",
       "      <td>False</td>\n",
       "      <td>False</td>\n",
       "      <td>False</td>\n",
       "      <td>False</td>\n",
       "      <td>False</td>\n",
       "      <td>False</td>\n",
       "    </tr>\n",
       "    <tr>\n",
       "      <th>4</th>\n",
       "      <td>1112430536</td>\n",
       "      <td>MVd5dlr</td>\n",
       "      <td>0</td>\n",
       "      <td>MASC</td>\n",
       "      <td>30.0</td>\n",
       "      <td>-</td>\n",
       "      <td>-</td>\n",
       "      <td>-</td>\n",
       "      <td>-</td>\n",
       "      <td>Graduado</td>\n",
       "      <td>...</td>\n",
       "      <td>False</td>\n",
       "      <td>False</td>\n",
       "      <td>True</td>\n",
       "      <td>False</td>\n",
       "      <td>False</td>\n",
       "      <td>False</td>\n",
       "      <td>False</td>\n",
       "      <td>False</td>\n",
       "      <td>False</td>\n",
       "      <td>False</td>\n",
       "    </tr>\n",
       "  </tbody>\n",
       "</table>\n",
       "<p>5 rows × 42 columns</p>\n",
       "</div>"
      ],
      "text/plain": [
       "      idaviso idpostulante  sepostulo  sexo  edad Doctorado Master Otro  \\\n",
       "0  1112430536       EexaOz          0  MASC  38.0         -      -    -   \n",
       "1  1112430536      owaWw0Z          0   FEM  20.0         -      -    -   \n",
       "2  1112430536      PmGPRd1          0  MASC  19.0         -      -    -   \n",
       "3  1112430536      bO4q324          0  MASC  25.0         -      -    -   \n",
       "4  1112430536      MVd5dlr          0  MASC  30.0         -      -    -   \n",
       "\n",
       "  Posgrado Secundario     ...      graduados estudiantes  \\\n",
       "0        -          -     ...          False       False   \n",
       "1        -   Graduado     ...          False       False   \n",
       "2        -   Graduado     ...          False       False   \n",
       "3        -   Graduado     ...          False       False   \n",
       "4        -   Graduado     ...          False       False   \n",
       "\n",
       "  conocimientos_especificos buen_ambiente indica_sueldo part_time full_time  \\\n",
       "0                      True         False         False     False     False   \n",
       "1                      True         False         False     False     False   \n",
       "2                      True         False         False     False     False   \n",
       "3                      True         False         False     False     False   \n",
       "4                      True         False         False     False     False   \n",
       "\n",
       "  ofrece_crecimiento  ofrece_beneficios  obra_social  \n",
       "0              False              False        False  \n",
       "1              False              False        False  \n",
       "2              False              False        False  \n",
       "3              False              False        False  \n",
       "4              False              False        False  \n",
       "\n",
       "[5 rows x 42 columns]"
      ]
     },
     "execution_count": 7,
     "metadata": {},
     "output_type": "execute_result"
    }
   ],
   "source": [
    "postulaciones2= pd.read_csv(\"Data/fiuba_entrenamiento/pocho/no-postulaciones/azar_total.csv\")\n",
    "\n",
    "postulaciones=pd.merge(postulaciones,postulantes,on='idpostulante')\n",
    "postulaciones2=pd.merge(postulaciones2,postulantes,on='idpostulante')\n",
    "\n",
    "postulaciones=pd.merge(postulaciones,avisos,on='idaviso')\n",
    "postulaciones2=pd.merge(postulaciones2,avisos,on='idaviso')\n",
    "\n",
    "postulaciones2.head()"
   ]
  },
  {
   "cell_type": "code",
   "execution_count": null,
   "metadata": {},
   "outputs": [],
   "source": [
    "postulaciones=postulaciones.append(postulaciones2, ignore_index=True)\n",
    "print(len(postulaciones))\n",
    "postulaciones.drop_duplicates(['idaviso','idpostulante'],keep='first',inplace=True)\n",
    "print(len(postulaciones))\n",
    "\n",
    "len(postulaciones)"
   ]
  },
  {
   "cell_type": "code",
   "execution_count": null,
   "metadata": {},
   "outputs": [],
   "source": [
    "postulaciones=pd.merge(postulaciones,vistas,on=['idaviso','idpostulante'],how='left')\n",
    "print(postulaciones[\"sepostulo\"].mean())\n",
    "postulaciones.sample(20)\n"
   ]
  },
  {
   "cell_type": "code",
   "execution_count": null,
   "metadata": {},
   "outputs": [],
   "source": [
    "train, test=train_test_split(postulaciones,test_size=0.10)\n",
    "print(\"Train: \",len(train),\"Test: \",len(test))\n",
    "features=list(postulaciones.columns)\n",
    "features.remove('idaviso')\n",
    "features.remove('idpostulante')\n",
    "features.remove('sepostulo')\n",
    "features.remove('titulo')\n",
    "features.remove('denominacion_empresa')\n",
    "\n",
    "x_train=train[features]\n",
    "y_train=train['sepostulo']\n",
    "\n",
    "x_test=test[features]\n",
    "y_test=test['sepostulo']\n",
    "postulaciones=0\n",
    "train=0\n",
    "test=0"
   ]
  },
  {
   "cell_type": "code",
   "execution_count": null,
   "metadata": {},
   "outputs": [],
   "source": [
    "gc.collect()"
   ]
  },
  {
   "cell_type": "code",
   "execution_count": null,
   "metadata": {},
   "outputs": [],
   "source": [
    "categorical=[features.index('sexo'),features.index('Doctorado'),features.index('Master'),features.index('Otro'),features.index('Posgrado'),features.index('Secundario'),features.index('Terciario/Técnico'),features.index('Universitario'),features.index('nombre_zona'),features.index('tipo_de_trabajo'),features.index('nivel_laboral'),features.index('nombre_area')]\n",
    "categorical"
   ]
  },
  {
   "cell_type": "code",
   "execution_count": null,
   "metadata": {},
   "outputs": [],
   "source": [
    "c = cb.CatBoostClassifier(depth=13, iterations= 150, l2_leaf_reg= 2, learning_rate= 0.01, use_best_model=True,one_hot_max_size=12,thread_count=12)\n",
    "#probar con otras L2 regression\n",
    "\n",
    "c.fit(x_train,y_train,plot=True,eval_set=[(x_test,y_test)],verbose=True,cat_features=categorical)\n",
    "#c = joblib.load(\"../../Data/fiuba_entrenamiento/gian/modelos/....pkl\")"
   ]
  },
  {
   "cell_type": "code",
   "execution_count": null,
   "metadata": {},
   "outputs": [],
   "source": [
    "score=c.score(x_test,y_test)*100\n",
    "print(score)"
   ]
  },
  {
   "cell_type": "code",
   "execution_count": null,
   "metadata": {},
   "outputs": [],
   "source": [
    "joblib.dump(c, \"Data/fiuba_entrenamiento/pocho/modelos/Catboost v1.pkl\")"
   ]
  },
  {
   "cell_type": "code",
   "execution_count": null,
   "metadata": {},
   "outputs": [],
   "source": [
    "prediccion = pd.read_csv(\"Data/fiuba_entrenamiento/test_final_100k.csv\")\n",
    "print(len(prediccion))\n",
    "prediccion=pd.merge(prediccion,postulantes,on='idpostulante',how='inner')\n",
    "print(len(prediccion))\n",
    "prediccion=pd.merge(prediccion,avisos,on='idaviso',how='inner')\n",
    "print(len(prediccion))\n",
    "prediccion=pd.merge(prediccion,vistas,on=['idaviso','idpostulante'],how='left')\n",
    "prediccion.cantidad=prediccion.cantidad.fillna(0)\n",
    "prediccion.sample(10)"
   ]
  },
  {
   "cell_type": "code",
   "execution_count": null,
   "metadata": {},
   "outputs": [],
   "source": [
    "x_final=prediccion[features]\n",
    "y_final=c.predict_proba(x_final)\n",
    "y_final"
   ]
  },
  {
   "cell_type": "code",
   "execution_count": 40,
   "metadata": {},
   "outputs": [
    {
     "name": "stdout",
     "output_type": "stream",
     "text": [
      "[0. 1.]\n",
      "100000\n",
      "100000\n"
     ]
    }
   ],
   "source": [
    "y_final2=[]\n",
    "print(c.classes_)\n",
    "print(len(y_final))\n",
    "for elem in y_final:\n",
    "    y_final2.append(elem[1])\n",
    "print(len(y_final2))"
   ]
  },
  {
   "cell_type": "code",
   "execution_count": 41,
   "metadata": {},
   "outputs": [],
   "source": [
    "prediccion['sepostulo']=y_final2"
   ]
  },
  {
   "cell_type": "code",
   "execution_count": 42,
   "metadata": {},
   "outputs": [
    {
     "data": {
      "text/html": [
       "<div>\n",
       "<style scoped>\n",
       "    .dataframe tbody tr th:only-of-type {\n",
       "        vertical-align: middle;\n",
       "    }\n",
       "\n",
       "    .dataframe tbody tr th {\n",
       "        vertical-align: top;\n",
       "    }\n",
       "\n",
       "    .dataframe thead th {\n",
       "        text-align: right;\n",
       "    }\n",
       "</style>\n",
       "<table border=\"1\" class=\"dataframe\">\n",
       "  <thead>\n",
       "    <tr style=\"text-align: right;\">\n",
       "      <th></th>\n",
       "      <th>id</th>\n",
       "      <th>sepostulo</th>\n",
       "    </tr>\n",
       "  </thead>\n",
       "  <tbody>\n",
       "    <tr>\n",
       "      <th>0</th>\n",
       "      <td>0</td>\n",
       "      <td>0.988637</td>\n",
       "    </tr>\n",
       "    <tr>\n",
       "      <th>1</th>\n",
       "      <td>1</td>\n",
       "      <td>0.992872</td>\n",
       "    </tr>\n",
       "    <tr>\n",
       "      <th>2</th>\n",
       "      <td>2</td>\n",
       "      <td>0.990226</td>\n",
       "    </tr>\n",
       "    <tr>\n",
       "      <th>3</th>\n",
       "      <td>3</td>\n",
       "      <td>0.991474</td>\n",
       "    </tr>\n",
       "    <tr>\n",
       "      <th>4</th>\n",
       "      <td>4</td>\n",
       "      <td>0.982249</td>\n",
       "    </tr>\n",
       "  </tbody>\n",
       "</table>\n",
       "</div>"
      ],
      "text/plain": [
       "   id  sepostulo\n",
       "0   0   0.988637\n",
       "1   1   0.992872\n",
       "2   2   0.990226\n",
       "3   3   0.991474\n",
       "4   4   0.982249"
      ]
     },
     "execution_count": 42,
     "metadata": {},
     "output_type": "execute_result"
    }
   ],
   "source": [
    "prediccion.drop(features,axis=1,inplace=True)\n",
    "prediccion.drop(['idaviso','idpostulante','titulo','denominacion_empresa'],axis=1,inplace=True)\n",
    "prediccion.head()"
   ]
  },
  {
   "cell_type": "code",
   "execution_count": 43,
   "metadata": {},
   "outputs": [
    {
     "data": {
      "text/plain": [
       "100000"
      ]
     },
     "execution_count": 43,
     "metadata": {},
     "output_type": "execute_result"
    }
   ],
   "source": [
    "len(prediccion)"
   ]
  },
  {
   "cell_type": "code",
   "execution_count": 44,
   "metadata": {},
   "outputs": [
    {
     "data": {
      "text/plain": [
       "0.9938231342885373"
      ]
     },
     "execution_count": 44,
     "metadata": {},
     "output_type": "execute_result"
    }
   ],
   "source": [
    "prediccion.to_csv(\"Data/fiuba_entrenamiento/pocho/predicciones/prediccion10.csv\",index=False)\n",
    "prediccion.sepostulo.mean()"
   ]
  }
 ],
 "metadata": {
  "kernelspec": {
   "display_name": "Python 3",
   "language": "python",
   "name": "python3"
  },
  "language_info": {
   "codemirror_mode": {
    "name": "ipython",
    "version": 3
   },
   "file_extension": ".py",
   "mimetype": "text/x-python",
   "name": "python",
   "nbconvert_exporter": "python",
   "pygments_lexer": "ipython3",
   "version": "3.6.5"
  }
 },
 "nbformat": 4,
 "nbformat_minor": 2
}
