{
 "cells": [
  {
   "cell_type": "code",
   "execution_count": 1,
   "metadata": {},
   "outputs": [],
   "source": [
    "import pandas as pd\n",
    "import numpy as np\n",
    "import matplotlib.pyplot as plt\n",
    "import seaborn as sns\n",
    "from datetime import datetime\n",
    "\n",
    "%matplotlib inline"
   ]
  },
  {
   "cell_type": "code",
   "execution_count": null,
   "metadata": {},
   "outputs": [],
   "source": []
  },
  {
   "cell_type": "code",
   "execution_count": 2,
   "metadata": {},
   "outputs": [],
   "source": [
    "plt.rc('figure',dpi=100);"
   ]
  },
  {
   "cell_type": "code",
   "execution_count": 3,
   "metadata": {},
   "outputs": [],
   "source": [
    "avisos = pd.read_csv(\"Data/fiuba_entrenamiento/avisos.csv\")"
   ]
  },
  {
   "cell_type": "code",
   "execution_count": 4,
   "metadata": {},
   "outputs": [
    {
     "data": {
      "text/html": [
       "<div>\n",
       "<style scoped>\n",
       "    .dataframe tbody tr th:only-of-type {\n",
       "        vertical-align: middle;\n",
       "    }\n",
       "\n",
       "    .dataframe tbody tr th {\n",
       "        vertical-align: top;\n",
       "    }\n",
       "\n",
       "    .dataframe thead th {\n",
       "        text-align: right;\n",
       "    }\n",
       "</style>\n",
       "<table border=\"1\" class=\"dataframe\">\n",
       "  <thead>\n",
       "    <tr style=\"text-align: right;\">\n",
       "      <th></th>\n",
       "      <th>idaviso</th>\n",
       "      <th>idpais</th>\n",
       "      <th>titulo</th>\n",
       "      <th>descripcion</th>\n",
       "      <th>nombre_zona</th>\n",
       "      <th>ciudad</th>\n",
       "      <th>mapacalle</th>\n",
       "      <th>tipo_de_trabajo</th>\n",
       "      <th>nivel_laboral</th>\n",
       "      <th>nombre_area</th>\n",
       "      <th>denominacion_empresa</th>\n",
       "    </tr>\n",
       "  </thead>\n",
       "  <tbody>\n",
       "    <tr>\n",
       "      <th>0</th>\n",
       "      <td>8725750</td>\n",
       "      <td>1</td>\n",
       "      <td>VENDEDOR/A PROVINCIA DE SANTA FE</td>\n",
       "      <td>&lt;p&gt;&lt;strong&gt;&lt;strong&gt;Empresa:&lt;/strong&gt;&lt;/strong&gt; ...</td>\n",
       "      <td>Gran Buenos Aires</td>\n",
       "      <td>NaN</td>\n",
       "      <td>NaN</td>\n",
       "      <td>Full-time</td>\n",
       "      <td>Senior / Semi-Senior</td>\n",
       "      <td>Comercial</td>\n",
       "      <td>VENTOR</td>\n",
       "    </tr>\n",
       "    <tr>\n",
       "      <th>1</th>\n",
       "      <td>17903700</td>\n",
       "      <td>1</td>\n",
       "      <td>Enfermeras</td>\n",
       "      <td>&lt;p&gt;Solicitamos para importante cadena de farma...</td>\n",
       "      <td>Gran Buenos Aires</td>\n",
       "      <td>NaN</td>\n",
       "      <td>NaN</td>\n",
       "      <td>Full-time</td>\n",
       "      <td>Senior / Semi-Senior</td>\n",
       "      <td>Salud</td>\n",
       "      <td>Farmacias Central Oeste</td>\n",
       "    </tr>\n",
       "    <tr>\n",
       "      <th>2</th>\n",
       "      <td>1000150677</td>\n",
       "      <td>1</td>\n",
       "      <td>Chofer de taxi</td>\n",
       "      <td>&lt;p&gt;TE GUSTA MANEJAR? QUERES GANAR PLATA HACIEN...</td>\n",
       "      <td>Capital Federal</td>\n",
       "      <td>NaN</td>\n",
       "      <td>Empedrado 2336</td>\n",
       "      <td>Full-time</td>\n",
       "      <td>Senior / Semi-Senior</td>\n",
       "      <td>Transporte</td>\n",
       "      <td>FAMITAX SRL</td>\n",
       "    </tr>\n",
       "    <tr>\n",
       "      <th>3</th>\n",
       "      <td>1000610287</td>\n",
       "      <td>1</td>\n",
       "      <td>CHOFER DE CAMIONETA BAHIA BLANCA - PUNTA ALTA</td>\n",
       "      <td>&lt;p&gt;&lt;strong&gt;Somos una empresa multinacional que...</td>\n",
       "      <td>Gran Buenos Aires</td>\n",
       "      <td>NaN</td>\n",
       "      <td>NaN</td>\n",
       "      <td>Full-time</td>\n",
       "      <td>Senior / Semi-Senior</td>\n",
       "      <td>Transporte</td>\n",
       "      <td>Wurth Argentina S.A</td>\n",
       "    </tr>\n",
       "    <tr>\n",
       "      <th>4</th>\n",
       "      <td>1000872556</td>\n",
       "      <td>1</td>\n",
       "      <td>Operarios de Planta - Rubro Electrodomésticos</td>\n",
       "      <td>&lt;p&gt;&lt;strong&gt;OPERARIOS DE PLANTA&lt;/strong&gt;&lt;/p&gt;&lt;p&gt;...</td>\n",
       "      <td>Gran Buenos Aires</td>\n",
       "      <td>NaN</td>\n",
       "      <td>NaN</td>\n",
       "      <td>Full-time</td>\n",
       "      <td>Senior / Semi-Senior</td>\n",
       "      <td>Producción</td>\n",
       "      <td>ELECTRO OUTLET SRL</td>\n",
       "    </tr>\n",
       "    <tr>\n",
       "      <th>5</th>\n",
       "      <td>1001135716</td>\n",
       "      <td>1</td>\n",
       "      <td>Vendedor Viajante TUCUMAN/SANTIAGO DEL ESTERO</td>\n",
       "      <td>&lt;p&gt;Somos una empresa multinacional que opera e...</td>\n",
       "      <td>Gran Buenos Aires</td>\n",
       "      <td>NaN</td>\n",
       "      <td>NaN</td>\n",
       "      <td>Full-time</td>\n",
       "      <td>Senior / Semi-Senior</td>\n",
       "      <td>Ventas</td>\n",
       "      <td>Wurth Argentina S.A</td>\n",
       "    </tr>\n",
       "    <tr>\n",
       "      <th>6</th>\n",
       "      <td>1001326344</td>\n",
       "      <td>1</td>\n",
       "      <td>Vendedor Viajante RECONQUISTA/AVELLANEDA</td>\n",
       "      <td>&lt;p&gt;&lt;strong&gt;Somos una empresa multinacional que...</td>\n",
       "      <td>Gran Buenos Aires</td>\n",
       "      <td>NaN</td>\n",
       "      <td>NaN</td>\n",
       "      <td>Full-time</td>\n",
       "      <td>Senior / Semi-Senior</td>\n",
       "      <td>Ventas</td>\n",
       "      <td>Wurth Argentina S.A</td>\n",
       "    </tr>\n",
       "    <tr>\n",
       "      <th>7</th>\n",
       "      <td>1001455648</td>\n",
       "      <td>1</td>\n",
       "      <td>Vendedor Viajante PILAR / ESCOBAR/TIGRE</td>\n",
       "      <td>&lt;p&gt;Somos una empresa multinacional que opera e...</td>\n",
       "      <td>Gran Buenos Aires</td>\n",
       "      <td>NaN</td>\n",
       "      <td>NaN</td>\n",
       "      <td>Full-time</td>\n",
       "      <td>Junior</td>\n",
       "      <td>Ventas</td>\n",
       "      <td>Wurth Argentina S.A</td>\n",
       "    </tr>\n",
       "    <tr>\n",
       "      <th>8</th>\n",
       "      <td>9240880</td>\n",
       "      <td>1</td>\n",
       "      <td>Productores Asesores Independiente, para venta...</td>\n",
       "      <td>Agente\\r\\r\\noficial Selecciona:&lt;/span&gt;&lt;/strong...</td>\n",
       "      <td>Capital Federal</td>\n",
       "      <td>Buenos Aires</td>\n",
       "      <td>NaN</td>\n",
       "      <td>Full-time</td>\n",
       "      <td>Jefe / Supervisor / Responsable</td>\n",
       "      <td>Comercial</td>\n",
       "      <td>Agencia Oficial Alejandro Arizaga</td>\n",
       "    </tr>\n",
       "    <tr>\n",
       "      <th>9</th>\n",
       "      <td>1001202662</td>\n",
       "      <td>1</td>\n",
       "      <td>promotor/a , asesor/a</td>\n",
       "      <td>&lt;p&gt;En Cerantola nos encontramos en la busqueda...</td>\n",
       "      <td>Gran Buenos Aires</td>\n",
       "      <td>NaN</td>\n",
       "      <td>NaN</td>\n",
       "      <td>Full-time</td>\n",
       "      <td>Otro</td>\n",
       "      <td>Atención al Cliente</td>\n",
       "      <td>cerantola</td>\n",
       "    </tr>\n",
       "    <tr>\n",
       "      <th>10</th>\n",
       "      <td>1001724563</td>\n",
       "      <td>1</td>\n",
       "      <td>Paramédico</td>\n",
       "      <td>&lt;p&gt;Nos encontramos en un proceso de selección ...</td>\n",
       "      <td>Gran Buenos Aires</td>\n",
       "      <td>NaN</td>\n",
       "      <td>NaN</td>\n",
       "      <td>Full-time</td>\n",
       "      <td>Senior / Semi-Senior</td>\n",
       "      <td>Salud</td>\n",
       "      <td>Hochschild Mining</td>\n",
       "    </tr>\n",
       "    <tr>\n",
       "      <th>11</th>\n",
       "      <td>1002181678</td>\n",
       "      <td>1</td>\n",
       "      <td>Vendedor Viajante TIERRA DEL FUEGO</td>\n",
       "      <td>&lt;p&gt;&lt;strong&gt;Somos una empresa multinacional que...</td>\n",
       "      <td>Gran Buenos Aires</td>\n",
       "      <td>NaN</td>\n",
       "      <td>NaN</td>\n",
       "      <td>Full-time</td>\n",
       "      <td>Senior / Semi-Senior</td>\n",
       "      <td>Ventas</td>\n",
       "      <td>Wurth Argentina S.A</td>\n",
       "    </tr>\n",
       "    <tr>\n",
       "      <th>12</th>\n",
       "      <td>1002308544</td>\n",
       "      <td>1</td>\n",
       "      <td>Preventistas Importante Distribuidora de Bebidas</td>\n",
       "      <td>&lt;p&gt;YAMANIL S-A . se encuentra en busqueda de p...</td>\n",
       "      <td>Gran Buenos Aires</td>\n",
       "      <td>NaN</td>\n",
       "      <td>NaN</td>\n",
       "      <td>Full-time</td>\n",
       "      <td>Senior / Semi-Senior</td>\n",
       "      <td>Ventas</td>\n",
       "      <td>YAMANIL SA</td>\n",
       "    </tr>\n",
       "    <tr>\n",
       "      <th>13</th>\n",
       "      <td>1002377536</td>\n",
       "      <td>1</td>\n",
       "      <td>Personal con experiencia en lavandería  para H...</td>\n",
       "      <td>&lt;p&gt;&lt;strong&gt;&lt;span lang=\"ES\"&gt;Adecco Hoteles y Ca...</td>\n",
       "      <td>Gran Buenos Aires</td>\n",
       "      <td>NaN</td>\n",
       "      <td>NaN</td>\n",
       "      <td>Full-time</td>\n",
       "      <td>Senior / Semi-Senior</td>\n",
       "      <td>Mantenimiento</td>\n",
       "      <td>Adecco -Región Office</td>\n",
       "    </tr>\n",
       "    <tr>\n",
       "      <th>14</th>\n",
       "      <td>1002448818</td>\n",
       "      <td>1</td>\n",
       "      <td>Ejecutivo de Cuentas Sr.</td>\n",
       "      <td>&lt;p&gt;Importante empresa del Mercado Asegurador A...</td>\n",
       "      <td>Gran Buenos Aires</td>\n",
       "      <td>Capital Federal</td>\n",
       "      <td>NaN</td>\n",
       "      <td>Full-time</td>\n",
       "      <td>Senior / Semi-Senior</td>\n",
       "      <td>Comercial</td>\n",
       "      <td>Romasanta y Asociados SA</td>\n",
       "    </tr>\n",
       "  </tbody>\n",
       "</table>\n",
       "</div>"
      ],
      "text/plain": [
       "       idaviso  idpais                                             titulo  \\\n",
       "0      8725750       1                   VENDEDOR/A PROVINCIA DE SANTA FE   \n",
       "1     17903700       1                                         Enfermeras   \n",
       "2   1000150677       1                                     Chofer de taxi   \n",
       "3   1000610287       1      CHOFER DE CAMIONETA BAHIA BLANCA - PUNTA ALTA   \n",
       "4   1000872556       1      Operarios de Planta - Rubro Electrodomésticos   \n",
       "5   1001135716       1      Vendedor Viajante TUCUMAN/SANTIAGO DEL ESTERO   \n",
       "6   1001326344       1           Vendedor Viajante RECONQUISTA/AVELLANEDA   \n",
       "7   1001455648       1            Vendedor Viajante PILAR / ESCOBAR/TIGRE   \n",
       "8      9240880       1  Productores Asesores Independiente, para venta...   \n",
       "9   1001202662       1                              promotor/a , asesor/a   \n",
       "10  1001724563       1                                         Paramédico   \n",
       "11  1002181678       1                 Vendedor Viajante TIERRA DEL FUEGO   \n",
       "12  1002308544       1   Preventistas Importante Distribuidora de Bebidas   \n",
       "13  1002377536       1  Personal con experiencia en lavandería  para H...   \n",
       "14  1002448818       1                           Ejecutivo de Cuentas Sr.   \n",
       "\n",
       "                                          descripcion        nombre_zona  \\\n",
       "0   <p><strong><strong>Empresa:</strong></strong> ...  Gran Buenos Aires   \n",
       "1   <p>Solicitamos para importante cadena de farma...  Gran Buenos Aires   \n",
       "2   <p>TE GUSTA MANEJAR? QUERES GANAR PLATA HACIEN...    Capital Federal   \n",
       "3   <p><strong>Somos una empresa multinacional que...  Gran Buenos Aires   \n",
       "4   <p><strong>OPERARIOS DE PLANTA</strong></p><p>...  Gran Buenos Aires   \n",
       "5   <p>Somos una empresa multinacional que opera e...  Gran Buenos Aires   \n",
       "6   <p><strong>Somos una empresa multinacional que...  Gran Buenos Aires   \n",
       "7   <p>Somos una empresa multinacional que opera e...  Gran Buenos Aires   \n",
       "8   Agente\\r\\r\\noficial Selecciona:</span></strong...    Capital Federal   \n",
       "9   <p>En Cerantola nos encontramos en la busqueda...  Gran Buenos Aires   \n",
       "10  <p>Nos encontramos en un proceso de selección ...  Gran Buenos Aires   \n",
       "11  <p><strong>Somos una empresa multinacional que...  Gran Buenos Aires   \n",
       "12  <p>YAMANIL S-A . se encuentra en busqueda de p...  Gran Buenos Aires   \n",
       "13  <p><strong><span lang=\"ES\">Adecco Hoteles y Ca...  Gran Buenos Aires   \n",
       "14  <p>Importante empresa del Mercado Asegurador A...  Gran Buenos Aires   \n",
       "\n",
       "             ciudad       mapacalle tipo_de_trabajo  \\\n",
       "0               NaN             NaN       Full-time   \n",
       "1               NaN             NaN       Full-time   \n",
       "2               NaN  Empedrado 2336       Full-time   \n",
       "3               NaN             NaN       Full-time   \n",
       "4               NaN             NaN       Full-time   \n",
       "5               NaN             NaN       Full-time   \n",
       "6               NaN             NaN       Full-time   \n",
       "7               NaN             NaN       Full-time   \n",
       "8      Buenos Aires             NaN       Full-time   \n",
       "9               NaN             NaN       Full-time   \n",
       "10              NaN             NaN       Full-time   \n",
       "11              NaN             NaN       Full-time   \n",
       "12              NaN             NaN       Full-time   \n",
       "13              NaN             NaN       Full-time   \n",
       "14  Capital Federal             NaN       Full-time   \n",
       "\n",
       "                      nivel_laboral          nombre_area  \\\n",
       "0              Senior / Semi-Senior            Comercial   \n",
       "1              Senior / Semi-Senior                Salud   \n",
       "2              Senior / Semi-Senior           Transporte   \n",
       "3              Senior / Semi-Senior           Transporte   \n",
       "4              Senior / Semi-Senior           Producción   \n",
       "5              Senior / Semi-Senior               Ventas   \n",
       "6              Senior / Semi-Senior               Ventas   \n",
       "7                            Junior               Ventas   \n",
       "8   Jefe / Supervisor / Responsable            Comercial   \n",
       "9                              Otro  Atención al Cliente   \n",
       "10             Senior / Semi-Senior                Salud   \n",
       "11             Senior / Semi-Senior               Ventas   \n",
       "12             Senior / Semi-Senior               Ventas   \n",
       "13             Senior / Semi-Senior        Mantenimiento   \n",
       "14             Senior / Semi-Senior            Comercial   \n",
       "\n",
       "                 denominacion_empresa  \n",
       "0                              VENTOR  \n",
       "1             Farmacias Central Oeste  \n",
       "2                         FAMITAX SRL  \n",
       "3                 Wurth Argentina S.A  \n",
       "4                  ELECTRO OUTLET SRL  \n",
       "5                 Wurth Argentina S.A  \n",
       "6                 Wurth Argentina S.A  \n",
       "7                 Wurth Argentina S.A  \n",
       "8   Agencia Oficial Alejandro Arizaga  \n",
       "9                           cerantola  \n",
       "10                  Hochschild Mining  \n",
       "11                Wurth Argentina S.A  \n",
       "12                         YAMANIL SA  \n",
       "13              Adecco -Región Office  \n",
       "14           Romasanta y Asociados SA  "
      ]
     },
     "execution_count": 4,
     "metadata": {},
     "output_type": "execute_result"
    }
   ],
   "source": [
    "avisos.head(15)"
   ]
  },
  {
   "cell_type": "code",
   "execution_count": 5,
   "metadata": {},
   "outputs": [
    {
     "name": "stdout",
     "output_type": "stream",
     "text": [
      "idaviso                 25901\n",
      "idpais                  25901\n",
      "titulo                  25901\n",
      "descripcion             25901\n",
      "nombre_zona             25901\n",
      "ciudad                    165\n",
      "mapacalle                2125\n",
      "tipo_de_trabajo         25901\n",
      "nivel_laboral           25566\n",
      "nombre_area             25901\n",
      "denominacion_empresa    25894\n",
      "dtype: int64\n",
      "25901\n"
     ]
    }
   ],
   "source": [
    "print(avisos.count())\n",
    "print(avisos['idpais'].sum())"
   ]
  },
  {
   "cell_type": "code",
   "execution_count": 6,
   "metadata": {},
   "outputs": [],
   "source": [
    "#Puedo droppear idpais\n",
    "avisos.drop(['idpais'], axis=1, inplace=True)"
   ]
  },
  {
   "cell_type": "code",
   "execution_count": 7,
   "metadata": {},
   "outputs": [
    {
     "data": {
      "text/html": [
       "<div>\n",
       "<style scoped>\n",
       "    .dataframe tbody tr th:only-of-type {\n",
       "        vertical-align: middle;\n",
       "    }\n",
       "\n",
       "    .dataframe tbody tr th {\n",
       "        vertical-align: top;\n",
       "    }\n",
       "\n",
       "    .dataframe thead th {\n",
       "        text-align: right;\n",
       "    }\n",
       "</style>\n",
       "<table border=\"1\" class=\"dataframe\">\n",
       "  <thead>\n",
       "    <tr style=\"text-align: right;\">\n",
       "      <th></th>\n",
       "      <th>idaviso</th>\n",
       "      <th>titulo</th>\n",
       "      <th>descripcion</th>\n",
       "      <th>nombre_zona</th>\n",
       "      <th>ciudad</th>\n",
       "      <th>mapacalle</th>\n",
       "      <th>tipo_de_trabajo</th>\n",
       "      <th>nivel_laboral</th>\n",
       "      <th>nombre_area</th>\n",
       "      <th>denominacion_empresa</th>\n",
       "    </tr>\n",
       "  </thead>\n",
       "  <tbody>\n",
       "    <tr>\n",
       "      <th>0</th>\n",
       "      <td>8725750</td>\n",
       "      <td>VENDEDOR/A PROVINCIA DE SANTA FE</td>\n",
       "      <td>&lt;p&gt;&lt;strong&gt;&lt;strong&gt;Empresa:&lt;/strong&gt;&lt;/strong&gt; ...</td>\n",
       "      <td>Gran Buenos Aires</td>\n",
       "      <td>NaN</td>\n",
       "      <td>NaN</td>\n",
       "      <td>Full-time</td>\n",
       "      <td>Senior / Semi-Senior</td>\n",
       "      <td>Comercial</td>\n",
       "      <td>VENTOR</td>\n",
       "    </tr>\n",
       "    <tr>\n",
       "      <th>1</th>\n",
       "      <td>17903700</td>\n",
       "      <td>Enfermeras</td>\n",
       "      <td>&lt;p&gt;Solicitamos para importante cadena de farma...</td>\n",
       "      <td>Gran Buenos Aires</td>\n",
       "      <td>NaN</td>\n",
       "      <td>NaN</td>\n",
       "      <td>Full-time</td>\n",
       "      <td>Senior / Semi-Senior</td>\n",
       "      <td>Salud</td>\n",
       "      <td>Farmacias Central Oeste</td>\n",
       "    </tr>\n",
       "    <tr>\n",
       "      <th>2</th>\n",
       "      <td>1000150677</td>\n",
       "      <td>Chofer de taxi</td>\n",
       "      <td>&lt;p&gt;TE GUSTA MANEJAR? QUERES GANAR PLATA HACIEN...</td>\n",
       "      <td>Capital Federal</td>\n",
       "      <td>NaN</td>\n",
       "      <td>Empedrado 2336</td>\n",
       "      <td>Full-time</td>\n",
       "      <td>Senior / Semi-Senior</td>\n",
       "      <td>Transporte</td>\n",
       "      <td>FAMITAX SRL</td>\n",
       "    </tr>\n",
       "    <tr>\n",
       "      <th>3</th>\n",
       "      <td>1000610287</td>\n",
       "      <td>CHOFER DE CAMIONETA BAHIA BLANCA - PUNTA ALTA</td>\n",
       "      <td>&lt;p&gt;&lt;strong&gt;Somos una empresa multinacional que...</td>\n",
       "      <td>Gran Buenos Aires</td>\n",
       "      <td>NaN</td>\n",
       "      <td>NaN</td>\n",
       "      <td>Full-time</td>\n",
       "      <td>Senior / Semi-Senior</td>\n",
       "      <td>Transporte</td>\n",
       "      <td>Wurth Argentina S.A</td>\n",
       "    </tr>\n",
       "    <tr>\n",
       "      <th>4</th>\n",
       "      <td>1000872556</td>\n",
       "      <td>Operarios de Planta - Rubro Electrodomésticos</td>\n",
       "      <td>&lt;p&gt;&lt;strong&gt;OPERARIOS DE PLANTA&lt;/strong&gt;&lt;/p&gt;&lt;p&gt;...</td>\n",
       "      <td>Gran Buenos Aires</td>\n",
       "      <td>NaN</td>\n",
       "      <td>NaN</td>\n",
       "      <td>Full-time</td>\n",
       "      <td>Senior / Semi-Senior</td>\n",
       "      <td>Producción</td>\n",
       "      <td>ELECTRO OUTLET SRL</td>\n",
       "    </tr>\n",
       "  </tbody>\n",
       "</table>\n",
       "</div>"
      ],
      "text/plain": [
       "      idaviso                                         titulo  \\\n",
       "0     8725750               VENDEDOR/A PROVINCIA DE SANTA FE   \n",
       "1    17903700                                     Enfermeras   \n",
       "2  1000150677                                 Chofer de taxi   \n",
       "3  1000610287  CHOFER DE CAMIONETA BAHIA BLANCA - PUNTA ALTA   \n",
       "4  1000872556  Operarios de Planta - Rubro Electrodomésticos   \n",
       "\n",
       "                                         descripcion        nombre_zona  \\\n",
       "0  <p><strong><strong>Empresa:</strong></strong> ...  Gran Buenos Aires   \n",
       "1  <p>Solicitamos para importante cadena de farma...  Gran Buenos Aires   \n",
       "2  <p>TE GUSTA MANEJAR? QUERES GANAR PLATA HACIEN...    Capital Federal   \n",
       "3  <p><strong>Somos una empresa multinacional que...  Gran Buenos Aires   \n",
       "4  <p><strong>OPERARIOS DE PLANTA</strong></p><p>...  Gran Buenos Aires   \n",
       "\n",
       "  ciudad       mapacalle tipo_de_trabajo         nivel_laboral nombre_area  \\\n",
       "0    NaN             NaN       Full-time  Senior / Semi-Senior   Comercial   \n",
       "1    NaN             NaN       Full-time  Senior / Semi-Senior       Salud   \n",
       "2    NaN  Empedrado 2336       Full-time  Senior / Semi-Senior  Transporte   \n",
       "3    NaN             NaN       Full-time  Senior / Semi-Senior  Transporte   \n",
       "4    NaN             NaN       Full-time  Senior / Semi-Senior  Producción   \n",
       "\n",
       "      denominacion_empresa  \n",
       "0                   VENTOR  \n",
       "1  Farmacias Central Oeste  \n",
       "2              FAMITAX SRL  \n",
       "3      Wurth Argentina S.A  \n",
       "4       ELECTRO OUTLET SRL  "
      ]
     },
     "execution_count": 7,
     "metadata": {},
     "output_type": "execute_result"
    }
   ],
   "source": [
    "avisos.head()"
   ]
  },
  {
   "cell_type": "code",
   "execution_count": 8,
   "metadata": {},
   "outputs": [],
   "source": [
    "#Droppeo ciudad y mapacalle, casi siempre es ruido\n",
    "avisos.drop(['ciudad', 'mapacalle'], axis=1, inplace=True)"
   ]
  },
  {
   "cell_type": "code",
   "execution_count": 9,
   "metadata": {},
   "outputs": [
    {
     "data": {
      "text/html": [
       "<div>\n",
       "<style scoped>\n",
       "    .dataframe tbody tr th:only-of-type {\n",
       "        vertical-align: middle;\n",
       "    }\n",
       "\n",
       "    .dataframe tbody tr th {\n",
       "        vertical-align: top;\n",
       "    }\n",
       "\n",
       "    .dataframe thead th {\n",
       "        text-align: right;\n",
       "    }\n",
       "</style>\n",
       "<table border=\"1\" class=\"dataframe\">\n",
       "  <thead>\n",
       "    <tr style=\"text-align: right;\">\n",
       "      <th></th>\n",
       "      <th>idaviso</th>\n",
       "      <th>titulo</th>\n",
       "      <th>descripcion</th>\n",
       "      <th>nombre_zona</th>\n",
       "      <th>tipo_de_trabajo</th>\n",
       "      <th>nivel_laboral</th>\n",
       "      <th>nombre_area</th>\n",
       "      <th>denominacion_empresa</th>\n",
       "    </tr>\n",
       "  </thead>\n",
       "  <tbody>\n",
       "    <tr>\n",
       "      <th>0</th>\n",
       "      <td>8725750</td>\n",
       "      <td>VENDEDOR/A PROVINCIA DE SANTA FE</td>\n",
       "      <td>&lt;p&gt;&lt;strong&gt;&lt;strong&gt;Empresa:&lt;/strong&gt;&lt;/strong&gt; ...</td>\n",
       "      <td>Gran Buenos Aires</td>\n",
       "      <td>Full-time</td>\n",
       "      <td>Senior / Semi-Senior</td>\n",
       "      <td>Comercial</td>\n",
       "      <td>VENTOR</td>\n",
       "    </tr>\n",
       "    <tr>\n",
       "      <th>1</th>\n",
       "      <td>17903700</td>\n",
       "      <td>Enfermeras</td>\n",
       "      <td>&lt;p&gt;Solicitamos para importante cadena de farma...</td>\n",
       "      <td>Gran Buenos Aires</td>\n",
       "      <td>Full-time</td>\n",
       "      <td>Senior / Semi-Senior</td>\n",
       "      <td>Salud</td>\n",
       "      <td>Farmacias Central Oeste</td>\n",
       "    </tr>\n",
       "    <tr>\n",
       "      <th>2</th>\n",
       "      <td>1000150677</td>\n",
       "      <td>Chofer de taxi</td>\n",
       "      <td>&lt;p&gt;TE GUSTA MANEJAR? QUERES GANAR PLATA HACIEN...</td>\n",
       "      <td>Capital Federal</td>\n",
       "      <td>Full-time</td>\n",
       "      <td>Senior / Semi-Senior</td>\n",
       "      <td>Transporte</td>\n",
       "      <td>FAMITAX SRL</td>\n",
       "    </tr>\n",
       "    <tr>\n",
       "      <th>3</th>\n",
       "      <td>1000610287</td>\n",
       "      <td>CHOFER DE CAMIONETA BAHIA BLANCA - PUNTA ALTA</td>\n",
       "      <td>&lt;p&gt;&lt;strong&gt;Somos una empresa multinacional que...</td>\n",
       "      <td>Gran Buenos Aires</td>\n",
       "      <td>Full-time</td>\n",
       "      <td>Senior / Semi-Senior</td>\n",
       "      <td>Transporte</td>\n",
       "      <td>Wurth Argentina S.A</td>\n",
       "    </tr>\n",
       "    <tr>\n",
       "      <th>4</th>\n",
       "      <td>1000872556</td>\n",
       "      <td>Operarios de Planta - Rubro Electrodomésticos</td>\n",
       "      <td>&lt;p&gt;&lt;strong&gt;OPERARIOS DE PLANTA&lt;/strong&gt;&lt;/p&gt;&lt;p&gt;...</td>\n",
       "      <td>Gran Buenos Aires</td>\n",
       "      <td>Full-time</td>\n",
       "      <td>Senior / Semi-Senior</td>\n",
       "      <td>Producción</td>\n",
       "      <td>ELECTRO OUTLET SRL</td>\n",
       "    </tr>\n",
       "  </tbody>\n",
       "</table>\n",
       "</div>"
      ],
      "text/plain": [
       "      idaviso                                         titulo  \\\n",
       "0     8725750               VENDEDOR/A PROVINCIA DE SANTA FE   \n",
       "1    17903700                                     Enfermeras   \n",
       "2  1000150677                                 Chofer de taxi   \n",
       "3  1000610287  CHOFER DE CAMIONETA BAHIA BLANCA - PUNTA ALTA   \n",
       "4  1000872556  Operarios de Planta - Rubro Electrodomésticos   \n",
       "\n",
       "                                         descripcion        nombre_zona  \\\n",
       "0  <p><strong><strong>Empresa:</strong></strong> ...  Gran Buenos Aires   \n",
       "1  <p>Solicitamos para importante cadena de farma...  Gran Buenos Aires   \n",
       "2  <p>TE GUSTA MANEJAR? QUERES GANAR PLATA HACIEN...    Capital Federal   \n",
       "3  <p><strong>Somos una empresa multinacional que...  Gran Buenos Aires   \n",
       "4  <p><strong>OPERARIOS DE PLANTA</strong></p><p>...  Gran Buenos Aires   \n",
       "\n",
       "  tipo_de_trabajo         nivel_laboral nombre_area     denominacion_empresa  \n",
       "0       Full-time  Senior / Semi-Senior   Comercial                   VENTOR  \n",
       "1       Full-time  Senior / Semi-Senior       Salud  Farmacias Central Oeste  \n",
       "2       Full-time  Senior / Semi-Senior  Transporte              FAMITAX SRL  \n",
       "3       Full-time  Senior / Semi-Senior  Transporte      Wurth Argentina S.A  \n",
       "4       Full-time  Senior / Semi-Senior  Producción       ELECTRO OUTLET SRL  "
      ]
     },
     "execution_count": 9,
     "metadata": {},
     "output_type": "execute_result"
    }
   ],
   "source": [
    "avisos.head()"
   ]
  },
  {
   "cell_type": "code",
   "execution_count": 10,
   "metadata": {},
   "outputs": [
    {
     "name": "stdout",
     "output_type": "stream",
     "text": [
      "True\n",
      "False\n",
      "True\n"
     ]
    }
   ],
   "source": [
    "def titulo_en_mayus(titulo):\n",
    "    palabras=titulo.split();\n",
    "    for palabra in palabras:\n",
    "        if palabra.isupper():\n",
    "            return True\n",
    "    return False\n",
    "\n",
    "print(titulo_en_mayus(\"habia UNA vez\"))\n",
    "print(titulo_en_mayus(\"habia una vez\"))\n",
    "print(titulo_en_mayus(\"HABIA una vez\"))"
   ]
  },
  {
   "cell_type": "code",
   "execution_count": 11,
   "metadata": {},
   "outputs": [
    {
     "data": {
      "text/html": [
       "<div>\n",
       "<style scoped>\n",
       "    .dataframe tbody tr th:only-of-type {\n",
       "        vertical-align: middle;\n",
       "    }\n",
       "\n",
       "    .dataframe tbody tr th {\n",
       "        vertical-align: top;\n",
       "    }\n",
       "\n",
       "    .dataframe thead th {\n",
       "        text-align: right;\n",
       "    }\n",
       "</style>\n",
       "<table border=\"1\" class=\"dataframe\">\n",
       "  <thead>\n",
       "    <tr style=\"text-align: right;\">\n",
       "      <th></th>\n",
       "      <th>idaviso</th>\n",
       "      <th>titulo</th>\n",
       "      <th>descripcion</th>\n",
       "      <th>nombre_zona</th>\n",
       "      <th>tipo_de_trabajo</th>\n",
       "      <th>nivel_laboral</th>\n",
       "      <th>nombre_area</th>\n",
       "      <th>denominacion_empresa</th>\n",
       "      <th>titulo_uppercase</th>\n",
       "    </tr>\n",
       "  </thead>\n",
       "  <tbody>\n",
       "    <tr>\n",
       "      <th>0</th>\n",
       "      <td>8725750</td>\n",
       "      <td>VENDEDOR/A PROVINCIA DE SANTA FE</td>\n",
       "      <td>&lt;p&gt;&lt;strong&gt;&lt;strong&gt;Empresa:&lt;/strong&gt;&lt;/strong&gt; ...</td>\n",
       "      <td>Gran Buenos Aires</td>\n",
       "      <td>Full-time</td>\n",
       "      <td>Senior / Semi-Senior</td>\n",
       "      <td>Comercial</td>\n",
       "      <td>VENTOR</td>\n",
       "      <td>True</td>\n",
       "    </tr>\n",
       "    <tr>\n",
       "      <th>1</th>\n",
       "      <td>17903700</td>\n",
       "      <td>Enfermeras</td>\n",
       "      <td>&lt;p&gt;Solicitamos para importante cadena de farma...</td>\n",
       "      <td>Gran Buenos Aires</td>\n",
       "      <td>Full-time</td>\n",
       "      <td>Senior / Semi-Senior</td>\n",
       "      <td>Salud</td>\n",
       "      <td>Farmacias Central Oeste</td>\n",
       "      <td>False</td>\n",
       "    </tr>\n",
       "    <tr>\n",
       "      <th>2</th>\n",
       "      <td>1000150677</td>\n",
       "      <td>Chofer de taxi</td>\n",
       "      <td>&lt;p&gt;TE GUSTA MANEJAR? QUERES GANAR PLATA HACIEN...</td>\n",
       "      <td>Capital Federal</td>\n",
       "      <td>Full-time</td>\n",
       "      <td>Senior / Semi-Senior</td>\n",
       "      <td>Transporte</td>\n",
       "      <td>FAMITAX SRL</td>\n",
       "      <td>False</td>\n",
       "    </tr>\n",
       "    <tr>\n",
       "      <th>3</th>\n",
       "      <td>1000610287</td>\n",
       "      <td>CHOFER DE CAMIONETA BAHIA BLANCA - PUNTA ALTA</td>\n",
       "      <td>&lt;p&gt;&lt;strong&gt;Somos una empresa multinacional que...</td>\n",
       "      <td>Gran Buenos Aires</td>\n",
       "      <td>Full-time</td>\n",
       "      <td>Senior / Semi-Senior</td>\n",
       "      <td>Transporte</td>\n",
       "      <td>Wurth Argentina S.A</td>\n",
       "      <td>True</td>\n",
       "    </tr>\n",
       "    <tr>\n",
       "      <th>4</th>\n",
       "      <td>1000872556</td>\n",
       "      <td>Operarios de Planta - Rubro Electrodomésticos</td>\n",
       "      <td>&lt;p&gt;&lt;strong&gt;OPERARIOS DE PLANTA&lt;/strong&gt;&lt;/p&gt;&lt;p&gt;...</td>\n",
       "      <td>Gran Buenos Aires</td>\n",
       "      <td>Full-time</td>\n",
       "      <td>Senior / Semi-Senior</td>\n",
       "      <td>Producción</td>\n",
       "      <td>ELECTRO OUTLET SRL</td>\n",
       "      <td>False</td>\n",
       "    </tr>\n",
       "    <tr>\n",
       "      <th>5</th>\n",
       "      <td>1001135716</td>\n",
       "      <td>Vendedor Viajante TUCUMAN/SANTIAGO DEL ESTERO</td>\n",
       "      <td>&lt;p&gt;Somos una empresa multinacional que opera e...</td>\n",
       "      <td>Gran Buenos Aires</td>\n",
       "      <td>Full-time</td>\n",
       "      <td>Senior / Semi-Senior</td>\n",
       "      <td>Ventas</td>\n",
       "      <td>Wurth Argentina S.A</td>\n",
       "      <td>True</td>\n",
       "    </tr>\n",
       "    <tr>\n",
       "      <th>6</th>\n",
       "      <td>1001326344</td>\n",
       "      <td>Vendedor Viajante RECONQUISTA/AVELLANEDA</td>\n",
       "      <td>&lt;p&gt;&lt;strong&gt;Somos una empresa multinacional que...</td>\n",
       "      <td>Gran Buenos Aires</td>\n",
       "      <td>Full-time</td>\n",
       "      <td>Senior / Semi-Senior</td>\n",
       "      <td>Ventas</td>\n",
       "      <td>Wurth Argentina S.A</td>\n",
       "      <td>True</td>\n",
       "    </tr>\n",
       "    <tr>\n",
       "      <th>7</th>\n",
       "      <td>1001455648</td>\n",
       "      <td>Vendedor Viajante PILAR / ESCOBAR/TIGRE</td>\n",
       "      <td>&lt;p&gt;Somos una empresa multinacional que opera e...</td>\n",
       "      <td>Gran Buenos Aires</td>\n",
       "      <td>Full-time</td>\n",
       "      <td>Junior</td>\n",
       "      <td>Ventas</td>\n",
       "      <td>Wurth Argentina S.A</td>\n",
       "      <td>True</td>\n",
       "    </tr>\n",
       "    <tr>\n",
       "      <th>8</th>\n",
       "      <td>9240880</td>\n",
       "      <td>Productores Asesores Independiente, para venta...</td>\n",
       "      <td>Agente\\r\\r\\noficial Selecciona:&lt;/span&gt;&lt;/strong...</td>\n",
       "      <td>Capital Federal</td>\n",
       "      <td>Full-time</td>\n",
       "      <td>Jefe / Supervisor / Responsable</td>\n",
       "      <td>Comercial</td>\n",
       "      <td>Agencia Oficial Alejandro Arizaga</td>\n",
       "      <td>False</td>\n",
       "    </tr>\n",
       "    <tr>\n",
       "      <th>9</th>\n",
       "      <td>1001202662</td>\n",
       "      <td>promotor/a , asesor/a</td>\n",
       "      <td>&lt;p&gt;En Cerantola nos encontramos en la busqueda...</td>\n",
       "      <td>Gran Buenos Aires</td>\n",
       "      <td>Full-time</td>\n",
       "      <td>Otro</td>\n",
       "      <td>Atención al Cliente</td>\n",
       "      <td>cerantola</td>\n",
       "      <td>False</td>\n",
       "    </tr>\n",
       "  </tbody>\n",
       "</table>\n",
       "</div>"
      ],
      "text/plain": [
       "      idaviso                                             titulo  \\\n",
       "0     8725750                   VENDEDOR/A PROVINCIA DE SANTA FE   \n",
       "1    17903700                                         Enfermeras   \n",
       "2  1000150677                                     Chofer de taxi   \n",
       "3  1000610287      CHOFER DE CAMIONETA BAHIA BLANCA - PUNTA ALTA   \n",
       "4  1000872556      Operarios de Planta - Rubro Electrodomésticos   \n",
       "5  1001135716      Vendedor Viajante TUCUMAN/SANTIAGO DEL ESTERO   \n",
       "6  1001326344           Vendedor Viajante RECONQUISTA/AVELLANEDA   \n",
       "7  1001455648            Vendedor Viajante PILAR / ESCOBAR/TIGRE   \n",
       "8     9240880  Productores Asesores Independiente, para venta...   \n",
       "9  1001202662                              promotor/a , asesor/a   \n",
       "\n",
       "                                         descripcion        nombre_zona  \\\n",
       "0  <p><strong><strong>Empresa:</strong></strong> ...  Gran Buenos Aires   \n",
       "1  <p>Solicitamos para importante cadena de farma...  Gran Buenos Aires   \n",
       "2  <p>TE GUSTA MANEJAR? QUERES GANAR PLATA HACIEN...    Capital Federal   \n",
       "3  <p><strong>Somos una empresa multinacional que...  Gran Buenos Aires   \n",
       "4  <p><strong>OPERARIOS DE PLANTA</strong></p><p>...  Gran Buenos Aires   \n",
       "5  <p>Somos una empresa multinacional que opera e...  Gran Buenos Aires   \n",
       "6  <p><strong>Somos una empresa multinacional que...  Gran Buenos Aires   \n",
       "7  <p>Somos una empresa multinacional que opera e...  Gran Buenos Aires   \n",
       "8  Agente\\r\\r\\noficial Selecciona:</span></strong...    Capital Federal   \n",
       "9  <p>En Cerantola nos encontramos en la busqueda...  Gran Buenos Aires   \n",
       "\n",
       "  tipo_de_trabajo                    nivel_laboral          nombre_area  \\\n",
       "0       Full-time             Senior / Semi-Senior            Comercial   \n",
       "1       Full-time             Senior / Semi-Senior                Salud   \n",
       "2       Full-time             Senior / Semi-Senior           Transporte   \n",
       "3       Full-time             Senior / Semi-Senior           Transporte   \n",
       "4       Full-time             Senior / Semi-Senior           Producción   \n",
       "5       Full-time             Senior / Semi-Senior               Ventas   \n",
       "6       Full-time             Senior / Semi-Senior               Ventas   \n",
       "7       Full-time                           Junior               Ventas   \n",
       "8       Full-time  Jefe / Supervisor / Responsable            Comercial   \n",
       "9       Full-time                             Otro  Atención al Cliente   \n",
       "\n",
       "                denominacion_empresa  titulo_uppercase  \n",
       "0                             VENTOR              True  \n",
       "1            Farmacias Central Oeste             False  \n",
       "2                        FAMITAX SRL             False  \n",
       "3                Wurth Argentina S.A              True  \n",
       "4                 ELECTRO OUTLET SRL             False  \n",
       "5                Wurth Argentina S.A              True  \n",
       "6                Wurth Argentina S.A              True  \n",
       "7                Wurth Argentina S.A              True  \n",
       "8  Agencia Oficial Alejandro Arizaga             False  \n",
       "9                          cerantola             False  "
      ]
     },
     "execution_count": 11,
     "metadata": {},
     "output_type": "execute_result"
    }
   ],
   "source": [
    "titulo_en_mayus_vectorize = np.vectorize(titulo_en_mayus);\n",
    "avisos['titulo_uppercase'] = titulo_en_mayus_vectorize(avisos['titulo']);\n",
    "avisos.head(10)"
   ]
  },
  {
   "cell_type": "code",
   "execution_count": 12,
   "metadata": {},
   "outputs": [
    {
     "data": {
      "text/plain": [
       "idaviso                  int64\n",
       "titulo                  object\n",
       "descripcion             object\n",
       "nombre_zona             object\n",
       "tipo_de_trabajo         object\n",
       "nivel_laboral           object\n",
       "nombre_area             object\n",
       "denominacion_empresa    object\n",
       "titulo_uppercase          bool\n",
       "dtype: object"
      ]
     },
     "execution_count": 12,
     "metadata": {},
     "output_type": "execute_result"
    }
   ],
   "source": [
    "avisos.dtypes"
   ]
  },
  {
   "cell_type": "code",
   "execution_count": 13,
   "metadata": {},
   "outputs": [
    {
     "data": {
      "text/html": [
       "<p>Importante industria plástica ubicada en Luis Guillón incorpora Inyectores Plásticos.</p><p>Se requiere personal masculino, con experiencia comprobable en industrias plásticas y/o metalúrgicas operando maquinas inyectoras de plástico. Experiencia en <strong>cambio de moldes y control de piezas</strong>, excluyente.</p><p>Secundario completo.</p><p>Sexo masculino entre 18 y 40 años, pref.</p><p>Incorporacion inmediata.</p><p>Disponibilidad horaria, excluyente.</p><p>Residir en zonas aledañas.</p><p>Excelentes condiciones de contratación.</p><hr>"
      ],
      "text/plain": [
       "<IPython.core.display.HTML object>"
      ]
     },
     "metadata": {},
     "output_type": "display_data"
    },
    {
     "data": {
      "text/html": [
       "<p>Para nuestro cliente, una prestigiosa empresa de servicios del rubro de salud con presencia nacional, nos encontramos en la búsqueda de un Director Médico / Gerente de Operaciones cuya misión principal será garantizar el cumplimiento del servicio de acuerdo a los estándares de calidad definidos por la empresa.</p><p><u>Serán sus principales funciones:</u></p><p>           Definir, acompañar, y supervisar el cumplimiento de las estrategias de la Gerencia.</p><p>           Coordinar acciones para la elaboración del presupuesto del área.</p><p>           Gestionar y coordinar las diferentes áreas a cargo a través de su equipo de mandos medios</p><p>           Promover y realizar proyectos de mejora y optimización para el área.</p><p>           Proponer y definir las acciones de capacitación a desarrollarse para socios, prestadores y a la comunidad.</p><p>           Definir y analizar indicadores de seguimiento de la gestión, detectar desvíos y tomar acciones correctivas.</p><p>           Supervisar el estado y la gestión de reclamos.</p><p>           Visitar las bases de operaciones a fin de mantener una fluida comunicación.</p><p>           Generar un contacto fluido y de alianza con las áreas corporativas y con las demás filiales del país.</p><p>           Representar a la empresa en medios de comunicación.</p><p><u>Requerimientos de la posición:</u></p><p>-       Ser profesional universitario Médico con Especialidad en Clínica Médica- Terapia Intensiva- Emergentología o Cardiología.</p><p>-       Acreditar no menos de 4 años de experiencia en posiciones de gestión en el área de salud, preferentemente en el ámbito privado, con una importante dotación de personal a cargo.</p><p>-       Experiencia comprobable en gestión de proyectos y planificación de recursos médicos.</p><p>-       Disponibilidad para residir en Rosario.</p><p>-       Disponibilidad full time y dedicación exclusiva.</p><p>Quien se postule a la posición deberá contar con marcada capacidad de liderazgo y conducción del personal a cargo es una posición que demanda de cualidades para la exposición pública.  Se valorará contar con conocimiento en tecnologías aplicadas a la salud para acompañar la transición digital por la que está atravesando la empresa.</p><p>La empresa ofrece competitivas condiciones de contratación y la posibilidad sumarse a un equipo de trabajo altamente profesionalizado y muy desafiante en relación a la complejidad del área y a los proyectos a desarrollar.</p><p> </p><hr>"
      ],
      "text/plain": [
       "<IPython.core.display.HTML object>"
      ]
     },
     "metadata": {},
     "output_type": "display_data"
    },
    {
     "data": {
      "text/html": [
       "<p>Nos encontramos en la búsqueda de <strong>peones y ayudantes de cocina</strong> para comedores de importantes empresas de la zona OESTE de GBA.</p><p>Orientamos la búsqueda a candidatos que cuenten con experiencia en el <strong>Rubro Gastronomía</strong>. </p><p>Se trata de posiciones eventuales. </p><p>Interesados podrán postularse por este medio o bien presentar su CV con fotocopia de DNI en nuestra sucursal de Moron localizada en Ing. Boatti 142 de lunes a viernes de 09:00 a 18:00 horas.</p><hr>"
      ],
      "text/plain": [
       "<IPython.core.display.HTML object>"
      ]
     },
     "metadata": {},
     "output_type": "display_data"
    },
    {
     "data": {
      "text/html": [
       "<p>Importante empresa de Inteligencia Artificial sobre redes sociales nos encomendó la búsqueda de un front-end que disfrute lo que hace y le interese abordar desafíos técnicos que les permita ir siempre por más y mejores soluciones para los usuarios de sus productos. Les gustan las personas que nunca se cansan de aprender algo nuevo, y aquellas que quieran conocer las últimas tendencias y tecnologías de la industria, y sobre todo, que disfruten de compartir conocimientos con otros.<br /><br />El puesto tiene como objetivos Desarrollar el front-end de cada producto en conjunto con el área de<br />backend. Investigar e identificar nuevas técnicas y tendencias de visualización de información e interface de usuario. Investigar y experimentar con diferentes diseños y sistemas de interfaz, mediante el desarrollo de prototipos. Crear y ser responsable por los modelos de interacción con las interfaces. Crear y ser responsable por los workflows de las interfaces de los productos.<br /><br />*Tecnologías que deberías acreditar:<br />Que sepas utilizar servicios Restful. Conocimientos en el uso de herramientas y frameworks para desarrollo client-side como Backbone, Underscore, SASS/LESS JS y tecnologías HTML5. Experiencia en Angular JS y sólidos conocimiento en Javascript. Requerimiento a parte:Ingles hablado y escrito en nível medio (mínimo), excluyente.<br /><br />¿Qué te ofrecen a cambio?<br /> Salario competitivo.<br /> Relación de dependencia directa con ellos.<br /> 3 semanas de vacaciones por año (1 semana extra de lo habitual).<br /> 2 días por mes de home office.<br /> OSDE 310<br /> Excelente ambiente de trabajo, frutas, facturas, after.<br /> ¡En tu cumpleaños, nosotros nos ocupamos de la torta para festejarlo! ;-)<br /><br />¿Quienes son?<br />Es una compañía con base en Miami, Florida que tiene una larga trayectoria en data science, machine learning y AI. También son líderes en social media, analytics y social media listening, con presencia en el mercado local e internacional. En Argentina se encuentran en Palermo, Cap Fed, Buenos Aires.</p><hr>"
      ],
      "text/plain": [
       "<IPython.core.display.HTML object>"
      ]
     },
     "metadata": {},
     "output_type": "display_data"
    },
    {
     "data": {
      "text/html": [
       "<p style=\"\"><span style=\"\">Multinacional financiera en plena expansión en Argentina, se encuentra en la búsqueda de un Analista de Riesgo.</span></p><p> </p><p style=\"\"><span style=\"\">Buscamos personas analíticas, con un interés marcado por el análisis de riesgo y el manejo de bases de datos. El objetivo principal de la posición es ofrecer soluciones que asistan en la creación, mantenimiento y monitoreo de las políticas de crédito y procedimientos.</span></p><p style=\"\"> </p><p style=\"\"><span style=\"\">Preferentemente con experiencia en Retail / personas físicas.</span></p><p style=\"\"> </p><p style=\"\"><span style=\"\">Las principales responsabilidades del puesto serán:</span></p><p style=\"\"><span style=\"\">-Definir, administrar, evaluar y mantener las políticas crediticias de la empresa para los distintos productos.</span></p><p style=\"\"><span style=\"\">-<span> </span>Interactuar y colaborar con las unidades funcionales de la empresa: IT, Marketing, Producto, Sales, Customer Service, Debt Collections, en el desarrollo de nuevos programas de crédito.</span></p><p style=\"\"><span style=\"\">-<span> </span>Desarrollar programas de crédito y monitorear la calidad crediticia, riesgo/retorno para cada producto y programa.</span></p><p style=\"\"> </p><p style=\"\"><span style=\"\">-<span> </span>Monitorear, evaluar y reportar indicadores de performance del portafolio</span><span style=\"\">. Etc.</span></p><p style=\"\"> </p><p style=\"\"><span style=\"\">Requisitos excluyentes:</span></p><p style=\"\"><span style=\"\">-Experiencia en áreas de Riesgos, preferentemente en compañías financieras.</span></p><p style=\"\"><span style=\"\">-Habilidad demostrada para fusionar, concatenar, limpiar y preparar grupos de datos extremadamente grandes.</span></p><p style=\"\"><span style=\"\">-<span> </span>Ser estudiante o egresado de Ciencias Económicas, Administracion de Empresas, Contador Público, Actuario, Ingeniería en Sistemas, Ingeniería Informática, o afines.</span></p><p style=\"\"><span style=\"\">-<span> </span>Buen manejo de Excel</span></p><p style=\"\"> </p><p style=\"\"><span style=\"\">-Inglés intermedio / avanzado</span></p><hr>"
      ],
      "text/plain": [
       "<IPython.core.display.HTML object>"
      ]
     },
     "metadata": {},
     "output_type": "display_data"
    },
    {
     "data": {
      "text/html": [
       "<p>Restaurante  italiano incorpora  cocineros y ayudantes de cocina con  experiencia comprobable (2/3 años). <br /><br />Seleccionamos postulantes con un perfil dinámico de trabajo, orientado a la calidad y con capacidad para trabajar en equipo.<br /><br />Valoraremos conocimiento en:  cocina italiana, pescados - mariscos y sushi. </p><p>Los postulantes deben contar con disponibilidad full time. Zona de trabajo: Puerto Madero, Belgrano y San Isidro. </p><p><br />Sexo:Masculino. <br /><br />Incorporación inmediata y efectiva. Ofrecemos posibilidad de desarrollo. Buen clima laboral y  Uniforme. </p><hr>"
      ],
      "text/plain": [
       "<IPython.core.display.HTML object>"
      ]
     },
     "metadata": {},
     "output_type": "display_data"
    },
    {
     "data": {
      "text/html": [
       "<p>Para Importante distribuidora de consumo masivo, se encuentra en la busqueda de un Preventista.</p><p>Entre sus principales responsabilidades se encuentran la generación de nuevos clientes, la fidelización de clientes activos y el desarrollo de los mismos.</p><p>Nos orientamos en la búsqueda de personas dinámicas, con excelente presencia y buenas habilidades para la comunicación.  </p><p> </p><p>Se requiere experiencia mínima de 3 años en venta minorista en empresas de Consumo Masivo y secundario completo.</p><p> </p><p>Contar con disponibilidad para realizar trabajo de lunes a sábado ( horario corrido).</p><p> </p><p>Se ofrecen interesantes condiciones de contratación en una posición permanente.</p><hr>"
      ],
      "text/plain": [
       "<IPython.core.display.HTML object>"
      ]
     },
     "metadata": {},
     "output_type": "display_data"
    },
    {
     "data": {
      "text/html": [
       "<p>En KaizenRH nos encontramos en búsqueda de <strong>Desarrollador C# y SQL Server</strong> para Importante empresa de soluciones de Software.</p><p> </p><p><strong>Requisitos excluyentes</strong></p><p> Senior en desarrollo en C# y SQL server.</p><p> Con experiencia en Api Rest, experiencia en desarrollos en la nube Amazon o Azure.</p><p> Si es posible con conocimientos en Xamarin.</p><p> </p><p>Buscamos personas con buenas relaciones interpersonales, proactiva, flexible, con capacidad para el trabajo en equipo.</p><p> </p><p><strong>-Tareas</strong></p><p>Desarrollar productos y procesos cumpliendo con las prácticas y valores de Scrum, XP y normas propias del área de investigación y Desarrollo.</p><p> </p><p><strong>-Beneficios</strong></p><p>Obra Social-Prepaga OSDE 210 Incluye Grupo Familiar Primario.</p><p>Trabajo en relación directa, efectiva y con continuidad laboral.</p><p>Flex Time en las puntas ( Ingreso: 08/09 hs. Salida: 17/ 18 hs. )</p><p>Un día de Home Working por semana.</p><p>Capacitación continua.</p><p><strong> </strong></p><p><strong> Lugar y horario de trabajo</strong>: Belgrano, CABA. De Lunes a Viernes de 09 a 18 hs</p><hr>"
      ],
      "text/plain": [
       "<IPython.core.display.HTML object>"
      ]
     },
     "metadata": {},
     "output_type": "display_data"
    },
    {
     "data": {
      "text/html": [
       "<p><strong>Compañía Multinacional Líder en el rubro recubrimientos y pinturas, se encuentra en la búsqueda de <span style=\"text-decoration: underline;\">Consultor / Asesor Técnico para región Patagónica</span></strong>.</p><p><strong> </strong></p><p>El objetivo principal de la posición radica en brindar asesoramiento técnico a los diferentes grupos de clientes en el mercado: <strong><em>Obras Construcción, Aplicadores/Pintores, Profesionales, Vendedores y Consumidores Finales</em></strong>; sobre las características del producto, sus prestaciones y adecuada aplicación, con el fin de lograr total satisfacción y fidelización del cliente.</p><p><strong> </strong></p><p><strong><span style=\"text-decoration: underline;\">Tareas</span></strong>:</p><ul><li>Visitas personalizadas y coordinación de disertaciones técnico-promocionales y programas de formación técnica, tanto presenciales como virtuales, adaptandolo al destinatario final (Brindar soporte técnico de posventa - correcta aplicación).</li><li>Atender a las no conformidades recibidas</li><li>Asesorar/Capacitar Fuerza de Venta.</li></ul><ul><li>Mantener actualizado CRM (Centro Relacionamiento Mercado) con datos completos de contactos logrados.</li></ul><p> </p><ul><li>Monitoreo de Mercado / Competencia</li></ul><ul><li>Cumplir con los objetivos Comerciales/Calidad acordados en el Plan Anual de Promoción Técnica.</li></ul><ul><li>Elaboración informes de relevamiento para colaborar con el desarrollo de estrategia de marca/producto.</li></ul><p><strong> </strong></p><p><strong><span style=\"text-decoration: underline;\">Segmentos</span></strong>:</p><ul><li>Especificadores Profesionales: Estudios de Arquitectura y/o Decoración; Constructoras;  Dependencias Públicas Nacionales / Provinciales / Municipales.</li></ul><ul><li>Aplicadores / Pintores; Empresas de Aplicación de Pintura</li></ul><ul><li>Puntos de Venta: Locales Comerciales, Stores.</li></ul><p> </p><p><strong><span style=\"text-decoration: underline;\">Zona de Incumbencia</span></strong>:</p><ul><li><em>Provincias de Chubut, Santa Cruz y Tierra del Fuego</em></li></ul><p><br /><br /></p><p><em>                                       Se ofrecen muy buenas condiciones de contratación</em></p><hr>"
      ],
      "text/plain": [
       "<IPython.core.display.HTML object>"
      ]
     },
     "metadata": {},
     "output_type": "display_data"
    },
    {
     "data": {
      "text/html": [
       "<p>Nos encontramos en la búsqueda de un ANALISTA DE RRHH JUNIOR con perfil generalista (operativo) para importante empresa Minera, ubicada en Santa Cruz. </p><p> </p><p><span style=\"text-decoration: underline;\"><strong>RESPONSABILIDADES:</strong></span></p><ul><li> Ejecutar las tareas operativas de las áreas: Capacitación, Comunicación, Empleos &amp; Desarrollo.</li><li> Atender y dar respuesta a consultas/inquietudes del personal.</li><li>Ingresar y mantener actualizada la información de las bases de datos.</li><li>Mantener actualizados los canales de comunicación interna: carteleras y pantallas digitales.</li><li>Acompañar los procesos de reclutamiento y selección.</li><li>Asistir en la evaluación de candidatos internos y externos con los proveedores (Evaluación médica y antecedentes).</li><li>Llevar a cabo el proceso de ingreso de personal (traslados, firma de contrato, inducción, control documentario).</li></ul><p> </p><p><span style=\"text-decoration: underline;\"><strong>REQUISITOS:</strong></span></p><ul><li>Sexo: Masculino </li><li>Edad: Hasta 27 años.  </li><li>Graduados recientemente de la carrera universitaria o terciaria de Recursos Humanos, Relaciones del Trabajo, Psicología o similar.</li><li>Poseer experiencia en el puesto (mínimo 1 año).</li><li>Conocimientos Paquete office.</li><li>Disponibilidad para realizar régimen de trabajo de 16 x 12, en campamento minero. <strong>(EXCLUYENTE)</strong></li><li>Zona de residencia: todo el país. El traslado del candidato estará a cargo de la empresa.</li></ul><p> </p><p>Se valoraran candidatos con capacidad de aprendizaje, adaptabilidad, buenas relaciones interpersonales, dinamismo, proactividad, responsabilidad, compromiso y orientación al cliente.</p><p> </p><p><span style=\"text-decoration: underline;\"><strong>OFRECEMOS:</strong></span></p><ul><li>Se ofrecen muy buenas condiciones de contratación.</li></ul><p> </p><p>Los interesados deben enviar CV y remuneración pretendida.</p><p> </p><p> </p><hr>"
      ],
      "text/plain": [
       "<IPython.core.display.HTML object>"
      ]
     },
     "metadata": {},
     "output_type": "display_data"
    }
   ],
   "source": [
    "#Miramos un poco las descripciones\n",
    "from IPython.core.display import HTML\n",
    "descripciones=avisos['descripcion'].sample(10).values;\n",
    "for descripcion in descripciones:\n",
    "    display(HTML(descripcion+\"<hr>\"))"
   ]
  },
  {
   "cell_type": "code",
   "execution_count": 14,
   "metadata": {},
   "outputs": [
    {
     "name": "stdout",
     "output_type": "stream",
     "text": [
      "True\n",
      "True\n",
      "False\n"
     ]
    }
   ],
   "source": [
    "import re\n",
    "def contiene_frase(texto, frase):\n",
    "    if re.search(frase, texto,re.IGNORECASE):\n",
    "        return True\n",
    "    return False\n",
    "\n",
    "print(contiene_frase(\"Experiencia utilizando Selenium  WebDriver (Deseable)\", \"exPeRiencia\"))\n",
    "print(contiene_frase(\"idiOmA inglés\", \"idioma inglés\"))\n",
    "print(contiene_frase(\"idiOmA inglés\", \"idioma ingles\"))\n",
    "contiene_frase=np.vectorize(contiene_frase)"
   ]
  },
  {
   "cell_type": "code",
   "execution_count": 15,
   "metadata": {},
   "outputs": [
    {
     "name": "stdout",
     "output_type": "stream",
     "text": [
      "1916\n"
     ]
    }
   ],
   "source": [
    "avisos['pide_vendedor'] = (contiene_frase(avisos['titulo'], \"vendedor\") | contiene_frase(avisos['titulo'], \"vendedora\")\n",
    "                          | contiene_frase(avisos['titulo'], \"vendedor/a\"))\n",
    "print(sum(avisos[\"pide_vendedor\"]))"
   ]
  },
  {
   "cell_type": "code",
   "execution_count": 16,
   "metadata": {},
   "outputs": [
    {
     "name": "stdout",
     "output_type": "stream",
     "text": [
      "1855\n"
     ]
    }
   ],
   "source": [
    "avisos['pide_administrativo'] = (contiene_frase(avisos['titulo'], \"administrativo\") | contiene_frase(avisos['titulo'], \"administrativa\"))\n",
    "print(sum(avisos[\"pide_administrativo\"]))"
   ]
  },
  {
   "cell_type": "code",
   "execution_count": 17,
   "metadata": {},
   "outputs": [
    {
     "name": "stdout",
     "output_type": "stream",
     "text": [
      "1855\n"
     ]
    }
   ],
   "source": [
    "avisos['pide_tecnico'] = (contiene_frase(avisos['titulo'], \"Técnico\"))\n",
    "print(sum(avisos[\"pide_administrativo\"]))"
   ]
  },
  {
   "cell_type": "code",
   "execution_count": 18,
   "metadata": {},
   "outputs": [
    {
     "name": "stdout",
     "output_type": "stream",
     "text": [
      "3419\n"
     ]
    }
   ],
   "source": [
    "avisos['pide_analista'] = (contiene_frase(avisos['titulo'], \"analista\"))\n",
    "print(sum(avisos[\"pide_analista\"]))"
   ]
  },
  {
   "cell_type": "code",
   "execution_count": 19,
   "metadata": {},
   "outputs": [
    {
     "name": "stdout",
     "output_type": "stream",
     "text": [
      "1360\n"
     ]
    }
   ],
   "source": [
    "avisos['pide_comercial'] = (contiene_frase(avisos['titulo'], \"comercial\"))\n",
    "print(sum(avisos[\"pide_comercial\"]))"
   ]
  },
  {
   "cell_type": "code",
   "execution_count": 20,
   "metadata": {},
   "outputs": [
    {
     "name": "stdout",
     "output_type": "stream",
     "text": [
      "848\n"
     ]
    }
   ],
   "source": [
    "avisos['pide_asistente'] = (contiene_frase(avisos['titulo'], \"asistente\"))\n",
    "print(sum(avisos[\"pide_asistente\"]))"
   ]
  },
  {
   "cell_type": "code",
   "execution_count": 21,
   "metadata": {},
   "outputs": [
    {
     "name": "stdout",
     "output_type": "stream",
     "text": [
      "736\n"
     ]
    }
   ],
   "source": [
    "avisos['pide_ejecutivo'] = (contiene_frase(avisos['titulo'], \"ejecutivo\"))\n",
    "print(sum(avisos[\"pide_ejecutivo\"]))"
   ]
  },
  {
   "cell_type": "code",
   "execution_count": 25,
   "metadata": {},
   "outputs": [
    {
     "name": "stdout",
     "output_type": "stream",
     "text": [
      "760\n"
     ]
    }
   ],
   "source": [
    "avisos['pide_ingeniero'] = (contiene_frase(avisos['titulo'], \"ingeniero\")| contiene_frase(avisos[\"titulo\"],\"ingeniería\")|contiene_frase(avisos[\"titulo\"],\"ingenieria\"))\n",
    "print(sum(avisos[\"pide_ingeniero\"]))"
   ]
  },
  {
   "cell_type": "code",
   "execution_count": null,
   "metadata": {},
   "outputs": [],
   "source": []
  },
  {
   "cell_type": "code",
   "execution_count": 26,
   "metadata": {},
   "outputs": [
    {
     "name": "stdout",
     "output_type": "stream",
     "text": [
      "1354\n"
     ]
    }
   ],
   "source": [
    "avisos['pide_hombre']=(contiene_frase(avisos['descripcion'],\"hombres\") & ~contiene_frase(avisos['descripcion'],\"mujeres\")) | contiene_frase(avisos['descripcion'],\"sexo masculino\") | contiene_frase(avisos['descripcion'],\"sexo: masculino\")\n",
    "print(sum(avisos['pide_hombre']))\n",
    "avisos['pide_mujer']=(contiene_frase(avisos['descripcion'],\"mujeres\") & ~contiene_frase(avisos['descripcion'],\"hombres\")) | contiene_frase(avisos['descripcion'],\"sexo femenino\") | contiene_frase(avisos['descripcion'],\"sexo: femenino\")"
   ]
  },
  {
   "cell_type": "code",
   "execution_count": 27,
   "metadata": {},
   "outputs": [
    {
     "name": "stdout",
     "output_type": "stream",
     "text": [
      "6274\n"
     ]
    }
   ],
   "source": [
    "avisos[\"perfil_especifico\"] = (contiene_frase(avisos[\"descripcion\"],\"perfil\"))\n",
    "print(sum(avisos[\"perfil_especifico\"]))"
   ]
  },
  {
   "cell_type": "code",
   "execution_count": 28,
   "metadata": {},
   "outputs": [
    {
     "name": "stdout",
     "output_type": "stream",
     "text": [
      "716\n"
     ]
    }
   ],
   "source": [
    "avisos[\"pide_ejecutivo\"] = (contiene_frase(avisos[\"descripcion\"],\"ejecutivo\"))\n",
    "print(sum(avisos[\"pide_ejecutivo\"]))"
   ]
  },
  {
   "cell_type": "code",
   "execution_count": 29,
   "metadata": {},
   "outputs": [
    {
     "name": "stdout",
     "output_type": "stream",
     "text": [
      "1532\n"
     ]
    }
   ],
   "source": [
    "avisos[\"contratacion_inmediata\"] = (contiene_frase(avisos[\"descripcion\"],\"contratacion inmediata\")| contiene_frase(avisos[\"descripcion\"],\"contratación inmediata\")| contiene_frase(avisos[\"descripcion\"],\"contratación efectiva\") |contiene_frase(avisos[\"descripcion\"],\"incorporacion inmediata\")|contiene_frase(avisos[\"descripcion\"],\"incorporación inmediata\"))\n",
    "print(sum(avisos[\"contratacion_inmediata\"]))"
   ]
  },
  {
   "cell_type": "code",
   "execution_count": 30,
   "metadata": {},
   "outputs": [
    {
     "name": "stdout",
     "output_type": "stream",
     "text": [
      "2795\n"
     ]
    }
   ],
   "source": [
    "avisos[\"trabajo_en_equipo\"] = (contiene_frase(avisos[\"descripcion\"],\"trabajo en equipo\") | contiene_frase(avisos[\"descripcion\"],\"trabajo en grupo\"))\n",
    "print(sum(avisos[\"trabajo_en_equipo\"]))"
   ]
  },
  {
   "cell_type": "code",
   "execution_count": 31,
   "metadata": {},
   "outputs": [
    {
     "name": "stdout",
     "output_type": "stream",
     "text": [
      "1991\n"
     ]
    }
   ],
   "source": [
    "avisos[\"proactivo\"] = (contiene_frase(avisos[\"descripcion\"],\"proactivo\")| contiene_frase(avisos[\"descripcion\"],\"energico\")|contiene_frase(avisos[\"descripcion\"],\"enérgico\"))\n",
    "print(sum(avisos[\"proactivo\"]))"
   ]
  },
  {
   "cell_type": "code",
   "execution_count": 32,
   "metadata": {},
   "outputs": [
    {
     "name": "stdout",
     "output_type": "stream",
     "text": [
      "1907\n"
     ]
    }
   ],
   "source": [
    "avisos[\"rol_soporte\"] = (contiene_frase(avisos[\"descripcion\"],\"soporte\"))\n",
    "print(sum(avisos[\"rol_soporte\"]))"
   ]
  },
  {
   "cell_type": "code",
   "execution_count": 33,
   "metadata": {},
   "outputs": [
    {
     "name": "stdout",
     "output_type": "stream",
     "text": [
      "1704\n"
     ]
    }
   ],
   "source": [
    "avisos[\"supervisor\"] = (contiene_frase(avisos[\"descripcion\"],\"supervisor\")|contiene_frase(avisos[\"descripcion\"],\"jefe\"))\n",
    "print(sum(avisos[\"supervisor\"]))"
   ]
  },
  {
   "cell_type": "code",
   "execution_count": 34,
   "metadata": {},
   "outputs": [
    {
     "name": "stdout",
     "output_type": "stream",
     "text": [
      "8223\n"
     ]
    }
   ],
   "source": [
    "avisos[\"requisitos_excluyentes\"] = (contiene_frase(avisos[\"descripcion\"],\"excluyente\") & ~(contiene_frase(avisos[\"descripcion\"],\"no excluyente\")))\n",
    "print(sum(avisos[\"requisitos_excluyentes\"]))"
   ]
  },
  {
   "cell_type": "code",
   "execution_count": 36,
   "metadata": {},
   "outputs": [
    {
     "name": "stdout",
     "output_type": "stream",
     "text": [
      "4547\n"
     ]
    }
   ],
   "source": [
    "avisos[\"nacional\"] = (contiene_frase(avisos[\"descripcion\"],\"nacional\") & ~(contiene_frase(avisos[\"descripcion\"], \"internacional\")& ~(contiene_frase(avisos[\"descripcion\"], \"multinacional\"))))\n",
    "print(sum(avisos[\"nacional\"]))"
   ]
  },
  {
   "cell_type": "code",
   "execution_count": 38,
   "metadata": {},
   "outputs": [
    {
     "name": "stdout",
     "output_type": "stream",
     "text": [
      "1765\n"
     ]
    }
   ],
   "source": [
    "avisos['pide_hombre']=(contiene_frase(avisos['descripcion'],\"hombre\")|(contiene_frase(avisos['descripcion'],\"masculino\")))\n",
    "print(sum(avisos[\"pide_hombre\"]))"
   ]
  },
  {
   "cell_type": "code",
   "execution_count": 40,
   "metadata": {},
   "outputs": [
    {
     "name": "stdout",
     "output_type": "stream",
     "text": [
      "630\n"
     ]
    }
   ],
   "source": [
    "avisos['pide_mujer']=(contiene_frase(avisos['descripcion'],\"mujer\")|(contiene_frase(avisos['descripcion'],\"femenino\")))\n",
    "print(sum(avisos[\"pide_mujer\"]))"
   ]
  },
  {
   "cell_type": "code",
   "execution_count": 41,
   "metadata": {},
   "outputs": [
    {
     "name": "stdout",
     "output_type": "stream",
     "text": [
      "9507\n"
     ]
    },
    {
     "data": {
      "text/plain": [
       "1330.6871549361028"
      ]
     },
     "execution_count": 41,
     "metadata": {},
     "output_type": "execute_result"
    }
   ],
   "source": [
    "avisos[\"largo_descripcion\"] = (avisos[\"descripcion\"].str.len())\n",
    "avisos[\"supera_largo_medio\"] = (avisos[\"largo_descripcion\"] >= avisos[\"largo_descripcion\"].mean())\n",
    "\n",
    "print(sum(avisos[\"supera_largo_medio\"]))\n",
    "avisos[\"largo_descripcion\"].mean()"
   ]
  },
  {
   "cell_type": "code",
   "execution_count": 42,
   "metadata": {},
   "outputs": [
    {
     "name": "stdout",
     "output_type": "stream",
     "text": [
      "4597\n"
     ]
    }
   ],
   "source": [
    "avisos['ingles']=(contiene_frase(avisos['descripcion'],\"inglés\") | contiene_frase(avisos['descripcion'],\"ingles\"))\n",
    "print(avisos['ingles'].sum())"
   ]
  },
  {
   "cell_type": "code",
   "execution_count": 43,
   "metadata": {},
   "outputs": [
    {
     "name": "stdout",
     "output_type": "stream",
     "text": [
      "13580\n"
     ]
    }
   ],
   "source": [
    "avisos['experiencia']=(contiene_frase(avisos['descripcion'],\"experiencia minima\") | contiene_frase(avisos['descripcion'],\"experiencia mínima\") | contiene_frase(avisos['descripcion'],\"experiencia en\") | contiene_frase(avisos['descripcion'],\"años de experiencia\"))\n",
    "print(avisos['experiencia'].sum())"
   ]
  },
  {
   "cell_type": "code",
   "execution_count": 44,
   "metadata": {},
   "outputs": [
    {
     "name": "stdout",
     "output_type": "stream",
     "text": [
      "4037\n"
     ]
    }
   ],
   "source": [
    "avisos['paquete_office']=(contiene_frase(avisos['descripcion'],\"Paquete Office\") | contiene_frase(avisos['descripcion'], \"Office\") | contiene_frase(avisos['descripcion'], \"office\"))\n",
    "print(avisos['paquete_office'].sum())"
   ]
  },
  {
   "cell_type": "code",
   "execution_count": 45,
   "metadata": {},
   "outputs": [
    {
     "name": "stdout",
     "output_type": "stream",
     "text": [
      "10065\n"
     ]
    }
   ],
   "source": [
    "avisos['pide_excel']= (contiene_frase(avisos['descripcion'], \"excel\"))\n",
    "print(avisos['pide_excel'].sum())"
   ]
  },
  {
   "cell_type": "code",
   "execution_count": 46,
   "metadata": {},
   "outputs": [
    {
     "name": "stdout",
     "output_type": "stream",
     "text": [
      "1292\n"
     ]
    }
   ],
   "source": [
    "avisos['liderazgo']=(contiene_frase(avisos['descripcion'],\"liderazgo\"))\n",
    "print(avisos['liderazgo'].sum())"
   ]
  },
  {
   "cell_type": "code",
   "execution_count": 47,
   "metadata": {},
   "outputs": [
    {
     "name": "stdout",
     "output_type": "stream",
     "text": [
      "4982\n"
     ]
    }
   ],
   "source": [
    "avisos['secundario']=(contiene_frase(avisos['descripcion'],\"secundario\") | contiene_frase(avisos['descripcion'],\"Secundario\"))\n",
    "print(avisos['secundario'].sum())"
   ]
  },
  {
   "cell_type": "code",
   "execution_count": 48,
   "metadata": {},
   "outputs": [
    {
     "name": "stdout",
     "output_type": "stream",
     "text": [
      "4499\n"
     ]
    }
   ],
   "source": [
    "avisos['tecnico']=(contiene_frase(avisos['descripcion'],\"tecnico\")|contiene_frase(avisos['descripcion'],\"técnico\") | contiene_frase(avisos['descripcion'],\"terciario\")| contiene_frase(avisos['descripcion'],\"Tecnico\")|contiene_frase(avisos['descripcion'],\"Técnico\"))\n",
    "print(avisos['tecnico'].sum())"
   ]
  },
  {
   "cell_type": "code",
   "execution_count": 49,
   "metadata": {},
   "outputs": [
    {
     "name": "stdout",
     "output_type": "stream",
     "text": [
      "2105\n"
     ]
    }
   ],
   "source": [
    "avisos['universitario']=(contiene_frase(avisos['descripcion'],\"universitario\"))\n",
    "print(avisos['universitario'].sum())"
   ]
  },
  {
   "cell_type": "code",
   "execution_count": 50,
   "metadata": {},
   "outputs": [
    {
     "name": "stdout",
     "output_type": "stream",
     "text": [
      "1064\n"
     ]
    }
   ],
   "source": [
    "avisos['viajar']=(contiene_frase(avisos['descripcion'],\"viajar\"))\n",
    "print(avisos['viajar'].sum())"
   ]
  },
  {
   "cell_type": "code",
   "execution_count": 51,
   "metadata": {},
   "outputs": [
    {
     "name": "stdout",
     "output_type": "stream",
     "text": [
      "6726\n"
     ]
    }
   ],
   "source": [
    "avisos['empresa_importante']=(contiene_frase(avisos['descripcion'],\"empresa líder\") | contiene_frase(avisos['descripcion'],\"empresa lider\") | contiene_frase(avisos['descripcion'],\"importante empresa\") | contiene_frase(avisos['descripcion'],\"importante compañia\")| contiene_frase(avisos['descripcion'],\"importante compania\"))\n",
    "print(avisos['empresa_importante'].sum())"
   ]
  },
  {
   "cell_type": "code",
   "execution_count": 52,
   "metadata": {},
   "outputs": [
    {
     "name": "stdout",
     "output_type": "stream",
     "text": [
      "3898\n"
     ]
    }
   ],
   "source": [
    "avisos['capacitacion']=(contiene_frase(avisos['descripcion'],\"capacitacion\") | contiene_frase(avisos['descripcion'],\"capacitación\")|contiene_frase(avisos['descripcion'],\"capacitar\")|contiene_frase(avisos['descripcion'],\"capacitados\")|contiene_frase(avisos['descripcion'],\"capacitado\") )\n",
    "print(avisos['capacitacion'].sum())"
   ]
  },
  {
   "cell_type": "code",
   "execution_count": 53,
   "metadata": {},
   "outputs": [
    {
     "name": "stdout",
     "output_type": "stream",
     "text": [
      "1682\n"
     ]
    }
   ],
   "source": [
    "avisos['remuneracion_pretendida']=(contiene_frase(avisos['descripcion'],\"remuneración pretendida\") | contiene_frase(avisos['descripcion'],\"remuneracion pretendida\"))\n",
    "print(avisos['remuneracion_pretendida'].sum())"
   ]
  },
  {
   "cell_type": "code",
   "execution_count": 54,
   "metadata": {},
   "outputs": [
    {
     "name": "stdout",
     "output_type": "stream",
     "text": [
      "3968\n"
     ]
    }
   ],
   "source": [
    "avisos['graduados']=(contiene_frase(avisos['descripcion'],\"graduados\")|contiene_frase(avisos['descripcion'],\"graduado\"))\n",
    "print(avisos['graduados'].sum())"
   ]
  },
  {
   "cell_type": "code",
   "execution_count": 55,
   "metadata": {},
   "outputs": [
    {
     "name": "stdout",
     "output_type": "stream",
     "text": [
      "5020\n"
     ]
    }
   ],
   "source": [
    "avisos['estudiantes']=(contiene_frase(avisos['descripcion'],\"estudiantes\")| contiene_frase(avisos['descripcion'],\"estudiante\"))\n",
    "print(avisos['estudiantes'].sum())"
   ]
  },
  {
   "cell_type": "code",
   "execution_count": 56,
   "metadata": {},
   "outputs": [
    {
     "name": "stdout",
     "output_type": "stream",
     "text": [
      "3263\n"
     ]
    }
   ],
   "source": [
    "avisos['conocimientos_especificos']=(contiene_frase(avisos['descripcion'],\"conocimientos especificos\") | contiene_frase(avisos['descripcion'],\"conocimientos específicos\")|contiene_frase(avisos['descripcion'],\"conocimientos en\"))\n",
    "print(avisos['conocimientos_especificos'].sum())"
   ]
  },
  {
   "cell_type": "code",
   "execution_count": 57,
   "metadata": {},
   "outputs": [
    {
     "name": "stdout",
     "output_type": "stream",
     "text": [
      "3717\n"
     ]
    }
   ],
   "source": [
    "avisos['buen_ambiente']=(contiene_frase(avisos['descripcion'],\"buenas condiciones\") | contiene_frase(avisos['descripcion'],\"buen ambiente\") | contiene_frase(avisos['descripcion'],\"clima laboral\"))\n",
    "print(avisos['buen_ambiente'].sum())"
   ]
  },
  {
   "cell_type": "code",
   "execution_count": 58,
   "metadata": {},
   "outputs": [
    {
     "name": "stdout",
     "output_type": "stream",
     "text": [
      "2780\n"
     ]
    }
   ],
   "source": [
    "avisos['indica_sueldo']=(contiene_frase(avisos['descripcion'],\"sueldo\") | contiene_frase(avisos['descripcion'],\"Sueldo\") )\n",
    "print(avisos['indica_sueldo'].sum())"
   ]
  },
  {
   "cell_type": "code",
   "execution_count": 59,
   "metadata": {},
   "outputs": [
    {
     "name": "stdout",
     "output_type": "stream",
     "text": [
      "1148\n"
     ]
    }
   ],
   "source": [
    "avisos['part_time']=(contiene_frase(avisos['descripcion'],\"part time\") | contiene_frase(avisos['descripcion'],\"Part time\") | contiene_frase(avisos['descripcion'],\"part-time\")| contiene_frase(avisos['descripcion'],\"jornada parcial\")| contiene_frase(avisos['descripcion'],\"medio tiempo\"))\n",
    "print(avisos['part_time'].sum())"
   ]
  },
  {
   "cell_type": "code",
   "execution_count": 60,
   "metadata": {},
   "outputs": [
    {
     "name": "stdout",
     "output_type": "stream",
     "text": [
      "4412\n"
     ]
    }
   ],
   "source": [
    "avisos['full_time']=(contiene_frase(avisos['descripcion'],\"full time\") | contiene_frase(avisos['descripcion'],\"Full time\") | contiene_frase(avisos['descripcion'],\"full-time\")| contiene_frase(avisos['descripcion'],\"jornada completa\"))\n",
    "\n",
    "print(avisos['full_time'].sum())"
   ]
  },
  {
   "cell_type": "code",
   "execution_count": 61,
   "metadata": {},
   "outputs": [
    {
     "name": "stdout",
     "output_type": "stream",
     "text": [
      "3410\n"
     ]
    }
   ],
   "source": [
    "avisos['ofrece_crecimiento']=(contiene_frase(avisos['descripcion'],\"crecimiento\") | contiene_frase(avisos['descripcion'],\"oportunidad de crecimiento\") | contiene_frase(avisos['descripcion'],\"carrera laboral\"))\n",
    "\n",
    "print(avisos['ofrece_crecimiento'].sum())"
   ]
  },
  {
   "cell_type": "code",
   "execution_count": 62,
   "metadata": {},
   "outputs": [
    {
     "name": "stdout",
     "output_type": "stream",
     "text": [
      "2964\n"
     ]
    }
   ],
   "source": [
    "avisos['ofrece_beneficios']=(contiene_frase(avisos['descripcion'],\"beneficios\") )\n",
    "\n",
    "print(avisos['ofrece_beneficios'].sum())"
   ]
  },
  {
   "cell_type": "code",
   "execution_count": 63,
   "metadata": {},
   "outputs": [
    {
     "name": "stdout",
     "output_type": "stream",
     "text": [
      "1521\n"
     ]
    }
   ],
   "source": [
    "avisos['obra_social']=(contiene_frase(avisos[\"descripcion\"],\"obra social\") | (contiene_frase(avisos[\"descripcion\"],\"osde\") | contiene_frase(avisos[\"descripcion\"],\"galeno\"))|(contiene_frase(avisos[\"descripcion\"],\"swiss medical\"))| (contiene_frase(avisos[\"descripcion\"],\"cobertura medica\"))| (contiene_frase(avisos[\"descripcion\"],\"cobertura médica\")))\n",
    "print(avisos[\"obra_social\"].sum())"
   ]
  },
  {
   "cell_type": "code",
   "execution_count": 64,
   "metadata": {},
   "outputs": [
    {
     "name": "stdout",
     "output_type": "stream",
     "text": [
      "3659\n"
     ]
    }
   ],
   "source": [
    "avisos[\"multinacional\"] = (contiene_frase(avisos['descripcion'],\"multinacional\") | contiene_frase(avisos['descripcion'],\"multi nacional\") | contiene_frase(avisos['descripcion'],\"internacional\") | contiene_frase(avisos['descripcion'],\"global\"))\n",
    "print(avisos[\"multinacional\"].sum())"
   ]
  },
  {
   "cell_type": "code",
   "execution_count": 65,
   "metadata": {},
   "outputs": [
    {
     "data": {
      "text/html": [
       "<div>\n",
       "<style scoped>\n",
       "    .dataframe tbody tr th:only-of-type {\n",
       "        vertical-align: middle;\n",
       "    }\n",
       "\n",
       "    .dataframe tbody tr th {\n",
       "        vertical-align: top;\n",
       "    }\n",
       "\n",
       "    .dataframe thead th {\n",
       "        text-align: right;\n",
       "    }\n",
       "</style>\n",
       "<table border=\"1\" class=\"dataframe\">\n",
       "  <thead>\n",
       "    <tr style=\"text-align: right;\">\n",
       "      <th></th>\n",
       "      <th>idaviso</th>\n",
       "      <th>titulo</th>\n",
       "      <th>descripcion</th>\n",
       "      <th>nombre_zona</th>\n",
       "      <th>tipo_de_trabajo</th>\n",
       "      <th>nivel_laboral</th>\n",
       "      <th>nombre_area</th>\n",
       "      <th>denominacion_empresa</th>\n",
       "      <th>titulo_uppercase</th>\n",
       "      <th>pide_vendedor</th>\n",
       "      <th>...</th>\n",
       "      <th>estudiantes</th>\n",
       "      <th>conocimientos_especificos</th>\n",
       "      <th>buen_ambiente</th>\n",
       "      <th>indica_sueldo</th>\n",
       "      <th>part_time</th>\n",
       "      <th>full_time</th>\n",
       "      <th>ofrece_crecimiento</th>\n",
       "      <th>ofrece_beneficios</th>\n",
       "      <th>obra_social</th>\n",
       "      <th>multinacional</th>\n",
       "    </tr>\n",
       "  </thead>\n",
       "  <tbody>\n",
       "    <tr>\n",
       "      <th>0</th>\n",
       "      <td>8725750</td>\n",
       "      <td>VENDEDOR/A PROVINCIA DE SANTA FE</td>\n",
       "      <td>&lt;p&gt;&lt;strong&gt;&lt;strong&gt;Empresa:&lt;/strong&gt;&lt;/strong&gt; ...</td>\n",
       "      <td>Gran Buenos Aires</td>\n",
       "      <td>Full-time</td>\n",
       "      <td>Senior / Semi-Senior</td>\n",
       "      <td>Comercial</td>\n",
       "      <td>VENTOR</td>\n",
       "      <td>True</td>\n",
       "      <td>True</td>\n",
       "      <td>...</td>\n",
       "      <td>False</td>\n",
       "      <td>False</td>\n",
       "      <td>False</td>\n",
       "      <td>False</td>\n",
       "      <td>False</td>\n",
       "      <td>True</td>\n",
       "      <td>False</td>\n",
       "      <td>False</td>\n",
       "      <td>False</td>\n",
       "      <td>False</td>\n",
       "    </tr>\n",
       "    <tr>\n",
       "      <th>1</th>\n",
       "      <td>17903700</td>\n",
       "      <td>Enfermeras</td>\n",
       "      <td>&lt;p&gt;Solicitamos para importante cadena de farma...</td>\n",
       "      <td>Gran Buenos Aires</td>\n",
       "      <td>Full-time</td>\n",
       "      <td>Senior / Semi-Senior</td>\n",
       "      <td>Salud</td>\n",
       "      <td>Farmacias Central Oeste</td>\n",
       "      <td>False</td>\n",
       "      <td>False</td>\n",
       "      <td>...</td>\n",
       "      <td>False</td>\n",
       "      <td>False</td>\n",
       "      <td>False</td>\n",
       "      <td>False</td>\n",
       "      <td>False</td>\n",
       "      <td>False</td>\n",
       "      <td>False</td>\n",
       "      <td>False</td>\n",
       "      <td>False</td>\n",
       "      <td>False</td>\n",
       "    </tr>\n",
       "    <tr>\n",
       "      <th>2</th>\n",
       "      <td>1000150677</td>\n",
       "      <td>Chofer de taxi</td>\n",
       "      <td>&lt;p&gt;TE GUSTA MANEJAR? QUERES GANAR PLATA HACIEN...</td>\n",
       "      <td>Capital Federal</td>\n",
       "      <td>Full-time</td>\n",
       "      <td>Senior / Semi-Senior</td>\n",
       "      <td>Transporte</td>\n",
       "      <td>FAMITAX SRL</td>\n",
       "      <td>False</td>\n",
       "      <td>False</td>\n",
       "      <td>...</td>\n",
       "      <td>False</td>\n",
       "      <td>False</td>\n",
       "      <td>False</td>\n",
       "      <td>False</td>\n",
       "      <td>False</td>\n",
       "      <td>False</td>\n",
       "      <td>False</td>\n",
       "      <td>True</td>\n",
       "      <td>True</td>\n",
       "      <td>False</td>\n",
       "    </tr>\n",
       "    <tr>\n",
       "      <th>3</th>\n",
       "      <td>1000610287</td>\n",
       "      <td>CHOFER DE CAMIONETA BAHIA BLANCA - PUNTA ALTA</td>\n",
       "      <td>&lt;p&gt;&lt;strong&gt;Somos una empresa multinacional que...</td>\n",
       "      <td>Gran Buenos Aires</td>\n",
       "      <td>Full-time</td>\n",
       "      <td>Senior / Semi-Senior</td>\n",
       "      <td>Transporte</td>\n",
       "      <td>Wurth Argentina S.A</td>\n",
       "      <td>True</td>\n",
       "      <td>False</td>\n",
       "      <td>...</td>\n",
       "      <td>False</td>\n",
       "      <td>False</td>\n",
       "      <td>False</td>\n",
       "      <td>False</td>\n",
       "      <td>False</td>\n",
       "      <td>False</td>\n",
       "      <td>True</td>\n",
       "      <td>False</td>\n",
       "      <td>False</td>\n",
       "      <td>True</td>\n",
       "    </tr>\n",
       "    <tr>\n",
       "      <th>4</th>\n",
       "      <td>1000872556</td>\n",
       "      <td>Operarios de Planta - Rubro Electrodomésticos</td>\n",
       "      <td>&lt;p&gt;&lt;strong&gt;OPERARIOS DE PLANTA&lt;/strong&gt;&lt;/p&gt;&lt;p&gt;...</td>\n",
       "      <td>Gran Buenos Aires</td>\n",
       "      <td>Full-time</td>\n",
       "      <td>Senior / Semi-Senior</td>\n",
       "      <td>Producción</td>\n",
       "      <td>ELECTRO OUTLET SRL</td>\n",
       "      <td>False</td>\n",
       "      <td>False</td>\n",
       "      <td>...</td>\n",
       "      <td>False</td>\n",
       "      <td>False</td>\n",
       "      <td>False</td>\n",
       "      <td>False</td>\n",
       "      <td>False</td>\n",
       "      <td>False</td>\n",
       "      <td>False</td>\n",
       "      <td>False</td>\n",
       "      <td>False</td>\n",
       "      <td>False</td>\n",
       "    </tr>\n",
       "  </tbody>\n",
       "</table>\n",
       "<p>5 rows × 52 columns</p>\n",
       "</div>"
      ],
      "text/plain": [
       "      idaviso                                         titulo  \\\n",
       "0     8725750               VENDEDOR/A PROVINCIA DE SANTA FE   \n",
       "1    17903700                                     Enfermeras   \n",
       "2  1000150677                                 Chofer de taxi   \n",
       "3  1000610287  CHOFER DE CAMIONETA BAHIA BLANCA - PUNTA ALTA   \n",
       "4  1000872556  Operarios de Planta - Rubro Electrodomésticos   \n",
       "\n",
       "                                         descripcion        nombre_zona  \\\n",
       "0  <p><strong><strong>Empresa:</strong></strong> ...  Gran Buenos Aires   \n",
       "1  <p>Solicitamos para importante cadena de farma...  Gran Buenos Aires   \n",
       "2  <p>TE GUSTA MANEJAR? QUERES GANAR PLATA HACIEN...    Capital Federal   \n",
       "3  <p><strong>Somos una empresa multinacional que...  Gran Buenos Aires   \n",
       "4  <p><strong>OPERARIOS DE PLANTA</strong></p><p>...  Gran Buenos Aires   \n",
       "\n",
       "  tipo_de_trabajo         nivel_laboral nombre_area     denominacion_empresa  \\\n",
       "0       Full-time  Senior / Semi-Senior   Comercial                   VENTOR   \n",
       "1       Full-time  Senior / Semi-Senior       Salud  Farmacias Central Oeste   \n",
       "2       Full-time  Senior / Semi-Senior  Transporte              FAMITAX SRL   \n",
       "3       Full-time  Senior / Semi-Senior  Transporte      Wurth Argentina S.A   \n",
       "4       Full-time  Senior / Semi-Senior  Producción       ELECTRO OUTLET SRL   \n",
       "\n",
       "   titulo_uppercase  pide_vendedor      ...        estudiantes  \\\n",
       "0              True           True      ...              False   \n",
       "1             False          False      ...              False   \n",
       "2             False          False      ...              False   \n",
       "3              True          False      ...              False   \n",
       "4             False          False      ...              False   \n",
       "\n",
       "   conocimientos_especificos  buen_ambiente  indica_sueldo  part_time  \\\n",
       "0                      False          False          False      False   \n",
       "1                      False          False          False      False   \n",
       "2                      False          False          False      False   \n",
       "3                      False          False          False      False   \n",
       "4                      False          False          False      False   \n",
       "\n",
       "   full_time  ofrece_crecimiento  ofrece_beneficios  obra_social  \\\n",
       "0       True               False              False        False   \n",
       "1      False               False              False        False   \n",
       "2      False               False               True         True   \n",
       "3      False                True              False        False   \n",
       "4      False               False              False        False   \n",
       "\n",
       "   multinacional  \n",
       "0          False  \n",
       "1          False  \n",
       "2          False  \n",
       "3           True  \n",
       "4          False  \n",
       "\n",
       "[5 rows x 52 columns]"
      ]
     },
     "execution_count": 65,
     "metadata": {},
     "output_type": "execute_result"
    }
   ],
   "source": [
    "avisos.head()"
   ]
  },
  {
   "cell_type": "code",
   "execution_count": 66,
   "metadata": {},
   "outputs": [
    {
     "data": {
      "text/html": [
       "<div>\n",
       "<style scoped>\n",
       "    .dataframe tbody tr th:only-of-type {\n",
       "        vertical-align: middle;\n",
       "    }\n",
       "\n",
       "    .dataframe tbody tr th {\n",
       "        vertical-align: top;\n",
       "    }\n",
       "\n",
       "    .dataframe thead th {\n",
       "        text-align: right;\n",
       "    }\n",
       "</style>\n",
       "<table border=\"1\" class=\"dataframe\">\n",
       "  <thead>\n",
       "    <tr style=\"text-align: right;\">\n",
       "      <th></th>\n",
       "      <th>idaviso</th>\n",
       "      <th>titulo</th>\n",
       "      <th>nombre_zona</th>\n",
       "      <th>tipo_de_trabajo</th>\n",
       "      <th>nivel_laboral</th>\n",
       "      <th>nombre_area</th>\n",
       "      <th>denominacion_empresa</th>\n",
       "      <th>titulo_uppercase</th>\n",
       "      <th>pide_vendedor</th>\n",
       "      <th>pide_administrativo</th>\n",
       "      <th>...</th>\n",
       "      <th>estudiantes</th>\n",
       "      <th>conocimientos_especificos</th>\n",
       "      <th>buen_ambiente</th>\n",
       "      <th>indica_sueldo</th>\n",
       "      <th>part_time</th>\n",
       "      <th>full_time</th>\n",
       "      <th>ofrece_crecimiento</th>\n",
       "      <th>ofrece_beneficios</th>\n",
       "      <th>obra_social</th>\n",
       "      <th>multinacional</th>\n",
       "    </tr>\n",
       "  </thead>\n",
       "  <tbody>\n",
       "    <tr>\n",
       "      <th>0</th>\n",
       "      <td>8725750</td>\n",
       "      <td>VENDEDOR/A PROVINCIA DE SANTA FE</td>\n",
       "      <td>Gran Buenos Aires</td>\n",
       "      <td>Full-time</td>\n",
       "      <td>Senior / Semi-Senior</td>\n",
       "      <td>Comercial</td>\n",
       "      <td>VENTOR</td>\n",
       "      <td>True</td>\n",
       "      <td>True</td>\n",
       "      <td>False</td>\n",
       "      <td>...</td>\n",
       "      <td>False</td>\n",
       "      <td>False</td>\n",
       "      <td>False</td>\n",
       "      <td>False</td>\n",
       "      <td>False</td>\n",
       "      <td>True</td>\n",
       "      <td>False</td>\n",
       "      <td>False</td>\n",
       "      <td>False</td>\n",
       "      <td>False</td>\n",
       "    </tr>\n",
       "    <tr>\n",
       "      <th>1</th>\n",
       "      <td>17903700</td>\n",
       "      <td>Enfermeras</td>\n",
       "      <td>Gran Buenos Aires</td>\n",
       "      <td>Full-time</td>\n",
       "      <td>Senior / Semi-Senior</td>\n",
       "      <td>Salud</td>\n",
       "      <td>Farmacias Central Oeste</td>\n",
       "      <td>False</td>\n",
       "      <td>False</td>\n",
       "      <td>False</td>\n",
       "      <td>...</td>\n",
       "      <td>False</td>\n",
       "      <td>False</td>\n",
       "      <td>False</td>\n",
       "      <td>False</td>\n",
       "      <td>False</td>\n",
       "      <td>False</td>\n",
       "      <td>False</td>\n",
       "      <td>False</td>\n",
       "      <td>False</td>\n",
       "      <td>False</td>\n",
       "    </tr>\n",
       "    <tr>\n",
       "      <th>2</th>\n",
       "      <td>1000150677</td>\n",
       "      <td>Chofer de taxi</td>\n",
       "      <td>Capital Federal</td>\n",
       "      <td>Full-time</td>\n",
       "      <td>Senior / Semi-Senior</td>\n",
       "      <td>Transporte</td>\n",
       "      <td>FAMITAX SRL</td>\n",
       "      <td>False</td>\n",
       "      <td>False</td>\n",
       "      <td>False</td>\n",
       "      <td>...</td>\n",
       "      <td>False</td>\n",
       "      <td>False</td>\n",
       "      <td>False</td>\n",
       "      <td>False</td>\n",
       "      <td>False</td>\n",
       "      <td>False</td>\n",
       "      <td>False</td>\n",
       "      <td>True</td>\n",
       "      <td>True</td>\n",
       "      <td>False</td>\n",
       "    </tr>\n",
       "    <tr>\n",
       "      <th>3</th>\n",
       "      <td>1000610287</td>\n",
       "      <td>CHOFER DE CAMIONETA BAHIA BLANCA - PUNTA ALTA</td>\n",
       "      <td>Gran Buenos Aires</td>\n",
       "      <td>Full-time</td>\n",
       "      <td>Senior / Semi-Senior</td>\n",
       "      <td>Transporte</td>\n",
       "      <td>Wurth Argentina S.A</td>\n",
       "      <td>True</td>\n",
       "      <td>False</td>\n",
       "      <td>False</td>\n",
       "      <td>...</td>\n",
       "      <td>False</td>\n",
       "      <td>False</td>\n",
       "      <td>False</td>\n",
       "      <td>False</td>\n",
       "      <td>False</td>\n",
       "      <td>False</td>\n",
       "      <td>True</td>\n",
       "      <td>False</td>\n",
       "      <td>False</td>\n",
       "      <td>True</td>\n",
       "    </tr>\n",
       "    <tr>\n",
       "      <th>4</th>\n",
       "      <td>1000872556</td>\n",
       "      <td>Operarios de Planta - Rubro Electrodomésticos</td>\n",
       "      <td>Gran Buenos Aires</td>\n",
       "      <td>Full-time</td>\n",
       "      <td>Senior / Semi-Senior</td>\n",
       "      <td>Producción</td>\n",
       "      <td>ELECTRO OUTLET SRL</td>\n",
       "      <td>False</td>\n",
       "      <td>False</td>\n",
       "      <td>False</td>\n",
       "      <td>...</td>\n",
       "      <td>False</td>\n",
       "      <td>False</td>\n",
       "      <td>False</td>\n",
       "      <td>False</td>\n",
       "      <td>False</td>\n",
       "      <td>False</td>\n",
       "      <td>False</td>\n",
       "      <td>False</td>\n",
       "      <td>False</td>\n",
       "      <td>False</td>\n",
       "    </tr>\n",
       "  </tbody>\n",
       "</table>\n",
       "<p>5 rows × 51 columns</p>\n",
       "</div>"
      ],
      "text/plain": [
       "      idaviso                                         titulo  \\\n",
       "0     8725750               VENDEDOR/A PROVINCIA DE SANTA FE   \n",
       "1    17903700                                     Enfermeras   \n",
       "2  1000150677                                 Chofer de taxi   \n",
       "3  1000610287  CHOFER DE CAMIONETA BAHIA BLANCA - PUNTA ALTA   \n",
       "4  1000872556  Operarios de Planta - Rubro Electrodomésticos   \n",
       "\n",
       "         nombre_zona tipo_de_trabajo         nivel_laboral nombre_area  \\\n",
       "0  Gran Buenos Aires       Full-time  Senior / Semi-Senior   Comercial   \n",
       "1  Gran Buenos Aires       Full-time  Senior / Semi-Senior       Salud   \n",
       "2    Capital Federal       Full-time  Senior / Semi-Senior  Transporte   \n",
       "3  Gran Buenos Aires       Full-time  Senior / Semi-Senior  Transporte   \n",
       "4  Gran Buenos Aires       Full-time  Senior / Semi-Senior  Producción   \n",
       "\n",
       "      denominacion_empresa  titulo_uppercase  pide_vendedor  \\\n",
       "0                   VENTOR              True           True   \n",
       "1  Farmacias Central Oeste             False          False   \n",
       "2              FAMITAX SRL             False          False   \n",
       "3      Wurth Argentina S.A              True          False   \n",
       "4       ELECTRO OUTLET SRL             False          False   \n",
       "\n",
       "   pide_administrativo      ...        estudiantes  conocimientos_especificos  \\\n",
       "0                False      ...              False                      False   \n",
       "1                False      ...              False                      False   \n",
       "2                False      ...              False                      False   \n",
       "3                False      ...              False                      False   \n",
       "4                False      ...              False                      False   \n",
       "\n",
       "   buen_ambiente  indica_sueldo  part_time  full_time  ofrece_crecimiento  \\\n",
       "0          False          False      False       True               False   \n",
       "1          False          False      False      False               False   \n",
       "2          False          False      False      False               False   \n",
       "3          False          False      False      False                True   \n",
       "4          False          False      False      False               False   \n",
       "\n",
       "   ofrece_beneficios  obra_social  multinacional  \n",
       "0              False        False          False  \n",
       "1              False        False          False  \n",
       "2               True         True          False  \n",
       "3              False        False           True  \n",
       "4              False        False          False  \n",
       "\n",
       "[5 rows x 51 columns]"
      ]
     },
     "execution_count": 66,
     "metadata": {},
     "output_type": "execute_result"
    }
   ],
   "source": [
    "avisos.drop(['descripcion'], axis=1, inplace=True);\n",
    "avisos.head()"
   ]
  },
  {
   "cell_type": "code",
   "execution_count": 67,
   "metadata": {},
   "outputs": [],
   "source": [
    "avisos.drop_duplicates(['idaviso'],keep='last',inplace=True)\n",
    "avisos=avisos.fillna(\"-\")\n",
    "avisos.to_csv(\"Data/fiuba_entrenamiento/pocho/avisos.csv\", index=False)"
   ]
  },
  {
   "cell_type": "code",
   "execution_count": 68,
   "metadata": {},
   "outputs": [
    {
     "data": {
      "text/html": [
       "<div>\n",
       "<style scoped>\n",
       "    .dataframe tbody tr th:only-of-type {\n",
       "        vertical-align: middle;\n",
       "    }\n",
       "\n",
       "    .dataframe tbody tr th {\n",
       "        vertical-align: top;\n",
       "    }\n",
       "\n",
       "    .dataframe thead th {\n",
       "        text-align: right;\n",
       "    }\n",
       "</style>\n",
       "<table border=\"1\" class=\"dataframe\">\n",
       "  <thead>\n",
       "    <tr style=\"text-align: right;\">\n",
       "      <th></th>\n",
       "      <th>idaviso</th>\n",
       "      <th>titulo</th>\n",
       "      <th>nombre_zona</th>\n",
       "      <th>tipo_de_trabajo</th>\n",
       "      <th>nivel_laboral</th>\n",
       "      <th>nombre_area</th>\n",
       "      <th>denominacion_empresa</th>\n",
       "      <th>titulo_uppercase</th>\n",
       "      <th>pide_vendedor</th>\n",
       "      <th>pide_administrativo</th>\n",
       "      <th>...</th>\n",
       "      <th>estudiantes</th>\n",
       "      <th>conocimientos_especificos</th>\n",
       "      <th>buen_ambiente</th>\n",
       "      <th>indica_sueldo</th>\n",
       "      <th>part_time</th>\n",
       "      <th>full_time</th>\n",
       "      <th>ofrece_crecimiento</th>\n",
       "      <th>ofrece_beneficios</th>\n",
       "      <th>obra_social</th>\n",
       "      <th>multinacional</th>\n",
       "    </tr>\n",
       "  </thead>\n",
       "  <tbody>\n",
       "    <tr>\n",
       "      <th>0</th>\n",
       "      <td>8725750</td>\n",
       "      <td>VENDEDOR/A PROVINCIA DE SANTA FE</td>\n",
       "      <td>Gran Buenos Aires</td>\n",
       "      <td>Full-time</td>\n",
       "      <td>Senior / Semi-Senior</td>\n",
       "      <td>Comercial</td>\n",
       "      <td>VENTOR</td>\n",
       "      <td>True</td>\n",
       "      <td>True</td>\n",
       "      <td>False</td>\n",
       "      <td>...</td>\n",
       "      <td>False</td>\n",
       "      <td>False</td>\n",
       "      <td>False</td>\n",
       "      <td>False</td>\n",
       "      <td>False</td>\n",
       "      <td>True</td>\n",
       "      <td>False</td>\n",
       "      <td>False</td>\n",
       "      <td>False</td>\n",
       "      <td>False</td>\n",
       "    </tr>\n",
       "    <tr>\n",
       "      <th>3</th>\n",
       "      <td>1000610287</td>\n",
       "      <td>CHOFER DE CAMIONETA BAHIA BLANCA - PUNTA ALTA</td>\n",
       "      <td>Gran Buenos Aires</td>\n",
       "      <td>Full-time</td>\n",
       "      <td>Senior / Semi-Senior</td>\n",
       "      <td>Transporte</td>\n",
       "      <td>Wurth Argentina S.A</td>\n",
       "      <td>True</td>\n",
       "      <td>False</td>\n",
       "      <td>False</td>\n",
       "      <td>...</td>\n",
       "      <td>False</td>\n",
       "      <td>False</td>\n",
       "      <td>False</td>\n",
       "      <td>False</td>\n",
       "      <td>False</td>\n",
       "      <td>False</td>\n",
       "      <td>True</td>\n",
       "      <td>False</td>\n",
       "      <td>False</td>\n",
       "      <td>True</td>\n",
       "    </tr>\n",
       "    <tr>\n",
       "      <th>4</th>\n",
       "      <td>1000872556</td>\n",
       "      <td>Operarios de Planta - Rubro Electrodomésticos</td>\n",
       "      <td>Gran Buenos Aires</td>\n",
       "      <td>Full-time</td>\n",
       "      <td>Senior / Semi-Senior</td>\n",
       "      <td>Producción</td>\n",
       "      <td>ELECTRO OUTLET SRL</td>\n",
       "      <td>False</td>\n",
       "      <td>False</td>\n",
       "      <td>False</td>\n",
       "      <td>...</td>\n",
       "      <td>False</td>\n",
       "      <td>False</td>\n",
       "      <td>False</td>\n",
       "      <td>False</td>\n",
       "      <td>False</td>\n",
       "      <td>False</td>\n",
       "      <td>False</td>\n",
       "      <td>False</td>\n",
       "      <td>False</td>\n",
       "      <td>False</td>\n",
       "    </tr>\n",
       "    <tr>\n",
       "      <th>5</th>\n",
       "      <td>1001135716</td>\n",
       "      <td>Vendedor Viajante TUCUMAN/SANTIAGO DEL ESTERO</td>\n",
       "      <td>Gran Buenos Aires</td>\n",
       "      <td>Full-time</td>\n",
       "      <td>Senior / Semi-Senior</td>\n",
       "      <td>Ventas</td>\n",
       "      <td>Wurth Argentina S.A</td>\n",
       "      <td>True</td>\n",
       "      <td>True</td>\n",
       "      <td>False</td>\n",
       "      <td>...</td>\n",
       "      <td>False</td>\n",
       "      <td>False</td>\n",
       "      <td>False</td>\n",
       "      <td>False</td>\n",
       "      <td>False</td>\n",
       "      <td>False</td>\n",
       "      <td>True</td>\n",
       "      <td>False</td>\n",
       "      <td>False</td>\n",
       "      <td>True</td>\n",
       "    </tr>\n",
       "    <tr>\n",
       "      <th>6</th>\n",
       "      <td>1001326344</td>\n",
       "      <td>Vendedor Viajante RECONQUISTA/AVELLANEDA</td>\n",
       "      <td>Gran Buenos Aires</td>\n",
       "      <td>Full-time</td>\n",
       "      <td>Senior / Semi-Senior</td>\n",
       "      <td>Ventas</td>\n",
       "      <td>Wurth Argentina S.A</td>\n",
       "      <td>True</td>\n",
       "      <td>True</td>\n",
       "      <td>False</td>\n",
       "      <td>...</td>\n",
       "      <td>False</td>\n",
       "      <td>False</td>\n",
       "      <td>False</td>\n",
       "      <td>False</td>\n",
       "      <td>False</td>\n",
       "      <td>False</td>\n",
       "      <td>True</td>\n",
       "      <td>False</td>\n",
       "      <td>False</td>\n",
       "      <td>True</td>\n",
       "    </tr>\n",
       "  </tbody>\n",
       "</table>\n",
       "<p>5 rows × 51 columns</p>\n",
       "</div>"
      ],
      "text/plain": [
       "      idaviso                                         titulo  \\\n",
       "0     8725750               VENDEDOR/A PROVINCIA DE SANTA FE   \n",
       "3  1000610287  CHOFER DE CAMIONETA BAHIA BLANCA - PUNTA ALTA   \n",
       "4  1000872556  Operarios de Planta - Rubro Electrodomésticos   \n",
       "5  1001135716  Vendedor Viajante TUCUMAN/SANTIAGO DEL ESTERO   \n",
       "6  1001326344       Vendedor Viajante RECONQUISTA/AVELLANEDA   \n",
       "\n",
       "         nombre_zona tipo_de_trabajo         nivel_laboral nombre_area  \\\n",
       "0  Gran Buenos Aires       Full-time  Senior / Semi-Senior   Comercial   \n",
       "3  Gran Buenos Aires       Full-time  Senior / Semi-Senior  Transporte   \n",
       "4  Gran Buenos Aires       Full-time  Senior / Semi-Senior  Producción   \n",
       "5  Gran Buenos Aires       Full-time  Senior / Semi-Senior      Ventas   \n",
       "6  Gran Buenos Aires       Full-time  Senior / Semi-Senior      Ventas   \n",
       "\n",
       "  denominacion_empresa  titulo_uppercase  pide_vendedor  pide_administrativo  \\\n",
       "0               VENTOR              True           True                False   \n",
       "3  Wurth Argentina S.A              True          False                False   \n",
       "4   ELECTRO OUTLET SRL             False          False                False   \n",
       "5  Wurth Argentina S.A              True           True                False   \n",
       "6  Wurth Argentina S.A              True           True                False   \n",
       "\n",
       "       ...        estudiantes  conocimientos_especificos  buen_ambiente  \\\n",
       "0      ...              False                      False          False   \n",
       "3      ...              False                      False          False   \n",
       "4      ...              False                      False          False   \n",
       "5      ...              False                      False          False   \n",
       "6      ...              False                      False          False   \n",
       "\n",
       "   indica_sueldo  part_time  full_time  ofrece_crecimiento  ofrece_beneficios  \\\n",
       "0          False      False       True               False              False   \n",
       "3          False      False      False                True              False   \n",
       "4          False      False      False               False              False   \n",
       "5          False      False      False                True              False   \n",
       "6          False      False      False                True              False   \n",
       "\n",
       "   obra_social  multinacional  \n",
       "0        False          False  \n",
       "3        False           True  \n",
       "4        False          False  \n",
       "5        False           True  \n",
       "6        False           True  \n",
       "\n",
       "[5 rows x 51 columns]"
      ]
     },
     "execution_count": 68,
     "metadata": {},
     "output_type": "execute_result"
    }
   ],
   "source": [
    "avisos.head()"
   ]
  },
  {
   "cell_type": "code",
   "execution_count": 94,
   "metadata": {},
   "outputs": [
    {
     "ename": "OSError",
     "evalue": "No such file or directory: 'C:\\\\Users\\\\Pocho\\\\AppData\\\\Roaming\\\\nltk_data\\\\corpora\\\\stopwords\\\\html'",
     "output_type": "error",
     "traceback": [
      "\u001b[1;31m---------------------------------------------------------------------------\u001b[0m",
      "\u001b[1;31mOSError\u001b[0m                                   Traceback (most recent call last)",
      "\u001b[1;32m<ipython-input-94-3e0db4641c7d>\u001b[0m in \u001b[0;36m<module>\u001b[1;34m()\u001b[0m\n\u001b[0;32m      7\u001b[0m \u001b[1;33m\u001b[0m\u001b[0m\n\u001b[0;32m      8\u001b[0m \u001b[0mdescripciones\u001b[0m\u001b[1;33m=\u001b[0m\u001b[0mavisos\u001b[0m\u001b[1;33m[\u001b[0m\u001b[1;34m'descripcion'\u001b[0m\u001b[1;33m]\u001b[0m\u001b[1;33m\u001b[0m\u001b[0m\n\u001b[1;32m----> 9\u001b[1;33m \u001b[0msw\u001b[0m \u001b[1;33m=\u001b[0m \u001b[0mstopwords\u001b[0m\u001b[1;33m.\u001b[0m\u001b[0mwords\u001b[0m\u001b[1;33m(\u001b[0m\u001b[1;34m\"spanish\"\u001b[0m\u001b[1;33m)\u001b[0m \u001b[1;33m+\u001b[0m \u001b[0mstopwords\u001b[0m\u001b[1;33m.\u001b[0m\u001b[0mwords\u001b[0m\u001b[1;33m(\u001b[0m\u001b[1;34m\"html\"\u001b[0m\u001b[1;33m)\u001b[0m\u001b[1;33m\u001b[0m\u001b[0m\n\u001b[0m\u001b[0;32m     10\u001b[0m \u001b[0ma\u001b[0m \u001b[1;33m=\u001b[0m \u001b[0mTfidfVectorizer\u001b[0m\u001b[1;33m(\u001b[0m\u001b[0msw\u001b[0m\u001b[1;33m)\u001b[0m\u001b[1;33m\u001b[0m\u001b[0m\n",
      "\u001b[1;32m~\\Anaconda3\\lib\\site-packages\\nltk\\corpus\\reader\\wordlist.py\u001b[0m in \u001b[0;36mwords\u001b[1;34m(self, fileids, ignore_lines_startswith)\u001b[0m\n\u001b[0;32m     20\u001b[0m     \"\"\"\n\u001b[0;32m     21\u001b[0m     \u001b[1;32mdef\u001b[0m \u001b[0mwords\u001b[0m\u001b[1;33m(\u001b[0m\u001b[0mself\u001b[0m\u001b[1;33m,\u001b[0m \u001b[0mfileids\u001b[0m\u001b[1;33m=\u001b[0m\u001b[1;32mNone\u001b[0m\u001b[1;33m,\u001b[0m \u001b[0mignore_lines_startswith\u001b[0m\u001b[1;33m=\u001b[0m\u001b[1;34m'\\n'\u001b[0m\u001b[1;33m)\u001b[0m\u001b[1;33m:\u001b[0m\u001b[1;33m\u001b[0m\u001b[0m\n\u001b[1;32m---> 22\u001b[1;33m         return [line for line in line_tokenize(self.raw(fileids))\n\u001b[0m\u001b[0;32m     23\u001b[0m                 if not line.startswith(ignore_lines_startswith)]\n\u001b[0;32m     24\u001b[0m \u001b[1;33m\u001b[0m\u001b[0m\n",
      "\u001b[1;32m~\\Anaconda3\\lib\\site-packages\\nltk\\corpus\\reader\\wordlist.py\u001b[0m in \u001b[0;36mraw\u001b[1;34m(self, fileids)\u001b[0m\n\u001b[0;32m     26\u001b[0m         \u001b[1;32mif\u001b[0m \u001b[0mfileids\u001b[0m \u001b[1;32mis\u001b[0m \u001b[1;32mNone\u001b[0m\u001b[1;33m:\u001b[0m \u001b[0mfileids\u001b[0m \u001b[1;33m=\u001b[0m \u001b[0mself\u001b[0m\u001b[1;33m.\u001b[0m\u001b[0m_fileids\u001b[0m\u001b[1;33m\u001b[0m\u001b[0m\n\u001b[0;32m     27\u001b[0m         \u001b[1;32melif\u001b[0m \u001b[0misinstance\u001b[0m\u001b[1;33m(\u001b[0m\u001b[0mfileids\u001b[0m\u001b[1;33m,\u001b[0m \u001b[0mstring_types\u001b[0m\u001b[1;33m)\u001b[0m\u001b[1;33m:\u001b[0m \u001b[0mfileids\u001b[0m \u001b[1;33m=\u001b[0m \u001b[1;33m[\u001b[0m\u001b[0mfileids\u001b[0m\u001b[1;33m]\u001b[0m\u001b[1;33m\u001b[0m\u001b[0m\n\u001b[1;32m---> 28\u001b[1;33m         \u001b[1;32mreturn\u001b[0m \u001b[0mconcat\u001b[0m\u001b[1;33m(\u001b[0m\u001b[1;33m[\u001b[0m\u001b[0mself\u001b[0m\u001b[1;33m.\u001b[0m\u001b[0mopen\u001b[0m\u001b[1;33m(\u001b[0m\u001b[0mf\u001b[0m\u001b[1;33m)\u001b[0m\u001b[1;33m.\u001b[0m\u001b[0mread\u001b[0m\u001b[1;33m(\u001b[0m\u001b[1;33m)\u001b[0m \u001b[1;32mfor\u001b[0m \u001b[0mf\u001b[0m \u001b[1;32min\u001b[0m \u001b[0mfileids\u001b[0m\u001b[1;33m]\u001b[0m\u001b[1;33m)\u001b[0m\u001b[1;33m\u001b[0m\u001b[0m\n\u001b[0m\u001b[0;32m     29\u001b[0m \u001b[1;33m\u001b[0m\u001b[0m\n\u001b[0;32m     30\u001b[0m \u001b[1;33m\u001b[0m\u001b[0m\n",
      "\u001b[1;32m~\\Anaconda3\\lib\\site-packages\\nltk\\corpus\\reader\\wordlist.py\u001b[0m in \u001b[0;36m<listcomp>\u001b[1;34m(.0)\u001b[0m\n\u001b[0;32m     26\u001b[0m         \u001b[1;32mif\u001b[0m \u001b[0mfileids\u001b[0m \u001b[1;32mis\u001b[0m \u001b[1;32mNone\u001b[0m\u001b[1;33m:\u001b[0m \u001b[0mfileids\u001b[0m \u001b[1;33m=\u001b[0m \u001b[0mself\u001b[0m\u001b[1;33m.\u001b[0m\u001b[0m_fileids\u001b[0m\u001b[1;33m\u001b[0m\u001b[0m\n\u001b[0;32m     27\u001b[0m         \u001b[1;32melif\u001b[0m \u001b[0misinstance\u001b[0m\u001b[1;33m(\u001b[0m\u001b[0mfileids\u001b[0m\u001b[1;33m,\u001b[0m \u001b[0mstring_types\u001b[0m\u001b[1;33m)\u001b[0m\u001b[1;33m:\u001b[0m \u001b[0mfileids\u001b[0m \u001b[1;33m=\u001b[0m \u001b[1;33m[\u001b[0m\u001b[0mfileids\u001b[0m\u001b[1;33m]\u001b[0m\u001b[1;33m\u001b[0m\u001b[0m\n\u001b[1;32m---> 28\u001b[1;33m         \u001b[1;32mreturn\u001b[0m \u001b[0mconcat\u001b[0m\u001b[1;33m(\u001b[0m\u001b[1;33m[\u001b[0m\u001b[0mself\u001b[0m\u001b[1;33m.\u001b[0m\u001b[0mopen\u001b[0m\u001b[1;33m(\u001b[0m\u001b[0mf\u001b[0m\u001b[1;33m)\u001b[0m\u001b[1;33m.\u001b[0m\u001b[0mread\u001b[0m\u001b[1;33m(\u001b[0m\u001b[1;33m)\u001b[0m \u001b[1;32mfor\u001b[0m \u001b[0mf\u001b[0m \u001b[1;32min\u001b[0m \u001b[0mfileids\u001b[0m\u001b[1;33m]\u001b[0m\u001b[1;33m)\u001b[0m\u001b[1;33m\u001b[0m\u001b[0m\n\u001b[0m\u001b[0;32m     29\u001b[0m \u001b[1;33m\u001b[0m\u001b[0m\n\u001b[0;32m     30\u001b[0m \u001b[1;33m\u001b[0m\u001b[0m\n",
      "\u001b[1;32m~\\Anaconda3\\lib\\site-packages\\nltk\\corpus\\reader\\api.py\u001b[0m in \u001b[0;36mopen\u001b[1;34m(self, file)\u001b[0m\n\u001b[0;32m    211\u001b[0m         \"\"\"\n\u001b[0;32m    212\u001b[0m         \u001b[0mencoding\u001b[0m \u001b[1;33m=\u001b[0m \u001b[0mself\u001b[0m\u001b[1;33m.\u001b[0m\u001b[0mencoding\u001b[0m\u001b[1;33m(\u001b[0m\u001b[0mfile\u001b[0m\u001b[1;33m)\u001b[0m\u001b[1;33m\u001b[0m\u001b[0m\n\u001b[1;32m--> 213\u001b[1;33m         \u001b[0mstream\u001b[0m \u001b[1;33m=\u001b[0m \u001b[0mself\u001b[0m\u001b[1;33m.\u001b[0m\u001b[0m_root\u001b[0m\u001b[1;33m.\u001b[0m\u001b[0mjoin\u001b[0m\u001b[1;33m(\u001b[0m\u001b[0mfile\u001b[0m\u001b[1;33m)\u001b[0m\u001b[1;33m.\u001b[0m\u001b[0mopen\u001b[0m\u001b[1;33m(\u001b[0m\u001b[0mencoding\u001b[0m\u001b[1;33m)\u001b[0m\u001b[1;33m\u001b[0m\u001b[0m\n\u001b[0m\u001b[0;32m    214\u001b[0m         \u001b[1;32mreturn\u001b[0m \u001b[0mstream\u001b[0m\u001b[1;33m\u001b[0m\u001b[0m\n\u001b[0;32m    215\u001b[0m \u001b[1;33m\u001b[0m\u001b[0m\n",
      "\u001b[1;32m~\\Anaconda3\\lib\\site-packages\\nltk\\data.py\u001b[0m in \u001b[0;36mjoin\u001b[1;34m(self, fileid)\u001b[0m\n\u001b[0;32m    338\u001b[0m     \u001b[1;32mdef\u001b[0m \u001b[0mjoin\u001b[0m\u001b[1;33m(\u001b[0m\u001b[0mself\u001b[0m\u001b[1;33m,\u001b[0m \u001b[0mfileid\u001b[0m\u001b[1;33m)\u001b[0m\u001b[1;33m:\u001b[0m\u001b[1;33m\u001b[0m\u001b[0m\n\u001b[0;32m    339\u001b[0m         \u001b[0m_path\u001b[0m \u001b[1;33m=\u001b[0m \u001b[0mos\u001b[0m\u001b[1;33m.\u001b[0m\u001b[0mpath\u001b[0m\u001b[1;33m.\u001b[0m\u001b[0mjoin\u001b[0m\u001b[1;33m(\u001b[0m\u001b[0mself\u001b[0m\u001b[1;33m.\u001b[0m\u001b[0m_path\u001b[0m\u001b[1;33m,\u001b[0m \u001b[0mfileid\u001b[0m\u001b[1;33m)\u001b[0m\u001b[1;33m\u001b[0m\u001b[0m\n\u001b[1;32m--> 340\u001b[1;33m         \u001b[1;32mreturn\u001b[0m \u001b[0mFileSystemPathPointer\u001b[0m\u001b[1;33m(\u001b[0m\u001b[0m_path\u001b[0m\u001b[1;33m)\u001b[0m\u001b[1;33m\u001b[0m\u001b[0m\n\u001b[0m\u001b[0;32m    341\u001b[0m \u001b[1;33m\u001b[0m\u001b[0m\n\u001b[0;32m    342\u001b[0m     \u001b[1;32mdef\u001b[0m \u001b[0m__repr__\u001b[0m\u001b[1;33m(\u001b[0m\u001b[0mself\u001b[0m\u001b[1;33m)\u001b[0m\u001b[1;33m:\u001b[0m\u001b[1;33m\u001b[0m\u001b[0m\n",
      "\u001b[1;32m~\\Anaconda3\\lib\\site-packages\\nltk\\compat.py\u001b[0m in \u001b[0;36m_decorator\u001b[1;34m(*args, **kwargs)\u001b[0m\n\u001b[0;32m    219\u001b[0m     \u001b[1;32mdef\u001b[0m \u001b[0m_decorator\u001b[0m\u001b[1;33m(\u001b[0m\u001b[1;33m*\u001b[0m\u001b[0margs\u001b[0m\u001b[1;33m,\u001b[0m \u001b[1;33m**\u001b[0m\u001b[0mkwargs\u001b[0m\u001b[1;33m)\u001b[0m\u001b[1;33m:\u001b[0m\u001b[1;33m\u001b[0m\u001b[0m\n\u001b[0;32m    220\u001b[0m         \u001b[0margs\u001b[0m \u001b[1;33m=\u001b[0m \u001b[1;33m(\u001b[0m\u001b[0margs\u001b[0m\u001b[1;33m[\u001b[0m\u001b[1;36m0\u001b[0m\u001b[1;33m]\u001b[0m\u001b[1;33m,\u001b[0m \u001b[0madd_py3_data\u001b[0m\u001b[1;33m(\u001b[0m\u001b[0margs\u001b[0m\u001b[1;33m[\u001b[0m\u001b[1;36m1\u001b[0m\u001b[1;33m]\u001b[0m\u001b[1;33m)\u001b[0m\u001b[1;33m)\u001b[0m \u001b[1;33m+\u001b[0m \u001b[0margs\u001b[0m\u001b[1;33m[\u001b[0m\u001b[1;36m2\u001b[0m\u001b[1;33m:\u001b[0m\u001b[1;33m]\u001b[0m\u001b[1;33m\u001b[0m\u001b[0m\n\u001b[1;32m--> 221\u001b[1;33m         \u001b[1;32mreturn\u001b[0m \u001b[0minit_func\u001b[0m\u001b[1;33m(\u001b[0m\u001b[1;33m*\u001b[0m\u001b[0margs\u001b[0m\u001b[1;33m,\u001b[0m \u001b[1;33m**\u001b[0m\u001b[0mkwargs\u001b[0m\u001b[1;33m)\u001b[0m\u001b[1;33m\u001b[0m\u001b[0m\n\u001b[0m\u001b[0;32m    222\u001b[0m     \u001b[1;32mreturn\u001b[0m \u001b[0mwraps\u001b[0m\u001b[1;33m(\u001b[0m\u001b[0minit_func\u001b[0m\u001b[1;33m)\u001b[0m\u001b[1;33m(\u001b[0m\u001b[0m_decorator\u001b[0m\u001b[1;33m)\u001b[0m\u001b[1;33m\u001b[0m\u001b[0m\n\u001b[0;32m    223\u001b[0m \u001b[1;33m\u001b[0m\u001b[0m\n",
      "\u001b[1;32m~\\Anaconda3\\lib\\site-packages\\nltk\\data.py\u001b[0m in \u001b[0;36m__init__\u001b[1;34m(self, _path)\u001b[0m\n\u001b[0;32m    316\u001b[0m         \u001b[0m_path\u001b[0m \u001b[1;33m=\u001b[0m \u001b[0mos\u001b[0m\u001b[1;33m.\u001b[0m\u001b[0mpath\u001b[0m\u001b[1;33m.\u001b[0m\u001b[0mabspath\u001b[0m\u001b[1;33m(\u001b[0m\u001b[0m_path\u001b[0m\u001b[1;33m)\u001b[0m\u001b[1;33m\u001b[0m\u001b[0m\n\u001b[0;32m    317\u001b[0m         \u001b[1;32mif\u001b[0m \u001b[1;32mnot\u001b[0m \u001b[0mos\u001b[0m\u001b[1;33m.\u001b[0m\u001b[0mpath\u001b[0m\u001b[1;33m.\u001b[0m\u001b[0mexists\u001b[0m\u001b[1;33m(\u001b[0m\u001b[0m_path\u001b[0m\u001b[1;33m)\u001b[0m\u001b[1;33m:\u001b[0m\u001b[1;33m\u001b[0m\u001b[0m\n\u001b[1;32m--> 318\u001b[1;33m             \u001b[1;32mraise\u001b[0m \u001b[0mIOError\u001b[0m\u001b[1;33m(\u001b[0m\u001b[1;34m'No such file or directory: %r'\u001b[0m \u001b[1;33m%\u001b[0m \u001b[0m_path\u001b[0m\u001b[1;33m)\u001b[0m\u001b[1;33m\u001b[0m\u001b[0m\n\u001b[0m\u001b[0;32m    319\u001b[0m         \u001b[0mself\u001b[0m\u001b[1;33m.\u001b[0m\u001b[0m_path\u001b[0m \u001b[1;33m=\u001b[0m \u001b[0m_path\u001b[0m\u001b[1;33m\u001b[0m\u001b[0m\n\u001b[0;32m    320\u001b[0m \u001b[1;33m\u001b[0m\u001b[0m\n",
      "\u001b[1;31mOSError\u001b[0m: No such file or directory: 'C:\\\\Users\\\\Pocho\\\\AppData\\\\Roaming\\\\nltk_data\\\\corpora\\\\stopwords\\\\html'"
     ]
    }
   ],
   "source": [
    "#TF-IDF Featuring\n",
    "avisos = pd.read_csv(\"Data/fiuba_entrenamiento/avisos.csv\")\n",
    "from sklearn.feature_extraction.text import TfidfVectorizer\n",
    "\n",
    "from IPython.core.display import HTML\n",
    "from nltk.corpus import stopwords\n",
    "\n",
    "descripciones=avisos['descripcion']\n",
    "sw = stopwords.words(\"spanish\") + stopwords.words(\"html\") \n",
    "a = TfidfVectorizer(sw)"
   ]
  },
  {
   "cell_type": "code",
   "execution_count": null,
   "metadata": {},
   "outputs": [],
   "source": []
  },
  {
   "cell_type": "code",
   "execution_count": null,
   "metadata": {},
   "outputs": [],
   "source": []
  }
 ],
 "metadata": {
  "kernelspec": {
   "display_name": "Python 3",
   "language": "python",
   "name": "python3"
  },
  "language_info": {
   "codemirror_mode": {
    "name": "ipython",
    "version": 3
   },
   "file_extension": ".py",
   "mimetype": "text/x-python",
   "name": "python",
   "nbconvert_exporter": "python",
   "pygments_lexer": "ipython3",
   "version": "3.6.5"
  }
 },
 "nbformat": 4,
 "nbformat_minor": 2
}
