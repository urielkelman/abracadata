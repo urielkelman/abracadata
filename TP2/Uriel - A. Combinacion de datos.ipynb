{
 "cells": [
  {
   "cell_type": "code",
   "execution_count": 1,
   "metadata": {},
   "outputs": [],
   "source": [
    "import pandas as pd\n",
    "import numpy as np\n",
    "import matplotlib.pyplot as plt\n",
    "import seaborn as sns\n",
    "from datetime import datetime\n",
    "\n",
    "%matplotlib inline"
   ]
  },
  {
   "cell_type": "code",
   "execution_count": 2,
   "metadata": {},
   "outputs": [],
   "source": [
    "plt.rc('figure',dpi=100);"
   ]
  },
  {
   "cell_type": "code",
   "execution_count": 3,
   "metadata": {},
   "outputs": [],
   "source": [
    "postulaciones = pd.read_csv(\"../../Data/datos_navent_fiuba/fiuba_4_postulaciones.csv\")\n",
    "postulaciones_hasta = pd.read_csv(\"../../Data/fiuba_hasta_15_de_abril/fiuba_4_postulaciones.csv\")\n",
    "postulaciones_concat = pd.concat([postulaciones, postulaciones_hasta], axis=0,ignore_index=True);\n",
    "postulaciones_concat.drop_duplicates(inplace=True)"
   ]
  },
  {
   "cell_type": "code",
   "execution_count": 4,
   "metadata": {},
   "outputs": [
    {
     "data": {
      "text/plain": [
       "2018-01-17 06:46:57    29\n",
       "2018-01-17 06:43:23    25\n",
       "2018-01-17 07:03:36    25\n",
       "2018-01-16 06:27:58    23\n",
       "2018-01-15 13:44:55    22\n",
       "2018-01-17 07:00:21    21\n",
       "2018-01-16 12:53:22    19\n",
       "2018-01-16 12:53:29    19\n",
       "2018-01-17 06:26:41    19\n",
       "2018-01-17 06:44:50    18\n",
       "2018-01-15 13:45:04    18\n",
       "2018-01-15 13:26:59    18\n",
       "2018-01-17 07:04:44    18\n",
       "2018-01-17 07:13:34    16\n",
       "2018-01-17 07:02:48    15\n",
       "2018-01-16 06:27:10    15\n",
       "2018-01-17 07:00:22    15\n",
       "2018-01-16 12:19:30    15\n",
       "2018-01-17 06:45:37    14\n",
       "2018-01-17 06:27:55    14\n",
       "2018-01-17 07:05:07    14\n",
       "2018-01-17 07:00:44    13\n",
       "2018-01-17 06:58:34    13\n",
       "2018-01-23 09:12:30    13\n",
       "2018-01-15 13:43:45    13\n",
       "2018-01-15 06:57:19    13\n",
       "2018-01-17 07:07:34    12\n",
       "2018-02-27 09:14:28    12\n",
       "2018-02-26 08:54:00    12\n",
       "2018-01-18 10:46:20    12\n",
       "                       ..\n",
       "2018-03-07 06:30:06     1\n",
       "2018-02-01 07:05:15     1\n",
       "2018-02-06 05:13:57     1\n",
       "2018-01-16 06:59:42     1\n",
       "2018-01-21 20:23:22     1\n",
       "2018-02-18 22:20:29     1\n",
       "2018-01-28 23:00:57     1\n",
       "2018-01-30 07:21:26     1\n",
       "2018-02-20 07:22:23     1\n",
       "2018-01-27 15:51:08     1\n",
       "2018-02-15 14:27:20     1\n",
       "2018-02-24 20:11:00     1\n",
       "2018-01-18 17:17:24     1\n",
       "2018-02-06 09:36:19     1\n",
       "2018-03-02 23:01:40     1\n",
       "2018-04-01 08:34:08     1\n",
       "2018-03-13 00:50:30     1\n",
       "2018-02-01 14:53:08     1\n",
       "2018-03-27 18:07:33     1\n",
       "2018-04-03 10:48:38     1\n",
       "2018-01-19 12:41:59     1\n",
       "2018-02-26 07:22:37     1\n",
       "2018-01-22 02:07:08     1\n",
       "2018-03-02 13:07:25     1\n",
       "2018-02-21 01:21:14     1\n",
       "2018-04-02 19:32:29     1\n",
       "2018-03-01 15:16:58     1\n",
       "2018-02-26 13:13:29     1\n",
       "2018-03-22 21:54:13     1\n",
       "2018-01-25 06:25:40     1\n",
       "Name: fechapostulacion, Length: 3856401, dtype: int64"
      ]
     },
     "execution_count": 4,
     "metadata": {},
     "output_type": "execute_result"
    }
   ],
   "source": [
    "postulaciones_concat['fechapostulacion'].value_counts()"
   ]
  },
  {
   "cell_type": "code",
   "execution_count": 5,
   "metadata": {},
   "outputs": [],
   "source": [
    "postulantes_educacion = pd.read_csv(\"../../Data/datos_navent_fiuba/fiuba_1_postulantes_educacion.csv\")\n",
    "postulantes_educacion_hasta = pd.read_csv(\"../../Data/fiuba_hasta_15_de_abril/fiuba_1_postulantes_educacion.csv\")\n",
    "postulantes_educacion_desde = pd.read_csv(\"../../Data/fiuba_desde_15_de_abril/fiuba_1_postulantes_educacion.csv\")\n",
    "postulantes_educacion_concat = pd.concat([postulantes_educacion, postulantes_educacion_hasta, postulantes_educacion_desde], axis=0,ignore_index=True);\n",
    "print(postulantes_educacion_concat.duplicated().sum())"
   ]
  },
  {
   "cell_type": "code",
   "execution_count": 10,
   "metadata": {},
   "outputs": [
    {
     "name": "stdout",
     "output_type": "stream",
     "text": [
      "298231\n",
      "407453\n",
      "397509\n",
      "693641\n"
     ]
    }
   ],
   "source": [
    "print(len(postulantes_educacion))\n",
    "print(len(postulantes_educacion_hasta))\n",
    "print(len(postulantes_educacion_desde))\n",
    "print(len(postulantes_educacion_concat))"
   ]
  },
  {
   "cell_type": "code",
   "execution_count": 6,
   "metadata": {},
   "outputs": [
    {
     "name": "stdout",
     "output_type": "stream",
     "text": [
      "0\n"
     ]
    }
   ],
   "source": [
    "postulantes_educacion_concat.drop_duplicates(inplace=True, keep='first')\n",
    "print(postulantes_educacion_concat.duplicated().sum())"
   ]
  },
  {
   "cell_type": "code",
   "execution_count": 7,
   "metadata": {},
   "outputs": [
    {
     "data": {
      "text/html": [
       "<div>\n",
       "<style scoped>\n",
       "    .dataframe tbody tr th:only-of-type {\n",
       "        vertical-align: middle;\n",
       "    }\n",
       "\n",
       "    .dataframe tbody tr th {\n",
       "        vertical-align: top;\n",
       "    }\n",
       "\n",
       "    .dataframe thead th {\n",
       "        text-align: right;\n",
       "    }\n",
       "</style>\n",
       "<table border=\"1\" class=\"dataframe\">\n",
       "  <thead>\n",
       "    <tr style=\"text-align: right;\">\n",
       "      <th></th>\n",
       "      <th>idpostulante</th>\n",
       "      <th>nombre</th>\n",
       "      <th>estado</th>\n",
       "    </tr>\n",
       "  </thead>\n",
       "  <tbody>\n",
       "    <tr>\n",
       "      <th>0</th>\n",
       "      <td>ZjlZ</td>\n",
       "      <td>Master</td>\n",
       "      <td>En Curso</td>\n",
       "    </tr>\n",
       "    <tr>\n",
       "      <th>1</th>\n",
       "      <td>NdJl</td>\n",
       "      <td>Posgrado</td>\n",
       "      <td>En Curso</td>\n",
       "    </tr>\n",
       "    <tr>\n",
       "      <th>2</th>\n",
       "      <td>5kNq</td>\n",
       "      <td>Otro</td>\n",
       "      <td>En Curso</td>\n",
       "    </tr>\n",
       "    <tr>\n",
       "      <th>3</th>\n",
       "      <td>8rYD</td>\n",
       "      <td>Master</td>\n",
       "      <td>En Curso</td>\n",
       "    </tr>\n",
       "    <tr>\n",
       "      <th>4</th>\n",
       "      <td>1Wvj</td>\n",
       "      <td>Universitario</td>\n",
       "      <td>En Curso</td>\n",
       "    </tr>\n",
       "  </tbody>\n",
       "</table>\n",
       "</div>"
      ],
      "text/plain": [
       "  idpostulante         nombre    estado\n",
       "0         ZjlZ         Master  En Curso\n",
       "1         NdJl       Posgrado  En Curso\n",
       "2         5kNq           Otro  En Curso\n",
       "3         8rYD         Master  En Curso\n",
       "4         1Wvj  Universitario  En Curso"
      ]
     },
     "execution_count": 7,
     "metadata": {},
     "output_type": "execute_result"
    }
   ],
   "source": [
    "postulantes_educacion_hasta.head()"
   ]
  },
  {
   "cell_type": "code",
   "execution_count": 8,
   "metadata": {},
   "outputs": [
    {
     "name": "stdout",
     "output_type": "stream",
     "text": [
      "274638\n",
      "0\n"
     ]
    }
   ],
   "source": [
    "postulantes_ge = pd.read_csv(\"../../Data/datos_navent_fiuba/fiuba_2_postulantes_genero_y_edad.csv\")\n",
    "postulantes_ge_hasta = pd.read_csv(\"../../Data/fiuba_hasta_15_de_abril/fiuba_2_postulantes_genero_y_edad.csv\")\n",
    "postulantes_ge_desde = pd.read_csv(\"../../Data/fiuba_desde_15_de_abril/fiuba_2_postulantes_genero_y_edad.csv\")\n",
    "postulantes_ge_concat = pd.concat([postulantes_ge, postulantes_ge_hasta, postulantes_ge_desde], axis=0,ignore_index=True);\n",
    "print(postulantes_ge_concat.duplicated().sum())\n",
    "postulantes_ge_concat.drop_duplicates(inplace=True, keep='first')\n",
    "print(postulantes_ge_concat.duplicated().sum())"
   ]
  },
  {
   "cell_type": "code",
   "execution_count": 9,
   "metadata": {},
   "outputs": [
    {
     "name": "stdout",
     "output_type": "stream",
     "text": [
      "200888\n",
      "297747\n",
      "281385\n",
      "505382\n"
     ]
    }
   ],
   "source": [
    "print(len(postulantes_ge))\n",
    "print(len(postulantes_ge_hasta))\n",
    "print(len(postulantes_ge_desde))\n",
    "print(len(postulantes_ge_concat))"
   ]
  },
  {
   "cell_type": "code",
   "execution_count": 9,
   "metadata": {},
   "outputs": [
    {
     "name": "stdout",
     "output_type": "stream",
     "text": [
      "1614515\n",
      "0\n"
     ]
    }
   ],
   "source": [
    "vistas = pd.read_csv(\"../../Data/datos_navent_fiuba/fiuba_3_vistas.csv\")\n",
    "vistas_hasta = pd.read_csv(\"../../Data/fiuba_hasta_15_de_abril/fiuba_3_vistas.csv\")\n",
    "vistas_desde = pd.read_csv(\"../../Data/fiuba_desde_15_de_abril/fiuba_3_vistas.csv\")\n",
    "vistas_concat = pd.concat([vistas, vistas_hasta, vistas_desde], axis=0,ignore_index=True);\n",
    "print(vistas_concat.duplicated().sum())\n",
    "vistas_concat.drop_duplicates(inplace=True, keep='first');\n",
    "print(vistas_concat.duplicated().sum())"
   ]
  },
  {
   "cell_type": "code",
   "execution_count": 10,
   "metadata": {},
   "outputs": [
    {
     "data": {
      "text/html": [
       "<div>\n",
       "<style scoped>\n",
       "    .dataframe tbody tr th:only-of-type {\n",
       "        vertical-align: middle;\n",
       "    }\n",
       "\n",
       "    .dataframe tbody tr th {\n",
       "        vertical-align: top;\n",
       "    }\n",
       "\n",
       "    .dataframe thead th {\n",
       "        text-align: right;\n",
       "    }\n",
       "</style>\n",
       "<table border=\"1\" class=\"dataframe\">\n",
       "  <thead>\n",
       "    <tr style=\"text-align: right;\">\n",
       "      <th></th>\n",
       "      <th>idAviso</th>\n",
       "      <th>timestamp</th>\n",
       "      <th>idpostulante</th>\n",
       "    </tr>\n",
       "  </thead>\n",
       "  <tbody>\n",
       "    <tr>\n",
       "      <th>0</th>\n",
       "      <td>1111780242</td>\n",
       "      <td>2018-02-23T13:38:13.187-0500</td>\n",
       "      <td>YjVJQ6Z</td>\n",
       "    </tr>\n",
       "    <tr>\n",
       "      <th>1</th>\n",
       "      <td>1112263876</td>\n",
       "      <td>2018-02-23T13:38:14.296-0500</td>\n",
       "      <td>BmVpYoR</td>\n",
       "    </tr>\n",
       "    <tr>\n",
       "      <th>2</th>\n",
       "      <td>1112327963</td>\n",
       "      <td>2018-02-23T13:38:14.329-0500</td>\n",
       "      <td>wVkBzZd</td>\n",
       "    </tr>\n",
       "    <tr>\n",
       "      <th>3</th>\n",
       "      <td>1112318643</td>\n",
       "      <td>2018-02-23T13:38:17.921-0500</td>\n",
       "      <td>OqmP9pv</td>\n",
       "    </tr>\n",
       "    <tr>\n",
       "      <th>4</th>\n",
       "      <td>1111903673</td>\n",
       "      <td>2018-02-23T13:38:18.973-0500</td>\n",
       "      <td>DrpbXDP</td>\n",
       "    </tr>\n",
       "  </tbody>\n",
       "</table>\n",
       "</div>"
      ],
      "text/plain": [
       "      idAviso                     timestamp idpostulante\n",
       "0  1111780242  2018-02-23T13:38:13.187-0500      YjVJQ6Z\n",
       "1  1112263876  2018-02-23T13:38:14.296-0500      BmVpYoR\n",
       "2  1112327963  2018-02-23T13:38:14.329-0500      wVkBzZd\n",
       "3  1112318643  2018-02-23T13:38:17.921-0500      OqmP9pv\n",
       "4  1111903673  2018-02-23T13:38:18.973-0500      DrpbXDP"
      ]
     },
     "execution_count": 10,
     "metadata": {},
     "output_type": "execute_result"
    }
   ],
   "source": [
    "vistas.head()"
   ]
  },
  {
   "cell_type": "code",
   "execution_count": 14,
   "metadata": {},
   "outputs": [
    {
     "name": "stdout",
     "output_type": "stream",
     "text": [
      "20068\n",
      "0\n"
     ]
    }
   ],
   "source": [
    "avisos = pd.read_csv(\"../../Data/datos_navent_fiuba/fiuba_6_avisos_detalle.csv\")\n",
    "avisos_hasta = pd.read_csv(\"../../Data/fiuba_hasta_15_de_abril/fiuba_6_avisos_detalle.csv\")\n",
    "avisos_desde = pd.read_csv(\"../../Data/fiuba_desde_15_de_abril/fiuba_6_avisos_detalle.csv\")\n",
    "avisos_desde_patch1 = pd.read_csv(\"../../Data/fiuba_desde_15_de_abril/fiuba_6_avisos_detalle_patch1.csv\")\n",
    "avisos_concat = pd.concat([avisos, avisos_hasta, avisos_desde, avisos_desde_patch1], axis=0,ignore_index=True);\n",
    "print(avisos_concat.duplicated().sum())\n",
    "avisos_concat.drop_duplicates(inplace=True, keep='first')\n",
    "print(avisos_concat.duplicated().sum())"
   ]
  },
  {
   "cell_type": "code",
   "execution_count": 16,
   "metadata": {},
   "outputs": [],
   "source": [
    "postulaciones_concat.to_csv(\"../../Data/fiuba_entrenamiento/postulaciones_uri.csv\",index=False)\n",
    "vistas_concat.to_csv(\"../../Data/fiuba_entrenamiento/vistas_uri.csv\",index=False)\n",
    "avisos_concat.to_csv(\"../../Data/fiuba_entrenamiento/avisos_uri.csv\",index=False)\n",
    "postulantes_educacion_concat.to_csv(\"../../Data/fiuba_entrenamiento/postulantes_educacion_uri.csv\",index=False)\n",
    "postulantes_ge_concat.to_csv(\"../../Data/fiuba_entrenamiento/postulantes_ge_uri.csv\",index=False)"
   ]
  },
  {
   "cell_type": "code",
   "execution_count": 15,
   "metadata": {},
   "outputs": [
    {
     "name": "stdout",
     "output_type": "stream",
     "text": [
      "961897\n",
      "25901\n"
     ]
    }
   ],
   "source": [
    "print(len(vistas))\n",
    "print(len(avisos_concat))"
   ]
  },
  {
   "cell_type": "code",
   "execution_count": null,
   "metadata": {},
   "outputs": [],
   "source": []
  }
 ],
 "metadata": {
  "kernelspec": {
   "display_name": "Python 3",
   "language": "python",
   "name": "python3"
  },
  "language_info": {
   "codemirror_mode": {
    "name": "ipython",
    "version": 3
   },
   "file_extension": ".py",
   "mimetype": "text/x-python",
   "name": "python",
   "nbconvert_exporter": "python",
   "pygments_lexer": "ipython3",
   "version": "3.6.4"
  }
 },
 "nbformat": 4,
 "nbformat_minor": 2
}
