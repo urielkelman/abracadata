{
 "cells": [
  {
   "cell_type": "code",
   "execution_count": 1,
   "metadata": {},
   "outputs": [],
   "source": [
    "import pandas as pd\n",
    "import numpy as np\n",
    "import matplotlib.pyplot as plt\n",
    "import seaborn as sns\n",
    "from datetime import datetime\n",
    "\n",
    "%matplotlib inline"
   ]
  },
  {
   "cell_type": "code",
   "execution_count": null,
   "metadata": {},
   "outputs": [],
   "source": []
  },
  {
   "cell_type": "code",
   "execution_count": 2,
   "metadata": {},
   "outputs": [],
   "source": [
    "plt.rc('figure',dpi=100);"
   ]
  },
  {
   "cell_type": "code",
   "execution_count": 3,
   "metadata": {},
   "outputs": [],
   "source": [
    "avisos = pd.read_csv(\"Data/fiuba_entrenamiento/avisos.csv\")"
   ]
  },
  {
   "cell_type": "code",
   "execution_count": 4,
   "metadata": {},
   "outputs": [
    {
     "data": {
      "text/html": [
       "<div>\n",
       "<style scoped>\n",
       "    .dataframe tbody tr th:only-of-type {\n",
       "        vertical-align: middle;\n",
       "    }\n",
       "\n",
       "    .dataframe tbody tr th {\n",
       "        vertical-align: top;\n",
       "    }\n",
       "\n",
       "    .dataframe thead th {\n",
       "        text-align: right;\n",
       "    }\n",
       "</style>\n",
       "<table border=\"1\" class=\"dataframe\">\n",
       "  <thead>\n",
       "    <tr style=\"text-align: right;\">\n",
       "      <th></th>\n",
       "      <th>idaviso</th>\n",
       "      <th>idpais</th>\n",
       "      <th>titulo</th>\n",
       "      <th>descripcion</th>\n",
       "      <th>nombre_zona</th>\n",
       "      <th>ciudad</th>\n",
       "      <th>mapacalle</th>\n",
       "      <th>tipo_de_trabajo</th>\n",
       "      <th>nivel_laboral</th>\n",
       "      <th>nombre_area</th>\n",
       "      <th>denominacion_empresa</th>\n",
       "    </tr>\n",
       "  </thead>\n",
       "  <tbody>\n",
       "    <tr>\n",
       "      <th>0</th>\n",
       "      <td>8725750</td>\n",
       "      <td>1</td>\n",
       "      <td>VENDEDOR/A PROVINCIA DE SANTA FE</td>\n",
       "      <td>&lt;p&gt;&lt;strong&gt;&lt;strong&gt;Empresa:&lt;/strong&gt;&lt;/strong&gt; ...</td>\n",
       "      <td>Gran Buenos Aires</td>\n",
       "      <td>NaN</td>\n",
       "      <td>NaN</td>\n",
       "      <td>Full-time</td>\n",
       "      <td>Senior / Semi-Senior</td>\n",
       "      <td>Comercial</td>\n",
       "      <td>VENTOR</td>\n",
       "    </tr>\n",
       "    <tr>\n",
       "      <th>1</th>\n",
       "      <td>17903700</td>\n",
       "      <td>1</td>\n",
       "      <td>Enfermeras</td>\n",
       "      <td>&lt;p&gt;Solicitamos para importante cadena de farma...</td>\n",
       "      <td>Gran Buenos Aires</td>\n",
       "      <td>NaN</td>\n",
       "      <td>NaN</td>\n",
       "      <td>Full-time</td>\n",
       "      <td>Senior / Semi-Senior</td>\n",
       "      <td>Salud</td>\n",
       "      <td>Farmacias Central Oeste</td>\n",
       "    </tr>\n",
       "    <tr>\n",
       "      <th>2</th>\n",
       "      <td>1000150677</td>\n",
       "      <td>1</td>\n",
       "      <td>Chofer de taxi</td>\n",
       "      <td>&lt;p&gt;TE GUSTA MANEJAR? QUERES GANAR PLATA HACIEN...</td>\n",
       "      <td>Capital Federal</td>\n",
       "      <td>NaN</td>\n",
       "      <td>Empedrado 2336</td>\n",
       "      <td>Full-time</td>\n",
       "      <td>Senior / Semi-Senior</td>\n",
       "      <td>Transporte</td>\n",
       "      <td>FAMITAX SRL</td>\n",
       "    </tr>\n",
       "    <tr>\n",
       "      <th>3</th>\n",
       "      <td>1000610287</td>\n",
       "      <td>1</td>\n",
       "      <td>CHOFER DE CAMIONETA BAHIA BLANCA - PUNTA ALTA</td>\n",
       "      <td>&lt;p&gt;&lt;strong&gt;Somos una empresa multinacional que...</td>\n",
       "      <td>Gran Buenos Aires</td>\n",
       "      <td>NaN</td>\n",
       "      <td>NaN</td>\n",
       "      <td>Full-time</td>\n",
       "      <td>Senior / Semi-Senior</td>\n",
       "      <td>Transporte</td>\n",
       "      <td>Wurth Argentina S.A</td>\n",
       "    </tr>\n",
       "    <tr>\n",
       "      <th>4</th>\n",
       "      <td>1000872556</td>\n",
       "      <td>1</td>\n",
       "      <td>Operarios de Planta - Rubro Electrodomésticos</td>\n",
       "      <td>&lt;p&gt;&lt;strong&gt;OPERARIOS DE PLANTA&lt;/strong&gt;&lt;/p&gt;&lt;p&gt;...</td>\n",
       "      <td>Gran Buenos Aires</td>\n",
       "      <td>NaN</td>\n",
       "      <td>NaN</td>\n",
       "      <td>Full-time</td>\n",
       "      <td>Senior / Semi-Senior</td>\n",
       "      <td>Producción</td>\n",
       "      <td>ELECTRO OUTLET SRL</td>\n",
       "    </tr>\n",
       "    <tr>\n",
       "      <th>5</th>\n",
       "      <td>1001135716</td>\n",
       "      <td>1</td>\n",
       "      <td>Vendedor Viajante TUCUMAN/SANTIAGO DEL ESTERO</td>\n",
       "      <td>&lt;p&gt;Somos una empresa multinacional que opera e...</td>\n",
       "      <td>Gran Buenos Aires</td>\n",
       "      <td>NaN</td>\n",
       "      <td>NaN</td>\n",
       "      <td>Full-time</td>\n",
       "      <td>Senior / Semi-Senior</td>\n",
       "      <td>Ventas</td>\n",
       "      <td>Wurth Argentina S.A</td>\n",
       "    </tr>\n",
       "    <tr>\n",
       "      <th>6</th>\n",
       "      <td>1001326344</td>\n",
       "      <td>1</td>\n",
       "      <td>Vendedor Viajante RECONQUISTA/AVELLANEDA</td>\n",
       "      <td>&lt;p&gt;&lt;strong&gt;Somos una empresa multinacional que...</td>\n",
       "      <td>Gran Buenos Aires</td>\n",
       "      <td>NaN</td>\n",
       "      <td>NaN</td>\n",
       "      <td>Full-time</td>\n",
       "      <td>Senior / Semi-Senior</td>\n",
       "      <td>Ventas</td>\n",
       "      <td>Wurth Argentina S.A</td>\n",
       "    </tr>\n",
       "    <tr>\n",
       "      <th>7</th>\n",
       "      <td>1001455648</td>\n",
       "      <td>1</td>\n",
       "      <td>Vendedor Viajante PILAR / ESCOBAR/TIGRE</td>\n",
       "      <td>&lt;p&gt;Somos una empresa multinacional que opera e...</td>\n",
       "      <td>Gran Buenos Aires</td>\n",
       "      <td>NaN</td>\n",
       "      <td>NaN</td>\n",
       "      <td>Full-time</td>\n",
       "      <td>Junior</td>\n",
       "      <td>Ventas</td>\n",
       "      <td>Wurth Argentina S.A</td>\n",
       "    </tr>\n",
       "    <tr>\n",
       "      <th>8</th>\n",
       "      <td>9240880</td>\n",
       "      <td>1</td>\n",
       "      <td>Productores Asesores Independiente, para venta...</td>\n",
       "      <td>Agente\\r\\r\\noficial Selecciona:&lt;/span&gt;&lt;/strong...</td>\n",
       "      <td>Capital Federal</td>\n",
       "      <td>Buenos Aires</td>\n",
       "      <td>NaN</td>\n",
       "      <td>Full-time</td>\n",
       "      <td>Jefe / Supervisor / Responsable</td>\n",
       "      <td>Comercial</td>\n",
       "      <td>Agencia Oficial Alejandro Arizaga</td>\n",
       "    </tr>\n",
       "    <tr>\n",
       "      <th>9</th>\n",
       "      <td>1001202662</td>\n",
       "      <td>1</td>\n",
       "      <td>promotor/a , asesor/a</td>\n",
       "      <td>&lt;p&gt;En Cerantola nos encontramos en la busqueda...</td>\n",
       "      <td>Gran Buenos Aires</td>\n",
       "      <td>NaN</td>\n",
       "      <td>NaN</td>\n",
       "      <td>Full-time</td>\n",
       "      <td>Otro</td>\n",
       "      <td>Atención al Cliente</td>\n",
       "      <td>cerantola</td>\n",
       "    </tr>\n",
       "    <tr>\n",
       "      <th>10</th>\n",
       "      <td>1001724563</td>\n",
       "      <td>1</td>\n",
       "      <td>Paramédico</td>\n",
       "      <td>&lt;p&gt;Nos encontramos en un proceso de selección ...</td>\n",
       "      <td>Gran Buenos Aires</td>\n",
       "      <td>NaN</td>\n",
       "      <td>NaN</td>\n",
       "      <td>Full-time</td>\n",
       "      <td>Senior / Semi-Senior</td>\n",
       "      <td>Salud</td>\n",
       "      <td>Hochschild Mining</td>\n",
       "    </tr>\n",
       "    <tr>\n",
       "      <th>11</th>\n",
       "      <td>1002181678</td>\n",
       "      <td>1</td>\n",
       "      <td>Vendedor Viajante TIERRA DEL FUEGO</td>\n",
       "      <td>&lt;p&gt;&lt;strong&gt;Somos una empresa multinacional que...</td>\n",
       "      <td>Gran Buenos Aires</td>\n",
       "      <td>NaN</td>\n",
       "      <td>NaN</td>\n",
       "      <td>Full-time</td>\n",
       "      <td>Senior / Semi-Senior</td>\n",
       "      <td>Ventas</td>\n",
       "      <td>Wurth Argentina S.A</td>\n",
       "    </tr>\n",
       "    <tr>\n",
       "      <th>12</th>\n",
       "      <td>1002308544</td>\n",
       "      <td>1</td>\n",
       "      <td>Preventistas Importante Distribuidora de Bebidas</td>\n",
       "      <td>&lt;p&gt;YAMANIL S-A . se encuentra en busqueda de p...</td>\n",
       "      <td>Gran Buenos Aires</td>\n",
       "      <td>NaN</td>\n",
       "      <td>NaN</td>\n",
       "      <td>Full-time</td>\n",
       "      <td>Senior / Semi-Senior</td>\n",
       "      <td>Ventas</td>\n",
       "      <td>YAMANIL SA</td>\n",
       "    </tr>\n",
       "    <tr>\n",
       "      <th>13</th>\n",
       "      <td>1002377536</td>\n",
       "      <td>1</td>\n",
       "      <td>Personal con experiencia en lavandería  para H...</td>\n",
       "      <td>&lt;p&gt;&lt;strong&gt;&lt;span lang=\"ES\"&gt;Adecco Hoteles y Ca...</td>\n",
       "      <td>Gran Buenos Aires</td>\n",
       "      <td>NaN</td>\n",
       "      <td>NaN</td>\n",
       "      <td>Full-time</td>\n",
       "      <td>Senior / Semi-Senior</td>\n",
       "      <td>Mantenimiento</td>\n",
       "      <td>Adecco -Región Office</td>\n",
       "    </tr>\n",
       "    <tr>\n",
       "      <th>14</th>\n",
       "      <td>1002448818</td>\n",
       "      <td>1</td>\n",
       "      <td>Ejecutivo de Cuentas Sr.</td>\n",
       "      <td>&lt;p&gt;Importante empresa del Mercado Asegurador A...</td>\n",
       "      <td>Gran Buenos Aires</td>\n",
       "      <td>Capital Federal</td>\n",
       "      <td>NaN</td>\n",
       "      <td>Full-time</td>\n",
       "      <td>Senior / Semi-Senior</td>\n",
       "      <td>Comercial</td>\n",
       "      <td>Romasanta y Asociados SA</td>\n",
       "    </tr>\n",
       "  </tbody>\n",
       "</table>\n",
       "</div>"
      ],
      "text/plain": [
       "       idaviso  idpais                                             titulo  \\\n",
       "0      8725750       1                   VENDEDOR/A PROVINCIA DE SANTA FE   \n",
       "1     17903700       1                                         Enfermeras   \n",
       "2   1000150677       1                                     Chofer de taxi   \n",
       "3   1000610287       1      CHOFER DE CAMIONETA BAHIA BLANCA - PUNTA ALTA   \n",
       "4   1000872556       1      Operarios de Planta - Rubro Electrodomésticos   \n",
       "5   1001135716       1      Vendedor Viajante TUCUMAN/SANTIAGO DEL ESTERO   \n",
       "6   1001326344       1           Vendedor Viajante RECONQUISTA/AVELLANEDA   \n",
       "7   1001455648       1            Vendedor Viajante PILAR / ESCOBAR/TIGRE   \n",
       "8      9240880       1  Productores Asesores Independiente, para venta...   \n",
       "9   1001202662       1                              promotor/a , asesor/a   \n",
       "10  1001724563       1                                         Paramédico   \n",
       "11  1002181678       1                 Vendedor Viajante TIERRA DEL FUEGO   \n",
       "12  1002308544       1   Preventistas Importante Distribuidora de Bebidas   \n",
       "13  1002377536       1  Personal con experiencia en lavandería  para H...   \n",
       "14  1002448818       1                           Ejecutivo de Cuentas Sr.   \n",
       "\n",
       "                                          descripcion        nombre_zona  \\\n",
       "0   <p><strong><strong>Empresa:</strong></strong> ...  Gran Buenos Aires   \n",
       "1   <p>Solicitamos para importante cadena de farma...  Gran Buenos Aires   \n",
       "2   <p>TE GUSTA MANEJAR? QUERES GANAR PLATA HACIEN...    Capital Federal   \n",
       "3   <p><strong>Somos una empresa multinacional que...  Gran Buenos Aires   \n",
       "4   <p><strong>OPERARIOS DE PLANTA</strong></p><p>...  Gran Buenos Aires   \n",
       "5   <p>Somos una empresa multinacional que opera e...  Gran Buenos Aires   \n",
       "6   <p><strong>Somos una empresa multinacional que...  Gran Buenos Aires   \n",
       "7   <p>Somos una empresa multinacional que opera e...  Gran Buenos Aires   \n",
       "8   Agente\\r\\r\\noficial Selecciona:</span></strong...    Capital Federal   \n",
       "9   <p>En Cerantola nos encontramos en la busqueda...  Gran Buenos Aires   \n",
       "10  <p>Nos encontramos en un proceso de selección ...  Gran Buenos Aires   \n",
       "11  <p><strong>Somos una empresa multinacional que...  Gran Buenos Aires   \n",
       "12  <p>YAMANIL S-A . se encuentra en busqueda de p...  Gran Buenos Aires   \n",
       "13  <p><strong><span lang=\"ES\">Adecco Hoteles y Ca...  Gran Buenos Aires   \n",
       "14  <p>Importante empresa del Mercado Asegurador A...  Gran Buenos Aires   \n",
       "\n",
       "             ciudad       mapacalle tipo_de_trabajo  \\\n",
       "0               NaN             NaN       Full-time   \n",
       "1               NaN             NaN       Full-time   \n",
       "2               NaN  Empedrado 2336       Full-time   \n",
       "3               NaN             NaN       Full-time   \n",
       "4               NaN             NaN       Full-time   \n",
       "5               NaN             NaN       Full-time   \n",
       "6               NaN             NaN       Full-time   \n",
       "7               NaN             NaN       Full-time   \n",
       "8      Buenos Aires             NaN       Full-time   \n",
       "9               NaN             NaN       Full-time   \n",
       "10              NaN             NaN       Full-time   \n",
       "11              NaN             NaN       Full-time   \n",
       "12              NaN             NaN       Full-time   \n",
       "13              NaN             NaN       Full-time   \n",
       "14  Capital Federal             NaN       Full-time   \n",
       "\n",
       "                      nivel_laboral          nombre_area  \\\n",
       "0              Senior / Semi-Senior            Comercial   \n",
       "1              Senior / Semi-Senior                Salud   \n",
       "2              Senior / Semi-Senior           Transporte   \n",
       "3              Senior / Semi-Senior           Transporte   \n",
       "4              Senior / Semi-Senior           Producción   \n",
       "5              Senior / Semi-Senior               Ventas   \n",
       "6              Senior / Semi-Senior               Ventas   \n",
       "7                            Junior               Ventas   \n",
       "8   Jefe / Supervisor / Responsable            Comercial   \n",
       "9                              Otro  Atención al Cliente   \n",
       "10             Senior / Semi-Senior                Salud   \n",
       "11             Senior / Semi-Senior               Ventas   \n",
       "12             Senior / Semi-Senior               Ventas   \n",
       "13             Senior / Semi-Senior        Mantenimiento   \n",
       "14             Senior / Semi-Senior            Comercial   \n",
       "\n",
       "                 denominacion_empresa  \n",
       "0                              VENTOR  \n",
       "1             Farmacias Central Oeste  \n",
       "2                         FAMITAX SRL  \n",
       "3                 Wurth Argentina S.A  \n",
       "4                  ELECTRO OUTLET SRL  \n",
       "5                 Wurth Argentina S.A  \n",
       "6                 Wurth Argentina S.A  \n",
       "7                 Wurth Argentina S.A  \n",
       "8   Agencia Oficial Alejandro Arizaga  \n",
       "9                           cerantola  \n",
       "10                  Hochschild Mining  \n",
       "11                Wurth Argentina S.A  \n",
       "12                         YAMANIL SA  \n",
       "13              Adecco -Región Office  \n",
       "14           Romasanta y Asociados SA  "
      ]
     },
     "execution_count": 4,
     "metadata": {},
     "output_type": "execute_result"
    }
   ],
   "source": [
    "avisos.head(15)"
   ]
  },
  {
   "cell_type": "code",
   "execution_count": 5,
   "metadata": {},
   "outputs": [
    {
     "name": "stdout",
     "output_type": "stream",
     "text": [
      "idaviso                 25901\n",
      "idpais                  25901\n",
      "titulo                  25901\n",
      "descripcion             25901\n",
      "nombre_zona             25901\n",
      "ciudad                    165\n",
      "mapacalle                2125\n",
      "tipo_de_trabajo         25901\n",
      "nivel_laboral           25566\n",
      "nombre_area             25901\n",
      "denominacion_empresa    25894\n",
      "dtype: int64\n",
      "25901\n"
     ]
    }
   ],
   "source": [
    "print(avisos.count())\n",
    "print(avisos['idpais'].sum())"
   ]
  },
  {
   "cell_type": "code",
   "execution_count": 6,
   "metadata": {},
   "outputs": [],
   "source": [
    "#Puedo droppear idpais\n",
    "avisos.drop(['idpais'], axis=1, inplace=True)"
   ]
  },
  {
   "cell_type": "code",
   "execution_count": 7,
   "metadata": {},
   "outputs": [
    {
     "data": {
      "text/html": [
       "<div>\n",
       "<style scoped>\n",
       "    .dataframe tbody tr th:only-of-type {\n",
       "        vertical-align: middle;\n",
       "    }\n",
       "\n",
       "    .dataframe tbody tr th {\n",
       "        vertical-align: top;\n",
       "    }\n",
       "\n",
       "    .dataframe thead th {\n",
       "        text-align: right;\n",
       "    }\n",
       "</style>\n",
       "<table border=\"1\" class=\"dataframe\">\n",
       "  <thead>\n",
       "    <tr style=\"text-align: right;\">\n",
       "      <th></th>\n",
       "      <th>idaviso</th>\n",
       "      <th>titulo</th>\n",
       "      <th>descripcion</th>\n",
       "      <th>nombre_zona</th>\n",
       "      <th>ciudad</th>\n",
       "      <th>mapacalle</th>\n",
       "      <th>tipo_de_trabajo</th>\n",
       "      <th>nivel_laboral</th>\n",
       "      <th>nombre_area</th>\n",
       "      <th>denominacion_empresa</th>\n",
       "    </tr>\n",
       "  </thead>\n",
       "  <tbody>\n",
       "    <tr>\n",
       "      <th>0</th>\n",
       "      <td>8725750</td>\n",
       "      <td>VENDEDOR/A PROVINCIA DE SANTA FE</td>\n",
       "      <td>&lt;p&gt;&lt;strong&gt;&lt;strong&gt;Empresa:&lt;/strong&gt;&lt;/strong&gt; ...</td>\n",
       "      <td>Gran Buenos Aires</td>\n",
       "      <td>NaN</td>\n",
       "      <td>NaN</td>\n",
       "      <td>Full-time</td>\n",
       "      <td>Senior / Semi-Senior</td>\n",
       "      <td>Comercial</td>\n",
       "      <td>VENTOR</td>\n",
       "    </tr>\n",
       "    <tr>\n",
       "      <th>1</th>\n",
       "      <td>17903700</td>\n",
       "      <td>Enfermeras</td>\n",
       "      <td>&lt;p&gt;Solicitamos para importante cadena de farma...</td>\n",
       "      <td>Gran Buenos Aires</td>\n",
       "      <td>NaN</td>\n",
       "      <td>NaN</td>\n",
       "      <td>Full-time</td>\n",
       "      <td>Senior / Semi-Senior</td>\n",
       "      <td>Salud</td>\n",
       "      <td>Farmacias Central Oeste</td>\n",
       "    </tr>\n",
       "    <tr>\n",
       "      <th>2</th>\n",
       "      <td>1000150677</td>\n",
       "      <td>Chofer de taxi</td>\n",
       "      <td>&lt;p&gt;TE GUSTA MANEJAR? QUERES GANAR PLATA HACIEN...</td>\n",
       "      <td>Capital Federal</td>\n",
       "      <td>NaN</td>\n",
       "      <td>Empedrado 2336</td>\n",
       "      <td>Full-time</td>\n",
       "      <td>Senior / Semi-Senior</td>\n",
       "      <td>Transporte</td>\n",
       "      <td>FAMITAX SRL</td>\n",
       "    </tr>\n",
       "    <tr>\n",
       "      <th>3</th>\n",
       "      <td>1000610287</td>\n",
       "      <td>CHOFER DE CAMIONETA BAHIA BLANCA - PUNTA ALTA</td>\n",
       "      <td>&lt;p&gt;&lt;strong&gt;Somos una empresa multinacional que...</td>\n",
       "      <td>Gran Buenos Aires</td>\n",
       "      <td>NaN</td>\n",
       "      <td>NaN</td>\n",
       "      <td>Full-time</td>\n",
       "      <td>Senior / Semi-Senior</td>\n",
       "      <td>Transporte</td>\n",
       "      <td>Wurth Argentina S.A</td>\n",
       "    </tr>\n",
       "    <tr>\n",
       "      <th>4</th>\n",
       "      <td>1000872556</td>\n",
       "      <td>Operarios de Planta - Rubro Electrodomésticos</td>\n",
       "      <td>&lt;p&gt;&lt;strong&gt;OPERARIOS DE PLANTA&lt;/strong&gt;&lt;/p&gt;&lt;p&gt;...</td>\n",
       "      <td>Gran Buenos Aires</td>\n",
       "      <td>NaN</td>\n",
       "      <td>NaN</td>\n",
       "      <td>Full-time</td>\n",
       "      <td>Senior / Semi-Senior</td>\n",
       "      <td>Producción</td>\n",
       "      <td>ELECTRO OUTLET SRL</td>\n",
       "    </tr>\n",
       "  </tbody>\n",
       "</table>\n",
       "</div>"
      ],
      "text/plain": [
       "      idaviso                                         titulo  \\\n",
       "0     8725750               VENDEDOR/A PROVINCIA DE SANTA FE   \n",
       "1    17903700                                     Enfermeras   \n",
       "2  1000150677                                 Chofer de taxi   \n",
       "3  1000610287  CHOFER DE CAMIONETA BAHIA BLANCA - PUNTA ALTA   \n",
       "4  1000872556  Operarios de Planta - Rubro Electrodomésticos   \n",
       "\n",
       "                                         descripcion        nombre_zona  \\\n",
       "0  <p><strong><strong>Empresa:</strong></strong> ...  Gran Buenos Aires   \n",
       "1  <p>Solicitamos para importante cadena de farma...  Gran Buenos Aires   \n",
       "2  <p>TE GUSTA MANEJAR? QUERES GANAR PLATA HACIEN...    Capital Federal   \n",
       "3  <p><strong>Somos una empresa multinacional que...  Gran Buenos Aires   \n",
       "4  <p><strong>OPERARIOS DE PLANTA</strong></p><p>...  Gran Buenos Aires   \n",
       "\n",
       "  ciudad       mapacalle tipo_de_trabajo         nivel_laboral nombre_area  \\\n",
       "0    NaN             NaN       Full-time  Senior / Semi-Senior   Comercial   \n",
       "1    NaN             NaN       Full-time  Senior / Semi-Senior       Salud   \n",
       "2    NaN  Empedrado 2336       Full-time  Senior / Semi-Senior  Transporte   \n",
       "3    NaN             NaN       Full-time  Senior / Semi-Senior  Transporte   \n",
       "4    NaN             NaN       Full-time  Senior / Semi-Senior  Producción   \n",
       "\n",
       "      denominacion_empresa  \n",
       "0                   VENTOR  \n",
       "1  Farmacias Central Oeste  \n",
       "2              FAMITAX SRL  \n",
       "3      Wurth Argentina S.A  \n",
       "4       ELECTRO OUTLET SRL  "
      ]
     },
     "execution_count": 7,
     "metadata": {},
     "output_type": "execute_result"
    }
   ],
   "source": [
    "avisos.head()"
   ]
  },
  {
   "cell_type": "code",
   "execution_count": 8,
   "metadata": {},
   "outputs": [],
   "source": [
    "#Droppeo ciudad y mapacalle, casi siempre es ruido\n",
    "avisos.drop(['ciudad', 'mapacalle'], axis=1, inplace=True)"
   ]
  },
  {
   "cell_type": "code",
   "execution_count": 9,
   "metadata": {},
   "outputs": [
    {
     "data": {
      "text/html": [
       "<div>\n",
       "<style scoped>\n",
       "    .dataframe tbody tr th:only-of-type {\n",
       "        vertical-align: middle;\n",
       "    }\n",
       "\n",
       "    .dataframe tbody tr th {\n",
       "        vertical-align: top;\n",
       "    }\n",
       "\n",
       "    .dataframe thead th {\n",
       "        text-align: right;\n",
       "    }\n",
       "</style>\n",
       "<table border=\"1\" class=\"dataframe\">\n",
       "  <thead>\n",
       "    <tr style=\"text-align: right;\">\n",
       "      <th></th>\n",
       "      <th>idaviso</th>\n",
       "      <th>titulo</th>\n",
       "      <th>descripcion</th>\n",
       "      <th>nombre_zona</th>\n",
       "      <th>tipo_de_trabajo</th>\n",
       "      <th>nivel_laboral</th>\n",
       "      <th>nombre_area</th>\n",
       "      <th>denominacion_empresa</th>\n",
       "    </tr>\n",
       "  </thead>\n",
       "  <tbody>\n",
       "    <tr>\n",
       "      <th>0</th>\n",
       "      <td>8725750</td>\n",
       "      <td>VENDEDOR/A PROVINCIA DE SANTA FE</td>\n",
       "      <td>&lt;p&gt;&lt;strong&gt;&lt;strong&gt;Empresa:&lt;/strong&gt;&lt;/strong&gt; ...</td>\n",
       "      <td>Gran Buenos Aires</td>\n",
       "      <td>Full-time</td>\n",
       "      <td>Senior / Semi-Senior</td>\n",
       "      <td>Comercial</td>\n",
       "      <td>VENTOR</td>\n",
       "    </tr>\n",
       "    <tr>\n",
       "      <th>1</th>\n",
       "      <td>17903700</td>\n",
       "      <td>Enfermeras</td>\n",
       "      <td>&lt;p&gt;Solicitamos para importante cadena de farma...</td>\n",
       "      <td>Gran Buenos Aires</td>\n",
       "      <td>Full-time</td>\n",
       "      <td>Senior / Semi-Senior</td>\n",
       "      <td>Salud</td>\n",
       "      <td>Farmacias Central Oeste</td>\n",
       "    </tr>\n",
       "    <tr>\n",
       "      <th>2</th>\n",
       "      <td>1000150677</td>\n",
       "      <td>Chofer de taxi</td>\n",
       "      <td>&lt;p&gt;TE GUSTA MANEJAR? QUERES GANAR PLATA HACIEN...</td>\n",
       "      <td>Capital Federal</td>\n",
       "      <td>Full-time</td>\n",
       "      <td>Senior / Semi-Senior</td>\n",
       "      <td>Transporte</td>\n",
       "      <td>FAMITAX SRL</td>\n",
       "    </tr>\n",
       "    <tr>\n",
       "      <th>3</th>\n",
       "      <td>1000610287</td>\n",
       "      <td>CHOFER DE CAMIONETA BAHIA BLANCA - PUNTA ALTA</td>\n",
       "      <td>&lt;p&gt;&lt;strong&gt;Somos una empresa multinacional que...</td>\n",
       "      <td>Gran Buenos Aires</td>\n",
       "      <td>Full-time</td>\n",
       "      <td>Senior / Semi-Senior</td>\n",
       "      <td>Transporte</td>\n",
       "      <td>Wurth Argentina S.A</td>\n",
       "    </tr>\n",
       "    <tr>\n",
       "      <th>4</th>\n",
       "      <td>1000872556</td>\n",
       "      <td>Operarios de Planta - Rubro Electrodomésticos</td>\n",
       "      <td>&lt;p&gt;&lt;strong&gt;OPERARIOS DE PLANTA&lt;/strong&gt;&lt;/p&gt;&lt;p&gt;...</td>\n",
       "      <td>Gran Buenos Aires</td>\n",
       "      <td>Full-time</td>\n",
       "      <td>Senior / Semi-Senior</td>\n",
       "      <td>Producción</td>\n",
       "      <td>ELECTRO OUTLET SRL</td>\n",
       "    </tr>\n",
       "  </tbody>\n",
       "</table>\n",
       "</div>"
      ],
      "text/plain": [
       "      idaviso                                         titulo  \\\n",
       "0     8725750               VENDEDOR/A PROVINCIA DE SANTA FE   \n",
       "1    17903700                                     Enfermeras   \n",
       "2  1000150677                                 Chofer de taxi   \n",
       "3  1000610287  CHOFER DE CAMIONETA BAHIA BLANCA - PUNTA ALTA   \n",
       "4  1000872556  Operarios de Planta - Rubro Electrodomésticos   \n",
       "\n",
       "                                         descripcion        nombre_zona  \\\n",
       "0  <p><strong><strong>Empresa:</strong></strong> ...  Gran Buenos Aires   \n",
       "1  <p>Solicitamos para importante cadena de farma...  Gran Buenos Aires   \n",
       "2  <p>TE GUSTA MANEJAR? QUERES GANAR PLATA HACIEN...    Capital Federal   \n",
       "3  <p><strong>Somos una empresa multinacional que...  Gran Buenos Aires   \n",
       "4  <p><strong>OPERARIOS DE PLANTA</strong></p><p>...  Gran Buenos Aires   \n",
       "\n",
       "  tipo_de_trabajo         nivel_laboral nombre_area     denominacion_empresa  \n",
       "0       Full-time  Senior / Semi-Senior   Comercial                   VENTOR  \n",
       "1       Full-time  Senior / Semi-Senior       Salud  Farmacias Central Oeste  \n",
       "2       Full-time  Senior / Semi-Senior  Transporte              FAMITAX SRL  \n",
       "3       Full-time  Senior / Semi-Senior  Transporte      Wurth Argentina S.A  \n",
       "4       Full-time  Senior / Semi-Senior  Producción       ELECTRO OUTLET SRL  "
      ]
     },
     "execution_count": 9,
     "metadata": {},
     "output_type": "execute_result"
    }
   ],
   "source": [
    "avisos.head()"
   ]
  },
  {
   "cell_type": "code",
   "execution_count": 10,
   "metadata": {},
   "outputs": [
    {
     "name": "stdout",
     "output_type": "stream",
     "text": [
      "True\n",
      "False\n",
      "True\n"
     ]
    }
   ],
   "source": [
    "def titulo_en_mayus(titulo):\n",
    "    palabras=titulo.split();\n",
    "    for palabra in palabras:\n",
    "        if palabra.isupper():\n",
    "            return True\n",
    "    return False\n",
    "\n",
    "print(titulo_en_mayus(\"habia UNA vez\"))\n",
    "print(titulo_en_mayus(\"habia una vez\"))\n",
    "print(titulo_en_mayus(\"HABIA una vez\"))"
   ]
  },
  {
   "cell_type": "code",
   "execution_count": 11,
   "metadata": {},
   "outputs": [
    {
     "data": {
      "text/html": [
       "<div>\n",
       "<style scoped>\n",
       "    .dataframe tbody tr th:only-of-type {\n",
       "        vertical-align: middle;\n",
       "    }\n",
       "\n",
       "    .dataframe tbody tr th {\n",
       "        vertical-align: top;\n",
       "    }\n",
       "\n",
       "    .dataframe thead th {\n",
       "        text-align: right;\n",
       "    }\n",
       "</style>\n",
       "<table border=\"1\" class=\"dataframe\">\n",
       "  <thead>\n",
       "    <tr style=\"text-align: right;\">\n",
       "      <th></th>\n",
       "      <th>idaviso</th>\n",
       "      <th>titulo</th>\n",
       "      <th>descripcion</th>\n",
       "      <th>nombre_zona</th>\n",
       "      <th>tipo_de_trabajo</th>\n",
       "      <th>nivel_laboral</th>\n",
       "      <th>nombre_area</th>\n",
       "      <th>denominacion_empresa</th>\n",
       "      <th>titulo_uppercase</th>\n",
       "    </tr>\n",
       "  </thead>\n",
       "  <tbody>\n",
       "    <tr>\n",
       "      <th>0</th>\n",
       "      <td>8725750</td>\n",
       "      <td>VENDEDOR/A PROVINCIA DE SANTA FE</td>\n",
       "      <td>&lt;p&gt;&lt;strong&gt;&lt;strong&gt;Empresa:&lt;/strong&gt;&lt;/strong&gt; ...</td>\n",
       "      <td>Gran Buenos Aires</td>\n",
       "      <td>Full-time</td>\n",
       "      <td>Senior / Semi-Senior</td>\n",
       "      <td>Comercial</td>\n",
       "      <td>VENTOR</td>\n",
       "      <td>True</td>\n",
       "    </tr>\n",
       "    <tr>\n",
       "      <th>1</th>\n",
       "      <td>17903700</td>\n",
       "      <td>Enfermeras</td>\n",
       "      <td>&lt;p&gt;Solicitamos para importante cadena de farma...</td>\n",
       "      <td>Gran Buenos Aires</td>\n",
       "      <td>Full-time</td>\n",
       "      <td>Senior / Semi-Senior</td>\n",
       "      <td>Salud</td>\n",
       "      <td>Farmacias Central Oeste</td>\n",
       "      <td>False</td>\n",
       "    </tr>\n",
       "    <tr>\n",
       "      <th>2</th>\n",
       "      <td>1000150677</td>\n",
       "      <td>Chofer de taxi</td>\n",
       "      <td>&lt;p&gt;TE GUSTA MANEJAR? QUERES GANAR PLATA HACIEN...</td>\n",
       "      <td>Capital Federal</td>\n",
       "      <td>Full-time</td>\n",
       "      <td>Senior / Semi-Senior</td>\n",
       "      <td>Transporte</td>\n",
       "      <td>FAMITAX SRL</td>\n",
       "      <td>False</td>\n",
       "    </tr>\n",
       "    <tr>\n",
       "      <th>3</th>\n",
       "      <td>1000610287</td>\n",
       "      <td>CHOFER DE CAMIONETA BAHIA BLANCA - PUNTA ALTA</td>\n",
       "      <td>&lt;p&gt;&lt;strong&gt;Somos una empresa multinacional que...</td>\n",
       "      <td>Gran Buenos Aires</td>\n",
       "      <td>Full-time</td>\n",
       "      <td>Senior / Semi-Senior</td>\n",
       "      <td>Transporte</td>\n",
       "      <td>Wurth Argentina S.A</td>\n",
       "      <td>True</td>\n",
       "    </tr>\n",
       "    <tr>\n",
       "      <th>4</th>\n",
       "      <td>1000872556</td>\n",
       "      <td>Operarios de Planta - Rubro Electrodomésticos</td>\n",
       "      <td>&lt;p&gt;&lt;strong&gt;OPERARIOS DE PLANTA&lt;/strong&gt;&lt;/p&gt;&lt;p&gt;...</td>\n",
       "      <td>Gran Buenos Aires</td>\n",
       "      <td>Full-time</td>\n",
       "      <td>Senior / Semi-Senior</td>\n",
       "      <td>Producción</td>\n",
       "      <td>ELECTRO OUTLET SRL</td>\n",
       "      <td>False</td>\n",
       "    </tr>\n",
       "    <tr>\n",
       "      <th>5</th>\n",
       "      <td>1001135716</td>\n",
       "      <td>Vendedor Viajante TUCUMAN/SANTIAGO DEL ESTERO</td>\n",
       "      <td>&lt;p&gt;Somos una empresa multinacional que opera e...</td>\n",
       "      <td>Gran Buenos Aires</td>\n",
       "      <td>Full-time</td>\n",
       "      <td>Senior / Semi-Senior</td>\n",
       "      <td>Ventas</td>\n",
       "      <td>Wurth Argentina S.A</td>\n",
       "      <td>True</td>\n",
       "    </tr>\n",
       "    <tr>\n",
       "      <th>6</th>\n",
       "      <td>1001326344</td>\n",
       "      <td>Vendedor Viajante RECONQUISTA/AVELLANEDA</td>\n",
       "      <td>&lt;p&gt;&lt;strong&gt;Somos una empresa multinacional que...</td>\n",
       "      <td>Gran Buenos Aires</td>\n",
       "      <td>Full-time</td>\n",
       "      <td>Senior / Semi-Senior</td>\n",
       "      <td>Ventas</td>\n",
       "      <td>Wurth Argentina S.A</td>\n",
       "      <td>True</td>\n",
       "    </tr>\n",
       "    <tr>\n",
       "      <th>7</th>\n",
       "      <td>1001455648</td>\n",
       "      <td>Vendedor Viajante PILAR / ESCOBAR/TIGRE</td>\n",
       "      <td>&lt;p&gt;Somos una empresa multinacional que opera e...</td>\n",
       "      <td>Gran Buenos Aires</td>\n",
       "      <td>Full-time</td>\n",
       "      <td>Junior</td>\n",
       "      <td>Ventas</td>\n",
       "      <td>Wurth Argentina S.A</td>\n",
       "      <td>True</td>\n",
       "    </tr>\n",
       "    <tr>\n",
       "      <th>8</th>\n",
       "      <td>9240880</td>\n",
       "      <td>Productores Asesores Independiente, para venta...</td>\n",
       "      <td>Agente\\r\\r\\noficial Selecciona:&lt;/span&gt;&lt;/strong...</td>\n",
       "      <td>Capital Federal</td>\n",
       "      <td>Full-time</td>\n",
       "      <td>Jefe / Supervisor / Responsable</td>\n",
       "      <td>Comercial</td>\n",
       "      <td>Agencia Oficial Alejandro Arizaga</td>\n",
       "      <td>False</td>\n",
       "    </tr>\n",
       "    <tr>\n",
       "      <th>9</th>\n",
       "      <td>1001202662</td>\n",
       "      <td>promotor/a , asesor/a</td>\n",
       "      <td>&lt;p&gt;En Cerantola nos encontramos en la busqueda...</td>\n",
       "      <td>Gran Buenos Aires</td>\n",
       "      <td>Full-time</td>\n",
       "      <td>Otro</td>\n",
       "      <td>Atención al Cliente</td>\n",
       "      <td>cerantola</td>\n",
       "      <td>False</td>\n",
       "    </tr>\n",
       "  </tbody>\n",
       "</table>\n",
       "</div>"
      ],
      "text/plain": [
       "      idaviso                                             titulo  \\\n",
       "0     8725750                   VENDEDOR/A PROVINCIA DE SANTA FE   \n",
       "1    17903700                                         Enfermeras   \n",
       "2  1000150677                                     Chofer de taxi   \n",
       "3  1000610287      CHOFER DE CAMIONETA BAHIA BLANCA - PUNTA ALTA   \n",
       "4  1000872556      Operarios de Planta - Rubro Electrodomésticos   \n",
       "5  1001135716      Vendedor Viajante TUCUMAN/SANTIAGO DEL ESTERO   \n",
       "6  1001326344           Vendedor Viajante RECONQUISTA/AVELLANEDA   \n",
       "7  1001455648            Vendedor Viajante PILAR / ESCOBAR/TIGRE   \n",
       "8     9240880  Productores Asesores Independiente, para venta...   \n",
       "9  1001202662                              promotor/a , asesor/a   \n",
       "\n",
       "                                         descripcion        nombre_zona  \\\n",
       "0  <p><strong><strong>Empresa:</strong></strong> ...  Gran Buenos Aires   \n",
       "1  <p>Solicitamos para importante cadena de farma...  Gran Buenos Aires   \n",
       "2  <p>TE GUSTA MANEJAR? QUERES GANAR PLATA HACIEN...    Capital Federal   \n",
       "3  <p><strong>Somos una empresa multinacional que...  Gran Buenos Aires   \n",
       "4  <p><strong>OPERARIOS DE PLANTA</strong></p><p>...  Gran Buenos Aires   \n",
       "5  <p>Somos una empresa multinacional que opera e...  Gran Buenos Aires   \n",
       "6  <p><strong>Somos una empresa multinacional que...  Gran Buenos Aires   \n",
       "7  <p>Somos una empresa multinacional que opera e...  Gran Buenos Aires   \n",
       "8  Agente\\r\\r\\noficial Selecciona:</span></strong...    Capital Federal   \n",
       "9  <p>En Cerantola nos encontramos en la busqueda...  Gran Buenos Aires   \n",
       "\n",
       "  tipo_de_trabajo                    nivel_laboral          nombre_area  \\\n",
       "0       Full-time             Senior / Semi-Senior            Comercial   \n",
       "1       Full-time             Senior / Semi-Senior                Salud   \n",
       "2       Full-time             Senior / Semi-Senior           Transporte   \n",
       "3       Full-time             Senior / Semi-Senior           Transporte   \n",
       "4       Full-time             Senior / Semi-Senior           Producción   \n",
       "5       Full-time             Senior / Semi-Senior               Ventas   \n",
       "6       Full-time             Senior / Semi-Senior               Ventas   \n",
       "7       Full-time                           Junior               Ventas   \n",
       "8       Full-time  Jefe / Supervisor / Responsable            Comercial   \n",
       "9       Full-time                             Otro  Atención al Cliente   \n",
       "\n",
       "                denominacion_empresa  titulo_uppercase  \n",
       "0                             VENTOR              True  \n",
       "1            Farmacias Central Oeste             False  \n",
       "2                        FAMITAX SRL             False  \n",
       "3                Wurth Argentina S.A              True  \n",
       "4                 ELECTRO OUTLET SRL             False  \n",
       "5                Wurth Argentina S.A              True  \n",
       "6                Wurth Argentina S.A              True  \n",
       "7                Wurth Argentina S.A              True  \n",
       "8  Agencia Oficial Alejandro Arizaga             False  \n",
       "9                          cerantola             False  "
      ]
     },
     "execution_count": 11,
     "metadata": {},
     "output_type": "execute_result"
    }
   ],
   "source": [
    "titulo_en_mayus_vectorize = np.vectorize(titulo_en_mayus);\n",
    "avisos['titulo_uppercase'] = titulo_en_mayus_vectorize(avisos['titulo']);\n",
    "avisos.head(10)"
   ]
  },
  {
   "cell_type": "code",
   "execution_count": 12,
   "metadata": {},
   "outputs": [
    {
     "data": {
      "text/plain": [
       "idaviso                  int64\n",
       "titulo                  object\n",
       "descripcion             object\n",
       "nombre_zona             object\n",
       "tipo_de_trabajo         object\n",
       "nivel_laboral           object\n",
       "nombre_area             object\n",
       "denominacion_empresa    object\n",
       "titulo_uppercase          bool\n",
       "dtype: object"
      ]
     },
     "execution_count": 12,
     "metadata": {},
     "output_type": "execute_result"
    }
   ],
   "source": [
    "avisos.dtypes"
   ]
  },
  {
   "cell_type": "code",
   "execution_count": 52,
   "metadata": {},
   "outputs": [
    {
     "data": {
      "text/html": [
       "<p style=\"\">Estamos buscando para nuestra área de Consultoría graduados de la carrera de <strong style=\"\">Licenciatura en Administración</strong>, <strong style=\"\">Contador Público</strong><strong style=\"\"> </strong>o carreras similares.</p><p style=\"\">Será excluyente contar <strong style=\"\">con experiencia en mejora de procesos, principalmente en procesos de backoffice.</strong></p><p style=\"\"> </p><p style=\"\">Se requiere:</p><p style=\"\">Inglés intermedio/avanzado</p><p style=\"\">Muy buenas habilidades de comunicación.</p><p style=\"\">Capacidad analítica</p><p style=\"\">Conocimientos avanzados en Excel y Access</p><p style=\"\">Experiencia en manejo de equipos</p><p style=\"\"> </p><p style=\"\"><strong style=\"\">Horario:  9 a 18hs </strong></p><p style=\"\"><strong style=\"\">Lugar: Puerto Madero</strong></p><hr>"
      ],
      "text/plain": [
       "<IPython.core.display.HTML object>"
      ]
     },
     "metadata": {},
     "output_type": "display_data"
    },
    {
     "data": {
      "text/html": [
       "<p>Buscamos estudiantes y/o graduados de carreras afines a <strong>Sistemas o Administración de Empresas</strong> con interés en realizar tareas de auditoría de sistemas y procesos de negocio en empresas líderes del mercado.<br /><br /></p><p><br />Trabajamos principalmente en la evaluación y administración de riesgos tecnológicos, auditoría de sistemas, seguridad informática, evaluación y mejora de procesos de negocio.<br /><br /><br /><br />Te ofrecemos un excelente ambiente laboral, obtener un plan de capacitación dinámico y actualizado con las nuevas tendencias y desarrollar un desafiante plan de crecimiento profesional trabajando con las empresas líderes en el mercado.</p><hr>"
      ],
      "text/plain": [
       "<IPython.core.display.HTML object>"
      ]
     },
     "metadata": {},
     "output_type": "display_data"
    },
    {
     "data": {
      "text/html": [
       "<p> Nos encontramos en la búsqueda activa de un Ingeniero Electrónico y/o a fin para el área de Ingeniería de Proyectos de importante empresa especializada en sistemas de alta complejidad de electronica y telecomunicaciones ubicada en Capital Federal.</p><p>Pensamos en un Graduado en Ingeniería Electrónica, Telecomunicaciones o afines con:</p><ul><li><span style=\"\">  </span><span style=\"\">Conocimientos de TCP/IP, Redes LAN/WAN, Switching (ULANS, SPANNING-TREE), Routing (BGP, RIP, OJPF).</span></li><li><span style=\"\">  </span><span style=\"\">Manejo de MSProject y software como Radio Mobile u otros para cálculo de radio enlaces.</span></li><li><span style=\"\"> </span><span style=\"\">Idioma Inglés oral y escrito nivel avanzado.</span></li><li><span style=\"\"> </span><span style=\"\">Visión comercial.</span></li><li>Cuatro años de experiencia en puestos similares</li></ul><p>Sus principales atribuciones y responsabilidades son:</p><p style=\"\"><span style=\"\">·<span style=\"\">         </span></span>Brindar soporte en Ingeniería de pre- venta y post-venta al área comercial de la empresa.</p><p style=\"\"><span style=\"\">·<span style=\"\">         </span></span>Detección de necesidades de negocio, asesorar al sector de ventas en el armado de soluciones técnicas ajustadas a la necesidad.</p><p style=\"\"><span style=\"\">·<span style=\"\">         </span></span>Planificar y gestionar las soluciones y propuestas con proveedores internos y externos.</p><p style=\"\"><span style=\"\">·<span style=\"\">         </span></span>Continuar con actualización permanente en nuevos productos y/ o servicios de interés de la empresa.</p><p style=\"\"><span style=\"\">·<span style=\"\">         </span></span>Implementar  las propuestas técnicas, encauzar la ingeniería.</p><p style=\"\"><span style=\"\">·<span style=\"\">         </span></span>Capacitar en el armado de soluciones integrales.</p><p> <span style=\"\">·<span style=\"\">         </span></span>Participar en proyectos con tecnologías específicas.</p><p> </p><hr>"
      ],
      "text/plain": [
       "<IPython.core.display.HTML object>"
      ]
     },
     "metadata": {},
     "output_type": "display_data"
    },
    {
     "data": {
      "text/html": [
       "<p><span style=\"\">EJECUTIVO DE VENTAS</span></p><p><span style=\"\"> </span></p><p style=\"\"><strong><span style=\"\">Objetivo general del puesto</span></strong></p><p style=\"\"><span style=\"\">Incrementar la cartera de <strong>clientes</strong> de la compañía, mediante la <strong>incorporación</strong> de nuevos comercios del rubro sanitario que ofrezcan los productos de nuestra compañía. Fidelización y apoyo a la dirección comercial en el manejo de la cartera de clientes.</span></p><p style=\"\"><strong><span style=\"\">Responsabilidades principales</span></strong></p><p style=\"\"><span style=\"\"><span style=\"\">·<span style=\"\">         </span></span></span><span style=\"\">Realización de Demostraciones de los productos.</span></p><p style=\"\"><span style=\"\"><span style=\"\">·<span style=\"\">         </span></span></span><span style=\"\">Analisis de mercado y relevamiento de comercios y tendencias en el rubro.</span></p><p style=\"\"><span style=\"\"><span style=\"\">·<span style=\"\">         </span></span></span><span style=\"\">Llamados telefónicos.</span></p><p style=\"\"><span style=\"\"><span style=\"\">·<span style=\"\">         </span></span></span><span style=\"\">Visitas a clientes</span></p><p style=\"\"><span style=\"\"><span style=\"\">·<span style=\"\">         </span></span></span><span style=\"\">Cumplimento de objetivos cuantitativos</span></p><p style=\"\"> </p><p style=\"\"><span style=\"\"> </span></p><p><span style=\"\"> </span><strong><span>Requisitos Excluyentes:</span></strong></p><p style=\"\"><span style=\"\">Ø<span style=\"\">  </span></span><span>Edad: <span style=\"\">26</span>-40 años</span></p><p style=\"\"><span style=\"\">Ø<span style=\"\">  </span></span><span>Sexo Masculino</span></p><p style=\"\"><span style=\"\">Ø<span style=\"\">  </span></span><span>Experiencia mínima en puestos comerciales: </span><span style=\"\">2</span><span> año</span><span style=\"\">s</span></p><p style=\"\"><span style=\"\">Ø<span style=\"\">  </span></span><span>Monotributista.</span></p><p style=\"\"><strong><span>Habilidades valoradas </span></strong></p><p><span style=\"\">Paquete Office</span></p><p style=\"\"><span style=\"\"> </span></p><p style=\"\"><span style=\"\"> </span></p><p style=\"\"><span style=\"\"> </span></p><hr>"
      ],
      "text/plain": [
       "<IPython.core.display.HTML object>"
      ]
     },
     "metadata": {},
     "output_type": "display_data"
    },
    {
     "data": {
      "text/html": [
       "<p>Cona Consultores se encuentra en la una búsqueda de un Profesional para desempeñarse como <strong>Desarrollador Salesforce Sr.</strong> para sumarse a un desafiante proyecto.</p><p>Nuestro cliente es una empresa de tecnología en pleno desarrollo, con interesantes proyectos con empresas y tecnologías de primer nivel.</p><p>Requisitos:</p><p>Certificado en SFDC</p><p>Experiencia en Vlocity (deseable)</p><p>Conocimientos en el manejo de código fuente</p><p>Comprensión de los metadatos y la extensibilidad de una infraestructura\\</p><p>Lugar de Trabajo: Coghlan // Horario de Trabajo: 9:00 a 18:00 Hs //</p><p>Ofrecemos excelentes condiciones de contratación y crecimiento profesional en una compañía líder.</p><hr>"
      ],
      "text/plain": [
       "<IPython.core.display.HTML object>"
      ]
     },
     "metadata": {},
     "output_type": "display_data"
    },
    {
     "data": {
      "text/html": [
       "<p><span style=\"\">Importante empresa líder en Prestaciones, se encuentra en la búsqueda de un <em><u>Project Manager </u></em><em><u><span style=\"\">e</span></u></em><em><u><span style=\"\">specialista en calidad </span></u></em>para su sede central ubicada en Capital Federal.</span></p><p><span style=\"\">Nuestra búsqueda se orienta a un profesional en la carrera de Ciencias Económicas o Empresariales, Ingeniería industrial y Farmacia o Ciencias de la salud, u otro título equivalente que soporte un perfil con gran poder de análisis, con al menos 5  años de experiencia en el área de calidad.</span></p><p><span style=\"\">Serán sus responsabilidades:</span></p><p><span lang=\"ES\" style=\"\">-       Realizar seguimiento a las acciones tendientes a la implementación del Sistema de Gestión de Calidad en las empresas del Grupo.    </span></p><p><span lang=\"ES\" style=\"\">-       Acompañar las Auditoría Internas de los procesos de las Droguerías del Grupo según la Norma Internacional ISO 9001:2015  y  Buenas Prácticas de Almacenamiento y Distribución de medicamentos y productos  farmacéuticos. A fin de hacer seguimiento a los desvíos detectados.</span></p><p><span lang=\"ES\" style=\"\">-       Detectar y gestionar el servicio no conforme tomándolo como una oportunidad para la mejora continua del Sistema de Gestión de la Calidad y de las Buenas Prácticas.</span></p><p> </p><p><span style=\"\">Debe contar con conocimientos en mejores prácticas del mercado en relación a los procesos <strong><span style=\"\">(COPC, ISO 9000, etc.)</span></strong>, Capacidad para gestionar proyectos <strong><span style=\"\">(Six sigma, TRP, PMO) </span></strong>y muy buen manejo del Power Point. <br /> <br /> Se ofrecen excelentes condiciones de contratación. Jornada: Lunes a Viernes  de 9 a 18 hs.</span></p><hr>"
      ],
      "text/plain": [
       "<IPython.core.display.HTML object>"
      ]
     },
     "metadata": {},
     "output_type": "display_data"
    },
    {
     "data": {
      "text/html": [
       "Empresa de Logistica solicita empleado Administrativo contable .  Se valorara conocimientos en RRHH / Normas ISO 9001-2015 /  Bancos. Horario de  8 a 17 y sabados de 9 a 13 . Experiencia en Administracion de empresas minimo 2 años. <hr>"
      ],
      "text/plain": [
       "<IPython.core.display.HTML object>"
      ]
     },
     "metadata": {},
     "output_type": "display_data"
    },
    {
     "data": {
      "text/html": [
       "<p>Importante empresa dedicada a la fabricación de indumentaria de trabajo y calzado de seguridad, busca un/a Vendedor/a.</p><p>Se busca vendedor/a que quiera desarrollarse en el rubro de indumentaria de trabajo, seguridad industrial y uniformes empresariales.</p><p>Nuestra empresa fabrica y distribuye para todo el país una amplia gama de productos de confección y calzado de seguridad.</p><p>La posición busca para desarrollar nuevas cuentas de clientes  y avanzar en el posicionamiento de la marca.</p><p>Funciones del puesto:</p><ul><li>Busqueda y Análisis de clientes  potenciales</li><li>Desarrollo programas de visitas al cliente.</li><li>Presentación de propuestas en base a las necesidades del cliente</li></ul><p>Zona de trabajo: San Justo  Zona Oeste GBA</p><p>Horario de 08 a 17 hs.</p><hr>"
      ],
      "text/plain": [
       "<IPython.core.display.HTML object>"
      ]
     },
     "metadata": {},
     "output_type": "display_data"
    },
    {
     "data": {
      "text/html": [
       "<p>Cervecería y Maltería Quilmes es una de las compañías de bebidas más importantes de la región. Produce, elabora, distribuye y comercializa cervezas, gaseosas, aguas minerales, jugos e isotónicos, en alianza con empresas internacionales líderes como PepsiCo y Nestlé.</p><p>Estamos buscando estudiantes avanzados o graduados de las carreras de Ingeniería Indsutrial, Ingeniería Mecánica, Electromecánica o afines que quieran desarrollarse profesionalmente en una empresa de primer nivel dentro del área de Supply.</p><p><strong>Nuestro sueño de unir a la gente por un mundo mejor refleja nuestro esfuerzo por cultivar un ambiente inclusivo y diverso en el que la meritocracia y la igualdad de oportunidades prevalezcan por sobre cualquier valor </strong></p><p>Modalidad de contratación: Tiempo indeterminado</p><p>Horario de trabajo: Full time  </p><p>Lugar de trabajo: Tucumán</p><p> </p><p> </p><p> </p><hr>"
      ],
      "text/plain": [
       "<IPython.core.display.HTML object>"
      ]
     },
     "metadata": {},
     "output_type": "display_data"
    },
    {
     "data": {
      "text/html": [
       "<p><strong><u>GIOMON SRL</u></strong></p><p>Se encuentra en la búsqueda  de<strong> Supervisores Operativos</strong> los cuales<strong> </strong>algunas de las tareas que tendrán que realizar son:</p><ul><li>Supervisión en general de los diferentes servicios</li><li>Atención y manejo de personal </li><li>Manejo de PC</li><li>Carga y Manejo de planillas de presentismos y ausentismos, entre otros que indique su Jefe directo.-</li></ul><p><strong>Requisitos excluyentes:</strong></p><ul><li>Sexo Masculino</li><li>Edad de 35-48 años.</li><li>Disponibilidad COMPLETA  </li><li>Recidir en zona Oeste </li><li>Muy buena presencia y dicción.</li><li>Experiencia jerárquica. Excelente manejo de personal a cargo.</li><li>Experiencia en Seguridad y capacidad de desarrollar diversas tareas administrativas.</li><li>Capacidad de desempeñarse efectivamente bajo presión.</li><li>Secundario Completo con analítico en mano. </li><li>Amplios Conocimientos en informática.-</li><li>Registro de conducir (cat. de minima B1) Vigente.</li></ul><p><strong>Importate :</strong></p><ol><li>Serán valorados los unicamente los candidatos que cumplan con todos los requisitos </li><li>Se ofrece Incorporacion inmediata, capacitación y gestoria de cursos, sueldo acorde a convenio y óptimas condiciones de contratación.</li></ol><p><strong>INTERESADOS:</strong> Postularse por este medio o Presentarse de lunes a Jueves de 9 a 16 hs con CV +fotocopia de DNI +Registro + Analítico+ CUIL +Certificado de Reincidencia (Vigencia Menor a 6 meses) en: Av. Pte Perón 8940 Ituzaingo (colectora Oeste mano a Cap.Fed. )</p><hr>"
      ],
      "text/plain": [
       "<IPython.core.display.HTML object>"
      ]
     },
     "metadata": {},
     "output_type": "display_data"
    }
   ],
   "source": [
    "#Miramos un poco las descripciones\n",
    "from IPython.core.display import HTML\n",
    "descripciones=avisos['descripcion'].sample(10).values;\n",
    "for descripcion in descripciones:\n",
    "    display(HTML(descripcion+\"<hr>\"))"
   ]
  },
  {
   "cell_type": "code",
   "execution_count": 53,
   "metadata": {},
   "outputs": [
    {
     "name": "stdout",
     "output_type": "stream",
     "text": [
      "True\n",
      "True\n",
      "False\n"
     ]
    }
   ],
   "source": [
    "import re\n",
    "def contiene_frase(texto, frase):\n",
    "    if re.search(frase, texto,re.IGNORECASE):\n",
    "        return True\n",
    "    return False\n",
    "\n",
    "print(contiene_frase(\"Experiencia utilizando Selenium  WebDriver (Deseable)\", \"exPeRiencia\"))\n",
    "print(contiene_frase(\"idiOmA inglés\", \"idioma inglés\"))\n",
    "print(contiene_frase(\"idiOmA inglés\", \"idioma ingles\"))\n",
    "contiene_frase=np.vectorize(contiene_frase)"
   ]
  },
  {
   "cell_type": "code",
   "execution_count": null,
   "metadata": {},
   "outputs": [],
   "source": [
    "avisos['pide_vendedor'] = (contiene_frase(avisos['titulo'], \"vendedor\") | contiene_frase(avisos['titulo'], \"vendedora\")\n",
    "                          | contiene_frase(avisos['titulo'], \"vendedor/a\"))\n",
    "print(sum(avisos[\"pide_vendedor\"]))"
   ]
  },
  {
   "cell_type": "code",
   "execution_count": null,
   "metadata": {},
   "outputs": [],
   "source": [
    "avisos['pide_administrativo'] = (contiene_frase(avisos['titulo'], \"administrativo\") | contiene_frase(avisos['titulo'], \"administrativa\"))\n",
    "print(sum(avisos[\"pide_administrativo\"]))"
   ]
  },
  {
   "cell_type": "code",
   "execution_count": null,
   "metadata": {},
   "outputs": [],
   "source": [
    "avisos['pide_tecnico'] = (contiene_frase(avisos['titulo'], \"Técnico\"))\n",
    "print(sum(avisos[\"pide_administrativo\"]))"
   ]
  },
  {
   "cell_type": "code",
   "execution_count": null,
   "metadata": {},
   "outputs": [],
   "source": [
    "avisos['pide_analista'] = (contiene_frase(avisos['titulo'], \"analista\"))\n",
    "print(sum(avisos[\"pide_analista\"]))"
   ]
  },
  {
   "cell_type": "code",
   "execution_count": null,
   "metadata": {},
   "outputs": [],
   "source": [
    "avisos['pide_comercial'] = (contiene_frase(avisos['titulo'], \"comercial\"))\n",
    "print(sum(avisos[\"pide_comercial\"]))"
   ]
  },
  {
   "cell_type": "code",
   "execution_count": null,
   "metadata": {},
   "outputs": [],
   "source": [
    "avisos['pide_asistente'] = (contiene_frase(avisos['titulo'], \"asistente\"))\n",
    "print(sum(avisos[\"pide_asistente\"]))"
   ]
  },
  {
   "cell_type": "code",
   "execution_count": null,
   "metadata": {},
   "outputs": [],
   "source": [
    "avisos['pide_ejecutivo'] = (contiene_frase(avisos['titulo'], \"ejecutivo\"))\n",
    "print(sum(avisos[\"pide_ejecutivo\"]))"
   ]
  },
  {
   "cell_type": "code",
   "execution_count": null,
   "metadata": {},
   "outputs": [],
   "source": [
    "avisos['pide_ingeniero'] = (contiene_frase(avisos['titulo'], \"ingeniero\"| contiene_frase(\"ingeniería\")|contiene_frase(\"ingenieria\")))\n",
    "print(sum(avisos[\"pide_ingeniero\"]))"
   ]
  },
  {
   "cell_type": "code",
   "execution_count": null,
   "metadata": {},
   "outputs": [],
   "source": []
  },
  {
   "cell_type": "code",
   "execution_count": 54,
   "metadata": {},
   "outputs": [
    {
     "name": "stdout",
     "output_type": "stream",
     "text": [
      "1354\n"
     ]
    }
   ],
   "source": [
    "avisos['pide_hombre']=(contiene_frase(avisos['descripcion'],\"hombres\") & ~contiene_frase(avisos['descripcion'],\"mujeres\")) | contiene_frase(avisos['descripcion'],\"sexo masculino\") | contiene_frase(avisos['descripcion'],\"sexo: masculino\")\n",
    "print(sum(avisos['pide_hombre']))\n",
    "avisos['pide_mujer']=(contiene_frase(avisos['descripcion'],\"mujeres\") & ~contiene_frase(avisos['descripcion'],\"hombres\")) | contiene_frase(avisos['descripcion'],\"sexo femenino\") | contiene_frase(avisos['descripcion'],\"sexo: femenino\")"
   ]
  },
  {
   "cell_type": "code",
   "execution_count": 55,
   "metadata": {},
   "outputs": [
    {
     "name": "stdout",
     "output_type": "stream",
     "text": [
      "6274\n"
     ]
    }
   ],
   "source": [
    "avisos[\"perfil_especifico\"] = (contiene_frase(avisos[\"descripcion\"],\"perfil\"))\n",
    "print(sum(avisos[\"perfil_especifico\"]))"
   ]
  },
  {
   "cell_type": "code",
   "execution_count": 56,
   "metadata": {},
   "outputs": [
    {
     "name": "stdout",
     "output_type": "stream",
     "text": [
      "716\n"
     ]
    }
   ],
   "source": [
    "avisos[\"pide_ejecutivo\"] = (contiene_frase(avisos[\"descripcion\"],\"ejecutivo\"))\n",
    "print(sum(avisos[\"pide_ejecutivo\"]))"
   ]
  },
  {
   "cell_type": "code",
   "execution_count": 57,
   "metadata": {},
   "outputs": [
    {
     "name": "stdout",
     "output_type": "stream",
     "text": [
      "1532\n"
     ]
    }
   ],
   "source": [
    "avisos[\"contratacion_inmediata\"] = (contiene_frase(avisos[\"descripcion\"],\"contratacion inmediata\")| contiene_frase(avisos[\"descripcion\"],\"contratación inmediata\")| contiene_frase(avisos[\"descripcion\"],\"contratación efectiva\") |contiene_frase(avisos[\"descripcion\"],\"incorporacion inmediata\")|contiene_frase(avisos[\"descripcion\"],\"incorporación inmediata\"))\n",
    "print(sum(avisos[\"contratacion_inmediata\"]))"
   ]
  },
  {
   "cell_type": "code",
   "execution_count": 61,
   "metadata": {},
   "outputs": [
    {
     "name": "stdout",
     "output_type": "stream",
     "text": [
      "2795\n"
     ]
    }
   ],
   "source": [
    "avisos[\"trabajo_en_equipo\"] = (contiene_frase(avisos[\"descripcion\"],\"trabajo en equipo\") | contiene_frase(avisos[\"descripcion\"],\"trabajo en grupo\"))\n",
    "print(sum(avisos[\"trabajo_en_equipo\"]))"
   ]
  },
  {
   "cell_type": "code",
   "execution_count": 62,
   "metadata": {},
   "outputs": [
    {
     "name": "stdout",
     "output_type": "stream",
     "text": [
      "1991\n"
     ]
    }
   ],
   "source": [
    "avisos[\"proactivo\"] = (contiene_frase(avisos[\"descripcion\"],\"proactivo\")| contiene_frase(avisos[\"descripcion\"],\"energico\")|contiene_frase(avisos[\"descripcion\"],\"enérgico\"))\n",
    "print(sum(avisos[\"proactivo\"]))"
   ]
  },
  {
   "cell_type": "code",
   "execution_count": 63,
   "metadata": {},
   "outputs": [
    {
     "name": "stdout",
     "output_type": "stream",
     "text": [
      "1907\n"
     ]
    }
   ],
   "source": [
    "avisos[\"rol_soporte\"] = (contiene_frase(avisos[\"descripcion\"],\"soporte\"))\n",
    "print(sum(avisos[\"rol_soporte\"]))"
   ]
  },
  {
   "cell_type": "code",
   "execution_count": 64,
   "metadata": {},
   "outputs": [
    {
     "name": "stdout",
     "output_type": "stream",
     "text": [
      "1704\n"
     ]
    }
   ],
   "source": [
    "avisos[\"supervisor\"] = (contiene_frase(avisos[\"descripcion\"],\"supervisor\")|contiene_frase(avisos[\"descripcion\"],\"jefe\"))\n",
    "print(sum(avisos[\"supervisor\"]))"
   ]
  },
  {
   "cell_type": "code",
   "execution_count": 65,
   "metadata": {},
   "outputs": [
    {
     "name": "stdout",
     "output_type": "stream",
     "text": [
      "8223\n"
     ]
    }
   ],
   "source": [
    "avisos[\"requisitos_excluyentes\"] = (contiene_frase(avisos[\"descripcion\"],\"excluyente\") & ~(contiene_frase(avisos[\"descripcion\"],\"no excluyente\")))\n",
    "print(sum(avisos[\"requisitos_excluyentes\"]))"
   ]
  },
  {
   "cell_type": "code",
   "execution_count": 66,
   "metadata": {},
   "outputs": [
    {
     "name": "stdout",
     "output_type": "stream",
     "text": [
      "5553\n"
     ]
    }
   ],
   "source": [
    "avisos[\"nacional\"] = (contiene_frase(avisos[\"descripcion\"],\"nacional\"))\n",
    "print(sum(avisos[\"nacional\"]))"
   ]
  },
  {
   "cell_type": "code",
   "execution_count": 67,
   "metadata": {},
   "outputs": [
    {
     "name": "stdout",
     "output_type": "stream",
     "text": [
      "9507\n"
     ]
    },
    {
     "data": {
      "text/plain": [
       "1330.6871549361028"
      ]
     },
     "execution_count": 67,
     "metadata": {},
     "output_type": "execute_result"
    }
   ],
   "source": [
    "avisos[\"largo_descripcion\"] = (avisos[\"descripcion\"].str.len())\n",
    "avisos[\"supera_largo_medio\"] = (avisos[\"largo_descripcion\"] >= avisos[\"largo_descripcion\"].mean())\n",
    "\n",
    "print(sum(avisos[\"supera_largo_medio\"]))\n",
    "avisos[\"largo_descripcion\"].mean()"
   ]
  },
  {
   "cell_type": "code",
   "execution_count": 68,
   "metadata": {},
   "outputs": [
    {
     "name": "stdout",
     "output_type": "stream",
     "text": [
      "4597\n"
     ]
    }
   ],
   "source": [
    "avisos['ingles']=(contiene_frase(avisos['descripcion'],\"inglés\") | contiene_frase(avisos['descripcion'],\"ingles\"))\n",
    "print(avisos['ingles'].sum())"
   ]
  },
  {
   "cell_type": "code",
   "execution_count": 69,
   "metadata": {},
   "outputs": [
    {
     "name": "stdout",
     "output_type": "stream",
     "text": [
      "13580\n"
     ]
    }
   ],
   "source": [
    "avisos['experiencia']=(contiene_frase(avisos['descripcion'],\"experiencia minima\") | contiene_frase(avisos['descripcion'],\"experiencia mínima\") | contiene_frase(avisos['descripcion'],\"experiencia en\") | contiene_frase(avisos['descripcion'],\"años de experiencia\"))\n",
    "print(avisos['experiencia'].sum())"
   ]
  },
  {
   "cell_type": "code",
   "execution_count": 70,
   "metadata": {},
   "outputs": [
    {
     "name": "stdout",
     "output_type": "stream",
     "text": [
      "4037\n"
     ]
    }
   ],
   "source": [
    "avisos['paquete_office']=(contiene_frase(avisos['descripcion'],\"Paquete Office\") | contiene_frase(avisos['descripcion'], \"Office\") | contiene_frase(avisos['descripcion'], \"office\"))\n",
    "print(avisos['paquete_office'].sum())"
   ]
  },
  {
   "cell_type": "code",
   "execution_count": 71,
   "metadata": {},
   "outputs": [
    {
     "name": "stdout",
     "output_type": "stream",
     "text": [
      "10065\n"
     ]
    }
   ],
   "source": [
    "avisos['pide_excel']= (contiene_frase(avisos['descripcion'], \"excel\"))\n",
    "print(avisos['pide_excel'].sum())"
   ]
  },
  {
   "cell_type": "code",
   "execution_count": 72,
   "metadata": {},
   "outputs": [
    {
     "name": "stdout",
     "output_type": "stream",
     "text": [
      "1292\n"
     ]
    }
   ],
   "source": [
    "avisos['liderazgo']=(contiene_frase(avisos['descripcion'],\"liderazgo\"))\n",
    "print(avisos['liderazgo'].sum())"
   ]
  },
  {
   "cell_type": "code",
   "execution_count": 73,
   "metadata": {},
   "outputs": [
    {
     "name": "stdout",
     "output_type": "stream",
     "text": [
      "4982\n"
     ]
    }
   ],
   "source": [
    "avisos['secundario']=(contiene_frase(avisos['descripcion'],\"secundario\") | contiene_frase(avisos['descripcion'],\"Secundario\"))\n",
    "print(avisos['secundario'].sum())"
   ]
  },
  {
   "cell_type": "code",
   "execution_count": 74,
   "metadata": {},
   "outputs": [
    {
     "name": "stdout",
     "output_type": "stream",
     "text": [
      "4499\n"
     ]
    }
   ],
   "source": [
    "avisos['tecnico']=(contiene_frase(avisos['descripcion'],\"tecnico\")|contiene_frase(avisos['descripcion'],\"técnico\") | contiene_frase(avisos['descripcion'],\"terciario\")| contiene_frase(avisos['descripcion'],\"Tecnico\")|contiene_frase(avisos['descripcion'],\"Técnico\"))\n",
    "print(avisos['tecnico'].sum())"
   ]
  },
  {
   "cell_type": "code",
   "execution_count": 75,
   "metadata": {},
   "outputs": [
    {
     "name": "stdout",
     "output_type": "stream",
     "text": [
      "1064\n"
     ]
    }
   ],
   "source": [
    "avisos['viajar']=(contiene_frase(avisos['descripcion'],\"viajar\"))\n",
    "print(avisos['viajar'].sum())"
   ]
  },
  {
   "cell_type": "code",
   "execution_count": 76,
   "metadata": {},
   "outputs": [
    {
     "name": "stdout",
     "output_type": "stream",
     "text": [
      "6726\n"
     ]
    }
   ],
   "source": [
    "avisos['empresa_importante']=(contiene_frase(avisos['descripcion'],\"empresa líder\") | contiene_frase(avisos['descripcion'],\"empresa lider\") | contiene_frase(avisos['descripcion'],\"importante empresa\") | contiene_frase(avisos['descripcion'],\"importante compañia\")| contiene_frase(avisos['descripcion'],\"importante compania\"))\n",
    "print(avisos['empresa_importante'].sum())"
   ]
  },
  {
   "cell_type": "code",
   "execution_count": 77,
   "metadata": {},
   "outputs": [
    {
     "name": "stdout",
     "output_type": "stream",
     "text": [
      "3898\n"
     ]
    }
   ],
   "source": [
    "avisos['capacitacion']=(contiene_frase(avisos['descripcion'],\"capacitacion\") | contiene_frase(avisos['descripcion'],\"capacitación\")|contiene_frase(avisos['descripcion'],\"capacitar\")|contiene_frase(avisos['descripcion'],\"capacitados\")|contiene_frase(avisos['descripcion'],\"capacitado\") )\n",
    "print(avisos['capacitacion'].sum())"
   ]
  },
  {
   "cell_type": "code",
   "execution_count": 78,
   "metadata": {},
   "outputs": [
    {
     "name": "stdout",
     "output_type": "stream",
     "text": [
      "1682\n"
     ]
    }
   ],
   "source": [
    "avisos['remuneracion_pretendida']=(contiene_frase(avisos['descripcion'],\"remuneración pretendida\") | contiene_frase(avisos['descripcion'],\"remuneracion pretendida\"))\n",
    "print(avisos['remuneracion_pretendida'].sum())"
   ]
  },
  {
   "cell_type": "code",
   "execution_count": 79,
   "metadata": {},
   "outputs": [
    {
     "name": "stdout",
     "output_type": "stream",
     "text": [
      "3968\n"
     ]
    }
   ],
   "source": [
    "avisos['graduados']=(contiene_frase(avisos['descripcion'],\"graduados\")|contiene_frase(avisos['descripcion'],\"graduado\"))\n",
    "print(avisos['graduados'].sum())"
   ]
  },
  {
   "cell_type": "code",
   "execution_count": 80,
   "metadata": {},
   "outputs": [
    {
     "name": "stdout",
     "output_type": "stream",
     "text": [
      "5020\n"
     ]
    }
   ],
   "source": [
    "avisos['estudiantes']=(contiene_frase(avisos['descripcion'],\"estudiantes\")| contiene_frase(avisos['descripcion'],\"estudiante\"))\n",
    "print(avisos['estudiantes'].sum())"
   ]
  },
  {
   "cell_type": "code",
   "execution_count": 81,
   "metadata": {},
   "outputs": [
    {
     "name": "stdout",
     "output_type": "stream",
     "text": [
      "3263\n"
     ]
    }
   ],
   "source": [
    "avisos['conocimientos_especificos']=(contiene_frase(avisos['descripcion'],\"conocimientos especificos\") | contiene_frase(avisos['descripcion'],\"conocimientos específicos\")|contiene_frase(avisos['descripcion'],\"conocimientos en\"))\n",
    "print(avisos['conocimientos_especificos'].sum())"
   ]
  },
  {
   "cell_type": "code",
   "execution_count": 82,
   "metadata": {},
   "outputs": [
    {
     "name": "stdout",
     "output_type": "stream",
     "text": [
      "3717\n"
     ]
    }
   ],
   "source": [
    "avisos['buen_ambiente']=(contiene_frase(avisos['descripcion'],\"buenas condiciones\") | contiene_frase(avisos['descripcion'],\"buen ambiente\") | contiene_frase(avisos['descripcion'],\"clima laboral\"))\n",
    "print(avisos['buen_ambiente'].sum())"
   ]
  },
  {
   "cell_type": "code",
   "execution_count": 83,
   "metadata": {},
   "outputs": [
    {
     "name": "stdout",
     "output_type": "stream",
     "text": [
      "2780\n"
     ]
    }
   ],
   "source": [
    "avisos['indica_sueldo']=(contiene_frase(avisos['descripcion'],\"sueldo\") | contiene_frase(avisos['descripcion'],\"Sueldo\") )\n",
    "print(avisos['indica_sueldo'].sum())"
   ]
  },
  {
   "cell_type": "code",
   "execution_count": 84,
   "metadata": {},
   "outputs": [
    {
     "name": "stdout",
     "output_type": "stream",
     "text": [
      "1148\n"
     ]
    }
   ],
   "source": [
    "avisos['part_time']=(contiene_frase(avisos['descripcion'],\"part time\") | contiene_frase(avisos['descripcion'],\"Part time\") | contiene_frase(avisos['descripcion'],\"part-time\")| contiene_frase(avisos['descripcion'],\"jornada parcial\")| contiene_frase(avisos['descripcion'],\"medio tiempo\"))\n",
    "print(avisos['part_time'].sum())"
   ]
  },
  {
   "cell_type": "code",
   "execution_count": 85,
   "metadata": {},
   "outputs": [
    {
     "name": "stdout",
     "output_type": "stream",
     "text": [
      "4412\n"
     ]
    }
   ],
   "source": [
    "avisos['full_time']=(contiene_frase(avisos['descripcion'],\"full time\") | contiene_frase(avisos['descripcion'],\"Full time\") | contiene_frase(avisos['descripcion'],\"full-time\")| contiene_frase(avisos['descripcion'],\"jornada completa\"))\n",
    "\n",
    "print(avisos['full_time'].sum())"
   ]
  },
  {
   "cell_type": "code",
   "execution_count": 86,
   "metadata": {},
   "outputs": [
    {
     "name": "stdout",
     "output_type": "stream",
     "text": [
      "3410\n"
     ]
    }
   ],
   "source": [
    "avisos['ofrece_crecimiento']=(contiene_frase(avisos['descripcion'],\"crecimiento\") | contiene_frase(avisos['descripcion'],\"oportunidad de crecimiento\") | contiene_frase(avisos['descripcion'],\"carrera laboral\"))\n",
    "\n",
    "print(avisos['ofrece_crecimiento'].sum())"
   ]
  },
  {
   "cell_type": "code",
   "execution_count": 87,
   "metadata": {},
   "outputs": [
    {
     "name": "stdout",
     "output_type": "stream",
     "text": [
      "2964\n"
     ]
    }
   ],
   "source": [
    "avisos['ofrece_beneficios']=(contiene_frase(avisos['descripcion'],\"beneficios\") )\n",
    "\n",
    "print(avisos['ofrece_beneficios'].sum())"
   ]
  },
  {
   "cell_type": "code",
   "execution_count": 88,
   "metadata": {},
   "outputs": [
    {
     "name": "stdout",
     "output_type": "stream",
     "text": [
      "1521\n"
     ]
    }
   ],
   "source": [
    "avisos['obra_social']=(contiene_frase(avisos[\"descripcion\"],\"obra social\") | (contiene_frase(avisos[\"descripcion\"],\"osde\") | contiene_frase(avisos[\"descripcion\"],\"galeno\"))|(contiene_frase(avisos[\"descripcion\"],\"swiss medical\"))| (contiene_frase(avisos[\"descripcion\"],\"cobertura medica\"))| (contiene_frase(avisos[\"descripcion\"],\"cobertura médica\")))\n",
    "print(avisos[\"obra_social\"].sum())"
   ]
  },
  {
   "cell_type": "code",
   "execution_count": 89,
   "metadata": {},
   "outputs": [
    {
     "name": "stdout",
     "output_type": "stream",
     "text": [
      "3659\n"
     ]
    }
   ],
   "source": [
    "avisos[\"multinacional\"] = (contiene_frase(avisos['descripcion'],\"multinacional\") | contiene_frase(avisos['descripcion'],\"multi nacional\") | contiene_frase(avisos['descripcion'],\"internacional\") | contiene_frase(avisos['descripcion'],\"global\"))\n",
    "print(avisos[\"multinacional\"].sum())"
   ]
  },
  {
   "cell_type": "code",
   "execution_count": 90,
   "metadata": {},
   "outputs": [
    {
     "data": {
      "text/html": [
       "<div>\n",
       "<style scoped>\n",
       "    .dataframe tbody tr th:only-of-type {\n",
       "        vertical-align: middle;\n",
       "    }\n",
       "\n",
       "    .dataframe tbody tr th {\n",
       "        vertical-align: top;\n",
       "    }\n",
       "\n",
       "    .dataframe thead th {\n",
       "        text-align: right;\n",
       "    }\n",
       "</style>\n",
       "<table border=\"1\" class=\"dataframe\">\n",
       "  <thead>\n",
       "    <tr style=\"text-align: right;\">\n",
       "      <th></th>\n",
       "      <th>idaviso</th>\n",
       "      <th>idpais</th>\n",
       "      <th>titulo</th>\n",
       "      <th>descripcion</th>\n",
       "      <th>nombre_zona</th>\n",
       "      <th>ciudad</th>\n",
       "      <th>mapacalle</th>\n",
       "      <th>tipo_de_trabajo</th>\n",
       "      <th>nivel_laboral</th>\n",
       "      <th>nombre_area</th>\n",
       "      <th>...</th>\n",
       "      <th>estudiantes</th>\n",
       "      <th>conocimientos_especificos</th>\n",
       "      <th>buen_ambiente</th>\n",
       "      <th>indica_sueldo</th>\n",
       "      <th>part_time</th>\n",
       "      <th>full_time</th>\n",
       "      <th>ofrece_crecimiento</th>\n",
       "      <th>ofrece_beneficios</th>\n",
       "      <th>obra_social</th>\n",
       "      <th>multinacional</th>\n",
       "    </tr>\n",
       "  </thead>\n",
       "  <tbody>\n",
       "    <tr>\n",
       "      <th>0</th>\n",
       "      <td>8725750</td>\n",
       "      <td>1</td>\n",
       "      <td>VENDEDOR/A PROVINCIA DE SANTA FE</td>\n",
       "      <td>&lt;p&gt;&lt;strong&gt;&lt;strong&gt;Empresa:&lt;/strong&gt;&lt;/strong&gt; ...</td>\n",
       "      <td>Gran Buenos Aires</td>\n",
       "      <td>NaN</td>\n",
       "      <td>NaN</td>\n",
       "      <td>Full-time</td>\n",
       "      <td>Senior / Semi-Senior</td>\n",
       "      <td>Comercial</td>\n",
       "      <td>...</td>\n",
       "      <td>False</td>\n",
       "      <td>False</td>\n",
       "      <td>False</td>\n",
       "      <td>False</td>\n",
       "      <td>False</td>\n",
       "      <td>True</td>\n",
       "      <td>False</td>\n",
       "      <td>False</td>\n",
       "      <td>False</td>\n",
       "      <td>False</td>\n",
       "    </tr>\n",
       "    <tr>\n",
       "      <th>1</th>\n",
       "      <td>17903700</td>\n",
       "      <td>1</td>\n",
       "      <td>Enfermeras</td>\n",
       "      <td>&lt;p&gt;Solicitamos para importante cadena de farma...</td>\n",
       "      <td>Gran Buenos Aires</td>\n",
       "      <td>NaN</td>\n",
       "      <td>NaN</td>\n",
       "      <td>Full-time</td>\n",
       "      <td>Senior / Semi-Senior</td>\n",
       "      <td>Salud</td>\n",
       "      <td>...</td>\n",
       "      <td>False</td>\n",
       "      <td>False</td>\n",
       "      <td>False</td>\n",
       "      <td>False</td>\n",
       "      <td>False</td>\n",
       "      <td>False</td>\n",
       "      <td>False</td>\n",
       "      <td>False</td>\n",
       "      <td>False</td>\n",
       "      <td>False</td>\n",
       "    </tr>\n",
       "    <tr>\n",
       "      <th>2</th>\n",
       "      <td>1000150677</td>\n",
       "      <td>1</td>\n",
       "      <td>Chofer de taxi</td>\n",
       "      <td>&lt;p&gt;TE GUSTA MANEJAR? QUERES GANAR PLATA HACIEN...</td>\n",
       "      <td>Capital Federal</td>\n",
       "      <td>NaN</td>\n",
       "      <td>Empedrado 2336</td>\n",
       "      <td>Full-time</td>\n",
       "      <td>Senior / Semi-Senior</td>\n",
       "      <td>Transporte</td>\n",
       "      <td>...</td>\n",
       "      <td>False</td>\n",
       "      <td>False</td>\n",
       "      <td>False</td>\n",
       "      <td>False</td>\n",
       "      <td>False</td>\n",
       "      <td>False</td>\n",
       "      <td>False</td>\n",
       "      <td>True</td>\n",
       "      <td>True</td>\n",
       "      <td>False</td>\n",
       "    </tr>\n",
       "    <tr>\n",
       "      <th>3</th>\n",
       "      <td>1000610287</td>\n",
       "      <td>1</td>\n",
       "      <td>CHOFER DE CAMIONETA BAHIA BLANCA - PUNTA ALTA</td>\n",
       "      <td>&lt;p&gt;&lt;strong&gt;Somos una empresa multinacional que...</td>\n",
       "      <td>Gran Buenos Aires</td>\n",
       "      <td>NaN</td>\n",
       "      <td>NaN</td>\n",
       "      <td>Full-time</td>\n",
       "      <td>Senior / Semi-Senior</td>\n",
       "      <td>Transporte</td>\n",
       "      <td>...</td>\n",
       "      <td>False</td>\n",
       "      <td>False</td>\n",
       "      <td>False</td>\n",
       "      <td>False</td>\n",
       "      <td>False</td>\n",
       "      <td>False</td>\n",
       "      <td>True</td>\n",
       "      <td>False</td>\n",
       "      <td>False</td>\n",
       "      <td>True</td>\n",
       "    </tr>\n",
       "    <tr>\n",
       "      <th>4</th>\n",
       "      <td>1000872556</td>\n",
       "      <td>1</td>\n",
       "      <td>Operarios de Planta - Rubro Electrodomésticos</td>\n",
       "      <td>&lt;p&gt;&lt;strong&gt;OPERARIOS DE PLANTA&lt;/strong&gt;&lt;/p&gt;&lt;p&gt;...</td>\n",
       "      <td>Gran Buenos Aires</td>\n",
       "      <td>NaN</td>\n",
       "      <td>NaN</td>\n",
       "      <td>Full-time</td>\n",
       "      <td>Senior / Semi-Senior</td>\n",
       "      <td>Producción</td>\n",
       "      <td>...</td>\n",
       "      <td>False</td>\n",
       "      <td>False</td>\n",
       "      <td>False</td>\n",
       "      <td>False</td>\n",
       "      <td>False</td>\n",
       "      <td>False</td>\n",
       "      <td>False</td>\n",
       "      <td>False</td>\n",
       "      <td>False</td>\n",
       "      <td>False</td>\n",
       "    </tr>\n",
       "  </tbody>\n",
       "</table>\n",
       "<p>5 rows × 46 columns</p>\n",
       "</div>"
      ],
      "text/plain": [
       "      idaviso  idpais                                         titulo  \\\n",
       "0     8725750       1               VENDEDOR/A PROVINCIA DE SANTA FE   \n",
       "1    17903700       1                                     Enfermeras   \n",
       "2  1000150677       1                                 Chofer de taxi   \n",
       "3  1000610287       1  CHOFER DE CAMIONETA BAHIA BLANCA - PUNTA ALTA   \n",
       "4  1000872556       1  Operarios de Planta - Rubro Electrodomésticos   \n",
       "\n",
       "                                         descripcion        nombre_zona  \\\n",
       "0  <p><strong><strong>Empresa:</strong></strong> ...  Gran Buenos Aires   \n",
       "1  <p>Solicitamos para importante cadena de farma...  Gran Buenos Aires   \n",
       "2  <p>TE GUSTA MANEJAR? QUERES GANAR PLATA HACIEN...    Capital Federal   \n",
       "3  <p><strong>Somos una empresa multinacional que...  Gran Buenos Aires   \n",
       "4  <p><strong>OPERARIOS DE PLANTA</strong></p><p>...  Gran Buenos Aires   \n",
       "\n",
       "  ciudad       mapacalle tipo_de_trabajo         nivel_laboral nombre_area  \\\n",
       "0    NaN             NaN       Full-time  Senior / Semi-Senior   Comercial   \n",
       "1    NaN             NaN       Full-time  Senior / Semi-Senior       Salud   \n",
       "2    NaN  Empedrado 2336       Full-time  Senior / Semi-Senior  Transporte   \n",
       "3    NaN             NaN       Full-time  Senior / Semi-Senior  Transporte   \n",
       "4    NaN             NaN       Full-time  Senior / Semi-Senior  Producción   \n",
       "\n",
       "       ...       estudiantes  conocimientos_especificos  buen_ambiente  \\\n",
       "0      ...             False                      False          False   \n",
       "1      ...             False                      False          False   \n",
       "2      ...             False                      False          False   \n",
       "3      ...             False                      False          False   \n",
       "4      ...             False                      False          False   \n",
       "\n",
       "   indica_sueldo  part_time  full_time  ofrece_crecimiento  ofrece_beneficios  \\\n",
       "0          False      False       True               False              False   \n",
       "1          False      False      False               False              False   \n",
       "2          False      False      False               False               True   \n",
       "3          False      False      False                True              False   \n",
       "4          False      False      False               False              False   \n",
       "\n",
       "   obra_social  multinacional  \n",
       "0        False          False  \n",
       "1        False          False  \n",
       "2         True          False  \n",
       "3        False           True  \n",
       "4        False          False  \n",
       "\n",
       "[5 rows x 46 columns]"
      ]
     },
     "execution_count": 90,
     "metadata": {},
     "output_type": "execute_result"
    }
   ],
   "source": [
    "avisos.head()"
   ]
  },
  {
   "cell_type": "code",
   "execution_count": 91,
   "metadata": {},
   "outputs": [
    {
     "data": {
      "text/html": [
       "<div>\n",
       "<style scoped>\n",
       "    .dataframe tbody tr th:only-of-type {\n",
       "        vertical-align: middle;\n",
       "    }\n",
       "\n",
       "    .dataframe tbody tr th {\n",
       "        vertical-align: top;\n",
       "    }\n",
       "\n",
       "    .dataframe thead th {\n",
       "        text-align: right;\n",
       "    }\n",
       "</style>\n",
       "<table border=\"1\" class=\"dataframe\">\n",
       "  <thead>\n",
       "    <tr style=\"text-align: right;\">\n",
       "      <th></th>\n",
       "      <th>idaviso</th>\n",
       "      <th>idpais</th>\n",
       "      <th>titulo</th>\n",
       "      <th>nombre_zona</th>\n",
       "      <th>ciudad</th>\n",
       "      <th>mapacalle</th>\n",
       "      <th>tipo_de_trabajo</th>\n",
       "      <th>nivel_laboral</th>\n",
       "      <th>nombre_area</th>\n",
       "      <th>denominacion_empresa</th>\n",
       "      <th>...</th>\n",
       "      <th>estudiantes</th>\n",
       "      <th>conocimientos_especificos</th>\n",
       "      <th>buen_ambiente</th>\n",
       "      <th>indica_sueldo</th>\n",
       "      <th>part_time</th>\n",
       "      <th>full_time</th>\n",
       "      <th>ofrece_crecimiento</th>\n",
       "      <th>ofrece_beneficios</th>\n",
       "      <th>obra_social</th>\n",
       "      <th>multinacional</th>\n",
       "    </tr>\n",
       "  </thead>\n",
       "  <tbody>\n",
       "    <tr>\n",
       "      <th>0</th>\n",
       "      <td>8725750</td>\n",
       "      <td>1</td>\n",
       "      <td>VENDEDOR/A PROVINCIA DE SANTA FE</td>\n",
       "      <td>Gran Buenos Aires</td>\n",
       "      <td>NaN</td>\n",
       "      <td>NaN</td>\n",
       "      <td>Full-time</td>\n",
       "      <td>Senior / Semi-Senior</td>\n",
       "      <td>Comercial</td>\n",
       "      <td>VENTOR</td>\n",
       "      <td>...</td>\n",
       "      <td>False</td>\n",
       "      <td>False</td>\n",
       "      <td>False</td>\n",
       "      <td>False</td>\n",
       "      <td>False</td>\n",
       "      <td>True</td>\n",
       "      <td>False</td>\n",
       "      <td>False</td>\n",
       "      <td>False</td>\n",
       "      <td>False</td>\n",
       "    </tr>\n",
       "    <tr>\n",
       "      <th>1</th>\n",
       "      <td>17903700</td>\n",
       "      <td>1</td>\n",
       "      <td>Enfermeras</td>\n",
       "      <td>Gran Buenos Aires</td>\n",
       "      <td>NaN</td>\n",
       "      <td>NaN</td>\n",
       "      <td>Full-time</td>\n",
       "      <td>Senior / Semi-Senior</td>\n",
       "      <td>Salud</td>\n",
       "      <td>Farmacias Central Oeste</td>\n",
       "      <td>...</td>\n",
       "      <td>False</td>\n",
       "      <td>False</td>\n",
       "      <td>False</td>\n",
       "      <td>False</td>\n",
       "      <td>False</td>\n",
       "      <td>False</td>\n",
       "      <td>False</td>\n",
       "      <td>False</td>\n",
       "      <td>False</td>\n",
       "      <td>False</td>\n",
       "    </tr>\n",
       "    <tr>\n",
       "      <th>2</th>\n",
       "      <td>1000150677</td>\n",
       "      <td>1</td>\n",
       "      <td>Chofer de taxi</td>\n",
       "      <td>Capital Federal</td>\n",
       "      <td>NaN</td>\n",
       "      <td>Empedrado 2336</td>\n",
       "      <td>Full-time</td>\n",
       "      <td>Senior / Semi-Senior</td>\n",
       "      <td>Transporte</td>\n",
       "      <td>FAMITAX SRL</td>\n",
       "      <td>...</td>\n",
       "      <td>False</td>\n",
       "      <td>False</td>\n",
       "      <td>False</td>\n",
       "      <td>False</td>\n",
       "      <td>False</td>\n",
       "      <td>False</td>\n",
       "      <td>False</td>\n",
       "      <td>True</td>\n",
       "      <td>True</td>\n",
       "      <td>False</td>\n",
       "    </tr>\n",
       "    <tr>\n",
       "      <th>3</th>\n",
       "      <td>1000610287</td>\n",
       "      <td>1</td>\n",
       "      <td>CHOFER DE CAMIONETA BAHIA BLANCA - PUNTA ALTA</td>\n",
       "      <td>Gran Buenos Aires</td>\n",
       "      <td>NaN</td>\n",
       "      <td>NaN</td>\n",
       "      <td>Full-time</td>\n",
       "      <td>Senior / Semi-Senior</td>\n",
       "      <td>Transporte</td>\n",
       "      <td>Wurth Argentina S.A</td>\n",
       "      <td>...</td>\n",
       "      <td>False</td>\n",
       "      <td>False</td>\n",
       "      <td>False</td>\n",
       "      <td>False</td>\n",
       "      <td>False</td>\n",
       "      <td>False</td>\n",
       "      <td>True</td>\n",
       "      <td>False</td>\n",
       "      <td>False</td>\n",
       "      <td>True</td>\n",
       "    </tr>\n",
       "    <tr>\n",
       "      <th>4</th>\n",
       "      <td>1000872556</td>\n",
       "      <td>1</td>\n",
       "      <td>Operarios de Planta - Rubro Electrodomésticos</td>\n",
       "      <td>Gran Buenos Aires</td>\n",
       "      <td>NaN</td>\n",
       "      <td>NaN</td>\n",
       "      <td>Full-time</td>\n",
       "      <td>Senior / Semi-Senior</td>\n",
       "      <td>Producción</td>\n",
       "      <td>ELECTRO OUTLET SRL</td>\n",
       "      <td>...</td>\n",
       "      <td>False</td>\n",
       "      <td>False</td>\n",
       "      <td>False</td>\n",
       "      <td>False</td>\n",
       "      <td>False</td>\n",
       "      <td>False</td>\n",
       "      <td>False</td>\n",
       "      <td>False</td>\n",
       "      <td>False</td>\n",
       "      <td>False</td>\n",
       "    </tr>\n",
       "  </tbody>\n",
       "</table>\n",
       "<p>5 rows × 45 columns</p>\n",
       "</div>"
      ],
      "text/plain": [
       "      idaviso  idpais                                         titulo  \\\n",
       "0     8725750       1               VENDEDOR/A PROVINCIA DE SANTA FE   \n",
       "1    17903700       1                                     Enfermeras   \n",
       "2  1000150677       1                                 Chofer de taxi   \n",
       "3  1000610287       1  CHOFER DE CAMIONETA BAHIA BLANCA - PUNTA ALTA   \n",
       "4  1000872556       1  Operarios de Planta - Rubro Electrodomésticos   \n",
       "\n",
       "         nombre_zona ciudad       mapacalle tipo_de_trabajo  \\\n",
       "0  Gran Buenos Aires    NaN             NaN       Full-time   \n",
       "1  Gran Buenos Aires    NaN             NaN       Full-time   \n",
       "2    Capital Federal    NaN  Empedrado 2336       Full-time   \n",
       "3  Gran Buenos Aires    NaN             NaN       Full-time   \n",
       "4  Gran Buenos Aires    NaN             NaN       Full-time   \n",
       "\n",
       "          nivel_laboral nombre_area     denominacion_empresa      ...        \\\n",
       "0  Senior / Semi-Senior   Comercial                   VENTOR      ...         \n",
       "1  Senior / Semi-Senior       Salud  Farmacias Central Oeste      ...         \n",
       "2  Senior / Semi-Senior  Transporte              FAMITAX SRL      ...         \n",
       "3  Senior / Semi-Senior  Transporte      Wurth Argentina S.A      ...         \n",
       "4  Senior / Semi-Senior  Producción       ELECTRO OUTLET SRL      ...         \n",
       "\n",
       "   estudiantes  conocimientos_especificos  buen_ambiente  indica_sueldo  \\\n",
       "0        False                      False          False          False   \n",
       "1        False                      False          False          False   \n",
       "2        False                      False          False          False   \n",
       "3        False                      False          False          False   \n",
       "4        False                      False          False          False   \n",
       "\n",
       "   part_time  full_time  ofrece_crecimiento  ofrece_beneficios  obra_social  \\\n",
       "0      False       True               False              False        False   \n",
       "1      False      False               False              False        False   \n",
       "2      False      False               False               True         True   \n",
       "3      False      False                True              False        False   \n",
       "4      False      False               False              False        False   \n",
       "\n",
       "   multinacional  \n",
       "0          False  \n",
       "1          False  \n",
       "2          False  \n",
       "3           True  \n",
       "4          False  \n",
       "\n",
       "[5 rows x 45 columns]"
      ]
     },
     "execution_count": 91,
     "metadata": {},
     "output_type": "execute_result"
    }
   ],
   "source": [
    "avisos.drop(['descripcion'], axis=1, inplace=True);\n",
    "avisos.head()"
   ]
  },
  {
   "cell_type": "code",
   "execution_count": 92,
   "metadata": {},
   "outputs": [],
   "source": [
    "avisos.drop_duplicates(['idaviso'],keep='last',inplace=True)\n",
    "avisos=avisos.fillna(\"-\")\n",
    "avisos.to_csv(\"Data/fiuba_entrenamiento/pocho/avisos.csv\", index=False)"
   ]
  },
  {
   "cell_type": "code",
   "execution_count": 93,
   "metadata": {},
   "outputs": [
    {
     "data": {
      "text/html": [
       "<div>\n",
       "<style scoped>\n",
       "    .dataframe tbody tr th:only-of-type {\n",
       "        vertical-align: middle;\n",
       "    }\n",
       "\n",
       "    .dataframe tbody tr th {\n",
       "        vertical-align: top;\n",
       "    }\n",
       "\n",
       "    .dataframe thead th {\n",
       "        text-align: right;\n",
       "    }\n",
       "</style>\n",
       "<table border=\"1\" class=\"dataframe\">\n",
       "  <thead>\n",
       "    <tr style=\"text-align: right;\">\n",
       "      <th></th>\n",
       "      <th>idaviso</th>\n",
       "      <th>idpais</th>\n",
       "      <th>titulo</th>\n",
       "      <th>nombre_zona</th>\n",
       "      <th>ciudad</th>\n",
       "      <th>mapacalle</th>\n",
       "      <th>tipo_de_trabajo</th>\n",
       "      <th>nivel_laboral</th>\n",
       "      <th>nombre_area</th>\n",
       "      <th>denominacion_empresa</th>\n",
       "      <th>...</th>\n",
       "      <th>estudiantes</th>\n",
       "      <th>conocimientos_especificos</th>\n",
       "      <th>buen_ambiente</th>\n",
       "      <th>indica_sueldo</th>\n",
       "      <th>part_time</th>\n",
       "      <th>full_time</th>\n",
       "      <th>ofrece_crecimiento</th>\n",
       "      <th>ofrece_beneficios</th>\n",
       "      <th>obra_social</th>\n",
       "      <th>multinacional</th>\n",
       "    </tr>\n",
       "  </thead>\n",
       "  <tbody>\n",
       "    <tr>\n",
       "      <th>0</th>\n",
       "      <td>8725750</td>\n",
       "      <td>1</td>\n",
       "      <td>VENDEDOR/A PROVINCIA DE SANTA FE</td>\n",
       "      <td>Gran Buenos Aires</td>\n",
       "      <td>-</td>\n",
       "      <td>-</td>\n",
       "      <td>Full-time</td>\n",
       "      <td>Senior / Semi-Senior</td>\n",
       "      <td>Comercial</td>\n",
       "      <td>VENTOR</td>\n",
       "      <td>...</td>\n",
       "      <td>False</td>\n",
       "      <td>False</td>\n",
       "      <td>False</td>\n",
       "      <td>False</td>\n",
       "      <td>False</td>\n",
       "      <td>True</td>\n",
       "      <td>False</td>\n",
       "      <td>False</td>\n",
       "      <td>False</td>\n",
       "      <td>False</td>\n",
       "    </tr>\n",
       "    <tr>\n",
       "      <th>3</th>\n",
       "      <td>1000610287</td>\n",
       "      <td>1</td>\n",
       "      <td>CHOFER DE CAMIONETA BAHIA BLANCA - PUNTA ALTA</td>\n",
       "      <td>Gran Buenos Aires</td>\n",
       "      <td>-</td>\n",
       "      <td>-</td>\n",
       "      <td>Full-time</td>\n",
       "      <td>Senior / Semi-Senior</td>\n",
       "      <td>Transporte</td>\n",
       "      <td>Wurth Argentina S.A</td>\n",
       "      <td>...</td>\n",
       "      <td>False</td>\n",
       "      <td>False</td>\n",
       "      <td>False</td>\n",
       "      <td>False</td>\n",
       "      <td>False</td>\n",
       "      <td>False</td>\n",
       "      <td>True</td>\n",
       "      <td>False</td>\n",
       "      <td>False</td>\n",
       "      <td>True</td>\n",
       "    </tr>\n",
       "    <tr>\n",
       "      <th>4</th>\n",
       "      <td>1000872556</td>\n",
       "      <td>1</td>\n",
       "      <td>Operarios de Planta - Rubro Electrodomésticos</td>\n",
       "      <td>Gran Buenos Aires</td>\n",
       "      <td>-</td>\n",
       "      <td>-</td>\n",
       "      <td>Full-time</td>\n",
       "      <td>Senior / Semi-Senior</td>\n",
       "      <td>Producción</td>\n",
       "      <td>ELECTRO OUTLET SRL</td>\n",
       "      <td>...</td>\n",
       "      <td>False</td>\n",
       "      <td>False</td>\n",
       "      <td>False</td>\n",
       "      <td>False</td>\n",
       "      <td>False</td>\n",
       "      <td>False</td>\n",
       "      <td>False</td>\n",
       "      <td>False</td>\n",
       "      <td>False</td>\n",
       "      <td>False</td>\n",
       "    </tr>\n",
       "    <tr>\n",
       "      <th>5</th>\n",
       "      <td>1001135716</td>\n",
       "      <td>1</td>\n",
       "      <td>Vendedor Viajante TUCUMAN/SANTIAGO DEL ESTERO</td>\n",
       "      <td>Gran Buenos Aires</td>\n",
       "      <td>-</td>\n",
       "      <td>-</td>\n",
       "      <td>Full-time</td>\n",
       "      <td>Senior / Semi-Senior</td>\n",
       "      <td>Ventas</td>\n",
       "      <td>Wurth Argentina S.A</td>\n",
       "      <td>...</td>\n",
       "      <td>False</td>\n",
       "      <td>False</td>\n",
       "      <td>False</td>\n",
       "      <td>False</td>\n",
       "      <td>False</td>\n",
       "      <td>False</td>\n",
       "      <td>True</td>\n",
       "      <td>False</td>\n",
       "      <td>False</td>\n",
       "      <td>True</td>\n",
       "    </tr>\n",
       "    <tr>\n",
       "      <th>6</th>\n",
       "      <td>1001326344</td>\n",
       "      <td>1</td>\n",
       "      <td>Vendedor Viajante RECONQUISTA/AVELLANEDA</td>\n",
       "      <td>Gran Buenos Aires</td>\n",
       "      <td>-</td>\n",
       "      <td>-</td>\n",
       "      <td>Full-time</td>\n",
       "      <td>Senior / Semi-Senior</td>\n",
       "      <td>Ventas</td>\n",
       "      <td>Wurth Argentina S.A</td>\n",
       "      <td>...</td>\n",
       "      <td>False</td>\n",
       "      <td>False</td>\n",
       "      <td>False</td>\n",
       "      <td>False</td>\n",
       "      <td>False</td>\n",
       "      <td>False</td>\n",
       "      <td>True</td>\n",
       "      <td>False</td>\n",
       "      <td>False</td>\n",
       "      <td>True</td>\n",
       "    </tr>\n",
       "  </tbody>\n",
       "</table>\n",
       "<p>5 rows × 45 columns</p>\n",
       "</div>"
      ],
      "text/plain": [
       "      idaviso  idpais                                         titulo  \\\n",
       "0     8725750       1               VENDEDOR/A PROVINCIA DE SANTA FE   \n",
       "3  1000610287       1  CHOFER DE CAMIONETA BAHIA BLANCA - PUNTA ALTA   \n",
       "4  1000872556       1  Operarios de Planta - Rubro Electrodomésticos   \n",
       "5  1001135716       1  Vendedor Viajante TUCUMAN/SANTIAGO DEL ESTERO   \n",
       "6  1001326344       1       Vendedor Viajante RECONQUISTA/AVELLANEDA   \n",
       "\n",
       "         nombre_zona ciudad mapacalle tipo_de_trabajo         nivel_laboral  \\\n",
       "0  Gran Buenos Aires      -         -       Full-time  Senior / Semi-Senior   \n",
       "3  Gran Buenos Aires      -         -       Full-time  Senior / Semi-Senior   \n",
       "4  Gran Buenos Aires      -         -       Full-time  Senior / Semi-Senior   \n",
       "5  Gran Buenos Aires      -         -       Full-time  Senior / Semi-Senior   \n",
       "6  Gran Buenos Aires      -         -       Full-time  Senior / Semi-Senior   \n",
       "\n",
       "  nombre_area denominacion_empresa      ...        estudiantes  \\\n",
       "0   Comercial               VENTOR      ...              False   \n",
       "3  Transporte  Wurth Argentina S.A      ...              False   \n",
       "4  Producción   ELECTRO OUTLET SRL      ...              False   \n",
       "5      Ventas  Wurth Argentina S.A      ...              False   \n",
       "6      Ventas  Wurth Argentina S.A      ...              False   \n",
       "\n",
       "   conocimientos_especificos  buen_ambiente  indica_sueldo  part_time  \\\n",
       "0                      False          False          False      False   \n",
       "3                      False          False          False      False   \n",
       "4                      False          False          False      False   \n",
       "5                      False          False          False      False   \n",
       "6                      False          False          False      False   \n",
       "\n",
       "   full_time  ofrece_crecimiento  ofrece_beneficios  obra_social  \\\n",
       "0       True               False              False        False   \n",
       "3      False                True              False        False   \n",
       "4      False               False              False        False   \n",
       "5      False                True              False        False   \n",
       "6      False                True              False        False   \n",
       "\n",
       "   multinacional  \n",
       "0          False  \n",
       "3           True  \n",
       "4          False  \n",
       "5           True  \n",
       "6           True  \n",
       "\n",
       "[5 rows x 45 columns]"
      ]
     },
     "execution_count": 93,
     "metadata": {},
     "output_type": "execute_result"
    }
   ],
   "source": [
    "avisos.head()"
   ]
  },
  {
   "cell_type": "code",
   "execution_count": 94,
   "metadata": {},
   "outputs": [
    {
     "ename": "OSError",
     "evalue": "No such file or directory: 'C:\\\\Users\\\\Pocho\\\\AppData\\\\Roaming\\\\nltk_data\\\\corpora\\\\stopwords\\\\html'",
     "output_type": "error",
     "traceback": [
      "\u001b[1;31m---------------------------------------------------------------------------\u001b[0m",
      "\u001b[1;31mOSError\u001b[0m                                   Traceback (most recent call last)",
      "\u001b[1;32m<ipython-input-94-3e0db4641c7d>\u001b[0m in \u001b[0;36m<module>\u001b[1;34m()\u001b[0m\n\u001b[0;32m      7\u001b[0m \u001b[1;33m\u001b[0m\u001b[0m\n\u001b[0;32m      8\u001b[0m \u001b[0mdescripciones\u001b[0m\u001b[1;33m=\u001b[0m\u001b[0mavisos\u001b[0m\u001b[1;33m[\u001b[0m\u001b[1;34m'descripcion'\u001b[0m\u001b[1;33m]\u001b[0m\u001b[1;33m\u001b[0m\u001b[0m\n\u001b[1;32m----> 9\u001b[1;33m \u001b[0msw\u001b[0m \u001b[1;33m=\u001b[0m \u001b[0mstopwords\u001b[0m\u001b[1;33m.\u001b[0m\u001b[0mwords\u001b[0m\u001b[1;33m(\u001b[0m\u001b[1;34m\"spanish\"\u001b[0m\u001b[1;33m)\u001b[0m \u001b[1;33m+\u001b[0m \u001b[0mstopwords\u001b[0m\u001b[1;33m.\u001b[0m\u001b[0mwords\u001b[0m\u001b[1;33m(\u001b[0m\u001b[1;34m\"html\"\u001b[0m\u001b[1;33m)\u001b[0m\u001b[1;33m\u001b[0m\u001b[0m\n\u001b[0m\u001b[0;32m     10\u001b[0m \u001b[0ma\u001b[0m \u001b[1;33m=\u001b[0m \u001b[0mTfidfVectorizer\u001b[0m\u001b[1;33m(\u001b[0m\u001b[0msw\u001b[0m\u001b[1;33m)\u001b[0m\u001b[1;33m\u001b[0m\u001b[0m\n",
      "\u001b[1;32m~\\Anaconda3\\lib\\site-packages\\nltk\\corpus\\reader\\wordlist.py\u001b[0m in \u001b[0;36mwords\u001b[1;34m(self, fileids, ignore_lines_startswith)\u001b[0m\n\u001b[0;32m     20\u001b[0m     \"\"\"\n\u001b[0;32m     21\u001b[0m     \u001b[1;32mdef\u001b[0m \u001b[0mwords\u001b[0m\u001b[1;33m(\u001b[0m\u001b[0mself\u001b[0m\u001b[1;33m,\u001b[0m \u001b[0mfileids\u001b[0m\u001b[1;33m=\u001b[0m\u001b[1;32mNone\u001b[0m\u001b[1;33m,\u001b[0m \u001b[0mignore_lines_startswith\u001b[0m\u001b[1;33m=\u001b[0m\u001b[1;34m'\\n'\u001b[0m\u001b[1;33m)\u001b[0m\u001b[1;33m:\u001b[0m\u001b[1;33m\u001b[0m\u001b[0m\n\u001b[1;32m---> 22\u001b[1;33m         return [line for line in line_tokenize(self.raw(fileids))\n\u001b[0m\u001b[0;32m     23\u001b[0m                 if not line.startswith(ignore_lines_startswith)]\n\u001b[0;32m     24\u001b[0m \u001b[1;33m\u001b[0m\u001b[0m\n",
      "\u001b[1;32m~\\Anaconda3\\lib\\site-packages\\nltk\\corpus\\reader\\wordlist.py\u001b[0m in \u001b[0;36mraw\u001b[1;34m(self, fileids)\u001b[0m\n\u001b[0;32m     26\u001b[0m         \u001b[1;32mif\u001b[0m \u001b[0mfileids\u001b[0m \u001b[1;32mis\u001b[0m \u001b[1;32mNone\u001b[0m\u001b[1;33m:\u001b[0m \u001b[0mfileids\u001b[0m \u001b[1;33m=\u001b[0m \u001b[0mself\u001b[0m\u001b[1;33m.\u001b[0m\u001b[0m_fileids\u001b[0m\u001b[1;33m\u001b[0m\u001b[0m\n\u001b[0;32m     27\u001b[0m         \u001b[1;32melif\u001b[0m \u001b[0misinstance\u001b[0m\u001b[1;33m(\u001b[0m\u001b[0mfileids\u001b[0m\u001b[1;33m,\u001b[0m \u001b[0mstring_types\u001b[0m\u001b[1;33m)\u001b[0m\u001b[1;33m:\u001b[0m \u001b[0mfileids\u001b[0m \u001b[1;33m=\u001b[0m \u001b[1;33m[\u001b[0m\u001b[0mfileids\u001b[0m\u001b[1;33m]\u001b[0m\u001b[1;33m\u001b[0m\u001b[0m\n\u001b[1;32m---> 28\u001b[1;33m         \u001b[1;32mreturn\u001b[0m \u001b[0mconcat\u001b[0m\u001b[1;33m(\u001b[0m\u001b[1;33m[\u001b[0m\u001b[0mself\u001b[0m\u001b[1;33m.\u001b[0m\u001b[0mopen\u001b[0m\u001b[1;33m(\u001b[0m\u001b[0mf\u001b[0m\u001b[1;33m)\u001b[0m\u001b[1;33m.\u001b[0m\u001b[0mread\u001b[0m\u001b[1;33m(\u001b[0m\u001b[1;33m)\u001b[0m \u001b[1;32mfor\u001b[0m \u001b[0mf\u001b[0m \u001b[1;32min\u001b[0m \u001b[0mfileids\u001b[0m\u001b[1;33m]\u001b[0m\u001b[1;33m)\u001b[0m\u001b[1;33m\u001b[0m\u001b[0m\n\u001b[0m\u001b[0;32m     29\u001b[0m \u001b[1;33m\u001b[0m\u001b[0m\n\u001b[0;32m     30\u001b[0m \u001b[1;33m\u001b[0m\u001b[0m\n",
      "\u001b[1;32m~\\Anaconda3\\lib\\site-packages\\nltk\\corpus\\reader\\wordlist.py\u001b[0m in \u001b[0;36m<listcomp>\u001b[1;34m(.0)\u001b[0m\n\u001b[0;32m     26\u001b[0m         \u001b[1;32mif\u001b[0m \u001b[0mfileids\u001b[0m \u001b[1;32mis\u001b[0m \u001b[1;32mNone\u001b[0m\u001b[1;33m:\u001b[0m \u001b[0mfileids\u001b[0m \u001b[1;33m=\u001b[0m \u001b[0mself\u001b[0m\u001b[1;33m.\u001b[0m\u001b[0m_fileids\u001b[0m\u001b[1;33m\u001b[0m\u001b[0m\n\u001b[0;32m     27\u001b[0m         \u001b[1;32melif\u001b[0m \u001b[0misinstance\u001b[0m\u001b[1;33m(\u001b[0m\u001b[0mfileids\u001b[0m\u001b[1;33m,\u001b[0m \u001b[0mstring_types\u001b[0m\u001b[1;33m)\u001b[0m\u001b[1;33m:\u001b[0m \u001b[0mfileids\u001b[0m \u001b[1;33m=\u001b[0m \u001b[1;33m[\u001b[0m\u001b[0mfileids\u001b[0m\u001b[1;33m]\u001b[0m\u001b[1;33m\u001b[0m\u001b[0m\n\u001b[1;32m---> 28\u001b[1;33m         \u001b[1;32mreturn\u001b[0m \u001b[0mconcat\u001b[0m\u001b[1;33m(\u001b[0m\u001b[1;33m[\u001b[0m\u001b[0mself\u001b[0m\u001b[1;33m.\u001b[0m\u001b[0mopen\u001b[0m\u001b[1;33m(\u001b[0m\u001b[0mf\u001b[0m\u001b[1;33m)\u001b[0m\u001b[1;33m.\u001b[0m\u001b[0mread\u001b[0m\u001b[1;33m(\u001b[0m\u001b[1;33m)\u001b[0m \u001b[1;32mfor\u001b[0m \u001b[0mf\u001b[0m \u001b[1;32min\u001b[0m \u001b[0mfileids\u001b[0m\u001b[1;33m]\u001b[0m\u001b[1;33m)\u001b[0m\u001b[1;33m\u001b[0m\u001b[0m\n\u001b[0m\u001b[0;32m     29\u001b[0m \u001b[1;33m\u001b[0m\u001b[0m\n\u001b[0;32m     30\u001b[0m \u001b[1;33m\u001b[0m\u001b[0m\n",
      "\u001b[1;32m~\\Anaconda3\\lib\\site-packages\\nltk\\corpus\\reader\\api.py\u001b[0m in \u001b[0;36mopen\u001b[1;34m(self, file)\u001b[0m\n\u001b[0;32m    211\u001b[0m         \"\"\"\n\u001b[0;32m    212\u001b[0m         \u001b[0mencoding\u001b[0m \u001b[1;33m=\u001b[0m \u001b[0mself\u001b[0m\u001b[1;33m.\u001b[0m\u001b[0mencoding\u001b[0m\u001b[1;33m(\u001b[0m\u001b[0mfile\u001b[0m\u001b[1;33m)\u001b[0m\u001b[1;33m\u001b[0m\u001b[0m\n\u001b[1;32m--> 213\u001b[1;33m         \u001b[0mstream\u001b[0m \u001b[1;33m=\u001b[0m \u001b[0mself\u001b[0m\u001b[1;33m.\u001b[0m\u001b[0m_root\u001b[0m\u001b[1;33m.\u001b[0m\u001b[0mjoin\u001b[0m\u001b[1;33m(\u001b[0m\u001b[0mfile\u001b[0m\u001b[1;33m)\u001b[0m\u001b[1;33m.\u001b[0m\u001b[0mopen\u001b[0m\u001b[1;33m(\u001b[0m\u001b[0mencoding\u001b[0m\u001b[1;33m)\u001b[0m\u001b[1;33m\u001b[0m\u001b[0m\n\u001b[0m\u001b[0;32m    214\u001b[0m         \u001b[1;32mreturn\u001b[0m \u001b[0mstream\u001b[0m\u001b[1;33m\u001b[0m\u001b[0m\n\u001b[0;32m    215\u001b[0m \u001b[1;33m\u001b[0m\u001b[0m\n",
      "\u001b[1;32m~\\Anaconda3\\lib\\site-packages\\nltk\\data.py\u001b[0m in \u001b[0;36mjoin\u001b[1;34m(self, fileid)\u001b[0m\n\u001b[0;32m    338\u001b[0m     \u001b[1;32mdef\u001b[0m \u001b[0mjoin\u001b[0m\u001b[1;33m(\u001b[0m\u001b[0mself\u001b[0m\u001b[1;33m,\u001b[0m \u001b[0mfileid\u001b[0m\u001b[1;33m)\u001b[0m\u001b[1;33m:\u001b[0m\u001b[1;33m\u001b[0m\u001b[0m\n\u001b[0;32m    339\u001b[0m         \u001b[0m_path\u001b[0m \u001b[1;33m=\u001b[0m \u001b[0mos\u001b[0m\u001b[1;33m.\u001b[0m\u001b[0mpath\u001b[0m\u001b[1;33m.\u001b[0m\u001b[0mjoin\u001b[0m\u001b[1;33m(\u001b[0m\u001b[0mself\u001b[0m\u001b[1;33m.\u001b[0m\u001b[0m_path\u001b[0m\u001b[1;33m,\u001b[0m \u001b[0mfileid\u001b[0m\u001b[1;33m)\u001b[0m\u001b[1;33m\u001b[0m\u001b[0m\n\u001b[1;32m--> 340\u001b[1;33m         \u001b[1;32mreturn\u001b[0m \u001b[0mFileSystemPathPointer\u001b[0m\u001b[1;33m(\u001b[0m\u001b[0m_path\u001b[0m\u001b[1;33m)\u001b[0m\u001b[1;33m\u001b[0m\u001b[0m\n\u001b[0m\u001b[0;32m    341\u001b[0m \u001b[1;33m\u001b[0m\u001b[0m\n\u001b[0;32m    342\u001b[0m     \u001b[1;32mdef\u001b[0m \u001b[0m__repr__\u001b[0m\u001b[1;33m(\u001b[0m\u001b[0mself\u001b[0m\u001b[1;33m)\u001b[0m\u001b[1;33m:\u001b[0m\u001b[1;33m\u001b[0m\u001b[0m\n",
      "\u001b[1;32m~\\Anaconda3\\lib\\site-packages\\nltk\\compat.py\u001b[0m in \u001b[0;36m_decorator\u001b[1;34m(*args, **kwargs)\u001b[0m\n\u001b[0;32m    219\u001b[0m     \u001b[1;32mdef\u001b[0m \u001b[0m_decorator\u001b[0m\u001b[1;33m(\u001b[0m\u001b[1;33m*\u001b[0m\u001b[0margs\u001b[0m\u001b[1;33m,\u001b[0m \u001b[1;33m**\u001b[0m\u001b[0mkwargs\u001b[0m\u001b[1;33m)\u001b[0m\u001b[1;33m:\u001b[0m\u001b[1;33m\u001b[0m\u001b[0m\n\u001b[0;32m    220\u001b[0m         \u001b[0margs\u001b[0m \u001b[1;33m=\u001b[0m \u001b[1;33m(\u001b[0m\u001b[0margs\u001b[0m\u001b[1;33m[\u001b[0m\u001b[1;36m0\u001b[0m\u001b[1;33m]\u001b[0m\u001b[1;33m,\u001b[0m \u001b[0madd_py3_data\u001b[0m\u001b[1;33m(\u001b[0m\u001b[0margs\u001b[0m\u001b[1;33m[\u001b[0m\u001b[1;36m1\u001b[0m\u001b[1;33m]\u001b[0m\u001b[1;33m)\u001b[0m\u001b[1;33m)\u001b[0m \u001b[1;33m+\u001b[0m \u001b[0margs\u001b[0m\u001b[1;33m[\u001b[0m\u001b[1;36m2\u001b[0m\u001b[1;33m:\u001b[0m\u001b[1;33m]\u001b[0m\u001b[1;33m\u001b[0m\u001b[0m\n\u001b[1;32m--> 221\u001b[1;33m         \u001b[1;32mreturn\u001b[0m \u001b[0minit_func\u001b[0m\u001b[1;33m(\u001b[0m\u001b[1;33m*\u001b[0m\u001b[0margs\u001b[0m\u001b[1;33m,\u001b[0m \u001b[1;33m**\u001b[0m\u001b[0mkwargs\u001b[0m\u001b[1;33m)\u001b[0m\u001b[1;33m\u001b[0m\u001b[0m\n\u001b[0m\u001b[0;32m    222\u001b[0m     \u001b[1;32mreturn\u001b[0m \u001b[0mwraps\u001b[0m\u001b[1;33m(\u001b[0m\u001b[0minit_func\u001b[0m\u001b[1;33m)\u001b[0m\u001b[1;33m(\u001b[0m\u001b[0m_decorator\u001b[0m\u001b[1;33m)\u001b[0m\u001b[1;33m\u001b[0m\u001b[0m\n\u001b[0;32m    223\u001b[0m \u001b[1;33m\u001b[0m\u001b[0m\n",
      "\u001b[1;32m~\\Anaconda3\\lib\\site-packages\\nltk\\data.py\u001b[0m in \u001b[0;36m__init__\u001b[1;34m(self, _path)\u001b[0m\n\u001b[0;32m    316\u001b[0m         \u001b[0m_path\u001b[0m \u001b[1;33m=\u001b[0m \u001b[0mos\u001b[0m\u001b[1;33m.\u001b[0m\u001b[0mpath\u001b[0m\u001b[1;33m.\u001b[0m\u001b[0mabspath\u001b[0m\u001b[1;33m(\u001b[0m\u001b[0m_path\u001b[0m\u001b[1;33m)\u001b[0m\u001b[1;33m\u001b[0m\u001b[0m\n\u001b[0;32m    317\u001b[0m         \u001b[1;32mif\u001b[0m \u001b[1;32mnot\u001b[0m \u001b[0mos\u001b[0m\u001b[1;33m.\u001b[0m\u001b[0mpath\u001b[0m\u001b[1;33m.\u001b[0m\u001b[0mexists\u001b[0m\u001b[1;33m(\u001b[0m\u001b[0m_path\u001b[0m\u001b[1;33m)\u001b[0m\u001b[1;33m:\u001b[0m\u001b[1;33m\u001b[0m\u001b[0m\n\u001b[1;32m--> 318\u001b[1;33m             \u001b[1;32mraise\u001b[0m \u001b[0mIOError\u001b[0m\u001b[1;33m(\u001b[0m\u001b[1;34m'No such file or directory: %r'\u001b[0m \u001b[1;33m%\u001b[0m \u001b[0m_path\u001b[0m\u001b[1;33m)\u001b[0m\u001b[1;33m\u001b[0m\u001b[0m\n\u001b[0m\u001b[0;32m    319\u001b[0m         \u001b[0mself\u001b[0m\u001b[1;33m.\u001b[0m\u001b[0m_path\u001b[0m \u001b[1;33m=\u001b[0m \u001b[0m_path\u001b[0m\u001b[1;33m\u001b[0m\u001b[0m\n\u001b[0;32m    320\u001b[0m \u001b[1;33m\u001b[0m\u001b[0m\n",
      "\u001b[1;31mOSError\u001b[0m: No such file or directory: 'C:\\\\Users\\\\Pocho\\\\AppData\\\\Roaming\\\\nltk_data\\\\corpora\\\\stopwords\\\\html'"
     ]
    }
   ],
   "source": [
    "#TF-IDF Featuring\n",
    "avisos = pd.read_csv(\"Data/fiuba_entrenamiento/avisos.csv\")\n",
    "from sklearn.feature_extraction.text import TfidfVectorizer\n",
    "\n",
    "from IPython.core.display import HTML\n",
    "from nltk.corpus import stopwords\n",
    "\n",
    "descripciones=avisos['descripcion']\n",
    "sw = stopwords.words(\"spanish\") + stopwords.words(\"html\") \n",
    "a = TfidfVectorizer(sw)"
   ]
  },
  {
   "cell_type": "code",
   "execution_count": null,
   "metadata": {},
   "outputs": [],
   "source": []
  },
  {
   "cell_type": "code",
   "execution_count": null,
   "metadata": {},
   "outputs": [],
   "source": []
  }
 ],
 "metadata": {
  "kernelspec": {
   "display_name": "Python 3",
   "language": "python",
   "name": "python3"
  },
  "language_info": {
   "codemirror_mode": {
    "name": "ipython",
    "version": 3
   },
   "file_extension": ".py",
   "mimetype": "text/x-python",
   "name": "python",
   "nbconvert_exporter": "python",
   "pygments_lexer": "ipython3",
   "version": "3.6.5"
  }
 },
 "nbformat": 4,
 "nbformat_minor": 2
}
