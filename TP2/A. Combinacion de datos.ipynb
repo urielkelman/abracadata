{
 "cells": [
  {
   "cell_type": "code",
   "execution_count": 1,
   "metadata": {},
   "outputs": [],
   "source": [
    "import pandas as pd\n",
    "import numpy as np\n",
    "import matplotlib.pyplot as plt\n",
    "import seaborn as sns\n",
    "from datetime import datetime\n",
    "\n",
    "%matplotlib inline"
   ]
  },
  {
   "cell_type": "code",
   "execution_count": 2,
   "metadata": {},
   "outputs": [],
   "source": [
    "plt.rc('figure',dpi=100);"
   ]
  },
  {
   "cell_type": "code",
   "execution_count": 3,
   "metadata": {},
   "outputs": [],
   "source": [
    "postulaciones = pd.read_csv(\"../../Data/datos_navent_fiuba/fiuba_4_postulaciones.csv\")\n",
    "postulaciones_hasta = pd.read_csv(\"../../Data/fiuba_hasta_15_de_abril/fiuba_4_postulaciones.csv\")\n",
    "postulaciones_concat = pd.concat([postulaciones, postulaciones_hasta], axis=0);\n",
    "postulaciones_concat.drop_duplicates(inplace=True)"
   ]
  },
  {
   "cell_type": "code",
   "execution_count": 4,
   "metadata": {},
   "outputs": [],
   "source": [
    "postulantes_educacion = pd.read_csv(\"../../Data/datos_navent_fiuba/fiuba_1_postulantes_educacion.csv\")\n",
    "postulantes_educacion_hasta = pd.read_csv(\"../../Data/fiuba_hasta_15_de_abril/fiuba_1_postulantes_educacion.csv\")\n",
    "postulantes_educacion_desde = pd.read_csv(\"../../Data/fiuba_desde_15_de_abril/fiuba_1_postulantes_educacion.csv\")\n",
    "postulantes_educacion_concat = pd.concat([postulantes_educacion, postulantes_educacion_hasta, postulantes_educacion_desde], axis=0);\n",
    "postulantes_educacion_concat.drop_duplicates(inplace=True)"
   ]
  },
  {
   "cell_type": "code",
   "execution_count": 5,
   "metadata": {},
   "outputs": [],
   "source": [
    "postulantes_ge = pd.read_csv(\"../../Data/datos_navent_fiuba/fiuba_2_postulantes_genero_y_edad.csv\")\n",
    "postulantes_ge_hasta = pd.read_csv(\"../../Data/fiuba_hasta_15_de_abril/fiuba_2_postulantes_genero_y_edad.csv\")\n",
    "postulantes_educacion_desde = pd.read_csv(\"../../Data/fiuba_desde_15_de_abril/fiuba_2_postulantes_genero_y_edad.csv\")\n",
    "postulantes_ge_concat = pd.concat([postulantes_ge, postulantes_ge_hasta,postulantes_educacion_desde], axis=0);\n",
    "postulantes_ge_concat.drop_duplicates(inplace=True)"
   ]
  },
  {
   "cell_type": "code",
   "execution_count": 6,
   "metadata": {},
   "outputs": [
    {
     "name": "stdout",
     "output_type": "stream",
     "text": [
      "idAviso         961897\n",
      "timestamp       961897\n",
      "idpostulante    961897\n",
      "dtype: int64\n",
      "idAviso         5758686\n",
      "timestamp       5758686\n",
      "idpostulante    5758686\n",
      "dtype: int64\n",
      "1614515\n",
      "idAviso         16754298\n",
      "timestamp       16754298\n",
      "idpostulante    16754298\n",
      "dtype: int64\n"
     ]
    }
   ],
   "source": [
    "vistas = pd.read_csv(\"../../Data/datos_navent_fiuba/fiuba_3_vistas.csv\")\n",
    "vistas_hasta = pd.read_csv(\"../../Data/fiuba_hasta_15_de_abril/fiuba_3_vistas.csv\")\n",
    "vistas_desde = pd.read_csv(\"../../Data/fiuba_desde_15_de_abril/fiuba_3_vistas.csv\")\n",
    "vistas_concat = pd.concat([vistas, vistas_hasta,vistas_desde], axis=0);\n",
    "print(vistas.count())\n",
    "print(vistas_hasta.count())\n",
    "print(vistas_concat.duplicated().sum())\n",
    "vistas_concat.drop_duplicates(inplace=True);\n",
    "print(vistas_concat.count())"
   ]
  },
  {
   "cell_type": "code",
   "execution_count": 2,
   "metadata": {},
   "outputs": [],
   "source": [
    "avisos = pd.read_csv(\"../../Data/datos_navent_fiuba/fiuba_6_avisos_detalle.csv\")\n",
    "avisos_hasta = pd.read_csv(\"../../Data/fiuba_hasta_15_de_abril/fiuba_6_avisos_detalle.csv\")\n",
    "avisos_desde = pd.read_csv(\"../../Data/fiuba_desde_15_de_abril/fiuba_6_avisos_detalle.csv\")\n",
    "avisos_desde_patch1 = pd.read_csv(\"../../Data/fiuba_desde_15_de_abril/fiuba_6_avisos_detalle_patch1.csv\")\n",
    "avisos_concat = pd.concat([avisos, avisos_hasta,avisos_desde,avisos_desde_patch1], axis=0);\n",
    "avisos_concat.drop_duplicates(inplace=True)"
   ]
  },
  {
   "cell_type": "code",
   "execution_count": 4,
   "metadata": {},
   "outputs": [],
   "source": [
    "postulaciones_concat.to_csv(\"../../Data/fiuba_entrenamiento/postulaciones.csv\",index=False)\n",
    "vistas_concat.to_csv(\"../../Data/fiuba_entrenamiento/vistas.csv\",index=False)\n",
    "avisos_concat.to_csv(\"../../Data/fiuba_entrenamiento/avisos.csv\",index=False)\n",
    "postulantes_educacion_concat.to_csv(\"../../Data/fiuba_entrenamiento/postulantes_educacion.csv\",index=False)\n",
    "postulantes_ge_concat.to_csv(\"../../Data/fiuba_entrenamiento/postulantes_ge.csv\",index=False)"
   ]
  },
  {
   "cell_type": "code",
   "execution_count": null,
   "metadata": {},
   "outputs": [],
   "source": []
  }
 ],
 "metadata": {
  "kernelspec": {
   "display_name": "Python 3",
   "language": "python",
   "name": "python3"
  },
  "language_info": {
   "codemirror_mode": {
    "name": "ipython",
    "version": 3
   },
   "file_extension": ".py",
   "mimetype": "text/x-python",
   "name": "python",
   "nbconvert_exporter": "python",
   "pygments_lexer": "ipython3",
   "version": "3.6.4"
  }
 },
 "nbformat": 4,
 "nbformat_minor": 2
}
