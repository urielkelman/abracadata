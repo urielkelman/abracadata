{
 "cells": [
  {
   "cell_type": "code",
   "execution_count": 1,
   "metadata": {},
   "outputs": [],
   "source": [
    "import pandas as pd\n",
    "import numpy as np\n",
    "import matplotlib.pyplot as plt\n",
    "import seaborn as sns\n",
    "from datetime import datetime\n",
    "\n",
    "%matplotlib inline"
   ]
  },
  {
   "cell_type": "code",
   "execution_count": 2,
   "metadata": {},
   "outputs": [],
   "source": [
    "plt.rc('figure',dpi=100);"
   ]
  },
  {
   "cell_type": "code",
   "execution_count": 3,
   "metadata": {},
   "outputs": [],
   "source": [
    "postulaciones = pd.read_csv(\"../../Data/datos_navent_fiuba/fiuba_4_postulaciones.csv\")\n",
    "postulaciones_hasta = pd.read_csv(\"../../Data/fiuba_hasta_15_de_abril/fiuba_4_postulaciones.csv\")\n",
    "postulaciones_concat = pd.concat([postulaciones, postulaciones_hasta], axis=0,ignore_index=True);\n",
    "postulaciones_concat.drop_duplicates(inplace=True)"
   ]
  },
  {
   "cell_type": "code",
   "execution_count": 4,
   "metadata": {},
   "outputs": [
    {
     "name": "stdout",
     "output_type": "stream",
     "text": [
      "409552\n",
      "0\n"
     ]
    }
   ],
   "source": [
    "postulantes_educacion = pd.read_csv(\"../../Data/datos_navent_fiuba/fiuba_1_postulantes_educacion.csv\")\n",
    "postulantes_educacion_hasta = pd.read_csv(\"../../Data/fiuba_hasta_15_de_abril/fiuba_1_postulantes_educacion.csv\")\n",
    "postulantes_educacion_desde = pd.read_csv(\"../../Data/fiuba_desde_15_de_abril/fiuba_1_postulantes_educacion.csv\")\n",
    "postulantes_educacion_concat = pd.concat([postulantes_educacion, postulantes_educacion_hasta, postulantes_educacion_desde], axis=0,ignore_index=True);\n",
    "print(postulantes_educacion_concat.duplicated().sum())\n",
    "postulantes_educacion_concat.drop_duplicates(inplace=True, keep='first')\n",
    "print(postulantes_educacion_concat.duplicated().sum())"
   ]
  },
  {
   "cell_type": "code",
   "execution_count": 5,
   "metadata": {},
   "outputs": [
    {
     "name": "stdout",
     "output_type": "stream",
     "text": [
      "274638\n",
      "0\n"
     ]
    }
   ],
   "source": [
    "postulantes_ge = pd.read_csv(\"../../Data/datos_navent_fiuba/fiuba_2_postulantes_genero_y_edad.csv\")\n",
    "postulantes_ge_hasta = pd.read_csv(\"../../Data/fiuba_hasta_15_de_abril/fiuba_2_postulantes_genero_y_edad.csv\")\n",
    "postulantes_ge_desde = pd.read_csv(\"../../Data/fiuba_desde_15_de_abril/fiuba_2_postulantes_genero_y_edad.csv\")\n",
    "postulantes_ge_concat = pd.concat([postulantes_ge, postulantes_ge_hasta,postulantes_ge_desde], axis=0,ignore_index=True);\n",
    "print(postulantes_ge_concat.duplicated().sum())\n",
    "postulantes_ge_concat.drop_duplicates(inplace=True, keep='first')\n",
    "print(postulantes_ge_concat.duplicated().sum())"
   ]
  },
  {
   "cell_type": "code",
   "execution_count": 6,
   "metadata": {},
   "outputs": [
    {
     "name": "stdout",
     "output_type": "stream",
     "text": [
      "1614515\n",
      "0\n"
     ]
    }
   ],
   "source": [
    "vistas = pd.read_csv(\"../../Data/datos_navent_fiuba/fiuba_3_vistas.csv\")\n",
    "vistas_hasta = pd.read_csv(\"../../Data/fiuba_hasta_15_de_abril/fiuba_3_vistas.csv\")\n",
    "vistas_desde = pd.read_csv(\"../../Data/fiuba_desde_15_de_abril/fiuba_3_vistas.csv\")\n",
    "vistas_concat = pd.concat([vistas, vistas_hasta,vistas_desde], axis=0,ignore_index=True);\n",
    "print(vistas_concat.duplicated().sum())\n",
    "vistas_concat.drop_duplicates(inplace=True, keep='first');\n",
    "print(vistas_concat.duplicated().sum())"
   ]
  },
  {
   "cell_type": "code",
   "execution_count": 7,
   "metadata": {},
   "outputs": [
    {
     "name": "stdout",
     "output_type": "stream",
     "text": [
      "20061\n",
      "0\n"
     ]
    }
   ],
   "source": [
    "avisos = pd.read_csv(\"../../Data/datos_navent_fiuba/fiuba_6_avisos_detalle.csv\")\n",
    "avisos_hasta = pd.read_csv(\"../../Data/fiuba_hasta_15_de_abril/fiuba_6_avisos_detalle.csv\")\n",
    "avisos_desde = pd.read_csv(\"../../Data/fiuba_desde_15_de_abril/fiuba_6_avisos_detalle.csv\")\n",
    "avisos_desde_patch1 = pd.read_csv(\"../../Data/fiuba_desde_15_de_abril/fiuba_6_avisos_detalle_patch1.csv\")\n",
    "avisos_concat = pd.concat([avisos, avisos_hasta,avisos_desde,avisos_desde_patch1], axis=0,ignore_index=True);\n",
    "print(avisos_concat.duplicated().sum())\n",
    "avisos_concat.drop_duplicates(inplace=True, keep='first')\n",
    "print(avisos_concat.duplicated().sum())"
   ]
  },
  {
   "cell_type": "code",
   "execution_count": 8,
   "metadata": {},
   "outputs": [],
   "source": [
    "postulaciones_concat.to_csv(\"../../Data/fiuba_entrenamiento/postulaciones.csv\",index=False)\n",
    "vistas_concat.to_csv(\"../../Data/fiuba_entrenamiento/vistas.csv\",index=False)\n",
    "avisos_concat.to_csv(\"../../Data/fiuba_entrenamiento/avisos.csv\",index=False)\n",
    "postulantes_educacion_concat.to_csv(\"../../Data/fiuba_entrenamiento/postulantes_educacion.csv\",index=False)\n",
    "postulantes_ge_concat.to_csv(\"../../Data/fiuba_entrenamiento/postulantes_ge.csv\",index=False)"
   ]
  },
  {
   "cell_type": "code",
   "execution_count": 10,
   "metadata": {},
   "outputs": [
    {
     "name": "stdout",
     "output_type": "stream",
     "text": [
      "137072\n",
      "0\n",
      "90183\n",
      "90183\n",
      "12145\n",
      "0\n"
     ]
    }
   ],
   "source": [
    "postulantes_educacion_concat_train= pd.concat([postulantes_educacion, postulantes_educacion_hasta], axis=0,ignore_index=True);\n",
    "print(postulantes_educacion_concat_train.duplicated().sum())\n",
    "postulantes_educacion_concat_train.drop_duplicates(inplace=True, keep='first')\n",
    "print(postulantes_educacion_concat_train.duplicated().sum())\n",
    "\n",
    "postulantes_ge_concat_train = pd.concat([postulantes_ge, postulantes_ge_hasta], axis=0,ignore_index=True);\n",
    "print(postulantes_ge_concat_train.duplicated().sum())\n",
    "postulantes_ge_concat.drop_duplicates(inplace=True, keep='first')\n",
    "print(postulantes_ge_concat_train.duplicated().sum())\n",
    "\n",
    "avisos_concat_train = pd.concat([avisos, avisos_hasta], axis=0);\n",
    "print(avisos_concat_train.duplicated().sum())\n",
    "avisos_concat_train.drop_duplicates(inplace=True, keep='first')\n",
    "print(avisos_concat_train.duplicated().sum())"
   ]
  },
  {
   "cell_type": "code",
   "execution_count": 11,
   "metadata": {},
   "outputs": [],
   "source": [
    "avisos_concat_train.to_csv(\"../../Data/fiuba_entrenamiento/avisos_train.csv\",index=False)\n",
    "postulantes_educacion_concat_train.to_csv(\"../../Data/fiuba_entrenamiento/postulantes_educacion_train.csv\",index=False)\n",
    "postulantes_ge_concat_train.to_csv(\"../../Data/fiuba_entrenamiento/postulantes_ge_train.csv\",index=False)"
   ]
  },
  {
   "cell_type": "code",
   "execution_count": 12,
   "metadata": {},
   "outputs": [
    {
     "name": "stdout",
     "output_type": "stream",
     "text": [
      "200888\n",
      "297747\n",
      "281385\n",
      "505382\n",
      "498635\n"
     ]
    }
   ],
   "source": [
    "print(len(postulantes_ge))\n",
    "print(len(postulantes_ge_hasta))\n",
    "print(len(postulantes_ge_desde))\n",
    "print(len(postulantes_ge_concat))\n",
    "print(len(postulantes_ge_concat_train))"
   ]
  },
  {
   "cell_type": "code",
   "execution_count": 13,
   "metadata": {},
   "outputs": [
    {
     "name": "stdout",
     "output_type": "stream",
     "text": [
      "298231\n",
      "407453\n",
      "397509\n",
      "693641\n",
      "568612\n"
     ]
    }
   ],
   "source": [
    "print(len(postulantes_educacion))\n",
    "print(len(postulantes_educacion_hasta))\n",
    "print(len(postulantes_educacion_desde))\n",
    "print(len(postulantes_educacion_concat))\n",
    "print(len(postulantes_educacion_concat_train))"
   ]
  },
  {
   "cell_type": "code",
   "execution_count": 14,
   "metadata": {},
   "outputs": [
    {
     "name": "stdout",
     "output_type": "stream",
     "text": [
      "25908\n",
      "19688\n"
     ]
    }
   ],
   "source": [
    "print(len(avisos_concat))\n",
    "print(len(avisos_concat_train))"
   ]
  },
  {
   "cell_type": "code",
   "execution_count": null,
   "metadata": {},
   "outputs": [],
   "source": []
  }
 ],
 "metadata": {
  "kernelspec": {
   "display_name": "Python 3",
   "language": "python",
   "name": "python3"
  },
  "language_info": {
   "codemirror_mode": {
    "name": "ipython",
    "version": 3
   },
   "file_extension": ".py",
   "mimetype": "text/x-python",
   "name": "python",
   "nbconvert_exporter": "python",
   "pygments_lexer": "ipython3",
   "version": "3.6.4"
  }
 },
 "nbformat": 4,
 "nbformat_minor": 2
}
