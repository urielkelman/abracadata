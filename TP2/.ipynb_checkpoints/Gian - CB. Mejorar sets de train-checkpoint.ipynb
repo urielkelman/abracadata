{
 "cells": [
  {
   "cell_type": "code",
   "execution_count": 2,
   "metadata": {},
   "outputs": [],
   "source": [
    "import pandas as pd\n",
    "import numpy as np\n",
    "import matplotlib.pyplot as plt\n",
    "import seaborn as sns\n",
    "from datetime import datetime\n",
    "\n",
    "from sklearn import tree\n",
    "from sklearn.tree import DecisionTreeClassifier\n",
    "from sklearn.model_selection import train_test_split\n",
    "from sklearn.metrics import accuracy_score\n",
    "from sklearn import preprocessing\n",
    "from sklearn.externals import joblib\n",
    "\n",
    "%matplotlib inline"
   ]
  },
  {
   "cell_type": "code",
   "execution_count": 3,
   "metadata": {},
   "outputs": [],
   "source": [
    "plt.rc('figure',dpi=100);"
   ]
  },
  {
   "cell_type": "code",
   "execution_count": 9,
   "metadata": {},
   "outputs": [],
   "source": [
    "avisos = pd.read_csv(\"../../Data/fiuba_entrenamiento/gian/avisos.csv\")\n",
    "postulaciones = pd.read_csv(\"../../Data/fiuba_entrenamiento/gian/postulaciones.csv\")\n",
    "postulantes = pd.read_csv(\"../../Data/fiuba_entrenamiento/gian/postulantes.csv\")\n",
    "vistas = pd.read_csv(\"../../Data/fiuba_entrenamiento/gian/vistas.csv\")"
   ]
  },
  {
   "cell_type": "code",
   "execution_count": 5,
   "metadata": {},
   "outputs": [
    {
     "name": "stdout",
     "output_type": "stream",
     "text": [
      "100000\n"
     ]
    },
    {
     "data": {
      "text/html": [
       "<div>\n",
       "<style scoped>\n",
       "    .dataframe tbody tr th:only-of-type {\n",
       "        vertical-align: middle;\n",
       "    }\n",
       "\n",
       "    .dataframe tbody tr th {\n",
       "        vertical-align: top;\n",
       "    }\n",
       "\n",
       "    .dataframe thead th {\n",
       "        text-align: right;\n",
       "    }\n",
       "</style>\n",
       "<table border=\"1\" class=\"dataframe\">\n",
       "  <thead>\n",
       "    <tr style=\"text-align: right;\">\n",
       "      <th></th>\n",
       "      <th>id</th>\n",
       "      <th>idaviso</th>\n",
       "      <th>idpostulante</th>\n",
       "    </tr>\n",
       "  </thead>\n",
       "  <tbody>\n",
       "    <tr>\n",
       "      <th>81003</th>\n",
       "      <td>81003</td>\n",
       "      <td>1112465347</td>\n",
       "      <td>8wYpVL</td>\n",
       "    </tr>\n",
       "    <tr>\n",
       "      <th>59914</th>\n",
       "      <td>59914</td>\n",
       "      <td>1112454488</td>\n",
       "      <td>1oRDlO</td>\n",
       "    </tr>\n",
       "    <tr>\n",
       "      <th>47710</th>\n",
       "      <td>47710</td>\n",
       "      <td>1112432317</td>\n",
       "      <td>ZD8dqQ5</td>\n",
       "    </tr>\n",
       "    <tr>\n",
       "      <th>76562</th>\n",
       "      <td>76562</td>\n",
       "      <td>1112464229</td>\n",
       "      <td>ZjMVl5</td>\n",
       "    </tr>\n",
       "    <tr>\n",
       "      <th>19893</th>\n",
       "      <td>19893</td>\n",
       "      <td>1112242227</td>\n",
       "      <td>NEqz5D</td>\n",
       "    </tr>\n",
       "    <tr>\n",
       "      <th>94046</th>\n",
       "      <td>94046</td>\n",
       "      <td>1112482352</td>\n",
       "      <td>EX1bA0</td>\n",
       "    </tr>\n",
       "    <tr>\n",
       "      <th>18080</th>\n",
       "      <td>18080</td>\n",
       "      <td>1112208757</td>\n",
       "      <td>8X3KvR</td>\n",
       "    </tr>\n",
       "    <tr>\n",
       "      <th>91914</th>\n",
       "      <td>91914</td>\n",
       "      <td>1112473321</td>\n",
       "      <td>1Kl5vQ</td>\n",
       "    </tr>\n",
       "    <tr>\n",
       "      <th>37476</th>\n",
       "      <td>37476</td>\n",
       "      <td>1112413438</td>\n",
       "      <td>bOjBEDq</td>\n",
       "    </tr>\n",
       "    <tr>\n",
       "      <th>22776</th>\n",
       "      <td>22776</td>\n",
       "      <td>1112296457</td>\n",
       "      <td>5Wz1N</td>\n",
       "    </tr>\n",
       "  </tbody>\n",
       "</table>\n",
       "</div>"
      ],
      "text/plain": [
       "          id     idaviso idpostulante\n",
       "81003  81003  1112465347       8wYpVL\n",
       "59914  59914  1112454488       1oRDlO\n",
       "47710  47710  1112432317      ZD8dqQ5\n",
       "76562  76562  1112464229       ZjMVl5\n",
       "19893  19893  1112242227       NEqz5D\n",
       "94046  94046  1112482352       EX1bA0\n",
       "18080  18080  1112208757       8X3KvR\n",
       "91914  91914  1112473321       1Kl5vQ\n",
       "37476  37476  1112413438      bOjBEDq\n",
       "22776  22776  1112296457        5Wz1N"
      ]
     },
     "execution_count": 5,
     "metadata": {},
     "output_type": "execute_result"
    }
   ],
   "source": [
    "prediccion = pd.read_csv(\"../../Data/fiuba_entrenamiento/test_final_100k.csv\")\n",
    "print(len(prediccion))\n",
    "prediccion.sample(10)"
   ]
  },
  {
   "cell_type": "code",
   "execution_count": 10,
   "metadata": {},
   "outputs": [
    {
     "name": "stdout",
     "output_type": "stream",
     "text": [
      "25288\n",
      "11148\n"
     ]
    }
   ],
   "source": [
    "print(len(avisos))\n",
    "avisos=avisos[~avisos['idaviso'].isin(prediccion['idaviso'].value_counts().index)]\n",
    "print(len(avisos))"
   ]
  },
  {
   "cell_type": "code",
   "execution_count": 11,
   "metadata": {},
   "outputs": [
    {
     "name": "stdout",
     "output_type": "stream",
     "text": [
      "504407\n",
      "439761\n"
     ]
    }
   ],
   "source": [
    "print(len(postulantes))\n",
    "postulantes=postulantes[~postulantes['idpostulante'].isin(prediccion['idpostulante'].value_counts().index)]\n",
    "print(len(postulantes))"
   ]
  },
  {
   "cell_type": "code",
   "execution_count": 12,
   "metadata": {},
   "outputs": [],
   "source": [
    "avisos.to_csv(\"../../Data/fiuba_entrenamiento/gian/avisos_train2.csv\", index=False)"
   ]
  },
  {
   "cell_type": "code",
   "execution_count": 13,
   "metadata": {},
   "outputs": [],
   "source": [
    "postulantes.to_csv(\"../../Data/fiuba_entrenamiento/gian/postulantes_train2.csv\",index=False)"
   ]
  },
  {
   "cell_type": "code",
   "execution_count": null,
   "metadata": {},
   "outputs": [],
   "source": []
  }
 ],
 "metadata": {
  "kernelspec": {
   "display_name": "Python 3",
   "language": "python",
   "name": "python3"
  },
  "language_info": {
   "codemirror_mode": {
    "name": "ipython",
    "version": 3
   },
   "file_extension": ".py",
   "mimetype": "text/x-python",
   "name": "python",
   "nbconvert_exporter": "python",
   "pygments_lexer": "ipython3",
   "version": "3.6.4"
  }
 },
 "nbformat": 4,
 "nbformat_minor": 2
}
