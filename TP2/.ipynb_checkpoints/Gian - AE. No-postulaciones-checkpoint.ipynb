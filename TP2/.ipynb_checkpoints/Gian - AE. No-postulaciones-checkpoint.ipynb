{
 "cells": [
  {
   "cell_type": "code",
   "execution_count": 4,
   "metadata": {},
   "outputs": [],
   "source": [
    "import pandas as pd\n",
    "import numpy as np\n",
    "import matplotlib.pyplot as plt\n",
    "import seaborn as sns\n",
    "from datetime import datetime\n",
    "\n",
    "from sklearn import tree\n",
    "from sklearn.tree import DecisionTreeClassifier\n",
    "from sklearn.model_selection import train_test_split\n",
    "from sklearn.metrics import accuracy_score\n",
    "from sklearn import preprocessing\n",
    "from sklearn.externals import joblib\n",
    "\n",
    "%matplotlib inline"
   ]
  },
  {
   "cell_type": "code",
   "execution_count": 5,
   "metadata": {},
   "outputs": [],
   "source": [
    "plt.rc('figure',dpi=100);"
   ]
  },
  {
   "cell_type": "code",
   "execution_count": 6,
   "metadata": {},
   "outputs": [],
   "source": [
    "#Elijo que sets usar para crear no postulaciones\n",
    "avisos = pd.read_csv(\"../../Data/fiuba_entrenamiento/gian/avisos.csv\")\n",
    "postulaciones = pd.read_csv(\"../../Data/fiuba_entrenamiento/gian/postulaciones.csv\")\n",
    "postulantes = pd.read_csv(\"../../Data/fiuba_entrenamiento/gian/postulantes_train2.csv\")\n",
    "vistas = pd.read_csv(\"../../Data/fiuba_entrenamiento/gian/vistas.csv\")"
   ]
  },
  {
   "cell_type": "code",
   "execution_count": 7,
   "metadata": {},
   "outputs": [],
   "source": [
    "vistas.drop(['timestamp','dia','mes','semana','diadelasemana','hora'],axis=1,inplace=True)\n",
    "vistas.columns=['idaviso','idpostulante']\n",
    "\n",
    "postulantes['sexo']=postulantes['sexo'].astype('category')\n",
    "postulantes['Doctorado']=postulantes['Doctorado'].astype('category')\n",
    "postulantes['Master']=postulantes['Master'].astype('category')\n",
    "postulantes['Otro']=postulantes['Otro'].astype('category')\n",
    "postulantes['Posgrado']=postulantes['Posgrado'].astype('category')\n",
    "postulantes['Secundario']=postulantes['Secundario'].astype('category')\n",
    "postulantes['Terciario/Técnico']=postulantes['Terciario/Técnico'].astype('category')\n",
    "postulantes['Universitario']=postulantes['Universitario'].astype('category')\n",
    "\n",
    "avisos['nombre_zona']=avisos['nombre_zona'].astype('category')\n",
    "avisos['tipo_de_trabajo']=avisos['tipo_de_trabajo'].astype('category')\n",
    "avisos['nivel_laboral']=avisos['nivel_laboral'].astype('category')\n",
    "avisos['nombre_area']=avisos['nombre_area'].astype('category')\n",
    "\n",
    "postulaciones['sepostulo']=1\n",
    "postulaciones.drop(['fechapostulacion','dia','mes','semana','diadelasemana','hora'],axis=1,inplace=True)"
   ]
  },
  {
   "cell_type": "code",
   "execution_count": 6,
   "metadata": {},
   "outputs": [
    {
     "name": "stdout",
     "output_type": "stream",
     "text": [
      "0\n",
      "1\n",
      "2\n",
      "3\n"
     ]
    }
   ],
   "source": [
    "#Genero no-postulaciones\n",
    "from IPython.display import clear_output\n",
    "\n",
    "postulaciones3=postulaciones;\n",
    "postulaciones3['sepostulo']=0;\n",
    "serie=postulantes['idpostulante'];\n",
    "i=0\n",
    "while (len(postulaciones3)>len(serie)):\n",
    "    global i\n",
    "    serie=serie.sample(frac=1).reset_index(drop=True)\n",
    "    serie=pd.concat([serie.sample(frac=1),serie], ignore_index=False)\n",
    "    print(i)\n",
    "    i+=1\n",
    "    if(i%10==0): clear_output()\n",
    "serie=serie.reset_index(drop=True)\n",
    "postulaciones3['idpostulante']=serie.iloc[0:len(postulaciones3)]\n",
    "postulaciones3.to_csv(\"../../Data/fiuba_entrenamiento/gian/no-postulaciones/4.csv\",index=False)"
   ]
  },
  {
   "cell_type": "code",
   "execution_count": 5,
   "metadata": {},
   "outputs": [
    {
     "name": "stdout",
     "output_type": "stream",
     "text": [
      "0\n",
      "1\n",
      "2\n",
      "3\n",
      "4\n",
      "5\n",
      "6\n",
      "7\n",
      "8\n"
     ]
    }
   ],
   "source": [
    "#Genero no-postulaciones pensando en buscar id avisos\n",
    "from IPython.display import clear_output\n",
    "\n",
    "postulaciones3=postulaciones;\n",
    "postulaciones3['sepostulo']=0;\n",
    "serie=avisos['idaviso'];\n",
    "i=0\n",
    "while (len(postulaciones3)>len(serie)):\n",
    "    global i\n",
    "    serie=serie.sample(frac=1).reset_index(drop=True)\n",
    "    serie=pd.concat([serie.sample(frac=1),serie], ignore_index=False)\n",
    "    print(i)\n",
    "    i+=1\n",
    "    if(i%10==0): clear_output()\n",
    "serie=serie.reset_index(drop=True)\n",
    "postulaciones3['idaviso']=serie.iloc[0:len(postulaciones3)]\n",
    "postulaciones3.to_csv(\"../../Data/fiuba_entrenamiento/gian/no-postulaciones/6.csv\",index=False)"
   ]
  },
  {
   "cell_type": "code",
   "execution_count": 9,
   "metadata": {},
   "outputs": [
    {
     "name": "stdout",
     "output_type": "stream",
     "text": [
      "0\n",
      "1\n",
      "2\n",
      "3\n",
      "4\n",
      "5\n",
      "6\n",
      "7\n",
      "8\n",
      "0\n",
      "1\n",
      "2\n",
      "3\n"
     ]
    }
   ],
   "source": [
    "#Genero no-postulaciones con azar total\n",
    "from IPython.display import clear_output\n",
    "\n",
    "postulaciones3=postulaciones;\n",
    "postulaciones3['sepostulo']=0;\n",
    "\n",
    "serie=avisos['idaviso'];\n",
    "i=0\n",
    "while (len(postulaciones3)>len(serie)):\n",
    "    global i\n",
    "    serie=serie.sample(frac=1).reset_index(drop=True)\n",
    "    serie=pd.concat([serie.sample(frac=1),serie], ignore_index=False)\n",
    "    print(i)\n",
    "    i+=1\n",
    "    if(i%10==0): clear_output()\n",
    "serie=serie.reset_index(drop=True)\n",
    "\n",
    "\n",
    "\n",
    "seriep=postulantes['idpostulante'];\n",
    "i=0\n",
    "while (len(postulaciones3)>len(seriep)):\n",
    "    global i\n",
    "    seriep=seriep.sample(frac=1).reset_index(drop=True)\n",
    "    seriep=pd.concat([seriep.sample(frac=1),seriep], ignore_index=False)\n",
    "    print(i)\n",
    "    i+=1\n",
    "    if(i%10==0): clear_output()\n",
    "seriep=seriep.reset_index(drop=True)\n",
    "\n",
    "\n",
    "postulaciones3['idaviso']=serie.iloc[0:len(postulaciones3)]\n",
    "postulaciones3['idpostulante']=seriep.iloc[0:len(postulaciones3)]\n",
    "postulaciones3.to_csv(\"../../Data/fiuba_entrenamiento/gian/no-postulaciones/10.csv\",index=False)"
   ]
  },
  {
   "cell_type": "code",
   "execution_count": 11,
   "metadata": {},
   "outputs": [
    {
     "name": "stdout",
     "output_type": "stream",
     "text": [
      "180\n",
      "181\n",
      "182\n",
      "183\n",
      "184\n",
      "185\n",
      "186\n",
      "187\n",
      "0\n",
      "1\n",
      "2\n",
      "3\n"
     ]
    }
   ],
   "source": [
    "#Genero no postulaciones pensando en la frecuencia de las areas\n",
    "from IPython.display import clear_output\n",
    "\n",
    "postulaciones3=postulaciones;\n",
    "postulaciones3['sepostulo']=0;\n",
    "postulaciones4=pd.merge(postulaciones3,avisos, on='idaviso', how='left')\n",
    "areas=postulaciones4['nombre_area'].value_counts()\n",
    "\n",
    "\n",
    "serie=avisos['idaviso'].sample(1)\n",
    "i=0\n",
    "for j in range(0,len(areas)):\n",
    "    global i\n",
    "    aux=avisos[avisos['nombre_area']==areas.index[j]]['idaviso'].sample(1)\n",
    "    while (areas.values[j]>len(aux)):\n",
    "        aux=pd.concat([aux.sample(frac=1),avisos[avisos['nombre_area']==areas.index[j]]['idaviso'].sample(areas.values[j]-len(aux),replace=True)], ignore_index=False)\n",
    "        print(i)\n",
    "        i+=1\n",
    "        if(i%10==0): clear_output()\n",
    "    serie=pd.concat([serie,aux],axis=0,ignore_index=True)\n",
    "    serie=serie.reset_index(drop=True)\n",
    "\n",
    "\n",
    "\n",
    "seriep=postulantes['idpostulante'];\n",
    "i=0\n",
    "while (len(postulaciones3)>len(seriep)):\n",
    "    global i\n",
    "    seriep=seriep.sample(frac=1).reset_index(drop=True)\n",
    "    seriep=pd.concat([seriep.sample(frac=1),seriep], ignore_index=False)\n",
    "    print(i)\n",
    "    i+=1\n",
    "    if(i%10==0): clear_output()\n",
    "seriep=seriep.reset_index(drop=True)\n",
    "\n",
    "\n",
    "postulaciones3['idaviso']=serie.iloc[0:len(postulaciones3)]\n",
    "postulaciones3['idpostulante']=seriep.iloc[0:len(postulaciones3)]\n",
    "postulaciones3.to_csv(\"../../Data/fiuba_entrenamiento/gian/no-postulaciones/12.csv\",index=False)"
   ]
  },
  {
   "cell_type": "code",
   "execution_count": 8,
   "metadata": {},
   "outputs": [
    {
     "name": "stdout",
     "output_type": "stream",
     "text": [
      "0\n",
      "1\n"
     ]
    },
    {
     "name": "stderr",
     "output_type": "stream",
     "text": [
      "C:\\ProgramData\\Anaconda3\\lib\\site-packages\\ipykernel_launcher.py:16: SettingWithCopyWarning: \n",
      "A value is trying to be set on a copy of a slice from a DataFrame.\n",
      "Try using .loc[row_indexer,col_indexer] = value instead\n",
      "\n",
      "See the caveats in the documentation: http://pandas.pydata.org/pandas-docs/stable/indexing.html#indexing-view-versus-copy\n",
      "  app.launch_new_instance()\n"
     ]
    }
   ],
   "source": [
    "#Genero no-postulaciones teniendo en cuenta vistas (NO USAR!!)\n",
    "from IPython.display import clear_output\n",
    "\n",
    "postulaciones3=postulaciones;\n",
    "postulaciones3=postulaciones3.iloc[0:len(postulaciones3)//4]\n",
    "serie=postulantes['idpostulante'];\n",
    "i=0\n",
    "while (len(postulaciones3)>len(serie)):\n",
    "    global i\n",
    "    serie=serie.sample(frac=1).reset_index(drop=True)\n",
    "    serie=pd.concat([serie.sample(frac=1),serie], ignore_index=False)\n",
    "    print(i)\n",
    "    i+=1\n",
    "    if(i%10==0): clear_output()\n",
    "serie=serie.reset_index(drop=True)\n",
    "postulaciones3['idpostulante']=serie.iloc[0:len(postulaciones3)]\n",
    "postulaciones3=pd.concat([postulaciones3,vistas.sample((len(postulaciones)*3)//2)],ignore_index=False)\n",
    "postulaciones3['sepostulo']=0;\n",
    "postulaciones3.to_csv(\"../../Data/fiuba_entrenamiento/gian/no-postulaciones/6.csv\",index=False)"
   ]
  },
  {
   "cell_type": "code",
   "execution_count": null,
   "metadata": {},
   "outputs": [],
   "source": []
  }
 ],
 "metadata": {
  "kernelspec": {
   "display_name": "Python 3",
   "language": "python",
   "name": "python3"
  },
  "language_info": {
   "codemirror_mode": {
    "name": "ipython",
    "version": 3
   },
   "file_extension": ".py",
   "mimetype": "text/x-python",
   "name": "python",
   "nbconvert_exporter": "python",
   "pygments_lexer": "ipython3",
   "version": "3.6.4"
  }
 },
 "nbformat": 4,
 "nbformat_minor": 2
}
