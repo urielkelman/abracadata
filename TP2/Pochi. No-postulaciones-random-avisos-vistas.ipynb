{
 "cells": [
  {
   "cell_type": "code",
   "execution_count": 1,
   "metadata": {},
   "outputs": [],
   "source": [
    "import pandas as pd\n",
    "import numpy as np\n",
    "import matplotlib.pyplot as plt\n",
    "import seaborn as sns\n",
    "from datetime import datetime\n",
    "\n",
    "from sklearn import tree\n",
    "from sklearn.tree import DecisionTreeClassifier\n",
    "from sklearn.model_selection import train_test_split\n",
    "from sklearn.metrics import accuracy_score\n",
    "from sklearn import preprocessing\n",
    "from sklearn.externals import joblib\n",
    "\n",
    "%matplotlib inline"
   ]
  },
  {
   "cell_type": "code",
   "execution_count": 2,
   "metadata": {},
   "outputs": [],
   "source": [
    "plt.rc('figure',dpi=100);"
   ]
  },
  {
   "cell_type": "code",
   "execution_count": 3,
   "metadata": {},
   "outputs": [],
   "source": [
    "avisos = pd.read_csv(\"Data/fiuba_entrenamiento/pocho/avisos.csv\")\n",
    "postulaciones = pd.read_csv(\"Data/fiuba_entrenamiento/pocho/postulaciones.csv\")\n",
    "postulantes = pd.read_csv(\"Data/fiuba_entrenamiento/pocho/postulantes.csv\")\n",
    "vistas = pd.read_csv(\"Data/fiuba_entrenamiento/pocho/vistas.csv\")"
   ]
  },
  {
   "cell_type": "code",
   "execution_count": 4,
   "metadata": {},
   "outputs": [],
   "source": [
    "vistas.drop(['timestamp','dia','mes','semana','diadelasemana','hora'],axis=1,inplace=True)\n",
    "vistas.columns=['idaviso','idpostulante']\n",
    "\n",
    "postulantes['sexo']=postulantes['sexo'].astype('category')\n",
    "postulantes['Doctorado']=postulantes['Doctorado'].astype('category')\n",
    "postulantes['Master']=postulantes['Master'].astype('category')\n",
    "postulantes['Otro']=postulantes['Otro'].astype('category')\n",
    "postulantes['Posgrado']=postulantes['Posgrado'].astype('category')\n",
    "postulantes['Secundario']=postulantes['Secundario'].astype('category')\n",
    "postulantes['Terciario/Técnico']=postulantes['Terciario/Técnico'].astype('category')\n",
    "postulantes['Universitario']=postulantes['Universitario'].astype('category')\n",
    "\n",
    "avisos['nombre_zona']=avisos['nombre_zona'].astype('category')\n",
    "avisos['tipo_de_trabajo']=avisos['tipo_de_trabajo'].astype('category')\n",
    "avisos['nivel_laboral']=avisos['nivel_laboral'].astype('category')\n",
    "avisos['nombre_area']=avisos['nombre_area'].astype('category')\n",
    "\n",
    "postulaciones['sepostulo']=1\n",
    "postulaciones.drop(['fechapostulacion','dia','mes','semana','diadelasemana','hora'],axis=1,inplace=True)\n",
    "\n"
   ]
  },
  {
   "cell_type": "code",
   "execution_count": 5,
   "metadata": {},
   "outputs": [
    {
     "name": "stdout",
     "output_type": "stream",
     "text": [
      "0\n",
      "1\n",
      "2\n",
      "3\n"
     ]
    },
    {
     "data": {
      "text/html": [
       "<div>\n",
       "<style scoped>\n",
       "    .dataframe tbody tr th:only-of-type {\n",
       "        vertical-align: middle;\n",
       "    }\n",
       "\n",
       "    .dataframe tbody tr th {\n",
       "        vertical-align: top;\n",
       "    }\n",
       "\n",
       "    .dataframe thead th {\n",
       "        text-align: right;\n",
       "    }\n",
       "</style>\n",
       "<table border=\"1\" class=\"dataframe\">\n",
       "  <thead>\n",
       "    <tr style=\"text-align: right;\">\n",
       "      <th></th>\n",
       "      <th>idaviso</th>\n",
       "      <th>idpostulante</th>\n",
       "      <th>sepostulo</th>\n",
       "    </tr>\n",
       "  </thead>\n",
       "  <tbody>\n",
       "    <tr>\n",
       "      <th>0</th>\n",
       "      <td>1112257047</td>\n",
       "      <td>NzeV9b5</td>\n",
       "      <td>0</td>\n",
       "    </tr>\n",
       "    <tr>\n",
       "      <th>1</th>\n",
       "      <td>1111920714</td>\n",
       "      <td>1QkYZPj</td>\n",
       "      <td>0</td>\n",
       "    </tr>\n",
       "    <tr>\n",
       "      <th>2</th>\n",
       "      <td>1112346945</td>\n",
       "      <td>8M2dWpx</td>\n",
       "      <td>0</td>\n",
       "    </tr>\n",
       "    <tr>\n",
       "      <th>3</th>\n",
       "      <td>1112345547</td>\n",
       "      <td>6OMWoO</td>\n",
       "      <td>0</td>\n",
       "    </tr>\n",
       "    <tr>\n",
       "      <th>4</th>\n",
       "      <td>1112237522</td>\n",
       "      <td>0zr8mWM</td>\n",
       "      <td>0</td>\n",
       "    </tr>\n",
       "  </tbody>\n",
       "</table>\n",
       "</div>"
      ],
      "text/plain": [
       "      idaviso idpostulante  sepostulo\n",
       "0  1112257047      NzeV9b5          0\n",
       "1  1111920714      1QkYZPj          0\n",
       "2  1112346945      8M2dWpx          0\n",
       "3  1112345547       6OMWoO          0\n",
       "4  1112237522      0zr8mWM          0"
      ]
     },
     "execution_count": 5,
     "metadata": {},
     "output_type": "execute_result"
    }
   ],
   "source": [
    "#Genero no-postulaciones\n",
    "from IPython.display import clear_output\n",
    "\n",
    "postulaciones3=postulaciones;\n",
    "postulaciones3['sepostulo']=0;\n",
    "serie=postulantes['idpostulante'];\n",
    "i=0\n",
    "while (len(postulaciones3)>len(serie)):\n",
    "    global i\n",
    "    serie=serie.sample(frac=1).reset_index(drop=True)\n",
    "    serie=pd.concat([serie.sample(frac=1),serie], ignore_index=False)\n",
    "    print(i)\n",
    "    i+=1\n",
    "    if(i%10==0): clear_output()\n",
    "serie=serie.reset_index(drop=True)\n",
    "postulaciones3['idpostulante']=serie.iloc[0:len(postulaciones3)]\n",
    "postulaciones3.to_csv(\"Data/fiuba_entrenamiento/pocho/no-postulaciones/1.csv\",index=False)\n",
    "postulaciones3.head()"
   ]
  },
  {
   "cell_type": "code",
   "execution_count": 7,
   "metadata": {},
   "outputs": [
    {
     "name": "stdout",
     "output_type": "stream",
     "text": [
      "0\n",
      "1\n",
      "hola\n"
     ]
    },
    {
     "name": "stderr",
     "output_type": "stream",
     "text": [
      "C:\\Users\\Pocho\\Anaconda3\\lib\\site-packages\\ipykernel_launcher.py:19: SettingWithCopyWarning: \n",
      "A value is trying to be set on a copy of a slice from a DataFrame.\n",
      "Try using .loc[row_indexer,col_indexer] = value instead\n",
      "\n",
      "See the caveats in the documentation: http://pandas.pydata.org/pandas-docs/stable/indexing.html#indexing-view-versus-copy\n",
      "C:\\Users\\Pocho\\Anaconda3\\lib\\site-packages\\ipykernel_launcher.py:21: FutureWarning: Sorting because non-concatenation axis is not aligned. A future version\n",
      "of pandas will change to not sort by default.\n",
      "\n",
      "To accept the future behavior, pass 'sort=True'.\n",
      "\n",
      "To retain the current behavior and silence the warning, pass sort=False\n",
      "\n"
     ]
    }
   ],
   "source": [
    "#Genero no-postulaciones teniendo en cuenta vistas\n",
    "from IPython.display import clear_output\n",
    "\n",
    "postulaciones3=postulaciones;\n",
    "postulaciones3=postulaciones3.iloc[0:len(postulaciones)//4]\n",
    "serie=postulantes['idpostulante'];\n",
    "i=0\n",
    "while (len(postulaciones3)>len(serie)):\n",
    "    global i\n",
    "    serie=serie.sample(frac=1).reset_index(drop=True)\n",
    "    serie=pd.concat([serie.sample(frac=1),serie], ignore_index=False)\n",
    "    print(i)\n",
    "    i+=1\n",
    "    if(i%10==0): clear_output()\n",
    "serie=serie.reset_index(drop=True)\n",
    "\n",
    "\n",
    "print(\"hola\")\n",
    "postulaciones3['idpostulante']=serie.iloc[0:len(postulaciones3)]\n",
    "\n",
    "postulaciones3=pd.concat([postulaciones3,vistas.sample((len(postulaciones)*3)//2)],ignore_index=False)\n",
    "postulaciones3['sepostulo']=0;\n",
    "postulaciones3.drop_duplicates()\n",
    "postulaciones3.to_csv(\"Data/fiuba_entrenamiento/pocho/no-postulaciones/2.csv\",index=False)\n"
   ]
  },
  {
   "cell_type": "code",
   "execution_count": 6,
   "metadata": {},
   "outputs": [
    {
     "name": "stdout",
     "output_type": "stream",
     "text": [
      "10\n",
      "11\n"
     ]
    },
    {
     "name": "stderr",
     "output_type": "stream",
     "text": [
      "C:\\Users\\Pocho\\Anaconda3\\lib\\site-packages\\ipykernel_launcher.py:28: SettingWithCopyWarning: \n",
      "A value is trying to be set on a copy of a slice from a DataFrame.\n",
      "Try using .loc[row_indexer,col_indexer] = value instead\n",
      "\n",
      "See the caveats in the documentation: http://pandas.pydata.org/pandas-docs/stable/indexing.html#indexing-view-versus-copy\n",
      "C:\\Users\\Pocho\\Anaconda3\\lib\\site-packages\\ipykernel_launcher.py:29: SettingWithCopyWarning: \n",
      "A value is trying to be set on a copy of a slice from a DataFrame.\n",
      "Try using .loc[row_indexer,col_indexer] = value instead\n",
      "\n",
      "See the caveats in the documentation: http://pandas.pydata.org/pandas-docs/stable/indexing.html#indexing-view-versus-copy\n"
     ]
    },
    {
     "name": "stdout",
     "output_type": "stream",
     "text": [
      "      idaviso idpostulante  sepostulo\n",
      "0  1112338512      NzrZ6pM          1\n",
      "1  1112262617      zvPkR5b          1\n",
      "2  1112307057       YZPrvJ          1\n",
      "3  1112351911       EkDl8b          1\n",
      "4  1112509963      6rQkj2L          1\n",
      "5  1112442048      pzjkR0b          1\n",
      "6  1112337685      DrpbjjZ          1\n",
      "7  1112233648      0zkj2rq          1\n",
      "8  1112354346      rmR1Z3A          1\n",
      "9  1111472660      OqreeXN          1\n"
     ]
    },
    {
     "name": "stderr",
     "output_type": "stream",
     "text": [
      "C:\\Users\\Pocho\\Anaconda3\\lib\\site-packages\\ipykernel_launcher.py:31: FutureWarning: Sorting because non-concatenation axis is not aligned. A future version\n",
      "of pandas will change to not sort by default.\n",
      "\n",
      "To accept the future behavior, pass 'sort=True'.\n",
      "\n",
      "To retain the current behavior and silence the warning, pass sort=False\n",
      "\n"
     ]
    }
   ],
   "source": [
    "#Genero no-postulaciones teniendo en cuenta vistas y anuncios\n",
    "from IPython.display import clear_output\n",
    "\n",
    "postulaciones4=postulaciones;\n",
    "postulaciones4=postulaciones4.iloc[0:len(postulaciones)*3//4]\n",
    "serie_post=postulantes['idpostulante']\n",
    "serie_anun = avisos[\"idaviso\"]\n",
    "i=0\n",
    "while (len(postulaciones4)>len(serie_post)):\n",
    "    global i\n",
    "    serie_post=serie_post.sample(frac=1).reset_index(drop=True)\n",
    "    serie_post = pd.concat([serie_post.sample(frac=1),serie_post], ignore_index=False)\n",
    "    print(i)\n",
    "    i+=1\n",
    "    if(i%10==0): clear_output()\n",
    "\n",
    "while ( len(postulaciones4)>len(serie_anun) ):\n",
    "    global i\n",
    "    serie_anun=serie_anun.sample(frac=1).reset_index(drop=True)\n",
    "    serie_anun = pd.concat([serie_anun.sample(frac=1),serie_anun], ignore_index=False)\n",
    "    print(i)\n",
    "    i+=1\n",
    "    if(i%10==0): clear_output()\n",
    "        \n",
    "serie_post=serie_post.reset_index(drop=True)\n",
    "serie_anun = serie_anun.reset_index(drop=True)\n",
    "\n",
    "postulaciones4['idpostulante']= serie_post.iloc[:len(postulaciones4)]\n",
    "postulaciones4[\"idaviso\"] = serie_anun.iloc[:len(postulaciones4)]\n",
    "print(postulaciones4.head(10))\n",
    "postulaciones4=pd.concat([postulaciones4,vistas.sample((len(postulaciones)*3)//2)],ignore_index=False)\n",
    "postulaciones4['sepostulo']=0;\n",
    "postulaciones4.drop_duplicates()\n",
    "postulaciones4.to_csv(\"Data/fiuba_entrenamiento/pocho/no-postulaciones/3.csv\",index=False)\n"
   ]
  },
  {
   "cell_type": "code",
   "execution_count": 5,
   "metadata": {},
   "outputs": [
    {
     "name": "stdout",
     "output_type": "stream",
     "text": [
      "0\n",
      "1\n",
      "2\n",
      "3\n",
      "4\n",
      "5\n",
      "6\n",
      "7\n",
      "8\n",
      "0\n",
      "1\n",
      "2\n",
      "3\n"
     ]
    }
   ],
   "source": [
    "#AZAR TOTAL - USAR ESTO\n",
    "\n",
    "from IPython.display import clear_output\n",
    "\n",
    "postulaciones3=postulaciones;\n",
    "postulaciones3['sepostulo']=0;\n",
    "\n",
    "serie=avisos['idaviso'];\n",
    "i=0\n",
    "while (len(postulaciones3)>len(serie)):\n",
    "    global i\n",
    "    serie=serie.sample(frac=1).reset_index(drop=True)\n",
    "    serie=pd.concat([serie.sample(frac=1),serie], ignore_index=False)\n",
    "    print(i)\n",
    "    i+=1\n",
    "    if(i%10==0): clear_output()\n",
    "serie=serie.reset_index(drop=True)\n",
    "\n",
    "\n",
    "\n",
    "seriep=postulantes['idpostulante'];\n",
    "i=0\n",
    "while (len(postulaciones3)>len(seriep)):\n",
    "    global i\n",
    "    seriep=seriep.sample(frac=1).reset_index(drop=True)\n",
    "    seriep=pd.concat([seriep.sample(frac=1),seriep], ignore_index=False)\n",
    "    print(i)\n",
    "    i+=1\n",
    "    if(i%10==0): clear_output()\n",
    "seriep=seriep.reset_index(drop=True)\n",
    "\n",
    "\n",
    "postulaciones3['idaviso']=serie.iloc[0:len(postulaciones3)]\n",
    "postulaciones3['idpostulante']=seriep.iloc[0:len(postulaciones3)]\n",
    "postulaciones3.to_csv(\"Data/fiuba_entrenamiento/pocho/no-postulaciones/azar_total.csv\",index=False)"
   ]
  },
  {
   "cell_type": "code",
   "execution_count": null,
   "metadata": {},
   "outputs": [],
   "source": []
  }
 ],
 "metadata": {
  "kernelspec": {
   "display_name": "Python 3",
   "language": "python",
   "name": "python3"
  },
  "language_info": {
   "codemirror_mode": {
    "name": "ipython",
    "version": 3
   },
   "file_extension": ".py",
   "mimetype": "text/x-python",
   "name": "python",
   "nbconvert_exporter": "python",
   "pygments_lexer": "ipython3",
   "version": "3.6.5"
  }
 },
 "nbformat": 4,
 "nbformat_minor": 2
}
