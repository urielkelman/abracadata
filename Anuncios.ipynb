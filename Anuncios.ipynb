{
 "cells": [
  {
   "cell_type": "code",
   "execution_count": 10,
   "metadata": {},
   "outputs": [],
   "source": [
    "import pandas as pd\n",
    "import numpy as np\n",
    "import matplotlib.pyplot as plt\n",
    "import seaborn as sns\n",
    "from datetime import datetime\n",
    "\n",
    "%matplotlib inline"
   ]
  },
  {
   "cell_type": "code",
   "execution_count": null,
   "metadata": {},
   "outputs": [],
   "source": [
    "plt.rc('figure',dpi=100);"
   ]
  },
  {
   "cell_type": "code",
   "execution_count": 33,
   "metadata": {},
   "outputs": [],
   "source": [
    "anuncios = pd.read_csv(\"../Data/datos_navent_fiuba/fiuba_6_avisos_detalle.csv\")"
   ]
  },
  {
   "cell_type": "code",
   "execution_count": 34,
   "metadata": {},
   "outputs": [
    {
     "data": {
      "text/plain": [
       "Ventas                                   1659\n",
       "Comercial                                 983\n",
       "Administración                            901\n",
       "Producción                                821\n",
       "Programación                              576\n",
       "Contabilidad                              416\n",
       "Tecnologia / Sistemas                     388\n",
       "Atención al Cliente                       347\n",
       "Mantenimiento                             324\n",
       "Recursos Humanos                          235\n",
       "Gastronomia                               234\n",
       "Oficios y Profesiones                     209\n",
       "Soporte Técnico                           203\n",
       "Logística                                 200\n",
       "Call Center                               191\n",
       "Almacén / Depósito / Expedición           184\n",
       "Compras                                   170\n",
       "Marketing                                 153\n",
       "Otros                                     153\n",
       "Administración de Personal                152\n",
       "Recepcionista                             151\n",
       "Transporte                                148\n",
       "Mantenimiento y Limpieza                  141\n",
       "Finanzas                                  138\n",
       "Telemarketing                             138\n",
       "Tesorería                                 137\n",
       "Créditos y Cobranzas                      132\n",
       "Salud                                     127\n",
       "Desarrollo de Negocios                    126\n",
       "Medicina                                  119\n",
       "                                         ... \n",
       "Farmacia industrial                         3\n",
       "Medicina Laboral                            2\n",
       "Mercadotecnia Internacional                 2\n",
       "Dirección                                   2\n",
       "Trabajo Social                              2\n",
       "Ingeniería Geológica                        2\n",
       "Educación especial                          2\n",
       "Otras áreas técnicas en salud               2\n",
       "Farmacia comercial                          2\n",
       "Data Warehousing                            2\n",
       "Topografía                                  2\n",
       "Instrumentación                             2\n",
       "Diseño 3D                                   2\n",
       "Trabajo social                              2\n",
       "Responsabilidad Social                      2\n",
       "Diseño Multimedia                           2\n",
       "Idiomas                                     1\n",
       "Traduccion                                  1\n",
       "Otras Especialidades médicas                1\n",
       "Comunicaciones Externas                     1\n",
       "Bienestar Estudiantil                       1\n",
       "Farmacia hospitalaria                       1\n",
       "Exploración Minera y Petroquimica           1\n",
       "Ingeniería en Petróleo y Petroquímica       1\n",
       "Telefonista                                 1\n",
       "Arte y Cultura                              1\n",
       "Urbanismo                                   1\n",
       "Emergentología                              1\n",
       "Instrumentación quirúrgica                  1\n",
       "Quimica                                     1\n",
       "Name: nombre_area, Length: 173, dtype: int64"
      ]
     },
     "execution_count": 34,
     "metadata": {},
     "output_type": "execute_result"
    }
   ],
   "source": [
    "anuncios_por_area = anuncios['nombre_area'].value_counts()\n",
    "anuncios_por_area"
   ]
  },
  {
   "cell_type": "code",
   "execution_count": 36,
   "metadata": {},
   "outputs": [
    {
     "data": {
      "text/plain": [
       "Ventas                   1659\n",
       "Comercial                 983\n",
       "Administración            901\n",
       "Producción                821\n",
       "Programación              576\n",
       "Contabilidad              416\n",
       "Tecnologia / Sistemas     388\n",
       "Atención al Cliente       347\n",
       "Mantenimiento             324\n",
       "Recursos Humanos          235\n",
       "Name: nombre_area, dtype: int64"
      ]
     },
     "execution_count": 36,
     "metadata": {},
     "output_type": "execute_result"
    }
   ],
   "source": [
    "#filtro por los 5 mas populares.\n",
    "anuncios_por_area = anuncios_por_area[anuncios_por_area > 234]\n",
    "anuncios_por_area.head(11)"
   ]
  },
  {
   "cell_type": "code",
   "execution_count": 40,
   "metadata": {},
   "outputs": [],
   "source": [
    "def key_or_other(key):\n",
    "    keys = ['Ventas', 'Comercial', 'Administración', 'Producción', 'Programación', 'Contabilidad', 'Contabilidad', 'Tecnologia / Sistemas', 'Mantenimiento', 'Recursos Humanos']\n",
    "    if key in keys:\n",
    "        return key\n",
    "    return \"Otro\""
   ]
  },
  {
   "cell_type": "code",
   "execution_count": 41,
   "metadata": {},
   "outputs": [
    {
     "data": {
      "text/html": [
       "<div>\n",
       "<style scoped>\n",
       "    .dataframe tbody tr th:only-of-type {\n",
       "        vertical-align: middle;\n",
       "    }\n",
       "\n",
       "    .dataframe tbody tr th {\n",
       "        vertical-align: top;\n",
       "    }\n",
       "\n",
       "    .dataframe thead th {\n",
       "        text-align: right;\n",
       "    }\n",
       "</style>\n",
       "<table border=\"1\" class=\"dataframe\">\n",
       "  <thead>\n",
       "    <tr style=\"text-align: right;\">\n",
       "      <th></th>\n",
       "      <th>idaviso</th>\n",
       "      <th>idpais</th>\n",
       "      <th>titulo</th>\n",
       "      <th>descripcion</th>\n",
       "      <th>nombre_zona</th>\n",
       "      <th>ciudad</th>\n",
       "      <th>mapacalle</th>\n",
       "      <th>tipo_de_trabajo</th>\n",
       "      <th>nivel_laboral</th>\n",
       "      <th>nombre_area</th>\n",
       "      <th>denominacion_empresa</th>\n",
       "      <th>area_pop</th>\n",
       "    </tr>\n",
       "  </thead>\n",
       "  <tbody>\n",
       "    <tr>\n",
       "      <th>0</th>\n",
       "      <td>8725750</td>\n",
       "      <td>1</td>\n",
       "      <td>VENDEDOR/A PROVINCIA DE SANTA FE</td>\n",
       "      <td>&lt;p&gt;&lt;strong&gt;&lt;strong&gt;Empresa:&lt;/strong&gt;&lt;/strong&gt; ...</td>\n",
       "      <td>Gran Buenos Aires</td>\n",
       "      <td>NaN</td>\n",
       "      <td>NaN</td>\n",
       "      <td>Full-time</td>\n",
       "      <td>Senior / Semi-Senior</td>\n",
       "      <td>Comercial</td>\n",
       "      <td>VENTOR</td>\n",
       "      <td>Comercial</td>\n",
       "    </tr>\n",
       "    <tr>\n",
       "      <th>1</th>\n",
       "      <td>17903700</td>\n",
       "      <td>1</td>\n",
       "      <td>Enfermeras</td>\n",
       "      <td>&lt;p&gt;Solicitamos para importante cadena de farma...</td>\n",
       "      <td>Gran Buenos Aires</td>\n",
       "      <td>NaN</td>\n",
       "      <td>NaN</td>\n",
       "      <td>Full-time</td>\n",
       "      <td>Senior / Semi-Senior</td>\n",
       "      <td>Salud</td>\n",
       "      <td>Farmacias Central Oeste</td>\n",
       "      <td>Otro</td>\n",
       "    </tr>\n",
       "    <tr>\n",
       "      <th>2</th>\n",
       "      <td>1000150677</td>\n",
       "      <td>1</td>\n",
       "      <td>Chofer de taxi</td>\n",
       "      <td>&lt;p&gt;TE GUSTA MANEJAR? QUERES GANAR PLATA HACIEN...</td>\n",
       "      <td>Capital Federal</td>\n",
       "      <td>NaN</td>\n",
       "      <td>Empedrado 2336</td>\n",
       "      <td>Full-time</td>\n",
       "      <td>Senior / Semi-Senior</td>\n",
       "      <td>Transporte</td>\n",
       "      <td>FAMITAX SRL</td>\n",
       "      <td>Otro</td>\n",
       "    </tr>\n",
       "    <tr>\n",
       "      <th>3</th>\n",
       "      <td>1000610287</td>\n",
       "      <td>1</td>\n",
       "      <td>CHOFER DE CAMIONETA BAHIA BLANCA - PUNTA ALTA</td>\n",
       "      <td>&lt;p&gt;&lt;strong&gt;Somos una empresa multinacional que...</td>\n",
       "      <td>Gran Buenos Aires</td>\n",
       "      <td>NaN</td>\n",
       "      <td>NaN</td>\n",
       "      <td>Full-time</td>\n",
       "      <td>Senior / Semi-Senior</td>\n",
       "      <td>Transporte</td>\n",
       "      <td>Wurth Argentina S.A</td>\n",
       "      <td>Otro</td>\n",
       "    </tr>\n",
       "    <tr>\n",
       "      <th>4</th>\n",
       "      <td>1000872556</td>\n",
       "      <td>1</td>\n",
       "      <td>Operarios de Planta - Rubro Electrodomésticos</td>\n",
       "      <td>&lt;p&gt;&lt;strong&gt;OPERARIOS DE PLANTA&lt;/strong&gt;&lt;/p&gt;&lt;p&gt;...</td>\n",
       "      <td>Gran Buenos Aires</td>\n",
       "      <td>NaN</td>\n",
       "      <td>NaN</td>\n",
       "      <td>Full-time</td>\n",
       "      <td>Senior / Semi-Senior</td>\n",
       "      <td>Producción</td>\n",
       "      <td>ELECTRO OUTLET SRL</td>\n",
       "      <td>Producción</td>\n",
       "    </tr>\n",
       "  </tbody>\n",
       "</table>\n",
       "</div>"
      ],
      "text/plain": [
       "      idaviso  idpais                                         titulo  \\\n",
       "0     8725750       1               VENDEDOR/A PROVINCIA DE SANTA FE   \n",
       "1    17903700       1                                     Enfermeras   \n",
       "2  1000150677       1                                 Chofer de taxi   \n",
       "3  1000610287       1  CHOFER DE CAMIONETA BAHIA BLANCA - PUNTA ALTA   \n",
       "4  1000872556       1  Operarios de Planta - Rubro Electrodomésticos   \n",
       "\n",
       "                                         descripcion        nombre_zona  \\\n",
       "0  <p><strong><strong>Empresa:</strong></strong> ...  Gran Buenos Aires   \n",
       "1  <p>Solicitamos para importante cadena de farma...  Gran Buenos Aires   \n",
       "2  <p>TE GUSTA MANEJAR? QUERES GANAR PLATA HACIEN...    Capital Federal   \n",
       "3  <p><strong>Somos una empresa multinacional que...  Gran Buenos Aires   \n",
       "4  <p><strong>OPERARIOS DE PLANTA</strong></p><p>...  Gran Buenos Aires   \n",
       "\n",
       "  ciudad       mapacalle tipo_de_trabajo         nivel_laboral nombre_area  \\\n",
       "0    NaN             NaN       Full-time  Senior / Semi-Senior   Comercial   \n",
       "1    NaN             NaN       Full-time  Senior / Semi-Senior       Salud   \n",
       "2    NaN  Empedrado 2336       Full-time  Senior / Semi-Senior  Transporte   \n",
       "3    NaN             NaN       Full-time  Senior / Semi-Senior  Transporte   \n",
       "4    NaN             NaN       Full-time  Senior / Semi-Senior  Producción   \n",
       "\n",
       "      denominacion_empresa    area_pop  \n",
       "0                   VENTOR   Comercial  \n",
       "1  Farmacias Central Oeste        Otro  \n",
       "2              FAMITAX SRL        Otro  \n",
       "3      Wurth Argentina S.A        Otro  \n",
       "4       ELECTRO OUTLET SRL  Producción  "
      ]
     },
     "execution_count": 41,
     "metadata": {},
     "output_type": "execute_result"
    }
   ],
   "source": [
    "anuncios['area_pop'] = anuncios['nombre_area'].map(key_or_other)\n",
    "anuncios.head()"
   ]
  },
  {
   "cell_type": "code",
   "execution_count": 46,
   "metadata": {},
   "outputs": [],
   "source": [
    "anuncios_filtrados = anuncios[anuncios['area_pop'] != \"Otro\"]"
   ]
  },
  {
   "cell_type": "code",
   "execution_count": 94,
   "metadata": {},
   "outputs": [
    {
     "data": {
      "text/plain": [
       "Text(0,0.5,'Cantidad de anuncios')"
      ]
     },
     "execution_count": 94,
     "metadata": {},
     "output_type": "execute_result"
    },
    {
     "data": {
      "image/png": "[encoded data removed]",
      "text/plain": [
       "<matplotlib.figure.Figure at 0x118665d9fd0>"
      ]
     },
     "metadata": {},
     "output_type": "display_data"
    }
   ],
   "source": [
    "anuncios_por_area = sns.countplot(x='area_pop', data=anuncios_filtrados, order=anuncios_filtrados['area_pop']\\\n",
    "                                 .value_counts().index, orient='v')\n",
    "anuncios_por_area.set_xticklabels(anuncios_por_area.get_xticklabels(), rotation=75)\n",
    "anuncios_por_area.set_title(\"Top 10 areas de trabajo mas requeridas\", fontsize =18)\n",
    "anuncios_por_area.set_xlabel(\"Nombre del area\", fontsize = 12)\n",
    "anuncios_por_area.set_ylabel(\"Cantidad de anuncios\", fontsize = 12)"
   ]
  },
  {
   "cell_type": "code",
   "execution_count": 118,
   "metadata": {},
   "outputs": [],
   "source": [
    "grupo = anuncios.groupby(\"denominacion_empresa\", as_index=False).agg({'idaviso':'count'}).sort_values(by='idaviso', ascending=False)"
   ]
  },
  {
   "cell_type": "code",
   "execution_count": 119,
   "metadata": {},
   "outputs": [
    {
     "data": {
      "text/html": [
       "<div>\n",
       "<style scoped>\n",
       "    .dataframe tbody tr th:only-of-type {\n",
       "        vertical-align: middle;\n",
       "    }\n",
       "\n",
       "    .dataframe tbody tr th {\n",
       "        vertical-align: top;\n",
       "    }\n",
       "\n",
       "    .dataframe thead th {\n",
       "        text-align: right;\n",
       "    }\n",
       "</style>\n",
       "<table border=\"1\" class=\"dataframe\">\n",
       "  <thead>\n",
       "    <tr style=\"text-align: right;\">\n",
       "      <th></th>\n",
       "      <th>denominacion_empresa</th>\n",
       "      <th>cantidad_avisos</th>\n",
       "    </tr>\n",
       "  </thead>\n",
       "  <tbody>\n",
       "    <tr>\n",
       "      <th>1944</th>\n",
       "      <td>RANDSTAD</td>\n",
       "      <td>562</td>\n",
       "    </tr>\n",
       "    <tr>\n",
       "      <th>1595</th>\n",
       "      <td>Manpower</td>\n",
       "      <td>422</td>\n",
       "    </tr>\n",
       "    <tr>\n",
       "      <th>1163</th>\n",
       "      <td>Grupo Gestión</td>\n",
       "      <td>383</td>\n",
       "    </tr>\n",
       "    <tr>\n",
       "      <th>201</th>\n",
       "      <td>Assistem</td>\n",
       "      <td>289</td>\n",
       "    </tr>\n",
       "    <tr>\n",
       "      <th>2137</th>\n",
       "      <td>SOLUTIX S.A.</td>\n",
       "      <td>260</td>\n",
       "    </tr>\n",
       "  </tbody>\n",
       "</table>\n",
       "</div>"
      ],
      "text/plain": [
       "     denominacion_empresa  cantidad_avisos\n",
       "1944             RANDSTAD              562\n",
       "1595             Manpower              422\n",
       "1163        Grupo Gestión              383\n",
       "201              Assistem              289\n",
       "2137        SOLUTIX S.A.               260"
      ]
     },
     "execution_count": 119,
     "metadata": {},
     "output_type": "execute_result"
    }
   ],
   "source": [
    "grupo.rename(columns={'idaviso':'cantidad_avisos'}, inplace=True)\n",
    "grupo.head()"
   ]
  },
  {
   "cell_type": "code",
   "execution_count": 120,
   "metadata": {},
   "outputs": [],
   "source": [
    "def rango_avisos(cantidad_avisos):\n",
    "    if cantidad_avisos < 5:\n",
    "        return \"Menos de 5\"\n",
    "    if cantidad_avisos < 10:\n",
    "        return \"Entre 5 y 10\"\n",
    "    if cantidad_avisos < 20:\n",
    "        return \"Entre 10 y 20\"\n",
    "    if cantidad_avisos < 50:\n",
    "        return \"Entre 20 y 50\"\n",
    "    if cantidad_avisos < 100:\n",
    "        return \"Entre 50 y 100\"\n",
    "    return \"Mas de 100\""
   ]
  },
  {
   "cell_type": "code",
   "execution_count": 121,
   "metadata": {},
   "outputs": [],
   "source": [
    "grupo['rango_avisos'] = grupo['cantidad_avisos'].map(rango_avisos)"
   ]
  },
  {
   "cell_type": "code",
   "execution_count": 125,
   "metadata": {},
   "outputs": [
    {
     "data": {
      "text/html": [
       "<div>\n",
       "<style scoped>\n",
       "    .dataframe tbody tr th:only-of-type {\n",
       "        vertical-align: middle;\n",
       "    }\n",
       "\n",
       "    .dataframe tbody tr th {\n",
       "        vertical-align: top;\n",
       "    }\n",
       "\n",
       "    .dataframe thead th {\n",
       "        text-align: right;\n",
       "    }\n",
       "</style>\n",
       "<table border=\"1\" class=\"dataframe\">\n",
       "  <thead>\n",
       "    <tr style=\"text-align: right;\">\n",
       "      <th></th>\n",
       "      <th>rango_avisos</th>\n",
       "      <th>cantidad_avisos</th>\n",
       "    </tr>\n",
       "  </thead>\n",
       "  <tbody>\n",
       "    <tr>\n",
       "      <th>0</th>\n",
       "      <td>Entre 10 y 20</td>\n",
       "      <td>1374</td>\n",
       "    </tr>\n",
       "    <tr>\n",
       "      <th>1</th>\n",
       "      <td>Entre 20 y 50</td>\n",
       "      <td>1990</td>\n",
       "    </tr>\n",
       "    <tr>\n",
       "      <th>2</th>\n",
       "      <td>Entre 5 y 10</td>\n",
       "      <td>1348</td>\n",
       "    </tr>\n",
       "    <tr>\n",
       "      <th>3</th>\n",
       "      <td>Entre 50 y 100</td>\n",
       "      <td>1514</td>\n",
       "    </tr>\n",
       "    <tr>\n",
       "      <th>4</th>\n",
       "      <td>Mas de 100</td>\n",
       "      <td>3945</td>\n",
       "    </tr>\n",
       "  </tbody>\n",
       "</table>\n",
       "</div>"
      ],
      "text/plain": [
       "     rango_avisos  cantidad_avisos\n",
       "0   Entre 10 y 20             1374\n",
       "1   Entre 20 y 50             1990\n",
       "2    Entre 5 y 10             1348\n",
       "3  Entre 50 y 100             1514\n",
       "4      Mas de 100             3945"
      ]
     },
     "execution_count": 125,
     "metadata": {},
     "output_type": "execute_result"
    }
   ],
   "source": [
    "grupo = grupo.groupby(\"rango_avisos\").agg({'cantidad_avisos':'sum'}).reset_index()\n",
    "grupo.head()"
   ]
  },
  {
   "cell_type": "code",
   "execution_count": 145,
   "metadata": {},
   "outputs": [
    {
     "data": {
      "text/plain": [
       "[Text(0,0,'Menos de 5'),\n",
       " Text(0,0,'Entre 5 y 10'),\n",
       " Text(0,0,'Entre 10 y 20'),\n",
       " Text(0,0,'Entre 20 y 50'),\n",
       " Text(0,0,'Entre 50 y 100'),\n",
       " Text(0,0,'Mas de 100')]"
      ]
     },
     "execution_count": 145,
     "metadata": {},
     "output_type": "execute_result"
    },
    {
     "data": {
      "image/png": "[encoded data removed]",
      "text/plain": [
       "<matplotlib.figure.Figure at 0x1185cf4d3c8>"
      ]
     },
     "metadata": {},
     "output_type": "display_data"
    }
   ],
   "source": [
    "cantidad_anuncios_por_tamanio = sns.barplot(x='rango_avisos', y='cantidad_avisos', data=grupo, order=['Menos de 5', \\\n",
    "        'Entre 5 y 10', 'Entre 10 y 20', 'Entre 20 y 50', 'Entre 50 y 100', 'Mas de 100'], palette='hls')\n",
    "cantidad_anuncios_por_tamanio.set_title(\"Cantidad de avisos que aportan al total de avisos las empresas con el numero de avisos indicado\", fontsize = 10)\n",
    "cantidad_anuncios_por_tamanio.set_xlabel(\"Rango de avisos\")\n",
    "cantidad_anuncios_por_tamanio.set_ylabel(\"Avisos de las empresas que aportan en el rango\", fontsize = 8)\n",
    "cantidad_anuncios_por_tamanio.set_xticklabels(cantidad_anuncios_por_tamanio.get_xticklabels(), rotation=30)"
   ]
  },
  {
   "cell_type": "code",
   "execution_count": 146,
   "metadata": {},
   "outputs": [
    {
     "data": {
      "text/plain": [
       "Senior / Semi-Senior                    9407\n",
       "Junior                                  2216\n",
       "Otro                                     921\n",
       "Jefe / Supervisor / Responsable          809\n",
       "Gerencia / Alta Gerencia / Dirección     181\n",
       "Name: nivel_laboral, dtype: int64"
      ]
     },
     "execution_count": 146,
     "metadata": {},
     "output_type": "execute_result"
    }
   ],
   "source": [
    "anuncios['nivel_laboral'].value_counts()"
   ]
  },
  {
   "cell_type": "code",
   "execution_count": 156,
   "metadata": {},
   "outputs": [
    {
     "data": {
      "text/plain": [
       "Text(0.5,1,'Anuncios por nivel laboral pretendido')"
      ]
     },
     "execution_count": 156,
     "metadata": {},
     "output_type": "execute_result"
    },
    {
     "data": {
      "image/png": "[encoded data removed]",
      "text/plain": [
       "<matplotlib.figure.Figure at 0x1185e55ae80>"
      ]
     },
     "metadata": {},
     "output_type": "display_data"
    }
   ],
   "source": [
    "por_nivel_laboral = sns.countplot(x='nivel_laboral', data=anuncios, order=anuncios['nivel_laboral'].value_counts().index, palette='hls')\n",
    "por_nivel_laboral.set_xlabel('Nivel laboral')\n",
    "por_nivel_laboral.set_ylabel('Cantidad de anuncios')\n",
    "por_nivel_laboral.set_xticklabels(por_nivel_laboral.get_xticklabels(), rotation=80, fontsize = 8)\n",
    "por_nivel_laboral.set_title(\"Anuncios por nivel laboral pretendido\")"
   ]
  },
  {
   "cell_type": "code",
   "execution_count": 157,
   "metadata": {},
   "outputs": [],
   "source": [
    "postulaciones = pd.read_csv('../Data/datos_navent_fiuba/fiuba_4_postulaciones.csv')"
   ]
  },
  {
   "cell_type": "code",
   "execution_count": 158,
   "metadata": {},
   "outputs": [
    {
     "data": {
      "text/plain": [
       "RANDSTAD                                    562\n",
       "Manpower                                    422\n",
       "Grupo Gestión                               383\n",
       "Assistem                                    289\n",
       "SOLUTIX S.A.                                260\n",
       "BAYTON                                      238\n",
       "Pullmen Servicios Empresarios S.A.          229\n",
       "Adecco - Región NORTE & OESTE GBA           205\n",
       "Suministra                                  203\n",
       "Adecco -Región Office                       200\n",
       "Consultores de Empresas SRL                 197\n",
       "Complement Group (holding)                  160\n",
       "Adecco -Región GBA SUR                      160\n",
       "Kaizen Recursos Humanos                     110\n",
       "CrossOver                                   109\n",
       "Adecco  -Región Litoral                     109\n",
       "IT Resources                                109\n",
       "Excelencia Laboral S.A.                      98\n",
       "Suple                                        88\n",
       "Swiss Medical Group                          88\n",
       "Aliantec                                     81\n",
       "Adecco - Región Centro Norte y Agro.         76\n",
       "CONA CONSULTORES EN RRHH                     75\n",
       "RH Talentum                                  71\n",
       "EAYA Consulting                              71\n",
       "Musimundo  SA                                71\n",
       "ConfiaRH                                     63\n",
       "BBVA Francés                                 63\n",
       "AB InBev - Cervecería y Maltería Quilmes     63\n",
       "Atento                                       62\n",
       "                                           ... \n",
       "VITALCAN S.A.                                 1\n",
       "Editorial Oceano Argentina S.A                1\n",
       "COTISHOP SOCIEDAD ANONIMA                     1\n",
       "Ecleris S.R.L.                                1\n",
       "Occhiuzzi Diagnóstico Médico                  1\n",
       "VISER S.A.                                    1\n",
       "CLADD I.T.A.S.A.                              1\n",
       "DRUMP SRL                                     1\n",
       "estudio Knull                                 1\n",
       "LIONBRIDGE GLOBAL SOURCING SOLUTION INC       1\n",
       "KLABIN ARGENTINA S A                          1\n",
       "silvia b. elias                               1\n",
       "INDUCA SACII y F                              1\n",
       "Centro Daponte                                1\n",
       "De Puño y Letra                               1\n",
       "Curves Palermo                                1\n",
       "lecotex srl                                   1\n",
       "LOGAN TRAVEL                                  1\n",
       "DHL                                           1\n",
       "TECNO NODO SA                                 1\n",
       "TELVIDEO DIVISION MEDITEL S.R.L.              1\n",
       "SCA COMUNICATIONS SA                          1\n",
       "CARDON                                        1\n",
       "Los Azu                                       1\n",
       "INSTITUTO FRENOPATICO S A                     1\n",
       "iceland                                       1\n",
       "NUVA S.A.C.I.F.I                              1\n",
       "Remax                                         1\n",
       "HOCH ASCENSORES S.R.L.                        1\n",
       "Sertecom                                      1\n",
       "Name: denominacion_empresa, Length: 2592, dtype: int64"
      ]
     },
     "execution_count": 158,
     "metadata": {},
     "output_type": "execute_result"
    }
   ],
   "source": [
    "#vamos a ver quienes son los clientes top, cuantos anuncios por area tienen y cuantas postulaciones tienen \n",
    "#para esos anuncios\n",
    "anuncios['denominacion_empresa'].value_counts()"
   ]
  },
  {
   "cell_type": "code",
   "execution_count": 160,
   "metadata": {},
   "outputs": [],
   "source": [
    "empresas_top=['RANDSTAD', 'Manpower', 'Grupo Gestión', 'Assistem', 'SOLUTIX S.A.', 'BAYTON' ,'Pullmen Servicios Empresarios S.A.' ,'Adecco - Región NORTE & OESTE GBA', 'Suministra','Adecco -Región Office']"
   ]
  },
  {
   "cell_type": "code",
   "execution_count": 162,
   "metadata": {},
   "outputs": [],
   "source": [
    "def map_empresas_top(empresa):\n",
    "    if empresa in empresas_top:\n",
    "        return empresa\n",
    "    return \"Otro\""
   ]
  },
  {
   "cell_type": "code",
   "execution_count": 163,
   "metadata": {},
   "outputs": [],
   "source": [
    "anuncios['denominacion_empresa'] = anuncios['denominacion_empresa'].map(map_empresas_top)"
   ]
  },
  {
   "cell_type": "code",
   "execution_count": 164,
   "metadata": {},
   "outputs": [],
   "source": [
    "anuncios = anuncios[anuncios['denominacion_empresa'] != \"Otro\"]"
   ]
  },
  {
   "cell_type": "code",
   "execution_count": 166,
   "metadata": {},
   "outputs": [
    {
     "data": {
      "text/plain": [
       "Manpower                              422\n",
       "Grupo Gestión                         383\n",
       "Assistem                              289\n",
       "BAYTON                                238\n",
       "Pullmen Servicios Empresarios S.A.    229\n",
       "Adecco - Región NORTE & OESTE GBA     205\n",
       "Suministra                            203\n",
       "Adecco -Región Office                 200\n",
       "Name: denominacion_empresa, dtype: int64"
      ]
     },
     "execution_count": 166,
     "metadata": {},
     "output_type": "execute_result"
    }
   ],
   "source": [
    "anuncios['denominacion_empresa'].value_counts()"
   ]
  },
  {
   "cell_type": "code",
   "execution_count": null,
   "metadata": {},
   "outputs": [],
   "source": [
    "top_empresas = sns.countplot(x='denominacion_nombre', )"
   ]
  }
 ],
 "metadata": {
  "kernelspec": {
   "display_name": "Python 3",
   "language": "python",
   "name": "python3"
  },
  "language_info": {
   "codemirror_mode": {
    "name": "ipython",
    "version": 3
   },
   "file_extension": ".py",
   "mimetype": "text/x-python",
   "name": "python",
   "nbconvert_exporter": "python",
   "pygments_lexer": "ipython3",
   "version": "3.6.4"
  }
 },
 "nbformat": 4,
 "nbformat_minor": 2
}
